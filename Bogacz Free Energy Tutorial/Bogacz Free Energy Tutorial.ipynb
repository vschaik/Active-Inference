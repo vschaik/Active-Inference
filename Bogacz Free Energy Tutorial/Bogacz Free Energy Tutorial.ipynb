{
 "cells": [
  {
   "cell_type": "markdown",
   "metadata": {},
   "source": [
    "Journal of Mathematical Psychology 76 (2017) 198–211. http://dx.doi.org/10.1016/j.jmp.2015.11.003 \n",
    " \n",
    "\n",
    "# A tutorial on the free-energy framework for modelling perception and learning #\n",
    "\n",
    "Rafal Bogacz\n",
    "\n",
    "MRC Unit for Brain Network Dynamics, University of Oxford, Mansfield Road, Oxford, OX1 3TH, UK Nuffield Department of Clinical Neurosciences, University of Oxford, John Radcliffe Hospital, Oxford, OX3 9DU, UK "
   ]
  },
  {
   "cell_type": "markdown",
   "metadata": {},
   "source": [
    "<html>\n",
    "<hr style=\"height:2px;border:none;color:#228;background-color:#228;\" />\n",
    "<span style=\"color:#228\">\n",
    "<p><i>Converted to Jupyter notebook by André van Schaik</i>\n",
    "</span>\n",
    "<hr style=\"height:2px;border:none;color:#228;background-color:#228;\" />\n",
    "</html>"
   ]
  },
  {
   "cell_type": "markdown",
   "metadata": {},
   "source": [
    "## Abstract ##\n",
    "\n",
    "This paper provides an easy to follow tutorial on the free-energy framework for modelling perception developed by Friston, which extends the predictive coding model of Rao and Ballard. These models assume that the sensory cortex infers the most likely values of attributes or features of sensory stimuli from the noisy inputs encoding the stimuli. Remarkably, these models describe how this inference could be implemented in a network of very simple computational elements, suggesting that this inference could be performed by biological networks of neurons. Furthermore, learning about the parameters describing the features and their uncertainty is implemented in these models by simple rules of synaptic plasticity based on Hebbian learning. This tutorial introduces the free-energy framework using very simple examples, and provides step-by-step derivations of the model. It also discusses in more detail how the model could be implemented in biological neural circuits. In particular, it presents an extended version of the model in which the neurons only sum their inputs, and synaptic plasticity only depends on activity of pre-synaptic and post-synaptic neurons. "
   ]
  },
  {
   "cell_type": "markdown",
   "metadata": {},
   "source": [
    "## 1. Introduction ##\n",
    "\n",
    "The model of Friston (2005) and the predictive coding model of Rao and Ballard (1999) provide a powerful mathematical framework to describe how the sensory cortex extracts information from noisy stimuli. The predictive coding model (Rao & Ballard, 1999) suggests that visual cortex infers the most likely properties of stimuli from noisy sensory input. The inference in this model is implemented by a surprisingly simple network of neuron-like nodes. The model is called \"predictive coding\", because some of the nodes in the network encode the differences between inputs and predictions of the network. Remarkably, learning about features present in sensory stimuli is implemented by simple Hebbian synaptic plasticity, and Rao and Ballard (1999) demonstrated that the model presented with natural images learns features resembling recep.tive fields of neurons in the primary visual cortex. \n",
    "\n",
    "Friston (2005) has extended the model to also represent uncertainty associated with different features. He showed that learn.ing about the variance and co-variance of features can also be implemented by simple synaptic plasticity rules based on Hebbian learning. As the extended model (Friston, 2005) learns the variance and co-variance of features, it offers several new insights. First, it describes how the perceptual systems may differentially weight sources of sensory information depending on their level of noise. Second, it shows how the sensory networks can learn to recognize features that are encoded in the patterns of covariance between inputs, such as textures. Third, it provides a natural way to implement attentional modulation as the reduction in variance of the attended features (we come back to these insights in Discussion). Furthermore, Friston (2005) pointed out that this model can be viewed as an approximate Bayesian inference based on minimization of a function referred to in statistics as free-energy. The free-energy framework (Friston, 2003, 2005) has been recently extended by Karl Friston and his colleagues to describe how the brain performs  different cognitive functions including action selection (FitzGerald, Schwartenbeck, Moutoussis, Dolan, & Friston, 2015; Friston et al., 2013). Furthermore, Friston (2010) proposed that the free-energy theory unifies several theories of perception and action which are closely related to the free-energy framework. \n",
    "\n",
    "There are many articles which provide an intuition for the free-energy framework and discuss how it relates with other theories and experimental data (Friston, 2003, 2005, 2010; Friston et al., 2013). However, the description of mathematical details of the theory in these papers requires a very deep mathematical background. The main goal of this paper is to provide an easy to follow tutorial on the free-energy framework. To make the tutorial accessible to a wide audience, it only assumes basic knowledge of probability theory, calculus and linear algebra. This tutorial is planned to be complementary to existing literature so it does not focus on the relationship to other theories and experimental data, and on applications to more complex tasks which are described elsewhere (Friston, 2010; Friston et al., 2013). \n",
    "\n",
    "In this tutorial we also consider in more detail the neural implementation of the free-energy framework. Any computational model would need to satisfy the following constraints to be considered biologically plausible: \n",
    "\n",
    "1. Local computation: A neuron performs computations only on the basis of the activity of its input neurons and synaptic weights associated with these inputs (rather than information encoded in other parts of the circuit). \n",
    "\n",
    "2. Local plasticity: Synaptic plasticity is only based on the activity of pre-synaptic and post-synaptic neurons. \n",
    "\n",
    "The model of Rao and Ballard (1999) fully satisfied these constraints. The model of Friston (2005) did not satisfy them fully, but we show that after small modifications and extensions it can satisfy them. So the descriptions of the model in this tutorial slightly differ in a few places or extend the original model to better explain how the proposed computation could be implemented in the neural circuits. All such differences or extensions are indicated by footnotes or in text, and the original model is presented in Appendix A. \n",
    "\n",
    "It is commonly assumed in theoretical neuroscience, (O’Reilly & Munakata, 2000) that the basic computations a neuron performs are the summation of its input weighted by the strengths of synaptic connections, and the transformation of this sum through a (monotonic) function describing the relationship between neurons’ total input and output (also termed firing-Input or f-I curve). Whenever possible, we will assume that the computation of the neurons in the described model is limited to these computations (or even just to linear summation of inputs). \n",
    "\n",
    "We feel that the neural implementation of the model is worth considering, because if the free-energy principle indeed describes the computations in the brain, it can provide an explanation for why the cortex is organized in a particular way. However to gain such insight it is necessary to start comparing the neural networks implementing the model with those in the real brain. Consequently, we consider in this paper possible neural circuits that could perform the computations required by the theory. Although the neural implementations proposed here are not the only possible ones, it is worth considering them as a starting point for comparison of the model with details of neural architectures in the brain. We hope that such comparison could iteratively lead to refined neural implementations that are more and more similar to real neural circuits. \n",
    "\n",
    "To make this tutorial as easy to follow as possible we introduce the free-energy framework using a simple example, and then illustrate how the model can scale up to more complex neural architectures. The tutorial provides step-by-step derivation of the model. Some of these derivations are straightforward, and we feel that it would be helpful for the reader to do them on their own to gain a better understanding of the model and to ‘‘keep in mind’’ the notation used in the paper. Such straightforward derivations are indicated by ‘‘(TRY IT YOURSELF)’’, so after encountering such label we recommend trying to do the calculation described in the sentence with this label and then compare the obtained results with those in the paper. To illustrate the model we include simple simulations, but again we feel it would be helpful for a reader to perform them on their own, to get an intuition for the model. Therefore we describe these simulations as exercises. \n",
    "\n",
    "The paper is organized as follows. Section 2 introduces the model using a very simple example using as basic mathematical concepts as possible, so it is accessible to a particularly wide audience. Section 3 provides mathematical foundations for the model, and shows how the inference in the model is related to minimization of free-energy. Section 4 then shows how the model scales up to describe the neural circuits in sensory cortex. In these three sections we use notation similar to that used by Friston (2005). Section 5 describes an extended version of the model which satisfies the constraint of local plasticity described above. Finally, Section 6 discusses insights provided by the model. "
   ]
  },
  {
   "cell_type": "markdown",
   "metadata": {},
   "source": [
    "## 2. Simplest example of perception ##\n",
    "\n",
    "We start by considering in this section a simple perceptual problem in which a value of a single variable has to be inferred from a single observation. To make it more concrete, consider a simple organism that tries to infer the size or diameter of a food item, which we denote by $v$, on the basis of light intensity it observes. Let us assume that our simple animal has only one light sensitive receptor which provides it with a noisy estimate of light intensity, which we denote by $u$. Let $g$ denote a non-linear function relating the average light intensity with the size. Since the amount of light reflected is related to the area of an object, in this example we will consider a simple function of $g(v) = v$. Let us further assume that the sensory input is noisy — in particular, when the size of food item is $v$, the perceived light intensity is normally distributed with mean $g(v)$, and variance $\\varSigma_u$ (although a normal distribution is not the best choice for a distribution of light intensity, as it includes negative numbers, we will still use it for a simplicity): \n",
    "\n",
    "\\begin{equation*}\n",
    "p(u|v) = f (u; g(v), \\varSigma_u) \\tag{1}\n",
    "\\end{equation*}\n",
    "\n",
    "In Eq. (1) $f(x; \\mu, \\varSigma)$ denotes the density of a normal distribution with mean $\\mu$  and variance $\\varSigma$: \n",
    "\n",
    "\\begin{equation*} \n",
    "f (x; \\mu, \\varSigma) = \\frac{1}{\\sqrt{2 \\pi \\varSigma}} \\exp \\left( -\\frac{(x - \\mu)^2}{2\\varSigma}\\right) \\tag{2}\n",
    "\\end{equation*}\n",
    "\n",
    "Due to the noise present in the observed light intensity, the animal can refine its guess for the size $v$ by combining the sensory stimulus with the prior knowledge on how large the food items usually are, that it had learnt from experience. For simplicity, let us assume that our animal expects this size to be normally distributed with mean $v_p$ and variance $\\varSigma_p$ (subscript $p$ stands for \"prior\"), which we can write as: \n",
    "\n",
    "\\begin{equation*}\n",
    "p(v) = f (v; v_p, \\varSigma_p). \\tag{3}\n",
    "\\end{equation*}\n",
    "\n",
    "Let us now assume that our animal observed a particular value of light intensity, and attempts to estimate the size of the food item on the basis of this observation. We will first consider an exact solution to this problem, and illustrate why it would be difficult to compute it in a simple neural circuit. Then we will present an approximate solution that can be easily implemented in a simple network of neurons. "
   ]
  },
  {
   "cell_type": "markdown",
   "metadata": {},
   "source": [
    "### 2.1. Exact solution ###\n",
    "\n",
    "To compute how likely different sizes $v$ are given the observed sensory input $u$, we could use Bayes’ theorem: \n",
    "\n",
    "\\begin{equation*}\n",
    "p(v|u) = \\frac{p(v)p(u|v)}{p(u)} \\tag{4}\n",
    "\\end{equation*}\n",
    "\n",
    "Term $p(u)$ in the denominator of Eq. (4)  is a normalization term, which ensures that the posterior probabilities of all sizes $p(v|u$) integrate to 1: \n",
    "\n",
    "\\begin{equation*}\n",
    "p(u) = \\int p(v)p(u|v)dv \\tag{5}\n",
    "\\end{equation*}\n",
    "\n",
    "The integral in the above equation sums over the whole range of possible values of $v$, so it is a definite integral, but for brevity of notation we do not state the limits of integration in this and all other integrals in the paper. \n",
    "\n",
    "Now combining Eqs. (1)–(5) we can compute numerically how likely different sizes are given the sensory observation. For readers who are not familiar with such Bayesian inference we recommend doing the following exercise now. \n",
    "\n",
    "**Exercise 1.** *Assume that our animal observed the light intensity $u = 2$, the level of noise in its receptor is $\\varSigma_u = 1$, and the mean and variance of its prior expectation of size are $v_p = 3$ and $\\varSigma_p = 1$. Write a computer program that computes the posterior probabilities of sizes from 0.01 to 5, and plots them.*"
   ]
  },
  {
   "cell_type": "markdown",
   "metadata": {},
   "source": [
    "<html>\n",
    "<hr style=\"height:2px;border:none;color:#228;background-color:#228;\" />\n",
    "<span style=\"color:#228\">\n",
    "<p><i>Additional Content - not in the original publication - added by AvS</i>\n",
    "\n",
    "<p>The Python code below solves this exercise, and also provides sliders that allow you to change the parameters. You will need to download the notebook and run it locally to be able to use these sliders.\n",
    "</span>\n",
    "<hr style=\"height:2px;border:none;color:#228;background-color:#228;\" />\n",
    "</html>"
   ]
  },
  {
   "cell_type": "code",
   "execution_count": 1,
   "metadata": {},
   "outputs": [],
   "source": [
    "%matplotlib notebook\n",
    "import numpy as np\n",
    "import matplotlib.pyplot as plt\n",
    "import ipywidgets as ipw\n",
    "import matplotlib\n",
    "\n",
    "def Normal(x, mu, sigma):\n",
    "    # Normal distribution\n",
    "    return 1 / (2*np.pi*sigma)**(1/2) * np.exp(- (x - mu)**2 / (2 * sigma)) \n",
    "\n",
    "def g(v):\n",
    "    return v**2"
   ]
  },
  {
   "cell_type": "code",
   "execution_count": 2,
   "metadata": {},
   "outputs": [
    {
     "data": {
      "application/javascript": [
       "/* Put everything inside the global mpl namespace */\n",
       "window.mpl = {};\n",
       "\n",
       "\n",
       "mpl.get_websocket_type = function() {\n",
       "    if (typeof(WebSocket) !== 'undefined') {\n",
       "        return WebSocket;\n",
       "    } else if (typeof(MozWebSocket) !== 'undefined') {\n",
       "        return MozWebSocket;\n",
       "    } else {\n",
       "        alert('Your browser does not have WebSocket support.' +\n",
       "              'Please try Chrome, Safari or Firefox ≥ 6. ' +\n",
       "              'Firefox 4 and 5 are also supported but you ' +\n",
       "              'have to enable WebSockets in about:config.');\n",
       "    };\n",
       "}\n",
       "\n",
       "mpl.figure = function(figure_id, websocket, ondownload, parent_element) {\n",
       "    this.id = figure_id;\n",
       "\n",
       "    this.ws = websocket;\n",
       "\n",
       "    this.supports_binary = (this.ws.binaryType != undefined);\n",
       "\n",
       "    if (!this.supports_binary) {\n",
       "        var warnings = document.getElementById(\"mpl-warnings\");\n",
       "        if (warnings) {\n",
       "            warnings.style.display = 'block';\n",
       "            warnings.textContent = (\n",
       "                \"This browser does not support binary websocket messages. \" +\n",
       "                    \"Performance may be slow.\");\n",
       "        }\n",
       "    }\n",
       "\n",
       "    this.imageObj = new Image();\n",
       "\n",
       "    this.context = undefined;\n",
       "    this.message = undefined;\n",
       "    this.canvas = undefined;\n",
       "    this.rubberband_canvas = undefined;\n",
       "    this.rubberband_context = undefined;\n",
       "    this.format_dropdown = undefined;\n",
       "\n",
       "    this.image_mode = 'full';\n",
       "\n",
       "    this.root = $('<div/>');\n",
       "    this._root_extra_style(this.root)\n",
       "    this.root.attr('style', 'display: inline-block');\n",
       "\n",
       "    $(parent_element).append(this.root);\n",
       "\n",
       "    this._init_header(this);\n",
       "    this._init_canvas(this);\n",
       "    this._init_toolbar(this);\n",
       "\n",
       "    var fig = this;\n",
       "\n",
       "    this.waiting = false;\n",
       "\n",
       "    this.ws.onopen =  function () {\n",
       "            fig.send_message(\"supports_binary\", {value: fig.supports_binary});\n",
       "            fig.send_message(\"send_image_mode\", {});\n",
       "            if (mpl.ratio != 1) {\n",
       "                fig.send_message(\"set_dpi_ratio\", {'dpi_ratio': mpl.ratio});\n",
       "            }\n",
       "            fig.send_message(\"refresh\", {});\n",
       "        }\n",
       "\n",
       "    this.imageObj.onload = function() {\n",
       "            if (fig.image_mode == 'full') {\n",
       "                // Full images could contain transparency (where diff images\n",
       "                // almost always do), so we need to clear the canvas so that\n",
       "                // there is no ghosting.\n",
       "                fig.context.clearRect(0, 0, fig.canvas.width, fig.canvas.height);\n",
       "            }\n",
       "            fig.context.drawImage(fig.imageObj, 0, 0);\n",
       "        };\n",
       "\n",
       "    this.imageObj.onunload = function() {\n",
       "        fig.ws.close();\n",
       "    }\n",
       "\n",
       "    this.ws.onmessage = this._make_on_message_function(this);\n",
       "\n",
       "    this.ondownload = ondownload;\n",
       "}\n",
       "\n",
       "mpl.figure.prototype._init_header = function() {\n",
       "    var titlebar = $(\n",
       "        '<div class=\"ui-dialog-titlebar ui-widget-header ui-corner-all ' +\n",
       "        'ui-helper-clearfix\"/>');\n",
       "    var titletext = $(\n",
       "        '<div class=\"ui-dialog-title\" style=\"width: 100%; ' +\n",
       "        'text-align: center; padding: 3px;\"/>');\n",
       "    titlebar.append(titletext)\n",
       "    this.root.append(titlebar);\n",
       "    this.header = titletext[0];\n",
       "}\n",
       "\n",
       "\n",
       "\n",
       "mpl.figure.prototype._canvas_extra_style = function(canvas_div) {\n",
       "\n",
       "}\n",
       "\n",
       "\n",
       "mpl.figure.prototype._root_extra_style = function(canvas_div) {\n",
       "\n",
       "}\n",
       "\n",
       "mpl.figure.prototype._init_canvas = function() {\n",
       "    var fig = this;\n",
       "\n",
       "    var canvas_div = $('<div/>');\n",
       "\n",
       "    canvas_div.attr('style', 'position: relative; clear: both; outline: 0');\n",
       "\n",
       "    function canvas_keyboard_event(event) {\n",
       "        return fig.key_event(event, event['data']);\n",
       "    }\n",
       "\n",
       "    canvas_div.keydown('key_press', canvas_keyboard_event);\n",
       "    canvas_div.keyup('key_release', canvas_keyboard_event);\n",
       "    this.canvas_div = canvas_div\n",
       "    this._canvas_extra_style(canvas_div)\n",
       "    this.root.append(canvas_div);\n",
       "\n",
       "    var canvas = $('<canvas/>');\n",
       "    canvas.addClass('mpl-canvas');\n",
       "    canvas.attr('style', \"left: 0; top: 0; z-index: 0; outline: 0\")\n",
       "\n",
       "    this.canvas = canvas[0];\n",
       "    this.context = canvas[0].getContext(\"2d\");\n",
       "\n",
       "    var backingStore = this.context.backingStorePixelRatio ||\n",
       "\tthis.context.webkitBackingStorePixelRatio ||\n",
       "\tthis.context.mozBackingStorePixelRatio ||\n",
       "\tthis.context.msBackingStorePixelRatio ||\n",
       "\tthis.context.oBackingStorePixelRatio ||\n",
       "\tthis.context.backingStorePixelRatio || 1;\n",
       "\n",
       "    mpl.ratio = (window.devicePixelRatio || 1) / backingStore;\n",
       "\n",
       "    var rubberband = $('<canvas/>');\n",
       "    rubberband.attr('style', \"position: absolute; left: 0; top: 0; z-index: 1;\")\n",
       "\n",
       "    var pass_mouse_events = true;\n",
       "\n",
       "    canvas_div.resizable({\n",
       "        start: function(event, ui) {\n",
       "            pass_mouse_events = false;\n",
       "        },\n",
       "        resize: function(event, ui) {\n",
       "            fig.request_resize(ui.size.width, ui.size.height);\n",
       "        },\n",
       "        stop: function(event, ui) {\n",
       "            pass_mouse_events = true;\n",
       "            fig.request_resize(ui.size.width, ui.size.height);\n",
       "        },\n",
       "    });\n",
       "\n",
       "    function mouse_event_fn(event) {\n",
       "        if (pass_mouse_events)\n",
       "            return fig.mouse_event(event, event['data']);\n",
       "    }\n",
       "\n",
       "    rubberband.mousedown('button_press', mouse_event_fn);\n",
       "    rubberband.mouseup('button_release', mouse_event_fn);\n",
       "    // Throttle sequential mouse events to 1 every 20ms.\n",
       "    rubberband.mousemove('motion_notify', mouse_event_fn);\n",
       "\n",
       "    rubberband.mouseenter('figure_enter', mouse_event_fn);\n",
       "    rubberband.mouseleave('figure_leave', mouse_event_fn);\n",
       "\n",
       "    canvas_div.on(\"wheel\", function (event) {\n",
       "        event = event.originalEvent;\n",
       "        event['data'] = 'scroll'\n",
       "        if (event.deltaY < 0) {\n",
       "            event.step = 1;\n",
       "        } else {\n",
       "            event.step = -1;\n",
       "        }\n",
       "        mouse_event_fn(event);\n",
       "    });\n",
       "\n",
       "    canvas_div.append(canvas);\n",
       "    canvas_div.append(rubberband);\n",
       "\n",
       "    this.rubberband = rubberband;\n",
       "    this.rubberband_canvas = rubberband[0];\n",
       "    this.rubberband_context = rubberband[0].getContext(\"2d\");\n",
       "    this.rubberband_context.strokeStyle = \"#000000\";\n",
       "\n",
       "    this._resize_canvas = function(width, height) {\n",
       "        // Keep the size of the canvas, canvas container, and rubber band\n",
       "        // canvas in synch.\n",
       "        canvas_div.css('width', width)\n",
       "        canvas_div.css('height', height)\n",
       "\n",
       "        canvas.attr('width', width * mpl.ratio);\n",
       "        canvas.attr('height', height * mpl.ratio);\n",
       "        canvas.attr('style', 'width: ' + width + 'px; height: ' + height + 'px;');\n",
       "\n",
       "        rubberband.attr('width', width);\n",
       "        rubberband.attr('height', height);\n",
       "    }\n",
       "\n",
       "    // Set the figure to an initial 600x600px, this will subsequently be updated\n",
       "    // upon first draw.\n",
       "    this._resize_canvas(600, 600);\n",
       "\n",
       "    // Disable right mouse context menu.\n",
       "    $(this.rubberband_canvas).bind(\"contextmenu\",function(e){\n",
       "        return false;\n",
       "    });\n",
       "\n",
       "    function set_focus () {\n",
       "        canvas.focus();\n",
       "        canvas_div.focus();\n",
       "    }\n",
       "\n",
       "    window.setTimeout(set_focus, 100);\n",
       "}\n",
       "\n",
       "mpl.figure.prototype._init_toolbar = function() {\n",
       "    var fig = this;\n",
       "\n",
       "    var nav_element = $('<div/>')\n",
       "    nav_element.attr('style', 'width: 100%');\n",
       "    this.root.append(nav_element);\n",
       "\n",
       "    // Define a callback function for later on.\n",
       "    function toolbar_event(event) {\n",
       "        return fig.toolbar_button_onclick(event['data']);\n",
       "    }\n",
       "    function toolbar_mouse_event(event) {\n",
       "        return fig.toolbar_button_onmouseover(event['data']);\n",
       "    }\n",
       "\n",
       "    for(var toolbar_ind in mpl.toolbar_items) {\n",
       "        var name = mpl.toolbar_items[toolbar_ind][0];\n",
       "        var tooltip = mpl.toolbar_items[toolbar_ind][1];\n",
       "        var image = mpl.toolbar_items[toolbar_ind][2];\n",
       "        var method_name = mpl.toolbar_items[toolbar_ind][3];\n",
       "\n",
       "        if (!name) {\n",
       "            // put a spacer in here.\n",
       "            continue;\n",
       "        }\n",
       "        var button = $('<button/>');\n",
       "        button.addClass('ui-button ui-widget ui-state-default ui-corner-all ' +\n",
       "                        'ui-button-icon-only');\n",
       "        button.attr('role', 'button');\n",
       "        button.attr('aria-disabled', 'false');\n",
       "        button.click(method_name, toolbar_event);\n",
       "        button.mouseover(tooltip, toolbar_mouse_event);\n",
       "\n",
       "        var icon_img = $('<span/>');\n",
       "        icon_img.addClass('ui-button-icon-primary ui-icon');\n",
       "        icon_img.addClass(image);\n",
       "        icon_img.addClass('ui-corner-all');\n",
       "\n",
       "        var tooltip_span = $('<span/>');\n",
       "        tooltip_span.addClass('ui-button-text');\n",
       "        tooltip_span.html(tooltip);\n",
       "\n",
       "        button.append(icon_img);\n",
       "        button.append(tooltip_span);\n",
       "\n",
       "        nav_element.append(button);\n",
       "    }\n",
       "\n",
       "    var fmt_picker_span = $('<span/>');\n",
       "\n",
       "    var fmt_picker = $('<select/>');\n",
       "    fmt_picker.addClass('mpl-toolbar-option ui-widget ui-widget-content');\n",
       "    fmt_picker_span.append(fmt_picker);\n",
       "    nav_element.append(fmt_picker_span);\n",
       "    this.format_dropdown = fmt_picker[0];\n",
       "\n",
       "    for (var ind in mpl.extensions) {\n",
       "        var fmt = mpl.extensions[ind];\n",
       "        var option = $(\n",
       "            '<option/>', {selected: fmt === mpl.default_extension}).html(fmt);\n",
       "        fmt_picker.append(option)\n",
       "    }\n",
       "\n",
       "    // Add hover states to the ui-buttons\n",
       "    $( \".ui-button\" ).hover(\n",
       "        function() { $(this).addClass(\"ui-state-hover\");},\n",
       "        function() { $(this).removeClass(\"ui-state-hover\");}\n",
       "    );\n",
       "\n",
       "    var status_bar = $('<span class=\"mpl-message\"/>');\n",
       "    nav_element.append(status_bar);\n",
       "    this.message = status_bar[0];\n",
       "}\n",
       "\n",
       "mpl.figure.prototype.request_resize = function(x_pixels, y_pixels) {\n",
       "    // Request matplotlib to resize the figure. Matplotlib will then trigger a resize in the client,\n",
       "    // which will in turn request a refresh of the image.\n",
       "    this.send_message('resize', {'width': x_pixels, 'height': y_pixels});\n",
       "}\n",
       "\n",
       "mpl.figure.prototype.send_message = function(type, properties) {\n",
       "    properties['type'] = type;\n",
       "    properties['figure_id'] = this.id;\n",
       "    this.ws.send(JSON.stringify(properties));\n",
       "}\n",
       "\n",
       "mpl.figure.prototype.send_draw_message = function() {\n",
       "    if (!this.waiting) {\n",
       "        this.waiting = true;\n",
       "        this.ws.send(JSON.stringify({type: \"draw\", figure_id: this.id}));\n",
       "    }\n",
       "}\n",
       "\n",
       "\n",
       "mpl.figure.prototype.handle_save = function(fig, msg) {\n",
       "    var format_dropdown = fig.format_dropdown;\n",
       "    var format = format_dropdown.options[format_dropdown.selectedIndex].value;\n",
       "    fig.ondownload(fig, format);\n",
       "}\n",
       "\n",
       "\n",
       "mpl.figure.prototype.handle_resize = function(fig, msg) {\n",
       "    var size = msg['size'];\n",
       "    if (size[0] != fig.canvas.width || size[1] != fig.canvas.height) {\n",
       "        fig._resize_canvas(size[0], size[1]);\n",
       "        fig.send_message(\"refresh\", {});\n",
       "    };\n",
       "}\n",
       "\n",
       "mpl.figure.prototype.handle_rubberband = function(fig, msg) {\n",
       "    var x0 = msg['x0'] / mpl.ratio;\n",
       "    var y0 = (fig.canvas.height - msg['y0']) / mpl.ratio;\n",
       "    var x1 = msg['x1'] / mpl.ratio;\n",
       "    var y1 = (fig.canvas.height - msg['y1']) / mpl.ratio;\n",
       "    x0 = Math.floor(x0) + 0.5;\n",
       "    y0 = Math.floor(y0) + 0.5;\n",
       "    x1 = Math.floor(x1) + 0.5;\n",
       "    y1 = Math.floor(y1) + 0.5;\n",
       "    var min_x = Math.min(x0, x1);\n",
       "    var min_y = Math.min(y0, y1);\n",
       "    var width = Math.abs(x1 - x0);\n",
       "    var height = Math.abs(y1 - y0);\n",
       "\n",
       "    fig.rubberband_context.clearRect(\n",
       "        0, 0, fig.canvas.width, fig.canvas.height);\n",
       "\n",
       "    fig.rubberband_context.strokeRect(min_x, min_y, width, height);\n",
       "}\n",
       "\n",
       "mpl.figure.prototype.handle_figure_label = function(fig, msg) {\n",
       "    // Updates the figure title.\n",
       "    fig.header.textContent = msg['label'];\n",
       "}\n",
       "\n",
       "mpl.figure.prototype.handle_cursor = function(fig, msg) {\n",
       "    var cursor = msg['cursor'];\n",
       "    switch(cursor)\n",
       "    {\n",
       "    case 0:\n",
       "        cursor = 'pointer';\n",
       "        break;\n",
       "    case 1:\n",
       "        cursor = 'default';\n",
       "        break;\n",
       "    case 2:\n",
       "        cursor = 'crosshair';\n",
       "        break;\n",
       "    case 3:\n",
       "        cursor = 'move';\n",
       "        break;\n",
       "    }\n",
       "    fig.rubberband_canvas.style.cursor = cursor;\n",
       "}\n",
       "\n",
       "mpl.figure.prototype.handle_message = function(fig, msg) {\n",
       "    fig.message.textContent = msg['message'];\n",
       "}\n",
       "\n",
       "mpl.figure.prototype.handle_draw = function(fig, msg) {\n",
       "    // Request the server to send over a new figure.\n",
       "    fig.send_draw_message();\n",
       "}\n",
       "\n",
       "mpl.figure.prototype.handle_image_mode = function(fig, msg) {\n",
       "    fig.image_mode = msg['mode'];\n",
       "}\n",
       "\n",
       "mpl.figure.prototype.updated_canvas_event = function() {\n",
       "    // Called whenever the canvas gets updated.\n",
       "    this.send_message(\"ack\", {});\n",
       "}\n",
       "\n",
       "// A function to construct a web socket function for onmessage handling.\n",
       "// Called in the figure constructor.\n",
       "mpl.figure.prototype._make_on_message_function = function(fig) {\n",
       "    return function socket_on_message(evt) {\n",
       "        if (evt.data instanceof Blob) {\n",
       "            /* FIXME: We get \"Resource interpreted as Image but\n",
       "             * transferred with MIME type text/plain:\" errors on\n",
       "             * Chrome.  But how to set the MIME type?  It doesn't seem\n",
       "             * to be part of the websocket stream */\n",
       "            evt.data.type = \"image/png\";\n",
       "\n",
       "            /* Free the memory for the previous frames */\n",
       "            if (fig.imageObj.src) {\n",
       "                (window.URL || window.webkitURL).revokeObjectURL(\n",
       "                    fig.imageObj.src);\n",
       "            }\n",
       "\n",
       "            fig.imageObj.src = (window.URL || window.webkitURL).createObjectURL(\n",
       "                evt.data);\n",
       "            fig.updated_canvas_event();\n",
       "            fig.waiting = false;\n",
       "            return;\n",
       "        }\n",
       "        else if (typeof evt.data === 'string' && evt.data.slice(0, 21) == \"data:image/png;base64\") {\n",
       "            fig.imageObj.src = evt.data;\n",
       "            fig.updated_canvas_event();\n",
       "            fig.waiting = false;\n",
       "            return;\n",
       "        }\n",
       "\n",
       "        var msg = JSON.parse(evt.data);\n",
       "        var msg_type = msg['type'];\n",
       "\n",
       "        // Call the  \"handle_{type}\" callback, which takes\n",
       "        // the figure and JSON message as its only arguments.\n",
       "        try {\n",
       "            var callback = fig[\"handle_\" + msg_type];\n",
       "        } catch (e) {\n",
       "            console.log(\"No handler for the '\" + msg_type + \"' message type: \", msg);\n",
       "            return;\n",
       "        }\n",
       "\n",
       "        if (callback) {\n",
       "            try {\n",
       "                // console.log(\"Handling '\" + msg_type + \"' message: \", msg);\n",
       "                callback(fig, msg);\n",
       "            } catch (e) {\n",
       "                console.log(\"Exception inside the 'handler_\" + msg_type + \"' callback:\", e, e.stack, msg);\n",
       "            }\n",
       "        }\n",
       "    };\n",
       "}\n",
       "\n",
       "// from http://stackoverflow.com/questions/1114465/getting-mouse-location-in-canvas\n",
       "mpl.findpos = function(e) {\n",
       "    //this section is from http://www.quirksmode.org/js/events_properties.html\n",
       "    var targ;\n",
       "    if (!e)\n",
       "        e = window.event;\n",
       "    if (e.target)\n",
       "        targ = e.target;\n",
       "    else if (e.srcElement)\n",
       "        targ = e.srcElement;\n",
       "    if (targ.nodeType == 3) // defeat Safari bug\n",
       "        targ = targ.parentNode;\n",
       "\n",
       "    // jQuery normalizes the pageX and pageY\n",
       "    // pageX,Y are the mouse positions relative to the document\n",
       "    // offset() returns the position of the element relative to the document\n",
       "    var x = e.pageX - $(targ).offset().left;\n",
       "    var y = e.pageY - $(targ).offset().top;\n",
       "\n",
       "    return {\"x\": x, \"y\": y};\n",
       "};\n",
       "\n",
       "/*\n",
       " * return a copy of an object with only non-object keys\n",
       " * we need this to avoid circular references\n",
       " * http://stackoverflow.com/a/24161582/3208463\n",
       " */\n",
       "function simpleKeys (original) {\n",
       "  return Object.keys(original).reduce(function (obj, key) {\n",
       "    if (typeof original[key] !== 'object')\n",
       "        obj[key] = original[key]\n",
       "    return obj;\n",
       "  }, {});\n",
       "}\n",
       "\n",
       "mpl.figure.prototype.mouse_event = function(event, name) {\n",
       "    var canvas_pos = mpl.findpos(event)\n",
       "\n",
       "    if (name === 'button_press')\n",
       "    {\n",
       "        this.canvas.focus();\n",
       "        this.canvas_div.focus();\n",
       "    }\n",
       "\n",
       "    var x = canvas_pos.x * mpl.ratio;\n",
       "    var y = canvas_pos.y * mpl.ratio;\n",
       "\n",
       "    this.send_message(name, {x: x, y: y, button: event.button,\n",
       "                             step: event.step,\n",
       "                             guiEvent: simpleKeys(event)});\n",
       "\n",
       "    /* This prevents the web browser from automatically changing to\n",
       "     * the text insertion cursor when the button is pressed.  We want\n",
       "     * to control all of the cursor setting manually through the\n",
       "     * 'cursor' event from matplotlib */\n",
       "    event.preventDefault();\n",
       "    return false;\n",
       "}\n",
       "\n",
       "mpl.figure.prototype._key_event_extra = function(event, name) {\n",
       "    // Handle any extra behaviour associated with a key event\n",
       "}\n",
       "\n",
       "mpl.figure.prototype.key_event = function(event, name) {\n",
       "\n",
       "    // Prevent repeat events\n",
       "    if (name == 'key_press')\n",
       "    {\n",
       "        if (event.which === this._key)\n",
       "            return;\n",
       "        else\n",
       "            this._key = event.which;\n",
       "    }\n",
       "    if (name == 'key_release')\n",
       "        this._key = null;\n",
       "\n",
       "    var value = '';\n",
       "    if (event.ctrlKey && event.which != 17)\n",
       "        value += \"ctrl+\";\n",
       "    if (event.altKey && event.which != 18)\n",
       "        value += \"alt+\";\n",
       "    if (event.shiftKey && event.which != 16)\n",
       "        value += \"shift+\";\n",
       "\n",
       "    value += 'k';\n",
       "    value += event.which.toString();\n",
       "\n",
       "    this._key_event_extra(event, name);\n",
       "\n",
       "    this.send_message(name, {key: value,\n",
       "                             guiEvent: simpleKeys(event)});\n",
       "    return false;\n",
       "}\n",
       "\n",
       "mpl.figure.prototype.toolbar_button_onclick = function(name) {\n",
       "    if (name == 'download') {\n",
       "        this.handle_save(this, null);\n",
       "    } else {\n",
       "        this.send_message(\"toolbar_button\", {name: name});\n",
       "    }\n",
       "};\n",
       "\n",
       "mpl.figure.prototype.toolbar_button_onmouseover = function(tooltip) {\n",
       "    this.message.textContent = tooltip;\n",
       "};\n",
       "mpl.toolbar_items = [[\"Home\", \"Reset original view\", \"fa fa-home icon-home\", \"home\"], [\"Back\", \"Back to  previous view\", \"fa fa-arrow-left icon-arrow-left\", \"back\"], [\"Forward\", \"Forward to next view\", \"fa fa-arrow-right icon-arrow-right\", \"forward\"], [\"\", \"\", \"\", \"\"], [\"Pan\", \"Pan axes with left mouse, zoom with right\", \"fa fa-arrows icon-move\", \"pan\"], [\"Zoom\", \"Zoom to rectangle\", \"fa fa-square-o icon-check-empty\", \"zoom\"], [\"\", \"\", \"\", \"\"], [\"Download\", \"Download plot\", \"fa fa-floppy-o icon-save\", \"download\"]];\n",
       "\n",
       "mpl.extensions = [\"eps\", \"jpeg\", \"pdf\", \"png\", \"ps\", \"raw\", \"svg\", \"tif\"];\n",
       "\n",
       "mpl.default_extension = \"png\";var comm_websocket_adapter = function(comm) {\n",
       "    // Create a \"websocket\"-like object which calls the given IPython comm\n",
       "    // object with the appropriate methods. Currently this is a non binary\n",
       "    // socket, so there is still some room for performance tuning.\n",
       "    var ws = {};\n",
       "\n",
       "    ws.close = function() {\n",
       "        comm.close()\n",
       "    };\n",
       "    ws.send = function(m) {\n",
       "        //console.log('sending', m);\n",
       "        comm.send(m);\n",
       "    };\n",
       "    // Register the callback with on_msg.\n",
       "    comm.on_msg(function(msg) {\n",
       "        //console.log('receiving', msg['content']['data'], msg);\n",
       "        // Pass the mpl event to the overridden (by mpl) onmessage function.\n",
       "        ws.onmessage(msg['content']['data'])\n",
       "    });\n",
       "    return ws;\n",
       "}\n",
       "\n",
       "mpl.mpl_figure_comm = function(comm, msg) {\n",
       "    // This is the function which gets called when the mpl process\n",
       "    // starts-up an IPython Comm through the \"matplotlib\" channel.\n",
       "\n",
       "    var id = msg.content.data.id;\n",
       "    // Get hold of the div created by the display call when the Comm\n",
       "    // socket was opened in Python.\n",
       "    var element = $(\"#\" + id);\n",
       "    var ws_proxy = comm_websocket_adapter(comm)\n",
       "\n",
       "    function ondownload(figure, format) {\n",
       "        window.open(figure.imageObj.src);\n",
       "    }\n",
       "\n",
       "    var fig = new mpl.figure(id, ws_proxy,\n",
       "                           ondownload,\n",
       "                           element.get(0));\n",
       "\n",
       "    // Call onopen now - mpl needs it, as it is assuming we've passed it a real\n",
       "    // web socket which is closed, not our websocket->open comm proxy.\n",
       "    ws_proxy.onopen();\n",
       "\n",
       "    fig.parent_element = element.get(0);\n",
       "    fig.cell_info = mpl.find_output_cell(\"<div id='\" + id + \"'></div>\");\n",
       "    if (!fig.cell_info) {\n",
       "        console.error(\"Failed to find cell for figure\", id, fig);\n",
       "        return;\n",
       "    }\n",
       "\n",
       "    var output_index = fig.cell_info[2]\n",
       "    var cell = fig.cell_info[0];\n",
       "\n",
       "};\n",
       "\n",
       "mpl.figure.prototype.handle_close = function(fig, msg) {\n",
       "    var width = fig.canvas.width/mpl.ratio\n",
       "    fig.root.unbind('remove')\n",
       "\n",
       "    // Update the output cell to use the data from the current canvas.\n",
       "    fig.push_to_output();\n",
       "    var dataURL = fig.canvas.toDataURL();\n",
       "    // Re-enable the keyboard manager in IPython - without this line, in FF,\n",
       "    // the notebook keyboard shortcuts fail.\n",
       "    IPython.keyboard_manager.enable()\n",
       "    $(fig.parent_element).html('<img src=\"' + dataURL + '\" width=\"' + width + '\">');\n",
       "    fig.close_ws(fig, msg);\n",
       "}\n",
       "\n",
       "mpl.figure.prototype.close_ws = function(fig, msg){\n",
       "    fig.send_message('closing', msg);\n",
       "    // fig.ws.close()\n",
       "}\n",
       "\n",
       "mpl.figure.prototype.push_to_output = function(remove_interactive) {\n",
       "    // Turn the data on the canvas into data in the output cell.\n",
       "    var width = this.canvas.width/mpl.ratio\n",
       "    var dataURL = this.canvas.toDataURL();\n",
       "    this.cell_info[1]['text/html'] = '<img src=\"' + dataURL + '\" width=\"' + width + '\">';\n",
       "}\n",
       "\n",
       "mpl.figure.prototype.updated_canvas_event = function() {\n",
       "    // Tell IPython that the notebook contents must change.\n",
       "    IPython.notebook.set_dirty(true);\n",
       "    this.send_message(\"ack\", {});\n",
       "    var fig = this;\n",
       "    // Wait a second, then push the new image to the DOM so\n",
       "    // that it is saved nicely (might be nice to debounce this).\n",
       "    setTimeout(function () { fig.push_to_output() }, 1000);\n",
       "}\n",
       "\n",
       "mpl.figure.prototype._init_toolbar = function() {\n",
       "    var fig = this;\n",
       "\n",
       "    var nav_element = $('<div/>')\n",
       "    nav_element.attr('style', 'width: 100%');\n",
       "    this.root.append(nav_element);\n",
       "\n",
       "    // Define a callback function for later on.\n",
       "    function toolbar_event(event) {\n",
       "        return fig.toolbar_button_onclick(event['data']);\n",
       "    }\n",
       "    function toolbar_mouse_event(event) {\n",
       "        return fig.toolbar_button_onmouseover(event['data']);\n",
       "    }\n",
       "\n",
       "    for(var toolbar_ind in mpl.toolbar_items){\n",
       "        var name = mpl.toolbar_items[toolbar_ind][0];\n",
       "        var tooltip = mpl.toolbar_items[toolbar_ind][1];\n",
       "        var image = mpl.toolbar_items[toolbar_ind][2];\n",
       "        var method_name = mpl.toolbar_items[toolbar_ind][3];\n",
       "\n",
       "        if (!name) { continue; };\n",
       "\n",
       "        var button = $('<button class=\"btn btn-default\" href=\"#\" title=\"' + name + '\"><i class=\"fa ' + image + ' fa-lg\"></i></button>');\n",
       "        button.click(method_name, toolbar_event);\n",
       "        button.mouseover(tooltip, toolbar_mouse_event);\n",
       "        nav_element.append(button);\n",
       "    }\n",
       "\n",
       "    // Add the status bar.\n",
       "    var status_bar = $('<span class=\"mpl-message\" style=\"text-align:right; float: right;\"/>');\n",
       "    nav_element.append(status_bar);\n",
       "    this.message = status_bar[0];\n",
       "\n",
       "    // Add the close button to the window.\n",
       "    var buttongrp = $('<div class=\"btn-group inline pull-right\"></div>');\n",
       "    var button = $('<button class=\"btn btn-mini btn-primary\" href=\"#\" title=\"Stop Interaction\"><i class=\"fa fa-power-off icon-remove icon-large\"></i></button>');\n",
       "    button.click(function (evt) { fig.handle_close(fig, {}); } );\n",
       "    button.mouseover('Stop Interaction', toolbar_mouse_event);\n",
       "    buttongrp.append(button);\n",
       "    var titlebar = this.root.find($('.ui-dialog-titlebar'));\n",
       "    titlebar.prepend(buttongrp);\n",
       "}\n",
       "\n",
       "mpl.figure.prototype._root_extra_style = function(el){\n",
       "    var fig = this\n",
       "    el.on(\"remove\", function(){\n",
       "\tfig.close_ws(fig, {});\n",
       "    });\n",
       "}\n",
       "\n",
       "mpl.figure.prototype._canvas_extra_style = function(el){\n",
       "    // this is important to make the div 'focusable\n",
       "    el.attr('tabindex', 0)\n",
       "    // reach out to IPython and tell the keyboard manager to turn it's self\n",
       "    // off when our div gets focus\n",
       "\n",
       "    // location in version 3\n",
       "    if (IPython.notebook.keyboard_manager) {\n",
       "        IPython.notebook.keyboard_manager.register_events(el);\n",
       "    }\n",
       "    else {\n",
       "        // location in version 2\n",
       "        IPython.keyboard_manager.register_events(el);\n",
       "    }\n",
       "\n",
       "}\n",
       "\n",
       "mpl.figure.prototype._key_event_extra = function(event, name) {\n",
       "    var manager = IPython.notebook.keyboard_manager;\n",
       "    if (!manager)\n",
       "        manager = IPython.keyboard_manager;\n",
       "\n",
       "    // Check for shift+enter\n",
       "    if (event.shiftKey && event.which == 13) {\n",
       "        this.canvas_div.blur();\n",
       "        event.shiftKey = false;\n",
       "        // Send a \"J\" for go to next cell\n",
       "        event.which = 74;\n",
       "        event.keyCode = 74;\n",
       "        manager.command_mode();\n",
       "        manager.handle_keydown(event);\n",
       "    }\n",
       "}\n",
       "\n",
       "mpl.figure.prototype.handle_save = function(fig, msg) {\n",
       "    fig.ondownload(fig, null);\n",
       "}\n",
       "\n",
       "\n",
       "mpl.find_output_cell = function(html_output) {\n",
       "    // Return the cell and output element which can be found *uniquely* in the notebook.\n",
       "    // Note - this is a bit hacky, but it is done because the \"notebook_saving.Notebook\"\n",
       "    // IPython event is triggered only after the cells have been serialised, which for\n",
       "    // our purposes (turning an active figure into a static one), is too late.\n",
       "    var cells = IPython.notebook.get_cells();\n",
       "    var ncells = cells.length;\n",
       "    for (var i=0; i<ncells; i++) {\n",
       "        var cell = cells[i];\n",
       "        if (cell.cell_type === 'code'){\n",
       "            for (var j=0; j<cell.output_area.outputs.length; j++) {\n",
       "                var data = cell.output_area.outputs[j];\n",
       "                if (data.data) {\n",
       "                    // IPython >= 3 moved mimebundle to data attribute of output\n",
       "                    data = data.data;\n",
       "                }\n",
       "                if (data['text/html'] == html_output) {\n",
       "                    return [cell, data, j];\n",
       "                }\n",
       "            }\n",
       "        }\n",
       "    }\n",
       "}\n",
       "\n",
       "// Register the function which deals with the matplotlib target/channel.\n",
       "// The kernel may be null if the page has been refreshed.\n",
       "if (IPython.notebook.kernel != null) {\n",
       "    IPython.notebook.kernel.comm_manager.register_target('matplotlib', mpl.mpl_figure_comm);\n",
       "}\n"
      ],
      "text/plain": [
       "<IPython.core.display.Javascript object>"
      ]
     },
     "metadata": {},
     "output_type": "display_data"
    },
    {
     "data": {
      "text/html": [
       "<img src=\"data:image/png;base64,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\" width=\"600\">"
      ],
      "text/plain": [
       "<IPython.core.display.HTML object>"
      ]
     },
     "metadata": {},
     "output_type": "display_data"
    },
    {
     "data": {
      "application/vnd.jupyter.widget-view+json": {
       "model_id": "cdb961e623834d8ea915e55d4088c6b1",
       "version_major": 2,
       "version_minor": 0
      },
      "text/plain": [
       "aW50ZXJhY3RpdmUoY2hpbGRyZW49KEZsb2F0U2xpZGVyKHZhbHVlPTIuMCwgY29udGludW91c191cGRhdGU9RmFsc2UsIGRlc2NyaXB0aW9uPXUndScsIG1heD0yMC4wLCBtaW49MC4xKSwgRmzigKY=\n"
      ]
     },
     "metadata": {},
     "output_type": "display_data"
    }
   ],
   "source": [
    "def fig_1():\n",
    "    dv      = 0.01\n",
    "    u       = ipw.FloatSlider(value=2.0, min=0.1, max=20, step=0.1, continuous_update=False) \n",
    "    sigma_u = ipw.FloatSlider(value=1.0, min=0.1, max=10, step=0.1, continuous_update=False) \n",
    "    v_p     = ipw.FloatSlider(value=3.0, min=0.1, max=5,  step=0.1, continuous_update=False) \n",
    "    sigma_p = ipw.FloatSlider(value=1.0, min=0.1, max=10, step=0.1, continuous_update=False)\n",
    "\n",
    "    def draw_fig1(u=2.0, sigma_u=1.0, v_p=3.0, sigma_p=1.0):\n",
    "        [h.remove() for h in ax.get_children() if isinstance(h, matplotlib.lines.Line2D)]\n",
    "        v = np.arange(0.01, 5, dv)\n",
    "        prior = Normal(v, v_p, sigma_p)\n",
    "        posterior = Normal(u, g(v), sigma_u) * prior\n",
    "        posterior /= np.sum(posterior * dv)\n",
    "        ax.plot(v, posterior, 'deepskyblue', label='posterior')\n",
    "        ax.plot(v, prior, 'orange', label='prior')\n",
    "\n",
    "    fig = plt.figure(figsize=(6,6), num='Fig 1')\n",
    "    ax  = fig.add_subplot(1, 1, 1)\n",
    "    ipw.interact(draw_fig1, u=u, sigma_u=sigma_u, v_p=v_p, sigma_p=sigma_p)\n",
    "    plt.title('Exercise 1')\n",
    "    plt.axis([0, 5, 0, 3])\n",
    "    plt.xlabel('v')\n",
    "    plt.ylabel('p(v) or p(v|u)');\n",
    "    plt.legend()\n",
    "\n",
    "\n",
    "fig_1()"
   ]
  },
  {
   "cell_type": "markdown",
   "metadata": {},
   "source": [
    "The the resulting plot is shown in Fig. 1. It is worth observing that such Bayesian approach integrates the information brought by the stimulus with prior knowledge: please note that the most likely value of $v$ lies between that suggested by the stimulus (i.e. $\\sqrt{2}$) and the most likely value based on prior knowledge (i.e. $3$). It may seem surprising why the posterior probability is so low for $v = 3$, i.e. the mean prior expectation. It comes from the fact that $g(3) = 9$, which is really far from observed value $u = 2$, so $p(u = 2|v = 3)$ is very close to zero. This illustrates how non-intuitive Bayesian inference can be once the relationship between variables is non-linear. \n",
    "\n",
    "Let us now discuss why performing such exact calculation is challenging for a simple biological system. First, as soon as function $g$ relating the variable we wish to infer with observations is non.linear, the posterior distribution $p(v|u)$ may not take a standard shape—for example the distribution in Fig. 1 is not normal. Thus representing the distribution $p(v|u)$ requires representing infinitely many values $p(v|u)$ for different possible $u$ rather than a few summary statistics like mean and variance. Second, the computation of the posterior distribution involves computation of the normalization term. Although it has been proposed that circuits within the basal ganglia can compute the normalization term in case of the discrete probability distributions (Bogacz & Gurney, 2007), computation of the normalization for continuous distributions involves evaluating the integral of Eq. (5). \n",
    "Calculating such integral would be challenging for a simple biological system. This is especially true when the dimensionality of the integrals (i.e., the number of unknown variables) increases beyond a trivial number. Even mathematicians resort to (computationally very expensive) numerical or sampling techniques in this case. \n",
    "\n",
    "We will now present an approximate solution to the above inference problem, that could be easily implemented in a simple biological system. "
   ]
  },
  {
   "cell_type": "markdown",
   "metadata": {},
   "source": [
    "### 2.2. Finding the most likely feature value ###\n",
    "\n",
    "Instead of finding the whole posterior distribution $p(v|u)$, let us try to find the most likely size of the food item $v$ which maximizes $p(v|u)$. We will denote this most likely size by $\\phi$, and its posterior probability density by $p(\\phi|u)$. It is reasonable to assume that in many cases the brain represents at a given moment of time only most likely values of features. For example in case of binocular rivalry, only one of the two possible interpretations of sensory inputs is represented. \n",
    "\n",
    "We will look for the value $\\phi$ which maximizes $p(\\phi|u)$. According to Eq. (4), the posterior probability $p(\\phi|u)$ depends on a ratio of two quantities, but the denominator $p(u)$ does not depend on $\\phi$. Thus the value of $\\phi$ which maximizes $p(\\phi|u)$ is the same one which maximizes the numerator of Eq. (4). We will denote the logarithm of the numerator by $F$, as it is related to the negative of free energy (as we will describe in Section 3): \n",
    "\n",
    "\\begin{equation*}\n",
    "F = \\ln p(\\phi) + \\ln p(u|\\phi). \\tag{6}\n",
    "\\end{equation*}\n",
    "\n",
    "In the above equation we used the property of logarithm $\\ln(ab) = \\ln a + \\ln b$. We will maximize the logarithm of the numerator of Eq. (4), because it has the same maximum as the numerator itself as $\\ln$ is a monotonic function, and is easier to compute as the expressions for $p(u|\\phi)$ and $p(\\phi)$ involve exponentiation. \n",
    "\n",
    "To find the parameter $\\phi$ that describes the most likely size of the food item, we will use a simple gradient ascent: i.e. we will modify $\\phi$ proportionally to the gradient of $F$, which will turn out to be a very simple operation. It is relatively straightforward to compute $F$ by substituting Eqs. (1)–(3) into Eq. (6) and then to compute the derivative of F (TRY IT YOURSELF). \n",
    "\n",
    "\\begin{align*}\n",
    "F &= \\ln f(\\phi; v_p,\\varSigma_p) + \\ln f(u; g(\\phi), \\varSigma_u) \\\\\n",
    "&= \\ln \\left[ \\frac{1}{\\sqrt{2 \\pi \\varSigma_p}} \\exp \\left(-\\frac{(\\phi - v_p)^2}{2 \\varSigma_p}\\right)\\right] \n",
    "+ \\ln \\left[ \\frac{1}{\\sqrt{2 \\pi \\varSigma_u}} \\exp \\left(-\\frac{(u - g(\\phi))^2}{2 \\varSigma_u}\\right)\\right] \\\\\n",
    "&= \\ln \\frac{1}{\\sqrt{2 \\pi}} - \\frac{1}{2} \\ln \\varSigma_p - \\frac{(\\phi - v_p)^2}{2 \\varSigma_p} \n",
    "+ \\ln \\frac{1}{\\sqrt{2 \\pi}} - \\frac{1}{2} \\ln \\varSigma_u - \\frac{(u - g(\\phi))^2}{2 \\varSigma_u} \\\\\n",
    "&= \\frac{1}{2} \\left( -\\ln \\varSigma_p - \\frac{(\\phi - v_p)^2}{2 \\varSigma_p} - \\ln \\varSigma_u - \\frac{(u - g(\\phi))^2}{2 \\varSigma_u} \\right) + C. \\tag{7}\n",
    "\\end{align*}\n",
    "\n",
    "We incorporated the constant terms in the 2nd line above into a constant $C$. Now we can compute the derivative of $F$ over $\\phi$: \n",
    "\n",
    "\\begin{equation*}\n",
    "\\frac{\\partial{F}}{\\partial{\\phi}} = \\frac{\\phi - v_p}{\\varSigma_p} + \\frac{u - g(\\phi)}{\\varSigma_u} g'(\\phi).\n",
    "\\tag{8}\n",
    "\\end{equation*}\n",
    "\n",
    "In the above equation we used the chain rule to compute the second term, and $g'(\\phi)$ is a derivative of function $g$ evaluated at $\\phi$, so in our example $g'(\\phi) = 2\\phi$. We can find our best guess $\\phi$ for $v$ simply by changing $\\phi$ in proportion to the gradient: \n",
    "\n",
    "\\begin{equation*}\n",
    "\\dot{\\phi} = \\frac{\\partial{F}}{\\partial{\\phi}}\n",
    "\\tag{9}\n",
    "\\end{equation*}\n",
    "\n",
    "In the above equation $\\dot{\\phi}$ is the rate of change of $\\phi$ with time. Let us note that the update of $\\phi$ is very intuitive. It is driven by two terms in Eq. (8): the first moves it towards the mean of the prior, the second moves it according to the sensory stimulus, and both terms are weighted by the reliabilities of prior and sensory input respectively. \n",
    "\n",
    "Now please note that the above procedure for finding the approximate distribution of distance to food item is computationally much simpler than the exact method presented at the start of the paper. To gain more appreciation for the simplicity of this computation we recommend doing the following exercise. \n",
    "\n",
    "**Exercise 2.** *Write a computer program finding the most likely size of the food item $\\phi$ for the situation described in Exercise 1. Initialize $\\phi = v_p$, and then find its values in the next 5 time units (you can use Euler’s method, i.e. update $\\phi(t + \\Delta t) = \\phi(t) + \\Delta t \\partial{F}/\\partial{\\phi}$ with $\\Delta t = 0.01$).*"
   ]
  },
  {
   "cell_type": "code",
   "execution_count": 3,
   "metadata": {},
   "outputs": [
    {
     "data": {
      "application/javascript": [
       "/* Put everything inside the global mpl namespace */\n",
       "window.mpl = {};\n",
       "\n",
       "\n",
       "mpl.get_websocket_type = function() {\n",
       "    if (typeof(WebSocket) !== 'undefined') {\n",
       "        return WebSocket;\n",
       "    } else if (typeof(MozWebSocket) !== 'undefined') {\n",
       "        return MozWebSocket;\n",
       "    } else {\n",
       "        alert('Your browser does not have WebSocket support.' +\n",
       "              'Please try Chrome, Safari or Firefox ≥ 6. ' +\n",
       "              'Firefox 4 and 5 are also supported but you ' +\n",
       "              'have to enable WebSockets in about:config.');\n",
       "    };\n",
       "}\n",
       "\n",
       "mpl.figure = function(figure_id, websocket, ondownload, parent_element) {\n",
       "    this.id = figure_id;\n",
       "\n",
       "    this.ws = websocket;\n",
       "\n",
       "    this.supports_binary = (this.ws.binaryType != undefined);\n",
       "\n",
       "    if (!this.supports_binary) {\n",
       "        var warnings = document.getElementById(\"mpl-warnings\");\n",
       "        if (warnings) {\n",
       "            warnings.style.display = 'block';\n",
       "            warnings.textContent = (\n",
       "                \"This browser does not support binary websocket messages. \" +\n",
       "                    \"Performance may be slow.\");\n",
       "        }\n",
       "    }\n",
       "\n",
       "    this.imageObj = new Image();\n",
       "\n",
       "    this.context = undefined;\n",
       "    this.message = undefined;\n",
       "    this.canvas = undefined;\n",
       "    this.rubberband_canvas = undefined;\n",
       "    this.rubberband_context = undefined;\n",
       "    this.format_dropdown = undefined;\n",
       "\n",
       "    this.image_mode = 'full';\n",
       "\n",
       "    this.root = $('<div/>');\n",
       "    this._root_extra_style(this.root)\n",
       "    this.root.attr('style', 'display: inline-block');\n",
       "\n",
       "    $(parent_element).append(this.root);\n",
       "\n",
       "    this._init_header(this);\n",
       "    this._init_canvas(this);\n",
       "    this._init_toolbar(this);\n",
       "\n",
       "    var fig = this;\n",
       "\n",
       "    this.waiting = false;\n",
       "\n",
       "    this.ws.onopen =  function () {\n",
       "            fig.send_message(\"supports_binary\", {value: fig.supports_binary});\n",
       "            fig.send_message(\"send_image_mode\", {});\n",
       "            if (mpl.ratio != 1) {\n",
       "                fig.send_message(\"set_dpi_ratio\", {'dpi_ratio': mpl.ratio});\n",
       "            }\n",
       "            fig.send_message(\"refresh\", {});\n",
       "        }\n",
       "\n",
       "    this.imageObj.onload = function() {\n",
       "            if (fig.image_mode == 'full') {\n",
       "                // Full images could contain transparency (where diff images\n",
       "                // almost always do), so we need to clear the canvas so that\n",
       "                // there is no ghosting.\n",
       "                fig.context.clearRect(0, 0, fig.canvas.width, fig.canvas.height);\n",
       "            }\n",
       "            fig.context.drawImage(fig.imageObj, 0, 0);\n",
       "        };\n",
       "\n",
       "    this.imageObj.onunload = function() {\n",
       "        fig.ws.close();\n",
       "    }\n",
       "\n",
       "    this.ws.onmessage = this._make_on_message_function(this);\n",
       "\n",
       "    this.ondownload = ondownload;\n",
       "}\n",
       "\n",
       "mpl.figure.prototype._init_header = function() {\n",
       "    var titlebar = $(\n",
       "        '<div class=\"ui-dialog-titlebar ui-widget-header ui-corner-all ' +\n",
       "        'ui-helper-clearfix\"/>');\n",
       "    var titletext = $(\n",
       "        '<div class=\"ui-dialog-title\" style=\"width: 100%; ' +\n",
       "        'text-align: center; padding: 3px;\"/>');\n",
       "    titlebar.append(titletext)\n",
       "    this.root.append(titlebar);\n",
       "    this.header = titletext[0];\n",
       "}\n",
       "\n",
       "\n",
       "\n",
       "mpl.figure.prototype._canvas_extra_style = function(canvas_div) {\n",
       "\n",
       "}\n",
       "\n",
       "\n",
       "mpl.figure.prototype._root_extra_style = function(canvas_div) {\n",
       "\n",
       "}\n",
       "\n",
       "mpl.figure.prototype._init_canvas = function() {\n",
       "    var fig = this;\n",
       "\n",
       "    var canvas_div = $('<div/>');\n",
       "\n",
       "    canvas_div.attr('style', 'position: relative; clear: both; outline: 0');\n",
       "\n",
       "    function canvas_keyboard_event(event) {\n",
       "        return fig.key_event(event, event['data']);\n",
       "    }\n",
       "\n",
       "    canvas_div.keydown('key_press', canvas_keyboard_event);\n",
       "    canvas_div.keyup('key_release', canvas_keyboard_event);\n",
       "    this.canvas_div = canvas_div\n",
       "    this._canvas_extra_style(canvas_div)\n",
       "    this.root.append(canvas_div);\n",
       "\n",
       "    var canvas = $('<canvas/>');\n",
       "    canvas.addClass('mpl-canvas');\n",
       "    canvas.attr('style', \"left: 0; top: 0; z-index: 0; outline: 0\")\n",
       "\n",
       "    this.canvas = canvas[0];\n",
       "    this.context = canvas[0].getContext(\"2d\");\n",
       "\n",
       "    var backingStore = this.context.backingStorePixelRatio ||\n",
       "\tthis.context.webkitBackingStorePixelRatio ||\n",
       "\tthis.context.mozBackingStorePixelRatio ||\n",
       "\tthis.context.msBackingStorePixelRatio ||\n",
       "\tthis.context.oBackingStorePixelRatio ||\n",
       "\tthis.context.backingStorePixelRatio || 1;\n",
       "\n",
       "    mpl.ratio = (window.devicePixelRatio || 1) / backingStore;\n",
       "\n",
       "    var rubberband = $('<canvas/>');\n",
       "    rubberband.attr('style', \"position: absolute; left: 0; top: 0; z-index: 1;\")\n",
       "\n",
       "    var pass_mouse_events = true;\n",
       "\n",
       "    canvas_div.resizable({\n",
       "        start: function(event, ui) {\n",
       "            pass_mouse_events = false;\n",
       "        },\n",
       "        resize: function(event, ui) {\n",
       "            fig.request_resize(ui.size.width, ui.size.height);\n",
       "        },\n",
       "        stop: function(event, ui) {\n",
       "            pass_mouse_events = true;\n",
       "            fig.request_resize(ui.size.width, ui.size.height);\n",
       "        },\n",
       "    });\n",
       "\n",
       "    function mouse_event_fn(event) {\n",
       "        if (pass_mouse_events)\n",
       "            return fig.mouse_event(event, event['data']);\n",
       "    }\n",
       "\n",
       "    rubberband.mousedown('button_press', mouse_event_fn);\n",
       "    rubberband.mouseup('button_release', mouse_event_fn);\n",
       "    // Throttle sequential mouse events to 1 every 20ms.\n",
       "    rubberband.mousemove('motion_notify', mouse_event_fn);\n",
       "\n",
       "    rubberband.mouseenter('figure_enter', mouse_event_fn);\n",
       "    rubberband.mouseleave('figure_leave', mouse_event_fn);\n",
       "\n",
       "    canvas_div.on(\"wheel\", function (event) {\n",
       "        event = event.originalEvent;\n",
       "        event['data'] = 'scroll'\n",
       "        if (event.deltaY < 0) {\n",
       "            event.step = 1;\n",
       "        } else {\n",
       "            event.step = -1;\n",
       "        }\n",
       "        mouse_event_fn(event);\n",
       "    });\n",
       "\n",
       "    canvas_div.append(canvas);\n",
       "    canvas_div.append(rubberband);\n",
       "\n",
       "    this.rubberband = rubberband;\n",
       "    this.rubberband_canvas = rubberband[0];\n",
       "    this.rubberband_context = rubberband[0].getContext(\"2d\");\n",
       "    this.rubberband_context.strokeStyle = \"#000000\";\n",
       "\n",
       "    this._resize_canvas = function(width, height) {\n",
       "        // Keep the size of the canvas, canvas container, and rubber band\n",
       "        // canvas in synch.\n",
       "        canvas_div.css('width', width)\n",
       "        canvas_div.css('height', height)\n",
       "\n",
       "        canvas.attr('width', width * mpl.ratio);\n",
       "        canvas.attr('height', height * mpl.ratio);\n",
       "        canvas.attr('style', 'width: ' + width + 'px; height: ' + height + 'px;');\n",
       "\n",
       "        rubberband.attr('width', width);\n",
       "        rubberband.attr('height', height);\n",
       "    }\n",
       "\n",
       "    // Set the figure to an initial 600x600px, this will subsequently be updated\n",
       "    // upon first draw.\n",
       "    this._resize_canvas(600, 600);\n",
       "\n",
       "    // Disable right mouse context menu.\n",
       "    $(this.rubberband_canvas).bind(\"contextmenu\",function(e){\n",
       "        return false;\n",
       "    });\n",
       "\n",
       "    function set_focus () {\n",
       "        canvas.focus();\n",
       "        canvas_div.focus();\n",
       "    }\n",
       "\n",
       "    window.setTimeout(set_focus, 100);\n",
       "}\n",
       "\n",
       "mpl.figure.prototype._init_toolbar = function() {\n",
       "    var fig = this;\n",
       "\n",
       "    var nav_element = $('<div/>')\n",
       "    nav_element.attr('style', 'width: 100%');\n",
       "    this.root.append(nav_element);\n",
       "\n",
       "    // Define a callback function for later on.\n",
       "    function toolbar_event(event) {\n",
       "        return fig.toolbar_button_onclick(event['data']);\n",
       "    }\n",
       "    function toolbar_mouse_event(event) {\n",
       "        return fig.toolbar_button_onmouseover(event['data']);\n",
       "    }\n",
       "\n",
       "    for(var toolbar_ind in mpl.toolbar_items) {\n",
       "        var name = mpl.toolbar_items[toolbar_ind][0];\n",
       "        var tooltip = mpl.toolbar_items[toolbar_ind][1];\n",
       "        var image = mpl.toolbar_items[toolbar_ind][2];\n",
       "        var method_name = mpl.toolbar_items[toolbar_ind][3];\n",
       "\n",
       "        if (!name) {\n",
       "            // put a spacer in here.\n",
       "            continue;\n",
       "        }\n",
       "        var button = $('<button/>');\n",
       "        button.addClass('ui-button ui-widget ui-state-default ui-corner-all ' +\n",
       "                        'ui-button-icon-only');\n",
       "        button.attr('role', 'button');\n",
       "        button.attr('aria-disabled', 'false');\n",
       "        button.click(method_name, toolbar_event);\n",
       "        button.mouseover(tooltip, toolbar_mouse_event);\n",
       "\n",
       "        var icon_img = $('<span/>');\n",
       "        icon_img.addClass('ui-button-icon-primary ui-icon');\n",
       "        icon_img.addClass(image);\n",
       "        icon_img.addClass('ui-corner-all');\n",
       "\n",
       "        var tooltip_span = $('<span/>');\n",
       "        tooltip_span.addClass('ui-button-text');\n",
       "        tooltip_span.html(tooltip);\n",
       "\n",
       "        button.append(icon_img);\n",
       "        button.append(tooltip_span);\n",
       "\n",
       "        nav_element.append(button);\n",
       "    }\n",
       "\n",
       "    var fmt_picker_span = $('<span/>');\n",
       "\n",
       "    var fmt_picker = $('<select/>');\n",
       "    fmt_picker.addClass('mpl-toolbar-option ui-widget ui-widget-content');\n",
       "    fmt_picker_span.append(fmt_picker);\n",
       "    nav_element.append(fmt_picker_span);\n",
       "    this.format_dropdown = fmt_picker[0];\n",
       "\n",
       "    for (var ind in mpl.extensions) {\n",
       "        var fmt = mpl.extensions[ind];\n",
       "        var option = $(\n",
       "            '<option/>', {selected: fmt === mpl.default_extension}).html(fmt);\n",
       "        fmt_picker.append(option)\n",
       "    }\n",
       "\n",
       "    // Add hover states to the ui-buttons\n",
       "    $( \".ui-button\" ).hover(\n",
       "        function() { $(this).addClass(\"ui-state-hover\");},\n",
       "        function() { $(this).removeClass(\"ui-state-hover\");}\n",
       "    );\n",
       "\n",
       "    var status_bar = $('<span class=\"mpl-message\"/>');\n",
       "    nav_element.append(status_bar);\n",
       "    this.message = status_bar[0];\n",
       "}\n",
       "\n",
       "mpl.figure.prototype.request_resize = function(x_pixels, y_pixels) {\n",
       "    // Request matplotlib to resize the figure. Matplotlib will then trigger a resize in the client,\n",
       "    // which will in turn request a refresh of the image.\n",
       "    this.send_message('resize', {'width': x_pixels, 'height': y_pixels});\n",
       "}\n",
       "\n",
       "mpl.figure.prototype.send_message = function(type, properties) {\n",
       "    properties['type'] = type;\n",
       "    properties['figure_id'] = this.id;\n",
       "    this.ws.send(JSON.stringify(properties));\n",
       "}\n",
       "\n",
       "mpl.figure.prototype.send_draw_message = function() {\n",
       "    if (!this.waiting) {\n",
       "        this.waiting = true;\n",
       "        this.ws.send(JSON.stringify({type: \"draw\", figure_id: this.id}));\n",
       "    }\n",
       "}\n",
       "\n",
       "\n",
       "mpl.figure.prototype.handle_save = function(fig, msg) {\n",
       "    var format_dropdown = fig.format_dropdown;\n",
       "    var format = format_dropdown.options[format_dropdown.selectedIndex].value;\n",
       "    fig.ondownload(fig, format);\n",
       "}\n",
       "\n",
       "\n",
       "mpl.figure.prototype.handle_resize = function(fig, msg) {\n",
       "    var size = msg['size'];\n",
       "    if (size[0] != fig.canvas.width || size[1] != fig.canvas.height) {\n",
       "        fig._resize_canvas(size[0], size[1]);\n",
       "        fig.send_message(\"refresh\", {});\n",
       "    };\n",
       "}\n",
       "\n",
       "mpl.figure.prototype.handle_rubberband = function(fig, msg) {\n",
       "    var x0 = msg['x0'] / mpl.ratio;\n",
       "    var y0 = (fig.canvas.height - msg['y0']) / mpl.ratio;\n",
       "    var x1 = msg['x1'] / mpl.ratio;\n",
       "    var y1 = (fig.canvas.height - msg['y1']) / mpl.ratio;\n",
       "    x0 = Math.floor(x0) + 0.5;\n",
       "    y0 = Math.floor(y0) + 0.5;\n",
       "    x1 = Math.floor(x1) + 0.5;\n",
       "    y1 = Math.floor(y1) + 0.5;\n",
       "    var min_x = Math.min(x0, x1);\n",
       "    var min_y = Math.min(y0, y1);\n",
       "    var width = Math.abs(x1 - x0);\n",
       "    var height = Math.abs(y1 - y0);\n",
       "\n",
       "    fig.rubberband_context.clearRect(\n",
       "        0, 0, fig.canvas.width, fig.canvas.height);\n",
       "\n",
       "    fig.rubberband_context.strokeRect(min_x, min_y, width, height);\n",
       "}\n",
       "\n",
       "mpl.figure.prototype.handle_figure_label = function(fig, msg) {\n",
       "    // Updates the figure title.\n",
       "    fig.header.textContent = msg['label'];\n",
       "}\n",
       "\n",
       "mpl.figure.prototype.handle_cursor = function(fig, msg) {\n",
       "    var cursor = msg['cursor'];\n",
       "    switch(cursor)\n",
       "    {\n",
       "    case 0:\n",
       "        cursor = 'pointer';\n",
       "        break;\n",
       "    case 1:\n",
       "        cursor = 'default';\n",
       "        break;\n",
       "    case 2:\n",
       "        cursor = 'crosshair';\n",
       "        break;\n",
       "    case 3:\n",
       "        cursor = 'move';\n",
       "        break;\n",
       "    }\n",
       "    fig.rubberband_canvas.style.cursor = cursor;\n",
       "}\n",
       "\n",
       "mpl.figure.prototype.handle_message = function(fig, msg) {\n",
       "    fig.message.textContent = msg['message'];\n",
       "}\n",
       "\n",
       "mpl.figure.prototype.handle_draw = function(fig, msg) {\n",
       "    // Request the server to send over a new figure.\n",
       "    fig.send_draw_message();\n",
       "}\n",
       "\n",
       "mpl.figure.prototype.handle_image_mode = function(fig, msg) {\n",
       "    fig.image_mode = msg['mode'];\n",
       "}\n",
       "\n",
       "mpl.figure.prototype.updated_canvas_event = function() {\n",
       "    // Called whenever the canvas gets updated.\n",
       "    this.send_message(\"ack\", {});\n",
       "}\n",
       "\n",
       "// A function to construct a web socket function for onmessage handling.\n",
       "// Called in the figure constructor.\n",
       "mpl.figure.prototype._make_on_message_function = function(fig) {\n",
       "    return function socket_on_message(evt) {\n",
       "        if (evt.data instanceof Blob) {\n",
       "            /* FIXME: We get \"Resource interpreted as Image but\n",
       "             * transferred with MIME type text/plain:\" errors on\n",
       "             * Chrome.  But how to set the MIME type?  It doesn't seem\n",
       "             * to be part of the websocket stream */\n",
       "            evt.data.type = \"image/png\";\n",
       "\n",
       "            /* Free the memory for the previous frames */\n",
       "            if (fig.imageObj.src) {\n",
       "                (window.URL || window.webkitURL).revokeObjectURL(\n",
       "                    fig.imageObj.src);\n",
       "            }\n",
       "\n",
       "            fig.imageObj.src = (window.URL || window.webkitURL).createObjectURL(\n",
       "                evt.data);\n",
       "            fig.updated_canvas_event();\n",
       "            fig.waiting = false;\n",
       "            return;\n",
       "        }\n",
       "        else if (typeof evt.data === 'string' && evt.data.slice(0, 21) == \"data:image/png;base64\") {\n",
       "            fig.imageObj.src = evt.data;\n",
       "            fig.updated_canvas_event();\n",
       "            fig.waiting = false;\n",
       "            return;\n",
       "        }\n",
       "\n",
       "        var msg = JSON.parse(evt.data);\n",
       "        var msg_type = msg['type'];\n",
       "\n",
       "        // Call the  \"handle_{type}\" callback, which takes\n",
       "        // the figure and JSON message as its only arguments.\n",
       "        try {\n",
       "            var callback = fig[\"handle_\" + msg_type];\n",
       "        } catch (e) {\n",
       "            console.log(\"No handler for the '\" + msg_type + \"' message type: \", msg);\n",
       "            return;\n",
       "        }\n",
       "\n",
       "        if (callback) {\n",
       "            try {\n",
       "                // console.log(\"Handling '\" + msg_type + \"' message: \", msg);\n",
       "                callback(fig, msg);\n",
       "            } catch (e) {\n",
       "                console.log(\"Exception inside the 'handler_\" + msg_type + \"' callback:\", e, e.stack, msg);\n",
       "            }\n",
       "        }\n",
       "    };\n",
       "}\n",
       "\n",
       "// from http://stackoverflow.com/questions/1114465/getting-mouse-location-in-canvas\n",
       "mpl.findpos = function(e) {\n",
       "    //this section is from http://www.quirksmode.org/js/events_properties.html\n",
       "    var targ;\n",
       "    if (!e)\n",
       "        e = window.event;\n",
       "    if (e.target)\n",
       "        targ = e.target;\n",
       "    else if (e.srcElement)\n",
       "        targ = e.srcElement;\n",
       "    if (targ.nodeType == 3) // defeat Safari bug\n",
       "        targ = targ.parentNode;\n",
       "\n",
       "    // jQuery normalizes the pageX and pageY\n",
       "    // pageX,Y are the mouse positions relative to the document\n",
       "    // offset() returns the position of the element relative to the document\n",
       "    var x = e.pageX - $(targ).offset().left;\n",
       "    var y = e.pageY - $(targ).offset().top;\n",
       "\n",
       "    return {\"x\": x, \"y\": y};\n",
       "};\n",
       "\n",
       "/*\n",
       " * return a copy of an object with only non-object keys\n",
       " * we need this to avoid circular references\n",
       " * http://stackoverflow.com/a/24161582/3208463\n",
       " */\n",
       "function simpleKeys (original) {\n",
       "  return Object.keys(original).reduce(function (obj, key) {\n",
       "    if (typeof original[key] !== 'object')\n",
       "        obj[key] = original[key]\n",
       "    return obj;\n",
       "  }, {});\n",
       "}\n",
       "\n",
       "mpl.figure.prototype.mouse_event = function(event, name) {\n",
       "    var canvas_pos = mpl.findpos(event)\n",
       "\n",
       "    if (name === 'button_press')\n",
       "    {\n",
       "        this.canvas.focus();\n",
       "        this.canvas_div.focus();\n",
       "    }\n",
       "\n",
       "    var x = canvas_pos.x * mpl.ratio;\n",
       "    var y = canvas_pos.y * mpl.ratio;\n",
       "\n",
       "    this.send_message(name, {x: x, y: y, button: event.button,\n",
       "                             step: event.step,\n",
       "                             guiEvent: simpleKeys(event)});\n",
       "\n",
       "    /* This prevents the web browser from automatically changing to\n",
       "     * the text insertion cursor when the button is pressed.  We want\n",
       "     * to control all of the cursor setting manually through the\n",
       "     * 'cursor' event from matplotlib */\n",
       "    event.preventDefault();\n",
       "    return false;\n",
       "}\n",
       "\n",
       "mpl.figure.prototype._key_event_extra = function(event, name) {\n",
       "    // Handle any extra behaviour associated with a key event\n",
       "}\n",
       "\n",
       "mpl.figure.prototype.key_event = function(event, name) {\n",
       "\n",
       "    // Prevent repeat events\n",
       "    if (name == 'key_press')\n",
       "    {\n",
       "        if (event.which === this._key)\n",
       "            return;\n",
       "        else\n",
       "            this._key = event.which;\n",
       "    }\n",
       "    if (name == 'key_release')\n",
       "        this._key = null;\n",
       "\n",
       "    var value = '';\n",
       "    if (event.ctrlKey && event.which != 17)\n",
       "        value += \"ctrl+\";\n",
       "    if (event.altKey && event.which != 18)\n",
       "        value += \"alt+\";\n",
       "    if (event.shiftKey && event.which != 16)\n",
       "        value += \"shift+\";\n",
       "\n",
       "    value += 'k';\n",
       "    value += event.which.toString();\n",
       "\n",
       "    this._key_event_extra(event, name);\n",
       "\n",
       "    this.send_message(name, {key: value,\n",
       "                             guiEvent: simpleKeys(event)});\n",
       "    return false;\n",
       "}\n",
       "\n",
       "mpl.figure.prototype.toolbar_button_onclick = function(name) {\n",
       "    if (name == 'download') {\n",
       "        this.handle_save(this, null);\n",
       "    } else {\n",
       "        this.send_message(\"toolbar_button\", {name: name});\n",
       "    }\n",
       "};\n",
       "\n",
       "mpl.figure.prototype.toolbar_button_onmouseover = function(tooltip) {\n",
       "    this.message.textContent = tooltip;\n",
       "};\n",
       "mpl.toolbar_items = [[\"Home\", \"Reset original view\", \"fa fa-home icon-home\", \"home\"], [\"Back\", \"Back to  previous view\", \"fa fa-arrow-left icon-arrow-left\", \"back\"], [\"Forward\", \"Forward to next view\", \"fa fa-arrow-right icon-arrow-right\", \"forward\"], [\"\", \"\", \"\", \"\"], [\"Pan\", \"Pan axes with left mouse, zoom with right\", \"fa fa-arrows icon-move\", \"pan\"], [\"Zoom\", \"Zoom to rectangle\", \"fa fa-square-o icon-check-empty\", \"zoom\"], [\"\", \"\", \"\", \"\"], [\"Download\", \"Download plot\", \"fa fa-floppy-o icon-save\", \"download\"]];\n",
       "\n",
       "mpl.extensions = [\"eps\", \"jpeg\", \"pdf\", \"png\", \"ps\", \"raw\", \"svg\", \"tif\"];\n",
       "\n",
       "mpl.default_extension = \"png\";var comm_websocket_adapter = function(comm) {\n",
       "    // Create a \"websocket\"-like object which calls the given IPython comm\n",
       "    // object with the appropriate methods. Currently this is a non binary\n",
       "    // socket, so there is still some room for performance tuning.\n",
       "    var ws = {};\n",
       "\n",
       "    ws.close = function() {\n",
       "        comm.close()\n",
       "    };\n",
       "    ws.send = function(m) {\n",
       "        //console.log('sending', m);\n",
       "        comm.send(m);\n",
       "    };\n",
       "    // Register the callback with on_msg.\n",
       "    comm.on_msg(function(msg) {\n",
       "        //console.log('receiving', msg['content']['data'], msg);\n",
       "        // Pass the mpl event to the overridden (by mpl) onmessage function.\n",
       "        ws.onmessage(msg['content']['data'])\n",
       "    });\n",
       "    return ws;\n",
       "}\n",
       "\n",
       "mpl.mpl_figure_comm = function(comm, msg) {\n",
       "    // This is the function which gets called when the mpl process\n",
       "    // starts-up an IPython Comm through the \"matplotlib\" channel.\n",
       "\n",
       "    var id = msg.content.data.id;\n",
       "    // Get hold of the div created by the display call when the Comm\n",
       "    // socket was opened in Python.\n",
       "    var element = $(\"#\" + id);\n",
       "    var ws_proxy = comm_websocket_adapter(comm)\n",
       "\n",
       "    function ondownload(figure, format) {\n",
       "        window.open(figure.imageObj.src);\n",
       "    }\n",
       "\n",
       "    var fig = new mpl.figure(id, ws_proxy,\n",
       "                           ondownload,\n",
       "                           element.get(0));\n",
       "\n",
       "    // Call onopen now - mpl needs it, as it is assuming we've passed it a real\n",
       "    // web socket which is closed, not our websocket->open comm proxy.\n",
       "    ws_proxy.onopen();\n",
       "\n",
       "    fig.parent_element = element.get(0);\n",
       "    fig.cell_info = mpl.find_output_cell(\"<div id='\" + id + \"'></div>\");\n",
       "    if (!fig.cell_info) {\n",
       "        console.error(\"Failed to find cell for figure\", id, fig);\n",
       "        return;\n",
       "    }\n",
       "\n",
       "    var output_index = fig.cell_info[2]\n",
       "    var cell = fig.cell_info[0];\n",
       "\n",
       "};\n",
       "\n",
       "mpl.figure.prototype.handle_close = function(fig, msg) {\n",
       "    var width = fig.canvas.width/mpl.ratio\n",
       "    fig.root.unbind('remove')\n",
       "\n",
       "    // Update the output cell to use the data from the current canvas.\n",
       "    fig.push_to_output();\n",
       "    var dataURL = fig.canvas.toDataURL();\n",
       "    // Re-enable the keyboard manager in IPython - without this line, in FF,\n",
       "    // the notebook keyboard shortcuts fail.\n",
       "    IPython.keyboard_manager.enable()\n",
       "    $(fig.parent_element).html('<img src=\"' + dataURL + '\" width=\"' + width + '\">');\n",
       "    fig.close_ws(fig, msg);\n",
       "}\n",
       "\n",
       "mpl.figure.prototype.close_ws = function(fig, msg){\n",
       "    fig.send_message('closing', msg);\n",
       "    // fig.ws.close()\n",
       "}\n",
       "\n",
       "mpl.figure.prototype.push_to_output = function(remove_interactive) {\n",
       "    // Turn the data on the canvas into data in the output cell.\n",
       "    var width = this.canvas.width/mpl.ratio\n",
       "    var dataURL = this.canvas.toDataURL();\n",
       "    this.cell_info[1]['text/html'] = '<img src=\"' + dataURL + '\" width=\"' + width + '\">';\n",
       "}\n",
       "\n",
       "mpl.figure.prototype.updated_canvas_event = function() {\n",
       "    // Tell IPython that the notebook contents must change.\n",
       "    IPython.notebook.set_dirty(true);\n",
       "    this.send_message(\"ack\", {});\n",
       "    var fig = this;\n",
       "    // Wait a second, then push the new image to the DOM so\n",
       "    // that it is saved nicely (might be nice to debounce this).\n",
       "    setTimeout(function () { fig.push_to_output() }, 1000);\n",
       "}\n",
       "\n",
       "mpl.figure.prototype._init_toolbar = function() {\n",
       "    var fig = this;\n",
       "\n",
       "    var nav_element = $('<div/>')\n",
       "    nav_element.attr('style', 'width: 100%');\n",
       "    this.root.append(nav_element);\n",
       "\n",
       "    // Define a callback function for later on.\n",
       "    function toolbar_event(event) {\n",
       "        return fig.toolbar_button_onclick(event['data']);\n",
       "    }\n",
       "    function toolbar_mouse_event(event) {\n",
       "        return fig.toolbar_button_onmouseover(event['data']);\n",
       "    }\n",
       "\n",
       "    for(var toolbar_ind in mpl.toolbar_items){\n",
       "        var name = mpl.toolbar_items[toolbar_ind][0];\n",
       "        var tooltip = mpl.toolbar_items[toolbar_ind][1];\n",
       "        var image = mpl.toolbar_items[toolbar_ind][2];\n",
       "        var method_name = mpl.toolbar_items[toolbar_ind][3];\n",
       "\n",
       "        if (!name) { continue; };\n",
       "\n",
       "        var button = $('<button class=\"btn btn-default\" href=\"#\" title=\"' + name + '\"><i class=\"fa ' + image + ' fa-lg\"></i></button>');\n",
       "        button.click(method_name, toolbar_event);\n",
       "        button.mouseover(tooltip, toolbar_mouse_event);\n",
       "        nav_element.append(button);\n",
       "    }\n",
       "\n",
       "    // Add the status bar.\n",
       "    var status_bar = $('<span class=\"mpl-message\" style=\"text-align:right; float: right;\"/>');\n",
       "    nav_element.append(status_bar);\n",
       "    this.message = status_bar[0];\n",
       "\n",
       "    // Add the close button to the window.\n",
       "    var buttongrp = $('<div class=\"btn-group inline pull-right\"></div>');\n",
       "    var button = $('<button class=\"btn btn-mini btn-primary\" href=\"#\" title=\"Stop Interaction\"><i class=\"fa fa-power-off icon-remove icon-large\"></i></button>');\n",
       "    button.click(function (evt) { fig.handle_close(fig, {}); } );\n",
       "    button.mouseover('Stop Interaction', toolbar_mouse_event);\n",
       "    buttongrp.append(button);\n",
       "    var titlebar = this.root.find($('.ui-dialog-titlebar'));\n",
       "    titlebar.prepend(buttongrp);\n",
       "}\n",
       "\n",
       "mpl.figure.prototype._root_extra_style = function(el){\n",
       "    var fig = this\n",
       "    el.on(\"remove\", function(){\n",
       "\tfig.close_ws(fig, {});\n",
       "    });\n",
       "}\n",
       "\n",
       "mpl.figure.prototype._canvas_extra_style = function(el){\n",
       "    // this is important to make the div 'focusable\n",
       "    el.attr('tabindex', 0)\n",
       "    // reach out to IPython and tell the keyboard manager to turn it's self\n",
       "    // off when our div gets focus\n",
       "\n",
       "    // location in version 3\n",
       "    if (IPython.notebook.keyboard_manager) {\n",
       "        IPython.notebook.keyboard_manager.register_events(el);\n",
       "    }\n",
       "    else {\n",
       "        // location in version 2\n",
       "        IPython.keyboard_manager.register_events(el);\n",
       "    }\n",
       "\n",
       "}\n",
       "\n",
       "mpl.figure.prototype._key_event_extra = function(event, name) {\n",
       "    var manager = IPython.notebook.keyboard_manager;\n",
       "    if (!manager)\n",
       "        manager = IPython.keyboard_manager;\n",
       "\n",
       "    // Check for shift+enter\n",
       "    if (event.shiftKey && event.which == 13) {\n",
       "        this.canvas_div.blur();\n",
       "        event.shiftKey = false;\n",
       "        // Send a \"J\" for go to next cell\n",
       "        event.which = 74;\n",
       "        event.keyCode = 74;\n",
       "        manager.command_mode();\n",
       "        manager.handle_keydown(event);\n",
       "    }\n",
       "}\n",
       "\n",
       "mpl.figure.prototype.handle_save = function(fig, msg) {\n",
       "    fig.ondownload(fig, null);\n",
       "}\n",
       "\n",
       "\n",
       "mpl.find_output_cell = function(html_output) {\n",
       "    // Return the cell and output element which can be found *uniquely* in the notebook.\n",
       "    // Note - this is a bit hacky, but it is done because the \"notebook_saving.Notebook\"\n",
       "    // IPython event is triggered only after the cells have been serialised, which for\n",
       "    // our purposes (turning an active figure into a static one), is too late.\n",
       "    var cells = IPython.notebook.get_cells();\n",
       "    var ncells = cells.length;\n",
       "    for (var i=0; i<ncells; i++) {\n",
       "        var cell = cells[i];\n",
       "        if (cell.cell_type === 'code'){\n",
       "            for (var j=0; j<cell.output_area.outputs.length; j++) {\n",
       "                var data = cell.output_area.outputs[j];\n",
       "                if (data.data) {\n",
       "                    // IPython >= 3 moved mimebundle to data attribute of output\n",
       "                    data = data.data;\n",
       "                }\n",
       "                if (data['text/html'] == html_output) {\n",
       "                    return [cell, data, j];\n",
       "                }\n",
       "            }\n",
       "        }\n",
       "    }\n",
       "}\n",
       "\n",
       "// Register the function which deals with the matplotlib target/channel.\n",
       "// The kernel may be null if the page has been refreshed.\n",
       "if (IPython.notebook.kernel != null) {\n",
       "    IPython.notebook.kernel.comm_manager.register_target('matplotlib', mpl.mpl_figure_comm);\n",
       "}\n"
      ],
      "text/plain": [
       "<IPython.core.display.Javascript object>"
      ]
     },
     "metadata": {},
     "output_type": "display_data"
    },
    {
     "data": {
      "text/html": [
       "<img src=\"data:image/png;base64,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\" width=\"400\">"
      ],
      "text/plain": [
       "<IPython.core.display.HTML object>"
      ]
     },
     "metadata": {},
     "output_type": "display_data"
    }
   ],
   "source": [
    "def dg_dphi(v):\n",
    "    return 2*v\n",
    "\n",
    "def dF_dphi(u, sigma_u, v_p, sigma_p, phi):\n",
    "    grad = (v_p - phi) / sigma_p + (u - g(phi)) / sigma_u * dg_dphi(phi)\n",
    "    return grad\n",
    "\n",
    "def fig_2a():\n",
    "    u       = 2\n",
    "    sigma_u = 1\n",
    "    v_p     = 3\n",
    "    sigma_p = 1\n",
    "    phi     = v_p\n",
    "    dt      = 0.01\n",
    "    dur     = 5\n",
    "    steps   = int(dur/dt)\n",
    "\n",
    "    trace    = np.zeros(steps)\n",
    "    trace[0] = phi\n",
    "\n",
    "    for t in range(steps-1):\n",
    "        phi += dt * dF_dphi(u, sigma_u, v_p, sigma_p, phi)\n",
    "        trace[t+1] = phi\n",
    "\n",
    "    fig = plt.figure(figsize=(4,4), num='Fig 2a')\n",
    "    ax  = fig.add_subplot(1, 1, 1)\n",
    "\n",
    "    ax.plot(np.arange(steps) * dt, trace)\n",
    "    plt.xlabel('time')\n",
    "    plt.ylabel(r'$\\phi$')\n",
    "    plt.axis([0, 5, -2, 3])\n",
    "\n",
    "fig_2a()"
   ]
  },
  {
   "cell_type": "markdown",
   "metadata": {},
   "source": [
    "Fig. 2(a) shows a solution to Exercise 2. Please notice that it rapidly converges to the value of $\\phi \\approx 1.6$, which is also the value that maximizes the exact posterior probability $p(v|u)$ shown in Fig. 1. "
   ]
  },
  {
   "cell_type": "markdown",
   "metadata": {},
   "source": [
    "### 2.3. A possible neural implementation ###\n",
    "\n",
    "One can envisage many possible ways in which the computa.tion described in previous subsection could be implemented in neural circuits. In this paper we will present a possible implementation which satisfies the constraints of local computation and plasticity described in the Introduction. It slightly differs from the original implementation which is contained in Appendix A. \n",
    "\n",
    "While thinking about the neural implementation of the above computation, it is helpful to note that there are two similar terms in Eq. (8), so let us denote them by new variables. \n",
    "\n",
    "\\begin{align*}\n",
    "\\varepsilon_p &= \\frac{\\phi - v_p}{\\varSigma_p} \\tag{10} \\\\\n",
    "\\varepsilon_u &= \\frac{u - g(\\phi)}{\\varSigma_u}. \\tag{11} \\\\\n",
    "\\end{align*}\n",
    "\n",
    "The above terms are the prediction errors$^1$: $\\varepsilon_u$ expresses how much the light intensity differs from that expected if the size of the food item was $\\phi$, while $\\varepsilon_p$ denotes how the inferred size differs from prior expectations. With these new variables the equation for updating $\\phi$ simplifies to: \n",
    "\n",
    "\\begin{equation*}\n",
    "\\dot{\\phi} = \\varepsilon_u g'(\\phi) - \\varepsilon_p.\n",
    "\\tag{12}\n",
    "\\end{equation*}\n",
    "\n",
    "The neural implementation of the model assumes that the model parameters $v_p$, $\\varSigma_p$, and $\\varSigma_u$ are encoded in the strengths of synaptic connections (as they need to be maintained over the animal’s lifetime), while variables $\\phi$, $\\varepsilon_u$, and $\\varepsilon_p$ and the sensory input $u$ are maintained in the activity of neurons or neuronal populations (as they change rapidly when the sensory input is modified). In particular, we will consider very simple neural \"nodes\" which simply change their activity proportionally to the input they receive, so for example, Eq. (12) is implemented in the model by a node receiving input equal to the right hand side of this equation. The prediction errors could be computed by the nodes with the following dynamics$^2$: \n",
    "\n",
    "\\begin{align*}\n",
    "\\dot{\\varepsilon_p} &= \\phi - v_p - \\varSigma_p \\varepsilon_p \\tag{13} \\\\\n",
    "\\dot{\\varepsilon_u} &= u - g(\\phi) - \\varSigma_u \\varepsilon_u \\tag{14} \\\\\n",
    "\\end{align*}\n",
    "\n",
    "It is easy to show that the nodes with dynamics described by Eqs. (13)–(14) converge to the values defined in Eqs. (10)–(11). Once Eqs. (13)–(14) converge, then $\\dot{\\varepsilon} = 0$, so setting $\\dot{\\varepsilon} = 0$ and solving Eqs. (13)–(14) for $\\varepsilon$, one obtains Eqs. (10)–(11). \n"
   ]
  },
  {
   "cell_type": "markdown",
   "metadata": {},
   "source": [
    "<html>\n",
    "    <div class=\"image\">\n",
    "        <img src=\"Bogacz_fig3.png\", width=400>\n",
    "        <div style=\"margin: 20px 100px 20px 100px\">\n",
    "            Fig. 3. The architecture of the model performing simple perceptual inference. Circles denote neural \"nodes\", arrows denote excitatory connections, while lines ended with circles denote inhibitory connections. Labels above the connections encode their strength, and lack of label indicates the strength of 1. Rectangles indicate the values that need to be transmitted via the connections they label. \n",
    "        </div>\n",
    "    </div>\n",
    "</html>\n",
    "\n",
    "The architecture of the network described by Eqs. (12)–(14) is shown in Fig. 3. Let us consider the computations in its nodes. The node $\\varepsilon_p$ receives excitatory input from node $\\phi$, inhibitory input from a tonically active neuron via a connection with strength $v_p$, and inhibitory input from itself via a connection with strength $\\varSigma_p$, so it implements Eq. (13). The nodes $\\phi$ and $\\varepsilon_u$ analogously implement Eqs. (12) \n",
    "and (14), but here the information exchange between them is additionally affected by function $g$, and we will discuss this issue in more detail in Section 2.5. We have now described all the details necessary to simulate the model. "
   ]
  },
  {
   "cell_type": "markdown",
   "metadata": {},
   "source": [
    "**Exercise 3.** *Simulate the model from Fig. 3 for the problem from Exercise 1. In particular, initialize $\\phi = v_p, \\varepsilon_p = \\varepsilon_u = 0$, and find their values for the next 5 units of time.* "
   ]
  },
  {
   "cell_type": "code",
   "execution_count": 4,
   "metadata": {},
   "outputs": [
    {
     "data": {
      "application/javascript": [
       "/* Put everything inside the global mpl namespace */\n",
       "window.mpl = {};\n",
       "\n",
       "\n",
       "mpl.get_websocket_type = function() {\n",
       "    if (typeof(WebSocket) !== 'undefined') {\n",
       "        return WebSocket;\n",
       "    } else if (typeof(MozWebSocket) !== 'undefined') {\n",
       "        return MozWebSocket;\n",
       "    } else {\n",
       "        alert('Your browser does not have WebSocket support.' +\n",
       "              'Please try Chrome, Safari or Firefox ≥ 6. ' +\n",
       "              'Firefox 4 and 5 are also supported but you ' +\n",
       "              'have to enable WebSockets in about:config.');\n",
       "    };\n",
       "}\n",
       "\n",
       "mpl.figure = function(figure_id, websocket, ondownload, parent_element) {\n",
       "    this.id = figure_id;\n",
       "\n",
       "    this.ws = websocket;\n",
       "\n",
       "    this.supports_binary = (this.ws.binaryType != undefined);\n",
       "\n",
       "    if (!this.supports_binary) {\n",
       "        var warnings = document.getElementById(\"mpl-warnings\");\n",
       "        if (warnings) {\n",
       "            warnings.style.display = 'block';\n",
       "            warnings.textContent = (\n",
       "                \"This browser does not support binary websocket messages. \" +\n",
       "                    \"Performance may be slow.\");\n",
       "        }\n",
       "    }\n",
       "\n",
       "    this.imageObj = new Image();\n",
       "\n",
       "    this.context = undefined;\n",
       "    this.message = undefined;\n",
       "    this.canvas = undefined;\n",
       "    this.rubberband_canvas = undefined;\n",
       "    this.rubberband_context = undefined;\n",
       "    this.format_dropdown = undefined;\n",
       "\n",
       "    this.image_mode = 'full';\n",
       "\n",
       "    this.root = $('<div/>');\n",
       "    this._root_extra_style(this.root)\n",
       "    this.root.attr('style', 'display: inline-block');\n",
       "\n",
       "    $(parent_element).append(this.root);\n",
       "\n",
       "    this._init_header(this);\n",
       "    this._init_canvas(this);\n",
       "    this._init_toolbar(this);\n",
       "\n",
       "    var fig = this;\n",
       "\n",
       "    this.waiting = false;\n",
       "\n",
       "    this.ws.onopen =  function () {\n",
       "            fig.send_message(\"supports_binary\", {value: fig.supports_binary});\n",
       "            fig.send_message(\"send_image_mode\", {});\n",
       "            if (mpl.ratio != 1) {\n",
       "                fig.send_message(\"set_dpi_ratio\", {'dpi_ratio': mpl.ratio});\n",
       "            }\n",
       "            fig.send_message(\"refresh\", {});\n",
       "        }\n",
       "\n",
       "    this.imageObj.onload = function() {\n",
       "            if (fig.image_mode == 'full') {\n",
       "                // Full images could contain transparency (where diff images\n",
       "                // almost always do), so we need to clear the canvas so that\n",
       "                // there is no ghosting.\n",
       "                fig.context.clearRect(0, 0, fig.canvas.width, fig.canvas.height);\n",
       "            }\n",
       "            fig.context.drawImage(fig.imageObj, 0, 0);\n",
       "        };\n",
       "\n",
       "    this.imageObj.onunload = function() {\n",
       "        fig.ws.close();\n",
       "    }\n",
       "\n",
       "    this.ws.onmessage = this._make_on_message_function(this);\n",
       "\n",
       "    this.ondownload = ondownload;\n",
       "}\n",
       "\n",
       "mpl.figure.prototype._init_header = function() {\n",
       "    var titlebar = $(\n",
       "        '<div class=\"ui-dialog-titlebar ui-widget-header ui-corner-all ' +\n",
       "        'ui-helper-clearfix\"/>');\n",
       "    var titletext = $(\n",
       "        '<div class=\"ui-dialog-title\" style=\"width: 100%; ' +\n",
       "        'text-align: center; padding: 3px;\"/>');\n",
       "    titlebar.append(titletext)\n",
       "    this.root.append(titlebar);\n",
       "    this.header = titletext[0];\n",
       "}\n",
       "\n",
       "\n",
       "\n",
       "mpl.figure.prototype._canvas_extra_style = function(canvas_div) {\n",
       "\n",
       "}\n",
       "\n",
       "\n",
       "mpl.figure.prototype._root_extra_style = function(canvas_div) {\n",
       "\n",
       "}\n",
       "\n",
       "mpl.figure.prototype._init_canvas = function() {\n",
       "    var fig = this;\n",
       "\n",
       "    var canvas_div = $('<div/>');\n",
       "\n",
       "    canvas_div.attr('style', 'position: relative; clear: both; outline: 0');\n",
       "\n",
       "    function canvas_keyboard_event(event) {\n",
       "        return fig.key_event(event, event['data']);\n",
       "    }\n",
       "\n",
       "    canvas_div.keydown('key_press', canvas_keyboard_event);\n",
       "    canvas_div.keyup('key_release', canvas_keyboard_event);\n",
       "    this.canvas_div = canvas_div\n",
       "    this._canvas_extra_style(canvas_div)\n",
       "    this.root.append(canvas_div);\n",
       "\n",
       "    var canvas = $('<canvas/>');\n",
       "    canvas.addClass('mpl-canvas');\n",
       "    canvas.attr('style', \"left: 0; top: 0; z-index: 0; outline: 0\")\n",
       "\n",
       "    this.canvas = canvas[0];\n",
       "    this.context = canvas[0].getContext(\"2d\");\n",
       "\n",
       "    var backingStore = this.context.backingStorePixelRatio ||\n",
       "\tthis.context.webkitBackingStorePixelRatio ||\n",
       "\tthis.context.mozBackingStorePixelRatio ||\n",
       "\tthis.context.msBackingStorePixelRatio ||\n",
       "\tthis.context.oBackingStorePixelRatio ||\n",
       "\tthis.context.backingStorePixelRatio || 1;\n",
       "\n",
       "    mpl.ratio = (window.devicePixelRatio || 1) / backingStore;\n",
       "\n",
       "    var rubberband = $('<canvas/>');\n",
       "    rubberband.attr('style', \"position: absolute; left: 0; top: 0; z-index: 1;\")\n",
       "\n",
       "    var pass_mouse_events = true;\n",
       "\n",
       "    canvas_div.resizable({\n",
       "        start: function(event, ui) {\n",
       "            pass_mouse_events = false;\n",
       "        },\n",
       "        resize: function(event, ui) {\n",
       "            fig.request_resize(ui.size.width, ui.size.height);\n",
       "        },\n",
       "        stop: function(event, ui) {\n",
       "            pass_mouse_events = true;\n",
       "            fig.request_resize(ui.size.width, ui.size.height);\n",
       "        },\n",
       "    });\n",
       "\n",
       "    function mouse_event_fn(event) {\n",
       "        if (pass_mouse_events)\n",
       "            return fig.mouse_event(event, event['data']);\n",
       "    }\n",
       "\n",
       "    rubberband.mousedown('button_press', mouse_event_fn);\n",
       "    rubberband.mouseup('button_release', mouse_event_fn);\n",
       "    // Throttle sequential mouse events to 1 every 20ms.\n",
       "    rubberband.mousemove('motion_notify', mouse_event_fn);\n",
       "\n",
       "    rubberband.mouseenter('figure_enter', mouse_event_fn);\n",
       "    rubberband.mouseleave('figure_leave', mouse_event_fn);\n",
       "\n",
       "    canvas_div.on(\"wheel\", function (event) {\n",
       "        event = event.originalEvent;\n",
       "        event['data'] = 'scroll'\n",
       "        if (event.deltaY < 0) {\n",
       "            event.step = 1;\n",
       "        } else {\n",
       "            event.step = -1;\n",
       "        }\n",
       "        mouse_event_fn(event);\n",
       "    });\n",
       "\n",
       "    canvas_div.append(canvas);\n",
       "    canvas_div.append(rubberband);\n",
       "\n",
       "    this.rubberband = rubberband;\n",
       "    this.rubberband_canvas = rubberband[0];\n",
       "    this.rubberband_context = rubberband[0].getContext(\"2d\");\n",
       "    this.rubberband_context.strokeStyle = \"#000000\";\n",
       "\n",
       "    this._resize_canvas = function(width, height) {\n",
       "        // Keep the size of the canvas, canvas container, and rubber band\n",
       "        // canvas in synch.\n",
       "        canvas_div.css('width', width)\n",
       "        canvas_div.css('height', height)\n",
       "\n",
       "        canvas.attr('width', width * mpl.ratio);\n",
       "        canvas.attr('height', height * mpl.ratio);\n",
       "        canvas.attr('style', 'width: ' + width + 'px; height: ' + height + 'px;');\n",
       "\n",
       "        rubberband.attr('width', width);\n",
       "        rubberband.attr('height', height);\n",
       "    }\n",
       "\n",
       "    // Set the figure to an initial 600x600px, this will subsequently be updated\n",
       "    // upon first draw.\n",
       "    this._resize_canvas(600, 600);\n",
       "\n",
       "    // Disable right mouse context menu.\n",
       "    $(this.rubberband_canvas).bind(\"contextmenu\",function(e){\n",
       "        return false;\n",
       "    });\n",
       "\n",
       "    function set_focus () {\n",
       "        canvas.focus();\n",
       "        canvas_div.focus();\n",
       "    }\n",
       "\n",
       "    window.setTimeout(set_focus, 100);\n",
       "}\n",
       "\n",
       "mpl.figure.prototype._init_toolbar = function() {\n",
       "    var fig = this;\n",
       "\n",
       "    var nav_element = $('<div/>')\n",
       "    nav_element.attr('style', 'width: 100%');\n",
       "    this.root.append(nav_element);\n",
       "\n",
       "    // Define a callback function for later on.\n",
       "    function toolbar_event(event) {\n",
       "        return fig.toolbar_button_onclick(event['data']);\n",
       "    }\n",
       "    function toolbar_mouse_event(event) {\n",
       "        return fig.toolbar_button_onmouseover(event['data']);\n",
       "    }\n",
       "\n",
       "    for(var toolbar_ind in mpl.toolbar_items) {\n",
       "        var name = mpl.toolbar_items[toolbar_ind][0];\n",
       "        var tooltip = mpl.toolbar_items[toolbar_ind][1];\n",
       "        var image = mpl.toolbar_items[toolbar_ind][2];\n",
       "        var method_name = mpl.toolbar_items[toolbar_ind][3];\n",
       "\n",
       "        if (!name) {\n",
       "            // put a spacer in here.\n",
       "            continue;\n",
       "        }\n",
       "        var button = $('<button/>');\n",
       "        button.addClass('ui-button ui-widget ui-state-default ui-corner-all ' +\n",
       "                        'ui-button-icon-only');\n",
       "        button.attr('role', 'button');\n",
       "        button.attr('aria-disabled', 'false');\n",
       "        button.click(method_name, toolbar_event);\n",
       "        button.mouseover(tooltip, toolbar_mouse_event);\n",
       "\n",
       "        var icon_img = $('<span/>');\n",
       "        icon_img.addClass('ui-button-icon-primary ui-icon');\n",
       "        icon_img.addClass(image);\n",
       "        icon_img.addClass('ui-corner-all');\n",
       "\n",
       "        var tooltip_span = $('<span/>');\n",
       "        tooltip_span.addClass('ui-button-text');\n",
       "        tooltip_span.html(tooltip);\n",
       "\n",
       "        button.append(icon_img);\n",
       "        button.append(tooltip_span);\n",
       "\n",
       "        nav_element.append(button);\n",
       "    }\n",
       "\n",
       "    var fmt_picker_span = $('<span/>');\n",
       "\n",
       "    var fmt_picker = $('<select/>');\n",
       "    fmt_picker.addClass('mpl-toolbar-option ui-widget ui-widget-content');\n",
       "    fmt_picker_span.append(fmt_picker);\n",
       "    nav_element.append(fmt_picker_span);\n",
       "    this.format_dropdown = fmt_picker[0];\n",
       "\n",
       "    for (var ind in mpl.extensions) {\n",
       "        var fmt = mpl.extensions[ind];\n",
       "        var option = $(\n",
       "            '<option/>', {selected: fmt === mpl.default_extension}).html(fmt);\n",
       "        fmt_picker.append(option)\n",
       "    }\n",
       "\n",
       "    // Add hover states to the ui-buttons\n",
       "    $( \".ui-button\" ).hover(\n",
       "        function() { $(this).addClass(\"ui-state-hover\");},\n",
       "        function() { $(this).removeClass(\"ui-state-hover\");}\n",
       "    );\n",
       "\n",
       "    var status_bar = $('<span class=\"mpl-message\"/>');\n",
       "    nav_element.append(status_bar);\n",
       "    this.message = status_bar[0];\n",
       "}\n",
       "\n",
       "mpl.figure.prototype.request_resize = function(x_pixels, y_pixels) {\n",
       "    // Request matplotlib to resize the figure. Matplotlib will then trigger a resize in the client,\n",
       "    // which will in turn request a refresh of the image.\n",
       "    this.send_message('resize', {'width': x_pixels, 'height': y_pixels});\n",
       "}\n",
       "\n",
       "mpl.figure.prototype.send_message = function(type, properties) {\n",
       "    properties['type'] = type;\n",
       "    properties['figure_id'] = this.id;\n",
       "    this.ws.send(JSON.stringify(properties));\n",
       "}\n",
       "\n",
       "mpl.figure.prototype.send_draw_message = function() {\n",
       "    if (!this.waiting) {\n",
       "        this.waiting = true;\n",
       "        this.ws.send(JSON.stringify({type: \"draw\", figure_id: this.id}));\n",
       "    }\n",
       "}\n",
       "\n",
       "\n",
       "mpl.figure.prototype.handle_save = function(fig, msg) {\n",
       "    var format_dropdown = fig.format_dropdown;\n",
       "    var format = format_dropdown.options[format_dropdown.selectedIndex].value;\n",
       "    fig.ondownload(fig, format);\n",
       "}\n",
       "\n",
       "\n",
       "mpl.figure.prototype.handle_resize = function(fig, msg) {\n",
       "    var size = msg['size'];\n",
       "    if (size[0] != fig.canvas.width || size[1] != fig.canvas.height) {\n",
       "        fig._resize_canvas(size[0], size[1]);\n",
       "        fig.send_message(\"refresh\", {});\n",
       "    };\n",
       "}\n",
       "\n",
       "mpl.figure.prototype.handle_rubberband = function(fig, msg) {\n",
       "    var x0 = msg['x0'] / mpl.ratio;\n",
       "    var y0 = (fig.canvas.height - msg['y0']) / mpl.ratio;\n",
       "    var x1 = msg['x1'] / mpl.ratio;\n",
       "    var y1 = (fig.canvas.height - msg['y1']) / mpl.ratio;\n",
       "    x0 = Math.floor(x0) + 0.5;\n",
       "    y0 = Math.floor(y0) + 0.5;\n",
       "    x1 = Math.floor(x1) + 0.5;\n",
       "    y1 = Math.floor(y1) + 0.5;\n",
       "    var min_x = Math.min(x0, x1);\n",
       "    var min_y = Math.min(y0, y1);\n",
       "    var width = Math.abs(x1 - x0);\n",
       "    var height = Math.abs(y1 - y0);\n",
       "\n",
       "    fig.rubberband_context.clearRect(\n",
       "        0, 0, fig.canvas.width, fig.canvas.height);\n",
       "\n",
       "    fig.rubberband_context.strokeRect(min_x, min_y, width, height);\n",
       "}\n",
       "\n",
       "mpl.figure.prototype.handle_figure_label = function(fig, msg) {\n",
       "    // Updates the figure title.\n",
       "    fig.header.textContent = msg['label'];\n",
       "}\n",
       "\n",
       "mpl.figure.prototype.handle_cursor = function(fig, msg) {\n",
       "    var cursor = msg['cursor'];\n",
       "    switch(cursor)\n",
       "    {\n",
       "    case 0:\n",
       "        cursor = 'pointer';\n",
       "        break;\n",
       "    case 1:\n",
       "        cursor = 'default';\n",
       "        break;\n",
       "    case 2:\n",
       "        cursor = 'crosshair';\n",
       "        break;\n",
       "    case 3:\n",
       "        cursor = 'move';\n",
       "        break;\n",
       "    }\n",
       "    fig.rubberband_canvas.style.cursor = cursor;\n",
       "}\n",
       "\n",
       "mpl.figure.prototype.handle_message = function(fig, msg) {\n",
       "    fig.message.textContent = msg['message'];\n",
       "}\n",
       "\n",
       "mpl.figure.prototype.handle_draw = function(fig, msg) {\n",
       "    // Request the server to send over a new figure.\n",
       "    fig.send_draw_message();\n",
       "}\n",
       "\n",
       "mpl.figure.prototype.handle_image_mode = function(fig, msg) {\n",
       "    fig.image_mode = msg['mode'];\n",
       "}\n",
       "\n",
       "mpl.figure.prototype.updated_canvas_event = function() {\n",
       "    // Called whenever the canvas gets updated.\n",
       "    this.send_message(\"ack\", {});\n",
       "}\n",
       "\n",
       "// A function to construct a web socket function for onmessage handling.\n",
       "// Called in the figure constructor.\n",
       "mpl.figure.prototype._make_on_message_function = function(fig) {\n",
       "    return function socket_on_message(evt) {\n",
       "        if (evt.data instanceof Blob) {\n",
       "            /* FIXME: We get \"Resource interpreted as Image but\n",
       "             * transferred with MIME type text/plain:\" errors on\n",
       "             * Chrome.  But how to set the MIME type?  It doesn't seem\n",
       "             * to be part of the websocket stream */\n",
       "            evt.data.type = \"image/png\";\n",
       "\n",
       "            /* Free the memory for the previous frames */\n",
       "            if (fig.imageObj.src) {\n",
       "                (window.URL || window.webkitURL).revokeObjectURL(\n",
       "                    fig.imageObj.src);\n",
       "            }\n",
       "\n",
       "            fig.imageObj.src = (window.URL || window.webkitURL).createObjectURL(\n",
       "                evt.data);\n",
       "            fig.updated_canvas_event();\n",
       "            fig.waiting = false;\n",
       "            return;\n",
       "        }\n",
       "        else if (typeof evt.data === 'string' && evt.data.slice(0, 21) == \"data:image/png;base64\") {\n",
       "            fig.imageObj.src = evt.data;\n",
       "            fig.updated_canvas_event();\n",
       "            fig.waiting = false;\n",
       "            return;\n",
       "        }\n",
       "\n",
       "        var msg = JSON.parse(evt.data);\n",
       "        var msg_type = msg['type'];\n",
       "\n",
       "        // Call the  \"handle_{type}\" callback, which takes\n",
       "        // the figure and JSON message as its only arguments.\n",
       "        try {\n",
       "            var callback = fig[\"handle_\" + msg_type];\n",
       "        } catch (e) {\n",
       "            console.log(\"No handler for the '\" + msg_type + \"' message type: \", msg);\n",
       "            return;\n",
       "        }\n",
       "\n",
       "        if (callback) {\n",
       "            try {\n",
       "                // console.log(\"Handling '\" + msg_type + \"' message: \", msg);\n",
       "                callback(fig, msg);\n",
       "            } catch (e) {\n",
       "                console.log(\"Exception inside the 'handler_\" + msg_type + \"' callback:\", e, e.stack, msg);\n",
       "            }\n",
       "        }\n",
       "    };\n",
       "}\n",
       "\n",
       "// from http://stackoverflow.com/questions/1114465/getting-mouse-location-in-canvas\n",
       "mpl.findpos = function(e) {\n",
       "    //this section is from http://www.quirksmode.org/js/events_properties.html\n",
       "    var targ;\n",
       "    if (!e)\n",
       "        e = window.event;\n",
       "    if (e.target)\n",
       "        targ = e.target;\n",
       "    else if (e.srcElement)\n",
       "        targ = e.srcElement;\n",
       "    if (targ.nodeType == 3) // defeat Safari bug\n",
       "        targ = targ.parentNode;\n",
       "\n",
       "    // jQuery normalizes the pageX and pageY\n",
       "    // pageX,Y are the mouse positions relative to the document\n",
       "    // offset() returns the position of the element relative to the document\n",
       "    var x = e.pageX - $(targ).offset().left;\n",
       "    var y = e.pageY - $(targ).offset().top;\n",
       "\n",
       "    return {\"x\": x, \"y\": y};\n",
       "};\n",
       "\n",
       "/*\n",
       " * return a copy of an object with only non-object keys\n",
       " * we need this to avoid circular references\n",
       " * http://stackoverflow.com/a/24161582/3208463\n",
       " */\n",
       "function simpleKeys (original) {\n",
       "  return Object.keys(original).reduce(function (obj, key) {\n",
       "    if (typeof original[key] !== 'object')\n",
       "        obj[key] = original[key]\n",
       "    return obj;\n",
       "  }, {});\n",
       "}\n",
       "\n",
       "mpl.figure.prototype.mouse_event = function(event, name) {\n",
       "    var canvas_pos = mpl.findpos(event)\n",
       "\n",
       "    if (name === 'button_press')\n",
       "    {\n",
       "        this.canvas.focus();\n",
       "        this.canvas_div.focus();\n",
       "    }\n",
       "\n",
       "    var x = canvas_pos.x * mpl.ratio;\n",
       "    var y = canvas_pos.y * mpl.ratio;\n",
       "\n",
       "    this.send_message(name, {x: x, y: y, button: event.button,\n",
       "                             step: event.step,\n",
       "                             guiEvent: simpleKeys(event)});\n",
       "\n",
       "    /* This prevents the web browser from automatically changing to\n",
       "     * the text insertion cursor when the button is pressed.  We want\n",
       "     * to control all of the cursor setting manually through the\n",
       "     * 'cursor' event from matplotlib */\n",
       "    event.preventDefault();\n",
       "    return false;\n",
       "}\n",
       "\n",
       "mpl.figure.prototype._key_event_extra = function(event, name) {\n",
       "    // Handle any extra behaviour associated with a key event\n",
       "}\n",
       "\n",
       "mpl.figure.prototype.key_event = function(event, name) {\n",
       "\n",
       "    // Prevent repeat events\n",
       "    if (name == 'key_press')\n",
       "    {\n",
       "        if (event.which === this._key)\n",
       "            return;\n",
       "        else\n",
       "            this._key = event.which;\n",
       "    }\n",
       "    if (name == 'key_release')\n",
       "        this._key = null;\n",
       "\n",
       "    var value = '';\n",
       "    if (event.ctrlKey && event.which != 17)\n",
       "        value += \"ctrl+\";\n",
       "    if (event.altKey && event.which != 18)\n",
       "        value += \"alt+\";\n",
       "    if (event.shiftKey && event.which != 16)\n",
       "        value += \"shift+\";\n",
       "\n",
       "    value += 'k';\n",
       "    value += event.which.toString();\n",
       "\n",
       "    this._key_event_extra(event, name);\n",
       "\n",
       "    this.send_message(name, {key: value,\n",
       "                             guiEvent: simpleKeys(event)});\n",
       "    return false;\n",
       "}\n",
       "\n",
       "mpl.figure.prototype.toolbar_button_onclick = function(name) {\n",
       "    if (name == 'download') {\n",
       "        this.handle_save(this, null);\n",
       "    } else {\n",
       "        this.send_message(\"toolbar_button\", {name: name});\n",
       "    }\n",
       "};\n",
       "\n",
       "mpl.figure.prototype.toolbar_button_onmouseover = function(tooltip) {\n",
       "    this.message.textContent = tooltip;\n",
       "};\n",
       "mpl.toolbar_items = [[\"Home\", \"Reset original view\", \"fa fa-home icon-home\", \"home\"], [\"Back\", \"Back to  previous view\", \"fa fa-arrow-left icon-arrow-left\", \"back\"], [\"Forward\", \"Forward to next view\", \"fa fa-arrow-right icon-arrow-right\", \"forward\"], [\"\", \"\", \"\", \"\"], [\"Pan\", \"Pan axes with left mouse, zoom with right\", \"fa fa-arrows icon-move\", \"pan\"], [\"Zoom\", \"Zoom to rectangle\", \"fa fa-square-o icon-check-empty\", \"zoom\"], [\"\", \"\", \"\", \"\"], [\"Download\", \"Download plot\", \"fa fa-floppy-o icon-save\", \"download\"]];\n",
       "\n",
       "mpl.extensions = [\"eps\", \"jpeg\", \"pdf\", \"png\", \"ps\", \"raw\", \"svg\", \"tif\"];\n",
       "\n",
       "mpl.default_extension = \"png\";var comm_websocket_adapter = function(comm) {\n",
       "    // Create a \"websocket\"-like object which calls the given IPython comm\n",
       "    // object with the appropriate methods. Currently this is a non binary\n",
       "    // socket, so there is still some room for performance tuning.\n",
       "    var ws = {};\n",
       "\n",
       "    ws.close = function() {\n",
       "        comm.close()\n",
       "    };\n",
       "    ws.send = function(m) {\n",
       "        //console.log('sending', m);\n",
       "        comm.send(m);\n",
       "    };\n",
       "    // Register the callback with on_msg.\n",
       "    comm.on_msg(function(msg) {\n",
       "        //console.log('receiving', msg['content']['data'], msg);\n",
       "        // Pass the mpl event to the overridden (by mpl) onmessage function.\n",
       "        ws.onmessage(msg['content']['data'])\n",
       "    });\n",
       "    return ws;\n",
       "}\n",
       "\n",
       "mpl.mpl_figure_comm = function(comm, msg) {\n",
       "    // This is the function which gets called when the mpl process\n",
       "    // starts-up an IPython Comm through the \"matplotlib\" channel.\n",
       "\n",
       "    var id = msg.content.data.id;\n",
       "    // Get hold of the div created by the display call when the Comm\n",
       "    // socket was opened in Python.\n",
       "    var element = $(\"#\" + id);\n",
       "    var ws_proxy = comm_websocket_adapter(comm)\n",
       "\n",
       "    function ondownload(figure, format) {\n",
       "        window.open(figure.imageObj.src);\n",
       "    }\n",
       "\n",
       "    var fig = new mpl.figure(id, ws_proxy,\n",
       "                           ondownload,\n",
       "                           element.get(0));\n",
       "\n",
       "    // Call onopen now - mpl needs it, as it is assuming we've passed it a real\n",
       "    // web socket which is closed, not our websocket->open comm proxy.\n",
       "    ws_proxy.onopen();\n",
       "\n",
       "    fig.parent_element = element.get(0);\n",
       "    fig.cell_info = mpl.find_output_cell(\"<div id='\" + id + \"'></div>\");\n",
       "    if (!fig.cell_info) {\n",
       "        console.error(\"Failed to find cell for figure\", id, fig);\n",
       "        return;\n",
       "    }\n",
       "\n",
       "    var output_index = fig.cell_info[2]\n",
       "    var cell = fig.cell_info[0];\n",
       "\n",
       "};\n",
       "\n",
       "mpl.figure.prototype.handle_close = function(fig, msg) {\n",
       "    var width = fig.canvas.width/mpl.ratio\n",
       "    fig.root.unbind('remove')\n",
       "\n",
       "    // Update the output cell to use the data from the current canvas.\n",
       "    fig.push_to_output();\n",
       "    var dataURL = fig.canvas.toDataURL();\n",
       "    // Re-enable the keyboard manager in IPython - without this line, in FF,\n",
       "    // the notebook keyboard shortcuts fail.\n",
       "    IPython.keyboard_manager.enable()\n",
       "    $(fig.parent_element).html('<img src=\"' + dataURL + '\" width=\"' + width + '\">');\n",
       "    fig.close_ws(fig, msg);\n",
       "}\n",
       "\n",
       "mpl.figure.prototype.close_ws = function(fig, msg){\n",
       "    fig.send_message('closing', msg);\n",
       "    // fig.ws.close()\n",
       "}\n",
       "\n",
       "mpl.figure.prototype.push_to_output = function(remove_interactive) {\n",
       "    // Turn the data on the canvas into data in the output cell.\n",
       "    var width = this.canvas.width/mpl.ratio\n",
       "    var dataURL = this.canvas.toDataURL();\n",
       "    this.cell_info[1]['text/html'] = '<img src=\"' + dataURL + '\" width=\"' + width + '\">';\n",
       "}\n",
       "\n",
       "mpl.figure.prototype.updated_canvas_event = function() {\n",
       "    // Tell IPython that the notebook contents must change.\n",
       "    IPython.notebook.set_dirty(true);\n",
       "    this.send_message(\"ack\", {});\n",
       "    var fig = this;\n",
       "    // Wait a second, then push the new image to the DOM so\n",
       "    // that it is saved nicely (might be nice to debounce this).\n",
       "    setTimeout(function () { fig.push_to_output() }, 1000);\n",
       "}\n",
       "\n",
       "mpl.figure.prototype._init_toolbar = function() {\n",
       "    var fig = this;\n",
       "\n",
       "    var nav_element = $('<div/>')\n",
       "    nav_element.attr('style', 'width: 100%');\n",
       "    this.root.append(nav_element);\n",
       "\n",
       "    // Define a callback function for later on.\n",
       "    function toolbar_event(event) {\n",
       "        return fig.toolbar_button_onclick(event['data']);\n",
       "    }\n",
       "    function toolbar_mouse_event(event) {\n",
       "        return fig.toolbar_button_onmouseover(event['data']);\n",
       "    }\n",
       "\n",
       "    for(var toolbar_ind in mpl.toolbar_items){\n",
       "        var name = mpl.toolbar_items[toolbar_ind][0];\n",
       "        var tooltip = mpl.toolbar_items[toolbar_ind][1];\n",
       "        var image = mpl.toolbar_items[toolbar_ind][2];\n",
       "        var method_name = mpl.toolbar_items[toolbar_ind][3];\n",
       "\n",
       "        if (!name) { continue; };\n",
       "\n",
       "        var button = $('<button class=\"btn btn-default\" href=\"#\" title=\"' + name + '\"><i class=\"fa ' + image + ' fa-lg\"></i></button>');\n",
       "        button.click(method_name, toolbar_event);\n",
       "        button.mouseover(tooltip, toolbar_mouse_event);\n",
       "        nav_element.append(button);\n",
       "    }\n",
       "\n",
       "    // Add the status bar.\n",
       "    var status_bar = $('<span class=\"mpl-message\" style=\"text-align:right; float: right;\"/>');\n",
       "    nav_element.append(status_bar);\n",
       "    this.message = status_bar[0];\n",
       "\n",
       "    // Add the close button to the window.\n",
       "    var buttongrp = $('<div class=\"btn-group inline pull-right\"></div>');\n",
       "    var button = $('<button class=\"btn btn-mini btn-primary\" href=\"#\" title=\"Stop Interaction\"><i class=\"fa fa-power-off icon-remove icon-large\"></i></button>');\n",
       "    button.click(function (evt) { fig.handle_close(fig, {}); } );\n",
       "    button.mouseover('Stop Interaction', toolbar_mouse_event);\n",
       "    buttongrp.append(button);\n",
       "    var titlebar = this.root.find($('.ui-dialog-titlebar'));\n",
       "    titlebar.prepend(buttongrp);\n",
       "}\n",
       "\n",
       "mpl.figure.prototype._root_extra_style = function(el){\n",
       "    var fig = this\n",
       "    el.on(\"remove\", function(){\n",
       "\tfig.close_ws(fig, {});\n",
       "    });\n",
       "}\n",
       "\n",
       "mpl.figure.prototype._canvas_extra_style = function(el){\n",
       "    // this is important to make the div 'focusable\n",
       "    el.attr('tabindex', 0)\n",
       "    // reach out to IPython and tell the keyboard manager to turn it's self\n",
       "    // off when our div gets focus\n",
       "\n",
       "    // location in version 3\n",
       "    if (IPython.notebook.keyboard_manager) {\n",
       "        IPython.notebook.keyboard_manager.register_events(el);\n",
       "    }\n",
       "    else {\n",
       "        // location in version 2\n",
       "        IPython.keyboard_manager.register_events(el);\n",
       "    }\n",
       "\n",
       "}\n",
       "\n",
       "mpl.figure.prototype._key_event_extra = function(event, name) {\n",
       "    var manager = IPython.notebook.keyboard_manager;\n",
       "    if (!manager)\n",
       "        manager = IPython.keyboard_manager;\n",
       "\n",
       "    // Check for shift+enter\n",
       "    if (event.shiftKey && event.which == 13) {\n",
       "        this.canvas_div.blur();\n",
       "        event.shiftKey = false;\n",
       "        // Send a \"J\" for go to next cell\n",
       "        event.which = 74;\n",
       "        event.keyCode = 74;\n",
       "        manager.command_mode();\n",
       "        manager.handle_keydown(event);\n",
       "    }\n",
       "}\n",
       "\n",
       "mpl.figure.prototype.handle_save = function(fig, msg) {\n",
       "    fig.ondownload(fig, null);\n",
       "}\n",
       "\n",
       "\n",
       "mpl.find_output_cell = function(html_output) {\n",
       "    // Return the cell and output element which can be found *uniquely* in the notebook.\n",
       "    // Note - this is a bit hacky, but it is done because the \"notebook_saving.Notebook\"\n",
       "    // IPython event is triggered only after the cells have been serialised, which for\n",
       "    // our purposes (turning an active figure into a static one), is too late.\n",
       "    var cells = IPython.notebook.get_cells();\n",
       "    var ncells = cells.length;\n",
       "    for (var i=0; i<ncells; i++) {\n",
       "        var cell = cells[i];\n",
       "        if (cell.cell_type === 'code'){\n",
       "            for (var j=0; j<cell.output_area.outputs.length; j++) {\n",
       "                var data = cell.output_area.outputs[j];\n",
       "                if (data.data) {\n",
       "                    // IPython >= 3 moved mimebundle to data attribute of output\n",
       "                    data = data.data;\n",
       "                }\n",
       "                if (data['text/html'] == html_output) {\n",
       "                    return [cell, data, j];\n",
       "                }\n",
       "            }\n",
       "        }\n",
       "    }\n",
       "}\n",
       "\n",
       "// Register the function which deals with the matplotlib target/channel.\n",
       "// The kernel may be null if the page has been refreshed.\n",
       "if (IPython.notebook.kernel != null) {\n",
       "    IPython.notebook.kernel.comm_manager.register_target('matplotlib', mpl.mpl_figure_comm);\n",
       "}\n"
      ],
      "text/plain": [
       "<IPython.core.display.Javascript object>"
      ]
     },
     "metadata": {},
     "output_type": "display_data"
    },
    {
     "data": {
      "text/html": [
       "<img src=\"data:image/png;base64,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\" width=\"400\">"
      ],
      "text/plain": [
       "<IPython.core.display.HTML object>"
      ]
     },
     "metadata": {},
     "output_type": "display_data"
    }
   ],
   "source": [
    "def fig_2b():\n",
    "    \n",
    "    def dphi_dt(phi, e_p, e_u):\n",
    "        return e_u * dg_dphi(phi) - e_p\n",
    "\n",
    "    def dep_dt(phi, e_p, e_u):\n",
    "        return phi - v_p - sigma_p * e_p\n",
    "\n",
    "    def deu_dt(phi, e_p, e_u):\n",
    "        return u - g(phi) - sigma_u * e_u\n",
    "\n",
    "    u       = 2\n",
    "    sigma_u = 1\n",
    "    v_p     = 3\n",
    "    sigma_p = 1\n",
    "    phi     = v_p\n",
    "    e_p     = 0\n",
    "    e_u     = 0\n",
    "    dt      = 0.01\n",
    "    dur     = 5\n",
    "    steps   = int(dur/dt)\n",
    "\n",
    "    trace    = np.zeros((steps, 3))\n",
    "    state    = (phi, e_p, e_u)\n",
    "    trace[0] = np.asarray(state)\n",
    "\n",
    "    for t in range(steps-1):\n",
    "        state += dt * np.array([dphi_dt(*state), dep_dt(*state), deu_dt(*state)])\n",
    "        trace[t+1] = np.asarray(state)\n",
    "\n",
    "    fig = plt.figure(figsize=(4,4), num='Fig 2b')\n",
    "    ax  = fig.add_subplot(1, 1, 1)\n",
    "\n",
    "    ax.plot(np.arange(steps) * dt, trace)\n",
    "    plt.xlabel('time')\n",
    "    plt.ylabel('Activity')\n",
    "    plt.legend([r'$\\phi$', r'$\\varepsilon_p$', r'$\\varepsilon_u$'])\n",
    "    plt.axis([0, dur, -2, 3])\n",
    "\n",
    "fig_2b()"
   ]
  },
  {
   "cell_type": "markdown",
   "metadata": {},
   "source": [
    "Solution to Exercise 3 is shown in Fig. 2(b). The model converges to the same value as in Fig. 2(a), but the convergence is just slower, as the model now includes multiple nodes connected by excitatory and inhibitory connections and such networks have oscillatory tendencies, so these oscillations need to settle for the network to converge. "
   ]
  },
  {
   "cell_type": "markdown",
   "metadata": {},
   "source": [
    "### 2.4. Learning model parameters ###\n",
    "\n",
    "As our imaginary animal perceives food items through its lifetime, it may wish to refine its expectation about typical sizes of food items described by parameters $v_p$ and $\\varSigma_p$, and about the amount of error it makes observing light intensity, described by parameter $\\varSigma_u$. Thus it may wish to update the parameters $v_p$, $\\varSigma_p$, and $\\varSigma_u$ after each stimulus to gradually refine them. \n",
    "\n",
    "We wish to choose the model parameters for which the perceived light intensities $u$ are least surprising, or in other words most expected. Thus we wish to choose parameters that maximize $p(u)$. However, please recall that $p(u)$ is described by a complicated integral of Eq. (5), so it would be difficult to maximize $p(u)$ directly. Nevertheless, it is simple to maximize a related quantity $p(u, \\phi)$, which is the joint probability of sensory input $u$ and our inferred food size $\\phi$. Note that $p(u, \\phi) = p(\\phi)p(u|\\phi)$, so $F = \\ln p(u, \\phi)$, thus maximization of $p(u, \\phi)$ can be achieved by maximizing $F$. A more formal explanation for why the parameters can be optimized by maximizing F will be provided in Section 3. \n",
    "\n",
    "The model parameters can be hence optimized by modifying them proportionally to the gradient of $F$. Starting with the expression in Eq. (7) it is straightforward to find the derivatives of $F$ over $v_p$, $\\varSigma_p$, and $\\varSigma_u$ (TRY IT YOURSELF): \n",
    "\n",
    "\\begin{align*}\n",
    "\\frac{\\partial{F}}{\\partial{v_p}} &= \\frac{\\phi - v_p}{\\varSigma_p} \\tag{15} \\\\\n",
    "\\frac{\\partial{F}}{\\partial{\\varSigma_p}} &= \\frac{1}{2} \\left( \\frac{(\\phi - v_p)^2}{\\varSigma_p^2} - \\frac{1}{\\varSigma_p} \\right) \\tag{16} \\\\\n",
    "\\frac{\\partial{F}}{\\partial{\\varSigma_u}} &= \\frac{1}{2} \\left( \\frac{(u - g(\\phi))^2}{\\varSigma_u^2} - \\frac{1}{\\varSigma_u} \\right) \\tag{17} \\\\ \n",
    "\\end{align*}\n",
    "\n",
    "Let us now provide an intuition for why the parameter update rules have their particular form. We note that since parameters are updated after observing each food item, and different food items observed during animal’s life time have different sizes, the parameters never converge. Nevertheless it is useful to consider the values of parameters for which the expected value of change is 0, as these are the values in vicinity of which the parameters are likely to be. For example, according to Eq. (15), the expected value of change in $v_p$ is $0$ when $\\left<(\\phi - v_p) / \\varSigma_p\\right> = 0$, where $\\left<\\right>$ denotes the expected value over trials. This will happen if $v_p = \\left<\\phi\\right>$, i.e. when $v_p$ is indeed equal to the expected value of $\\phi$. Analogously, the expected value of change in $\\varSigma_p$ is $0$ when:\n",
    "\n",
    "\\begin{equation*}\n",
    "\\left< \\frac{(\\phi - v_p)^2}{\\varSigma_p^2} - \\frac{1}{\\varSigma_p} \\right> = 0.\n",
    "\\tag{18}\n",
    "\\end{equation*}\n",
    "\n",
    "Rearranging the above condition one obtains $\\varSigma_p = \\left<(\\phi - v_p)^2\\right>$, thus the expected value of change in $\\varSigma_p$ is $0$, when $\\varSigma_p$ is equal to the variance of $\\phi$. An analogous analysis can be made for $\\varSigma_u$\n",
    ". \n",
    "Eqs. (15)–(17) for update of model parameters simplify significantly when they are written in terms of prediction errors (TRY IT YOURSELF): \n",
    "\n",
    "\\begin{align*}\n",
    "\\frac{\\partial{F}}{\\partial{v_p}} &= \\varepsilon_p \\tag{19} \\\\\n",
    "\\frac{\\partial{F}}{\\partial{\\varSigma_p}} &= \\frac{1}{2} \\left( \\varepsilon_p^2 - \\varSigma_p^{-1} \\right) \\tag{20} \\\\\n",
    "\\frac{\\partial{F}}{\\partial{\\varSigma_u}} &= \\frac{1}{2} \\left( \\varepsilon_u^2 - \\varSigma_u^{-1} \\right). \\tag{21} \\end{align*}\n",
    "\n",
    "The above rules for update of parameters correspond to very simple synaptic plasticity mechanisms. All rules include only values that can be \"known\" by the synapse, i.e. the activities of pre-synaptic and post-synaptic neurons, and the strengths of the synapse itself. Furthermore, the rules are Hebbian, in the sense that they depend on the products of activity of pre-synaptic and post-synaptic neurons. For example, the change in $v_p$ in Eq. (19) \n",
    "is equal to the product of pre-synaptic activity (i.e. 1) and the post-synaptic activity $\\varepsilon_p$. Similarly, the changes in $\\varSigma$ in Eqs. (20)–(21) depend on the products of pre-synaptic and post-synaptic activities, both equal to $\\varepsilon$.\n",
    "\n",
    "The plasticity rules of Eqs. (20)–(21) also depend on the value of synaptic weights themselves, as they include terms $\\varSigma^{-1}$. For the simple case considered in this section, the synapse \"has access\" to the information on its weight. Moreover, the dependence of synaptic plasticity on initial weights has been seen experimentally (Chen et al., 2013), so we feel it is plausible for the dependence predicted by the model to be present in real synapses. However, when the model is scaled up to include multiple features and sensory inputs in Section 4.1, terms $\\varSigma^{-1}$ will turn into a matrix inverse (in Eqs. (48)–(49)), so the required changes in each weight will depend on the weights of other synapses in the network. Nevertheless, we will show in Section 5 how this problem can be overcome. \n",
    "\n",
    "Finally, we would like to discuss the limits on parameters $\\varSigma$. Although in principle the variance of a random variable can be equal to $0$, if $\\varSigma_p = 0$ or $\\varSigma_u = 0$, then Eq. (13) or (14) would not converge but instead $\\varepsilon_p$ or $\\varepsilon_u$ would diverge to positive or negative infinity. Similarly, if $\\varSigma$ were close to $0$, the convergence would be very slow. To prevent this from happening, the minimum value of $1$ is imposed by Friston (2005) on the estimated variance.$^3$ "
   ]
  },
  {
   "cell_type": "markdown",
   "metadata": {},
   "source": [
    "### 2.5. Learning the relationship between variables ###\n",
    "\n",
    "So far we have assumed for simplicity that the relationship g between the variable being inferred and the stimulus is known. However, in general it may not be known, or may need to be tuned. So we will now consider function $g(v, \\theta)$ that also depends on parameter which we denote by $\\theta$. \n",
    "\n",
    "We will consider two special cases of function $g(v, \\theta)$, where the parameter $\\theta$ has a clear biological interpretation. First, let us consider a simple case of a linear function: $g(v, \\theta) = \\theta v$, as then the model has a straightforward neural implementation. In this case, Eqs. (12)–(14) \n",
    "describing the model simplify to: \n",
    "\n",
    "\\begin{align*}\n",
    "\\dot{\\phi} &= \\theta \\varepsilon_u - \\varepsilon_p \\tag{22}\\\\\n",
    "\\dot{\\varepsilon_p} &= \\phi - v_p - \\varSigma_p \\varepsilon_p \\tag{23} \\\\\n",
    "\\dot{\\varepsilon_u} &= u - \\theta \\phi - \\varSigma_u \\varepsilon_u \\tag{24} \\\\\n",
    "\\end{align*}\n",
    "\n",
    "In this model, nodes $\\phi$ and $\\varepsilon$ simply communicate through connections with weight $\\theta$ as shown in Fig. 4(a). Furthermore, we can also derive the rule for updating the parameter $\\theta$ by finding the gradient of $F$ over $\\theta$, as now function $g$ in Eq. (7) depends on $\\theta$ (TRY IT YOURSELF): \n",
    "\n",
    "\\begin{equation*}\n",
    "\\frac{\\partial{F}}{\\partial{\\theta}} = \\varepsilon_u \\phi.\n",
    "\\tag{25}\n",
    "\\end{equation*}\n",
    "\n",
    "Please note that this rule is again Hebbian, as the synaptic weights encoding $\\theta$ are modified proportionally to the activities of pre-synaptic and post-synaptic neurons (see Fig. 4(a)). "
   ]
  },
  {
   "cell_type": "markdown",
   "metadata": {},
   "source": [
    "<html>\n",
    "    <div class=\"image\">\n",
    "        <img src=\"Bogacz_fig4.png\", width=1000>\n",
    "        <div style=\"margin: 20px 100px 20px 100px\">\n",
    "            Fig. 4. Architectures of models with linear and nonlinear function $g$. Circles and hexagons denote linear and nonlinear nodes respectively. Filled arrows and lines ended with circles denote excitatory and inhibitory connections respectively, and an open arrow denotes a modulatory influence. \n",
    "        </div>\n",
    "    </div>\n",
    "</html>"
   ]
  },
  {
   "cell_type": "markdown",
   "metadata": {},
   "source": [
    "Second, let us consider a case of a nonlinear function$^4$ $g(v, \\theta) = \\theta h(v)$, where $h(v)$ is a nonlinear function that just depends on $v$, as it results in only slightly more complex neural implementation. Furthermore, this situation is relevant to the example of the simple animal considered at the start of this section, as the light is proportional to the area, but the proportionality constant may not be known (this case is also relevant to the network that we will discuss in Section 4.1). In this case, Eqs. (12)–(14) describing the model become: \n",
    "\n",
    "\\begin{align*}\n",
    "\\dot{\\phi} &= \\theta \\varepsilon_u h'(\\phi) - \\varepsilon_p \\tag{26}\\\\\n",
    "\\dot{\\varepsilon_p} &= \\phi - v_p - \\varSigma_p \\varepsilon_p \\tag{27} \\\\\n",
    "\\dot{\\varepsilon_u} &= u - \\theta h(\\phi) - \\varSigma_u \\varepsilon_u \\tag{28} \\\\\n",
    "\\end{align*}\n",
    "\n",
    "A possible network implementing this model is illustrated in Fig. 4(b), which now includes non-linear elements. In particular, the node $\\phi$ sends to node $\\varepsilon_u$ its activity transformed by a non-linear function, i.e. $\\theta h(\\phi)$. One could imagine that this could be implemented by an additional node receiving input from node $\\phi$, transforming it via a non-linear transformation $h$ and sending its output to node $\\varepsilon_u$ via a connection with the weight $\\theta$. Analogously, the input from node $\\varepsilon_u$ to node $\\phi$ needs to be scaled by $\\theta h'(\\phi)$. Again one could imagine that this could be implemented by an additional node receiving input from node $\\phi$, transforming it via a non-linear transformation $h'$ and modulating input received from node $\\epsilon_u$ via a connection with weight $\\theta$ (alternatively, this could be implemented within the node $\\phi$ by making it react to its input differentially depending on its level of activity). The details of the neural implementation of these non-linear transformations depend on the form of function $h$, and would be an interesting direction of the future work. \n",
    "\n",
    "We also note that the update of the parameter $\\theta$, i.e. gradient of $F$ over $\\theta$ becomes: \n",
    "\n",
    "\\begin{equation*}\n",
    "\\frac{\\partial{F}}{\\partial{\\theta}} = \\varepsilon_u h(\\phi).\n",
    "\\tag{29}\n",
    "\\end{equation*}\n",
    "\n",
    "This rule is Hebbian for the top connection labelled by $\\theta$ in Fig. 4(b), as it is a product of activity of the pre-synaptic and post-synaptic nodes. It would be interesting to investigate how such a plasticity rule could be realized for the other connection with the weight of $\\theta$ (from node $\\varepsilon_u$ to $\\phi$). We just note that for this connection the rule also satisfies the constraint of local plasticity (stated in the Introduction), as $\\phi$ fully determines $h(\\phi$), so the change in weight is fully determined by the activity of pre-synaptic and post-synaptic neurons. "
   ]
  },
  {
   "cell_type": "markdown",
   "metadata": {},
   "source": [
    "## 3. Free-energy ##\n",
    "\n",
    "In this section we discuss how the computations in the model relate to a technique of statistical inference involving minimization of free-energy. There are three reasons for describing this relationship. First, it will provide more insight for why the parameters can be optimized by maximization of $F$. Second, the concept of free-energy is critical for understanding of more complex models (Friston et al., 2013), which not only estimate the most likely values of variables, but their distribution. Third, the free-energy is a very interesting concept on its own, and has applications in mathematical psychology (Ostwald, Kirilina, Starke, & Blankenburg, 2014). \n",
    "\n",
    "We now come back to the example of an inference by a simple organism, and discuss how the exact inference described in Section 2.1 can be approximated. As we noted in Section 2.1, the posterior distribution $p(v|u)$ may have a complicated shape, so we will approximate it with another distribution, which we denote $q(v)$. Importantly, we will assume that $q(v)$ has a standard shape, so we will be able to characterize it by parameters of this typical distribution. For example, if we assume that $q(v)$ is normal, then to fully describe it, we can infer just two numbers: its mean and variance, instead of infinitely many numbers potentially required to characterize a distribution of an arbitrary shape. \n",
    "\n",
    "For simplicity, here we will use an even simpler shape of the approximate distribution, namely the delta distribution, which has all its mass cumulated in one point which we denote by $\\phi$ (i.e. the delta distribution is equal to $0$ for all values different from $\\phi$, but its integral is equal to $1$). Thus we will try to infer from observation just one parameter $\\phi$ which will characterize the most likely value of $v$. \n",
    "\n",
    "We now describe what criterion we wish our approximate distribution to satisfy. We will seek the approximate distribution $q(v)$ which is as close as possible to the actual posterior distribution $p(v|u)$. Mathematically, the dissimilarity between two distributions in measured by the Kullback–Leibler divergence defined as: \n",
    "\n",
    "\\begin{equation*}\n",
    "KL(q(v), p(v|u)) = \\int{q(v) \\ln \\frac{q(v)}{p(v|u)} dv}.\n",
    "\\tag{30}\n",
    "\\end{equation*}\n",
    "\n",
    "For readers not familiar with Kullback–Leibler divergence we would like clarify why it is a measure of dissimilarity between the distributions. Please note that if the two distributions $q(v)$ and $p(v|u)$ were identical, the ratio $q(v)/p(v|u)$ would be equal to $1$, so its logarithm would be equal to $0$, and so the whole expression in Eq. (30) \n",
    "would be $0$. The Kullback–Leibler divergence also has a property that the more different the two distributions are, the higher its value is (see Ostwald et al. (2014) for more details). \n",
    "\n",
    "Since we assumed above that our simplified distribution is a delta function, we will simply seek the value of its centre parameter $\\phi$ which minimizes the Kullback–Leibler divergence defined in Eq. (30). \n",
    "\n",
    "It may seem that the minimization of Eq. (30) is still difficult, because to compute term $p(v|u)$ present in Eq. (30) from Bayes’ theorem (Eq. (4)) one needs to compute the difficult normalization integral (Eq. (5)). However, we will now show that there exists another way of finding the approximate distribution $q(v)$ that does not involve the complicated computation of the normalization integral. \n",
    "\n",
    "Substituting the definition of conditional probability $p(v|u) = p(u, v)/p(u)$ into Eq. (30) we obtain: \n",
    "\n",
    "\\begin{align*}\n",
    "KL(q(v), p(v|u)) &= \\int{q(v) \\ln \\frac{q(v)p(u)}{p(u,v)} dv} \\\\\n",
    "&= \\int{q(v) \\ln \\frac{q(v)}{p(u,v)} dv} + \\int{q(v) \\ln p(u) dv} \\\\\n",
    "&= \\int{q(v) \\ln \\frac{q(v)}{p(u,v)} dv} + \\ln p(u) \\\\\n",
    "\\tag{31}\n",
    "\\end{align*}\n",
    "\n",
    "In the transition from the second to the third line we used the fact that $q(v)$ is a probability distribution so its integral is $1$. The integral in the last line of the above equation is called free-energy, and we will denote its negative by $F$, because we will show below, that for certain assumptions the negative free-energy is equal (modulo a constant) to the function $F$ we defined and used in the previous section: \n",
    "\n",
    "\\begin{equation*}\n",
    "F = \\int{q(v) \\ln \\frac{p(u,v)}{q(v)} dv}\n",
    "\\tag{32}\n",
    "\\end{equation*}\n",
    "\n",
    "In the above equation we used the property of logarithms that $- \\ln a/b = \\ln b/a$. So, the negative free-energy is related to the Kullback–Leibler divergence in the following way: \n",
    "\n",
    "\\begin{equation*}\n",
    "KL (q(v), p(v|u)) = -F + \\ln p(u). \n",
    "\\tag{33}\n",
    "\\end{equation*}\n",
    "\n",
    "Now please note that $\\ln p(u)$ does not depend on $\\phi$ (which is a parameter describing $q(v)$), so the value of $\\phi$ that minimizes the distance between $q(v$) and $p(v|u)$ is the same value as that which maximizes $F$. Therefore instead of minimizing the Kullback–Leibler divergence we can maximize $F$, and this will have two benefits: first, as we already mentioned above, $F$ is easier to compute as it does not involve the complicated computation of the normalization term. Second, as we will see later, it will allow us to naturally introduce learning about the parameters of the model. \n",
    "\n",
    "Let us first note that by assuming that $q(v)$ is a delta distribu.tion, the negative free energy simplifies to:\n",
    "\n",
    "\\begin{align*}\n",
    "F &= \\int{q(v) \\ln \\frac{p(u,v)}{q(v)} dv} \\\\\n",
    "&= \\int{q(v) \\ln p(u,v) dv} - \\int{q(v) \\ln q(v) dv} \\\\\n",
    "&= \\ln p(u, \\phi) + C_1.\n",
    "\\tag{34}\n",
    "\\end{align*}\n",
    "\n",
    "In the transition from the first to the second line above we used the property of logarithms $\\ln(a/b) = \\ln a - \\ln b$. In the transition from the second line to the third line we used the property of a delta function $\\delta(x)$ with centre $\\phi$ that for any function $h(x)$, the integral of $\\delta(x)h(x)$ is equal to $h(\\phi)$. Furthermore, since the value of the second integral in the second line of the above equation does not depend on $\\phi$ (so it will cancel when we compute the derivative over $\\phi$) we denote it by a constant $C_1$.\n",
    "\n",
    "Now using $p(u, \\phi) = p(\\phi)p(u|\\phi)$, and ignoring constant $C_1$, we obtain the expression for $F$ we introduced previously in Eq. (6). Thus finding approximate delta distribution $q(v)$ through minimization of free-energy is equivalent to the inference of features in the model described in the previous section. It is worth noting that Eq. (34) states that the best centre for our approximate distribution (i.e. our best guess for the size of the food item) is the value $v = \\phi$ which maximizes the joint probability $p(u, \\phi)$. \n",
    "\n",
    "We now discuss how the concept of free-energy will help us to understand why the parameters of the model can be learnt by maximization of $F$. Recall from Section 2.4 that we wish to find parameters for which the sensory observations are least surprising, i.e. those which maximize $p(u)$. To see the relationship between maximizing $p(u)$ and maximizing $F$, we note that according to Eq. (33), $p(u)$ is related to the negative free-energy in the following way: \n",
    "\n",
    "\\begin{equation*}\n",
    "\\ln p(u) = F + KL (q(v), p(v|u)). \n",
    "\\tag{35}\n",
    "\\end{equation*}\n",
    "\n",
    "Since Kullback–Leibler divergence is non-negative, $F$ is a lower bound on $\\ln p(u)$, thus by maximizing $$F we maximize the lower bound on $\\ln p(u)$. So in summary, by maximizing $F$ we can both find an approximate distribution $q(v)$ (as discussed earlier), and optimize model parameters. However, there is a twist here: we wish to maximize the average of $p(u)$ across trials (or here observations of different food items). Thus on each trial we need to modify the model parameters just a little bit (rather than until minimum of free energy is reached as was the case for $\\phi$). "
   ]
  },
  {
   "cell_type": "markdown",
   "metadata": {},
   "source": [
    "## 4. Scaling up the model of perception ##\n",
    "In this section we will show how the model scales up to the networks inferring multiple features and involving hierarchy. "
   ]
  },
  {
   "cell_type": "markdown",
   "metadata": {},
   "source": [
    "<html>\n",
    "    <div class=\"image\">\n",
    "        <img src=\"Bogacz_tab1.png\", width=800>\n",
    "    </div>\n",
    "</html>"
   ]
  },
  {
   "cell_type": "markdown",
   "metadata": {},
   "source": [
    "### 4.1. Increasing the dimension of sensory input ###\n",
    "\n",
    "The model naturally scales up to the case of multiple sensory inputs from which we estimate multiple variables. Such scaled model could be used to describe information processing within a cortical area (e.g. primary visual cortex) which infers multiple features (e.g. edges at different position and orientation) on the basis of multiple inputs (e.g. information from multiple retinal receptors preprocessed by the thalamus). This section shows that when the dimensionality of inputs and features is increased, the dynamics of nodes in the networks and synaptic plasticity are described by the same rules as in Section 2, just generalized to multiple dimensions. \n",
    "\n",
    "The only complication in explaining this case lies in the necessity to use matrix notation, so let us make this notation very explicit: we will denote single numbers in italic (e.g. $x$), column vectors by bar (e.g. $\\bar{x})$, and matrices in bold (e.g. $\\mathbf{x}$). So we assume the animal has observed sensory input $\\bar{u}$ and estimates the most likely values $\\bar{\\phi}$ of variables $\\bar{v}$. We further assume that the animal has prior expectation that the variables $\\bar{v}$ come from multivariate normal distribution with mean $\\bar{v_p}$ and covariance matrix $\\mathbf{\\Sigma_p}$, i.e. $p(\\bar{v}) = f (\\bar{v}; \\bar{v}_p, \\mathbf{\\Sigma_p})$ where: \n",
    "\n",
    "\\begin{equation*}\n",
    "f (\\bar{x}; \\bar{µ}, \\mathbf{\\Sigma}) = \\frac{1}{\\sqrt{(2\\pi)^N |\\mathbf{\\Sigma}|}} \\exp \\left( -\\frac{1}{2}(\\bar{x}-\\bar{µ})^T \\mathbf{\\Sigma}^{-1} (\\bar{x}-\\bar{µ}) \\right).\n",
    "\\tag{36}\n",
    "\\end{equation*}\n",
    "\n",
    "In the above equation $N$ denotes the length of vector $\\bar{x}$, and $|\\mathbf{\\Sigma}|$ denotes the determinant of matrix $\\mathbf{\\Sigma}$. Analogously, the probability of observing sensory input given the values of variables is given by $p(\\bar{u}|\\bar{v}) = f (\\bar{u}; g(\\bar{v}, \\mathbf{\\Theta}), \\mathbf{\\Sigma_u})$, where $\\mathbf{\\Theta}$ are parameters of function $g$. We denote these parameters by a matrix $\\mathbf{\\Theta}$, as we will consider a generalization of the function $g$ discussed in Section 2.5, i.e. $g(\\bar{v}, \\mathbf{\\Theta}) = \\mathbf{\\Theta}h(\\bar{v})$, where each element $i$ of vector $h(\\bar{v})$ depends only on $v_i$. This function corresponds to an assumption often made by models of feature extraction (Bell & Sejnowski, 1995; Olshausen & Field, 1995), that stimuli are formed by a linear combination of features.$^5$ Moreover, such a function $g$ can be easily computed as it is equal to an input to a layer of neurons from another layer with activity $h(\\bar{v})$ via connections with strength $\\mathbf{\\Theta}$. \n",
    "\n",
    "We can state the negative free energy, analogously as for the simple model considered in Eq. (7) (TRY IT YOURSELF): \n",
    "\n",
    "\\begin{align*}\n",
    "F &= \\ln p(\\bar{\\phi}) + \\ln p(\\bar{u}|\\bar{\\phi}) \\\\\n",
    "&= \\frac{1}{2} \\left( - \\ln |\\mathbf{\\Sigma_p}| - (\\bar{\\phi} - \\bar{v}_p)^T \\mathbf{\\Sigma_p}^{-1} (\\bar{\\phi} - \\bar{v}_p) - \\ln |\\mathbf{\\Sigma_u}| - (\\bar{u} - g(\\bar{\\phi}, \\mathbf{\\Theta}))^T \\mathbf{\\Sigma_u}^{-1} (\\bar{u} - g(\\bar{\\phi}, \\mathbf{\\Theta})) \\right) + C.\n",
    "\\tag{37} \n",
    "\\end{align*}\n",
    "\n",
    "Analogously as before, to find the vector of most likely values of features $\\bar{\\phi}$, we will calculate the gradient (vector of derivatives $\\partial{F}/\\partial{\\phi_i}$) which we will denote by $\\partial{F}/\\partial{\\bar{\\phi}}$. We will use the elegant property that rules for computation of derivatives generalize to vectors and matrices. To get an intuition for these rules we recommend the following exercise that shows how the rule $\\partial{x^2}/\\partial{x} = 2x$ generalizes to vectors."
   ]
  },
  {
   "cell_type": "markdown",
   "metadata": {},
   "source": [
    "**Exercise 4.** *Show that for any vector $\\bar{x}$ the gradient of function $y = \\bar{x}^T \\bar{x}$ is equal to: $\\partial{y}/\\partial{\\bar{x}} = 2\\bar{x}$.* \n",
    "\n",
    "*It is easiest to consider a vector of two numbers (analogous can be shown for longer vectors):*\n",
    "\n",
    "\\begin{equation*}\n",
    "x =\n",
    "\\begin{bmatrix}\n",
    "x1 \\\\\n",
    "x2\n",
    "\\end{bmatrix}.\n",
    "\\end{equation*}\n",
    "\n",
    "*Then $y = x^T x = x_1^2 + x_2^2$, so the gradient is equal to:*\n",
    "\n",
    "\\begin{equation*}\n",
    "\\frac{y}{\\bar{x}} =\n",
    "\\begin{bmatrix}\n",
    "\\frac{\\partial{y}}{\\partial{x_1}} \\\\\n",
    "\\frac{\\partial{y}}{\\partial{x_2}} \n",
    "\\end{bmatrix} =\n",
    "\\begin{bmatrix}\n",
    "2 x_1 \\\\\n",
    "2 x_2\n",
    "\\end{bmatrix} =\n",
    "2 \\bar{x}.\n",
    "\\end{equation*}"
   ]
  },
  {
   "cell_type": "markdown",
   "metadata": {},
   "source": [
    "Using an analogous method as that in the solution to Exercise 4 (at the end of the paper) one can see that several other rules generalize as summarized in Table 1. These rules can be applied for symmetric matrices, but since $\\mathbf{\\Sigma}$ are covariance matrices, they are symmetric, so we can use the top two rules in Table 1 to compute the gradient of the negative free energy (TRY IT YOURSELF): \n",
    "\n",
    "\\begin{equation*}\n",
    "\\frac{\\partial{F}}{\\partial{\\bar{\\phi}}} = \\mathbf{\\Sigma_p}^{-1} (\\bar{\\phi} - \\bar{v}_p) + \\frac{\\partial{g(\\bar{\\phi}, \\mathbf{\\Theta}})^T} {\\partial{\\bar{\\phi}}} \\mathbf{\\Sigma_u}^{-1} (\\bar{u} - g(\\bar{\\phi}, \\mathbf{\\Theta}))\n",
    "\\tag{38} \n",
    "\\end{equation*} \n",
    "\n",
    "In the above equation, terms appear which are generalizations of the prediction errors we defined for the simple models: \n",
    "\n",
    "\\begin{align*}\n",
    "\\bar{\\varepsilon}_p &= \\mathbf{\\Sigma_p}^{-1} (\\bar{\\phi} - \\bar{v}_p) \\tag{39} \\\\ \n",
    "\\bar{\\varepsilon}_u &= \\mathbf{\\Sigma_u}^{-1} (\\bar{u} - g(\\bar{\\phi}, \\mathbf{\\Theta})) \\tag{40} \n",
    "\\end{align*}\n",
    "\n",
    "With the error terms defined, the equation describing the update of $\\bar{\\phi}$. becomes: \n",
    "\n",
    "\\begin{equation*}\n",
    "\\dot{\\bar{\\phi}} = -\\bar{\\varepsilon}_p - \\frac{\\partial{g(\\bar{\\phi}, \\mathbf{\\Theta}})^T} {\\partial{\\bar{\\phi}}} \\bar{\\varepsilon}_u.\n",
    "\\tag{41}\n",
    "\\end{equation*} \n",
    "\n",
    "The partial derivative term in the above equation is a matrix that contains in each entry with co-ordinates $(i, j)$ the derivative of element $i$ of vector $g(\\bar{\\phi}, \\mathbf{\\Theta})$ over $\\phi_j$. To see how the above equation simplifies for our choice of function $g$, it is helpful without loss of generality to consider a case of $2$ features being estimated from $2$ stimuli. Then: \n",
    "\n",
    "\\begin{equation*}\n",
    "g(\\bar{\\phi}, \\mathbf{\\Theta}) = \\mathbf{\\Theta} h(\\bar{\\phi}) = \n",
    "\\begin{bmatrix}\n",
    "\\theta_{1,1} h(\\phi_1) + \\theta_{1,2} h(\\phi_2) \\\\\n",
    "\\theta_{2,1} h(\\phi_1) + \\theta_{2,2} h(\\phi_2) \\\\\n",
    "\\end{bmatrix}\n",
    "\\tag{42}\n",
    "\\end{equation*}\n",
    "\n",
    "Hence we can find the derivatives of elements of the above vector over the elements of vector .: \n",
    "\n",
    "\\begin{equation*}\n",
    "\\frac{\\partial{g(\\bar{\\phi}, \\mathbf{\\Theta})}}{\\partial{\\bar{\\phi}}} = \n",
    "\\begin{bmatrix}\n",
    "\\theta_{1,1} h'(\\phi_1) + \\theta_{1,2} h'(\\phi_2) \\\\\n",
    "\\theta_{2,1} h'(\\phi_1) + \\theta_{2,2} h'(\\phi_2) \\\\\n",
    "\\end{bmatrix}\n",
    "\\tag{43}\n",
    "\\end{equation*}\n",
    "\n",
    "Now we can see that Eq. (41) can be written as: \n",
    "\n",
    "\\begin{equation*}\n",
    "\\dot{\\bar{\\phi}} = -\\bar{\\varepsilon}_p - h'(\\bar{\\phi}) \\times \\mathbf{\\Theta}^T \\bar{\\varepsilon}_u.\n",
    "\\tag{44}\n",
    "\\end{equation*} \n",
    "\n",
    "In the above equation $\\times$ denotes element by element multiplication, so term $h'(\\bar{\\phi}) \\times \\mathbf{\\Theta}^T \\bar{\\epsilon}_u$ is a vector where its element $i$ is equal to a product of $h'(\\bar{\\phi})$ and element $i$ of vector $\\mathbf{\\Theta}^T \\bar{\\epsilon}_u$. Analogously, as for the simple model, prediction errors could be computed by nodes with the following dynamics: \n",
    "\n",
    "\\begin{align*}\n",
    "\\dot{\\bar{\\varepsilon}}_p &= \\bar{\\phi} - \\bar{v}_p - \\mathbf{\\Sigma_p}\\bar{\\varepsilon}_p \\tag{45} \\\\\n",
    "\\dot{\\bar{\\varepsilon}}_u &= \\bar{u} - \\mathbf{\\Theta}h(\\bar{\\phi}) - \\mathbf{\\Sigma_u}\\bar{\\varepsilon}_u. \\tag{46}\n",
    "\\end{align*}\n",
    "\n",
    "It is easy to see that Eqs. (45)–(46) have fixed points at values given by Eqs. (39)–(40) by setting the left hand sides of Eqs. (45)–(46) to 0. The architecture of the network with the dynamics described by Eqs. (44)–(46) is shown in Fig. 5, and it is analogous to that in Fig. 4(b). "
   ]
  },
  {
   "cell_type": "markdown",
   "metadata": {},
   "source": [
    "<html>\n",
    "    <div class=\"image\">\n",
    "        <img src=\"Bogacz_fig5.png\", width=800>\n",
    "        <div style=\"margin: 20px 100px 20px 100px\">\n",
    "            Fig. 5. The architecture of the model inferring 2 features from 2 sensory stimuli. Notation as in Fig. \n",
    "4(b). To help identify which connections are intrinsic and extrinsic to each level of hierarchy, the nodes and their projections in each level of hierarchy are shown in green, blue and purple respectively. \n",
    "        </div>\n",
    "    </div>\n",
    "</html>"
   ]
  },
  {
   "cell_type": "markdown",
   "metadata": {},
   "source": [
    "Analogously as for the simple model, one can also find the rules for updating parameters encoded in synaptic connections, which generalize the rules presented previously. In particular, using the top formula in Table 1 it is easy to see that: \n",
    "\n",
    "\\begin{equation*}\n",
    "\\frac{\\partial{F}}{\\partial{\\bar{v}}_p} = \\bar{\\varepsilon}_p\n",
    "\\tag{47}\n",
    "\\end{equation*}\n",
    "\n",
    "Using the two bottom formulas in Table 1 one can find the rules for update of covariance matrices (TRY IT YOURSELF): \n",
    "\n",
    "\\begin{align*}\n",
    "\\frac{\\partial{F}}{\\partial{\\mathbf{\\Sigma_p}}} &= \\frac{1}{2} \\left( \\bar{\\varepsilon}_p \\bar{\\varepsilon}_p^T - \\mathbf{\\Sigma_p}^{-1} \\right) \\tag{48} \\\\\n",
    "\\frac{\\partial{F}}{\\partial{\\mathbf{\\Sigma_u}}} &= \\frac{1}{2} \\left( \\bar{\\varepsilon}_u \\bar{\\varepsilon}_u^T - \\mathbf{\\Sigma_u}^{-1} \\right) \\tag{49}\n",
    "\\end{align*}\n",
    "\n",
    "The derivation of update of parameters $\\mathbf{\\Theta}$ is a bit more tedious, but we show in Appendix B that: \n",
    "\n",
    "\\begin{equation*}\n",
    "\\frac{\\partial{F}}{\\partial{\\mathbf{\\Theta}}} = \\bar{\\varepsilon}_u h(\\bar{\\phi})^T.\n",
    "\\tag{50}\n",
    "\\end{equation*}\n",
    "\n",
    "The above plasticity rules of Eqs. (47)–(50) are Hebbian in the same sense they were for the simple model—for example Eq. (48) implies that $\\varSigma_{p,i,j}$ should be updated proportionally to $\\varepsilon_{p,i} \\varepsilon_{p,j}$, i.e. to the product of activity of pre-synaptic and post-synaptic neurons. However, the rules of update of covariance matrices of Eqs. (48)–(49) contain matrix inverses $\\mathbf{\\Sigma}^{-1}$. The value of each entry in matrix inverse depends on all matrix elements, so it is difficult how it can be \"known\" by a synapse that encodes just a single element. Nevertheless, we will show in Section 5 how the model can be extended to satisfy the constraint of local plasticity. "
   ]
  },
  {
   "cell_type": "markdown",
   "metadata": {},
   "source": [
    "<html>\n",
    "    <div class=\"image\">\n",
    "        <img src=\"Bogacz_fig6.png\", width=1000>\n",
    "        <div style=\"margin: 20px 100px 20px 100px\">\n",
    "            Fig. 6. (a) The architecture of the model including multiple layers. For simplicity only the first two layers are shown. Notation as in Fig. 5. (b) Extrinsic connectivity of cortical layers. \n",
    "        </div>\n",
    "    </div>\n",
    "</html>"
   ]
  },
  {
   "cell_type": "markdown",
   "metadata": {},
   "source": [
    "### 4.2. Introducing hierarchy ###\n",
    "Sensory cortical areas are organized hierarchically, such that areas in lower levels of hierarchy (e.g. primary visual cortex) infer presence of simple features of stimuli (e.g. edges), on the basis of which the sensory areas in higher levels of hierarchy infer presence of more and more complex features. It is straightforward to generalize the model from 2 layers to multiple layers. In such generalized model the rules describing dynamics of neurons and plasticity of synapses remain exactly the same, and only notation has to be modified to describe presence of multiple layers of hierarchy. \n",
    "\n",
    "We assume that the expected value of activity in one layer $v_i$ depends on the activity in the next layer $v_{i+1}$:\n",
    "\n",
    "\\begin{align*}\n",
    "E(\\bar{u}) &= g_1(\\bar{v}_2, \\mathbf{\\Theta_1}) \\tag{51} \\\\ \n",
    "E(\\bar{v}_2) &= g_2(\\bar{v}_3, \\mathbf{\\Theta_2}) \\\\\n",
    "E(\\bar{v}_3) &= \\;.... \n",
    "\\end{align*}\n",
    "\n",
    "To simplify the notation we could denote $u$ by $v_1$, and then the likelihood of activity in layer $i$ becomes: \n",
    "\n",
    "\\begin{equation*}\n",
    "p(\\bar{v}_i|\\bar{v}_{i+1}) = f (\\bar{v}_i; g_i(\\bar{v}_{i+1}, \\mathbf{\\Theta_i}), \\mathbf{\\Sigma_i}). \n",
    "\\tag{52}\n",
    "\\end{equation*}\n",
    "\n",
    "In this model, $\\mathbf{\\Sigma_i}$ parametrize the covariance between features in each level, and $\\mathbf{\\Theta_i}$ parametrize how the mean value of features in one level depends on the next. Let us assume the same form of function $g$ as before, i.e. $g_i(\\bar{v}_{i+1}, \\mathbf{\\Theta_i}) = \\mathbf{\\Theta_i} h(\\bar{v}_{i+1})$. By analogy to the model described in the previous subsection, one can see that inference of the features in all layers on the basis of sensory input can be achieved in the network shown in Fig. 6(a). In this network the dynamics of the nodes are described by: \n",
    "\n",
    "\\begin{align*}\n",
    "\\dot{\\bar{\\phi}}_i &= -\\bar{\\varepsilon}_i + h'(\\bar{\\phi}_i) \\times \\mathbf{\\Theta}_{i-1}^T \\bar{\\varepsilon}_{i-1}\n",
    "\\tag{53} \\\\\n",
    "\\dot{\\bar{\\varepsilon}}_i &= \\bar{\\phi}_i - \\mathbf{\\Theta}_i h(\\bar{\\phi}_{i+1}) - \\mathbf{\\Sigma_i} \\bar{\\varepsilon}_i. \\tag{54}\n",
    "\\end{align*}\n",
    "\n",
    "Furthermore, by analogy to the previous section, the rules for modifying synaptic connections in the model become: \n",
    "\n",
    "\\begin{align*}\n",
    "\\frac{\\partial{F}}{\\partial{\\mathbf{\\Sigma_i}}} &= \\frac{1}{2} \\left( \\bar{\\varepsilon}_i \\bar{\\varepsilon}_i^T - \\mathbf{\\Sigma_i}^{-1} \\right) \\tag{55} \\\\\n",
    "\\frac{\\partial{F}}{\\partial{\\mathbf{\\Theta_i}}} &= \\bar{\\varepsilon}_i h(\\bar{\\phi}_{i+1})^T. \\tag{56}\n",
    "\\end{align*}\n",
    "\n",
    "The hierarchical structure of the model in Fig. 6(a) parallels the hierarchical structure of the cortex. Furthermore, it is worth noting that different layers within the cortex communicate with higher and lower sensory areas (as illustrated schematically in Fig. 6(b)), which parallel the fact that different nodes in the model communicate with other levels of hierarchy (Fig. 6(a)). "
   ]
  },
  {
   "cell_type": "markdown",
   "metadata": {},
   "source": [
    "<html>\n",
    "    <div class=\"image\">\n",
    "        <img src=\"Bogacz_fig7.png\", width=600>\n",
    "        <div style=\"margin: 20px 100px 20px 100px\">\n",
    "            Fig. 7. Prediction error networks that can learn the uncertainty parameter with local plasticity. Notation as in Fig. 4(b). (a) Single node. (b) Multiple nodes for multidimensional features.\n",
    "        </div>\n",
    "    </div>\n",
    "</html>"
   ]
  },
  {
   "cell_type": "markdown",
   "metadata": {},
   "source": [
    "## 5. Local plasticity ##\n",
    "\n",
    "The plasticity rules for synapses encoding matrix $\\mathbf{\\Sigma}$ (describing the variance and co-variance of features or sensory inputs) introduced in the previous section (Eqs. (48), (49) and (55)) include terms equal to the matrix inverse $\\mathbf{\\Sigma}^{-1}$ Computing each element of the inverse $\\mathbf{\\Sigma}^{-1}$ requires not only the knowledge of the corresponding element of $\\mathbf{\\Sigma}$, but also of other elements. For example, in a case of 2-dimensional vector $\\bar{u}$, the update rule for the synaptic connection encoding $\\varSigma_{u,1,1}$ (Eq. (49)) requires the computation of $\\varSigma_{u,1,1}^{-1} = \\varSigma_{u,2,2}/|\\mathbf{\\Sigma_u}|$. Hence the change of synaptic weight $\\varSigma_{u,1,1}$ depends on the value of the weight $\\varSigma_{u,2,2}$, but these are the weights of connections between different neurons (see Fig. 5), thus the update rule violates the principle of the local plasticity stated in the Introduction. Nevertheless, in this section we show that by slightly modifying the architecture of the network computing prediction errors, the need for computing matrix inverses in the plasticity rules disappears. In other words, we present an extension of the model from the previous section in which learning the values of parameters $\\varSigma$ satisfies the constraint of local plasticity. To make the description as easy to follow as possible, we start with considering the case of single sensory input and single feature on each level, and then generalize it to increased dimension of inputs and features. "
   ]
  },
  {
   "cell_type": "markdown",
   "metadata": {},
   "source": [
    "### 5.1. Learning variance of a single prediction error node ###\n",
    "\n",
    "Instead of considering the whole model we now focus on computations in a single node computing prediction error. In the model we wish the prediction error on each level to converge to: \n",
    "\n",
    "\\begin{equation*}\n",
    "\\varepsilon_i = \\frac{\\phi_i - g_i(\\phi_{i+1})}{\\varSigma_i} \n",
    "\\tag{57}\n",
    "\\end{equation*}\n",
    "\n",
    "In the above equation $\\varSigma_i$ is the variance of feature $\\phi_i$ (around the mean predicted by the level above): \n",
    "\n",
    "\\begin{equation*}\n",
    "\\varSigma_i = \\left<(\\phi_i - g_i(\\phi_{i+1})^2)\\right>\n",
    "\\tag{58}\n",
    "\\end{equation*}\n",
    "\n",
    "A sample architecture of the model that can achieve this computation with local plasticity is shown in Fig. 7(a). It includes an additional inhibitory inter-neuron $e_i$ which is connected to the prediction error node, and receives input from it via the connection with weight encoding $\\varSigma_i$. The dynamics of this model is described by the following set of equations: \n",
    "\n",
    "\\begin{align*}\n",
    "\\dot{\\varepsilon}_i &= \\phi_i - g_i(\\phi_{i+1}) - e_i \\tag{59} \\\\\n",
    "\\dot{e}_i &= \\varSigma_i \\varepsilon_i - e_i \\tag{60}\n",
    "\\end{align*}\n",
    "\n",
    "The levels of activity at the fixed point can be found by setting the left hand sides of Eqs. (59)–(60) \n",
    "to $0$ and solving the resulting set of simultaneous equations (TRY IT YOURSELF): \n",
    "\n",
    "\\begin{align*}\n",
    "\\varepsilon_i &= \\frac{\\phi_i - g_i(\\phi_{i+1})}{\\varSigma_i} \\tag{61} \\\\\n",
    "e_i &= \\phi_i - g_i(\\phi_{i+1}) \\tag{62}\n",
    "\\end{align*}\n",
    "\n",
    "Thus we see that the prediction error node has a fixed point at the desired value (cf. Eq. (57)). Let us now consider the following rule for plasticity of the connection encoding $\\varSigma_i$: \n",
    "\n",
    "\\begin{equation*}\n",
    "\\Delta \\varSigma_i = \\alpha(\\varepsilon_i e_i - 1). \n",
    "\\tag{63}\n",
    "\\end{equation*}\n",
    "\n",
    "According to this rule the weight is modified proportionally to the product of activities of pre-synaptic and post-synaptic neurons decreased by a constant, with a learning rate $\\alpha$. To analyse to what values this rule converges, we note that the expected change is equal to $0$ when: \n",
    "\n",
    "\\begin{equation*}\n",
    "\\left<\\varepsilon_i e_i - 1 \\right> = 0. \n",
    "\\tag{64} \n",
    "\\end{equation*}\n",
    "\n",
    "Substituting Eqs. (61)–(62) into the above equation and rearranging terms we obtain: \n",
    "\n",
    "\\begin{equation*}\n",
    "\\frac{\\left< \\phi_i - g_i(\\phi_{i+1})^2 \\right>}{\\varSigma_i} = 1.\n",
    "\\tag{65}\n",
    "\\end{equation*}\n",
    "\n",
    "Solving the above equation for $\\varSigma_i$ we obtain Eq. (58). Thus in summary the network in Fig. 7(a) computes the prediction  error and learns the variance of the corresponding feature with a local Hebbian plasticity rule. To gain more intuition for how this model works we suggest the following exercise. \n",
    "\n",
    "**Exercise 5.** *Simulate learning of variance $\\varSigma_i$ over trials. For simplicity, only simulate the network described by Eqs. (59)–(60), and assume that variables $\\phi$ are constant. On each trial generate input $\\phi_i$ from a normal distribution with mean $5$ and variance $2$, and set $g_i(\\phi_{i+1}) = 5$ (so that the upper level correctly predicts the mean of $\\phi_i$). Simulate the network for $20$ time units, and then update weight $\\varSigma_i$ with learning rate $\\alpha = 0.01$. Simulate $1000$ trials and plot how $\\varSigma_i$ changes across trials.*"
   ]
  },
  {
   "cell_type": "markdown",
   "metadata": {},
   "source": [
    "<html>\n",
    "<hr style=\"height:2px;border:none;color:#228;background-color:#228;\" />\n",
    "<span style=\"color:#228\">\n",
    "<p><i>I've made the simulation 3000 trials long to show the longer term stability of the weight.</i>\n",
    "</span>\n",
    "<hr style=\"height:2px;border:none;color:#228;background-color:#228;\" />\n",
    "</html>"
   ]
  },
  {
   "cell_type": "code",
   "execution_count": 5,
   "metadata": {},
   "outputs": [
    {
     "data": {
      "application/javascript": [
       "/* Put everything inside the global mpl namespace */\n",
       "window.mpl = {};\n",
       "\n",
       "\n",
       "mpl.get_websocket_type = function() {\n",
       "    if (typeof(WebSocket) !== 'undefined') {\n",
       "        return WebSocket;\n",
       "    } else if (typeof(MozWebSocket) !== 'undefined') {\n",
       "        return MozWebSocket;\n",
       "    } else {\n",
       "        alert('Your browser does not have WebSocket support.' +\n",
       "              'Please try Chrome, Safari or Firefox ≥ 6. ' +\n",
       "              'Firefox 4 and 5 are also supported but you ' +\n",
       "              'have to enable WebSockets in about:config.');\n",
       "    };\n",
       "}\n",
       "\n",
       "mpl.figure = function(figure_id, websocket, ondownload, parent_element) {\n",
       "    this.id = figure_id;\n",
       "\n",
       "    this.ws = websocket;\n",
       "\n",
       "    this.supports_binary = (this.ws.binaryType != undefined);\n",
       "\n",
       "    if (!this.supports_binary) {\n",
       "        var warnings = document.getElementById(\"mpl-warnings\");\n",
       "        if (warnings) {\n",
       "            warnings.style.display = 'block';\n",
       "            warnings.textContent = (\n",
       "                \"This browser does not support binary websocket messages. \" +\n",
       "                    \"Performance may be slow.\");\n",
       "        }\n",
       "    }\n",
       "\n",
       "    this.imageObj = new Image();\n",
       "\n",
       "    this.context = undefined;\n",
       "    this.message = undefined;\n",
       "    this.canvas = undefined;\n",
       "    this.rubberband_canvas = undefined;\n",
       "    this.rubberband_context = undefined;\n",
       "    this.format_dropdown = undefined;\n",
       "\n",
       "    this.image_mode = 'full';\n",
       "\n",
       "    this.root = $('<div/>');\n",
       "    this._root_extra_style(this.root)\n",
       "    this.root.attr('style', 'display: inline-block');\n",
       "\n",
       "    $(parent_element).append(this.root);\n",
       "\n",
       "    this._init_header(this);\n",
       "    this._init_canvas(this);\n",
       "    this._init_toolbar(this);\n",
       "\n",
       "    var fig = this;\n",
       "\n",
       "    this.waiting = false;\n",
       "\n",
       "    this.ws.onopen =  function () {\n",
       "            fig.send_message(\"supports_binary\", {value: fig.supports_binary});\n",
       "            fig.send_message(\"send_image_mode\", {});\n",
       "            if (mpl.ratio != 1) {\n",
       "                fig.send_message(\"set_dpi_ratio\", {'dpi_ratio': mpl.ratio});\n",
       "            }\n",
       "            fig.send_message(\"refresh\", {});\n",
       "        }\n",
       "\n",
       "    this.imageObj.onload = function() {\n",
       "            if (fig.image_mode == 'full') {\n",
       "                // Full images could contain transparency (where diff images\n",
       "                // almost always do), so we need to clear the canvas so that\n",
       "                // there is no ghosting.\n",
       "                fig.context.clearRect(0, 0, fig.canvas.width, fig.canvas.height);\n",
       "            }\n",
       "            fig.context.drawImage(fig.imageObj, 0, 0);\n",
       "        };\n",
       "\n",
       "    this.imageObj.onunload = function() {\n",
       "        fig.ws.close();\n",
       "    }\n",
       "\n",
       "    this.ws.onmessage = this._make_on_message_function(this);\n",
       "\n",
       "    this.ondownload = ondownload;\n",
       "}\n",
       "\n",
       "mpl.figure.prototype._init_header = function() {\n",
       "    var titlebar = $(\n",
       "        '<div class=\"ui-dialog-titlebar ui-widget-header ui-corner-all ' +\n",
       "        'ui-helper-clearfix\"/>');\n",
       "    var titletext = $(\n",
       "        '<div class=\"ui-dialog-title\" style=\"width: 100%; ' +\n",
       "        'text-align: center; padding: 3px;\"/>');\n",
       "    titlebar.append(titletext)\n",
       "    this.root.append(titlebar);\n",
       "    this.header = titletext[0];\n",
       "}\n",
       "\n",
       "\n",
       "\n",
       "mpl.figure.prototype._canvas_extra_style = function(canvas_div) {\n",
       "\n",
       "}\n",
       "\n",
       "\n",
       "mpl.figure.prototype._root_extra_style = function(canvas_div) {\n",
       "\n",
       "}\n",
       "\n",
       "mpl.figure.prototype._init_canvas = function() {\n",
       "    var fig = this;\n",
       "\n",
       "    var canvas_div = $('<div/>');\n",
       "\n",
       "    canvas_div.attr('style', 'position: relative; clear: both; outline: 0');\n",
       "\n",
       "    function canvas_keyboard_event(event) {\n",
       "        return fig.key_event(event, event['data']);\n",
       "    }\n",
       "\n",
       "    canvas_div.keydown('key_press', canvas_keyboard_event);\n",
       "    canvas_div.keyup('key_release', canvas_keyboard_event);\n",
       "    this.canvas_div = canvas_div\n",
       "    this._canvas_extra_style(canvas_div)\n",
       "    this.root.append(canvas_div);\n",
       "\n",
       "    var canvas = $('<canvas/>');\n",
       "    canvas.addClass('mpl-canvas');\n",
       "    canvas.attr('style', \"left: 0; top: 0; z-index: 0; outline: 0\")\n",
       "\n",
       "    this.canvas = canvas[0];\n",
       "    this.context = canvas[0].getContext(\"2d\");\n",
       "\n",
       "    var backingStore = this.context.backingStorePixelRatio ||\n",
       "\tthis.context.webkitBackingStorePixelRatio ||\n",
       "\tthis.context.mozBackingStorePixelRatio ||\n",
       "\tthis.context.msBackingStorePixelRatio ||\n",
       "\tthis.context.oBackingStorePixelRatio ||\n",
       "\tthis.context.backingStorePixelRatio || 1;\n",
       "\n",
       "    mpl.ratio = (window.devicePixelRatio || 1) / backingStore;\n",
       "\n",
       "    var rubberband = $('<canvas/>');\n",
       "    rubberband.attr('style', \"position: absolute; left: 0; top: 0; z-index: 1;\")\n",
       "\n",
       "    var pass_mouse_events = true;\n",
       "\n",
       "    canvas_div.resizable({\n",
       "        start: function(event, ui) {\n",
       "            pass_mouse_events = false;\n",
       "        },\n",
       "        resize: function(event, ui) {\n",
       "            fig.request_resize(ui.size.width, ui.size.height);\n",
       "        },\n",
       "        stop: function(event, ui) {\n",
       "            pass_mouse_events = true;\n",
       "            fig.request_resize(ui.size.width, ui.size.height);\n",
       "        },\n",
       "    });\n",
       "\n",
       "    function mouse_event_fn(event) {\n",
       "        if (pass_mouse_events)\n",
       "            return fig.mouse_event(event, event['data']);\n",
       "    }\n",
       "\n",
       "    rubberband.mousedown('button_press', mouse_event_fn);\n",
       "    rubberband.mouseup('button_release', mouse_event_fn);\n",
       "    // Throttle sequential mouse events to 1 every 20ms.\n",
       "    rubberband.mousemove('motion_notify', mouse_event_fn);\n",
       "\n",
       "    rubberband.mouseenter('figure_enter', mouse_event_fn);\n",
       "    rubberband.mouseleave('figure_leave', mouse_event_fn);\n",
       "\n",
       "    canvas_div.on(\"wheel\", function (event) {\n",
       "        event = event.originalEvent;\n",
       "        event['data'] = 'scroll'\n",
       "        if (event.deltaY < 0) {\n",
       "            event.step = 1;\n",
       "        } else {\n",
       "            event.step = -1;\n",
       "        }\n",
       "        mouse_event_fn(event);\n",
       "    });\n",
       "\n",
       "    canvas_div.append(canvas);\n",
       "    canvas_div.append(rubberband);\n",
       "\n",
       "    this.rubberband = rubberband;\n",
       "    this.rubberband_canvas = rubberband[0];\n",
       "    this.rubberband_context = rubberband[0].getContext(\"2d\");\n",
       "    this.rubberband_context.strokeStyle = \"#000000\";\n",
       "\n",
       "    this._resize_canvas = function(width, height) {\n",
       "        // Keep the size of the canvas, canvas container, and rubber band\n",
       "        // canvas in synch.\n",
       "        canvas_div.css('width', width)\n",
       "        canvas_div.css('height', height)\n",
       "\n",
       "        canvas.attr('width', width * mpl.ratio);\n",
       "        canvas.attr('height', height * mpl.ratio);\n",
       "        canvas.attr('style', 'width: ' + width + 'px; height: ' + height + 'px;');\n",
       "\n",
       "        rubberband.attr('width', width);\n",
       "        rubberband.attr('height', height);\n",
       "    }\n",
       "\n",
       "    // Set the figure to an initial 600x600px, this will subsequently be updated\n",
       "    // upon first draw.\n",
       "    this._resize_canvas(600, 600);\n",
       "\n",
       "    // Disable right mouse context menu.\n",
       "    $(this.rubberband_canvas).bind(\"contextmenu\",function(e){\n",
       "        return false;\n",
       "    });\n",
       "\n",
       "    function set_focus () {\n",
       "        canvas.focus();\n",
       "        canvas_div.focus();\n",
       "    }\n",
       "\n",
       "    window.setTimeout(set_focus, 100);\n",
       "}\n",
       "\n",
       "mpl.figure.prototype._init_toolbar = function() {\n",
       "    var fig = this;\n",
       "\n",
       "    var nav_element = $('<div/>')\n",
       "    nav_element.attr('style', 'width: 100%');\n",
       "    this.root.append(nav_element);\n",
       "\n",
       "    // Define a callback function for later on.\n",
       "    function toolbar_event(event) {\n",
       "        return fig.toolbar_button_onclick(event['data']);\n",
       "    }\n",
       "    function toolbar_mouse_event(event) {\n",
       "        return fig.toolbar_button_onmouseover(event['data']);\n",
       "    }\n",
       "\n",
       "    for(var toolbar_ind in mpl.toolbar_items) {\n",
       "        var name = mpl.toolbar_items[toolbar_ind][0];\n",
       "        var tooltip = mpl.toolbar_items[toolbar_ind][1];\n",
       "        var image = mpl.toolbar_items[toolbar_ind][2];\n",
       "        var method_name = mpl.toolbar_items[toolbar_ind][3];\n",
       "\n",
       "        if (!name) {\n",
       "            // put a spacer in here.\n",
       "            continue;\n",
       "        }\n",
       "        var button = $('<button/>');\n",
       "        button.addClass('ui-button ui-widget ui-state-default ui-corner-all ' +\n",
       "                        'ui-button-icon-only');\n",
       "        button.attr('role', 'button');\n",
       "        button.attr('aria-disabled', 'false');\n",
       "        button.click(method_name, toolbar_event);\n",
       "        button.mouseover(tooltip, toolbar_mouse_event);\n",
       "\n",
       "        var icon_img = $('<span/>');\n",
       "        icon_img.addClass('ui-button-icon-primary ui-icon');\n",
       "        icon_img.addClass(image);\n",
       "        icon_img.addClass('ui-corner-all');\n",
       "\n",
       "        var tooltip_span = $('<span/>');\n",
       "        tooltip_span.addClass('ui-button-text');\n",
       "        tooltip_span.html(tooltip);\n",
       "\n",
       "        button.append(icon_img);\n",
       "        button.append(tooltip_span);\n",
       "\n",
       "        nav_element.append(button);\n",
       "    }\n",
       "\n",
       "    var fmt_picker_span = $('<span/>');\n",
       "\n",
       "    var fmt_picker = $('<select/>');\n",
       "    fmt_picker.addClass('mpl-toolbar-option ui-widget ui-widget-content');\n",
       "    fmt_picker_span.append(fmt_picker);\n",
       "    nav_element.append(fmt_picker_span);\n",
       "    this.format_dropdown = fmt_picker[0];\n",
       "\n",
       "    for (var ind in mpl.extensions) {\n",
       "        var fmt = mpl.extensions[ind];\n",
       "        var option = $(\n",
       "            '<option/>', {selected: fmt === mpl.default_extension}).html(fmt);\n",
       "        fmt_picker.append(option)\n",
       "    }\n",
       "\n",
       "    // Add hover states to the ui-buttons\n",
       "    $( \".ui-button\" ).hover(\n",
       "        function() { $(this).addClass(\"ui-state-hover\");},\n",
       "        function() { $(this).removeClass(\"ui-state-hover\");}\n",
       "    );\n",
       "\n",
       "    var status_bar = $('<span class=\"mpl-message\"/>');\n",
       "    nav_element.append(status_bar);\n",
       "    this.message = status_bar[0];\n",
       "}\n",
       "\n",
       "mpl.figure.prototype.request_resize = function(x_pixels, y_pixels) {\n",
       "    // Request matplotlib to resize the figure. Matplotlib will then trigger a resize in the client,\n",
       "    // which will in turn request a refresh of the image.\n",
       "    this.send_message('resize', {'width': x_pixels, 'height': y_pixels});\n",
       "}\n",
       "\n",
       "mpl.figure.prototype.send_message = function(type, properties) {\n",
       "    properties['type'] = type;\n",
       "    properties['figure_id'] = this.id;\n",
       "    this.ws.send(JSON.stringify(properties));\n",
       "}\n",
       "\n",
       "mpl.figure.prototype.send_draw_message = function() {\n",
       "    if (!this.waiting) {\n",
       "        this.waiting = true;\n",
       "        this.ws.send(JSON.stringify({type: \"draw\", figure_id: this.id}));\n",
       "    }\n",
       "}\n",
       "\n",
       "\n",
       "mpl.figure.prototype.handle_save = function(fig, msg) {\n",
       "    var format_dropdown = fig.format_dropdown;\n",
       "    var format = format_dropdown.options[format_dropdown.selectedIndex].value;\n",
       "    fig.ondownload(fig, format);\n",
       "}\n",
       "\n",
       "\n",
       "mpl.figure.prototype.handle_resize = function(fig, msg) {\n",
       "    var size = msg['size'];\n",
       "    if (size[0] != fig.canvas.width || size[1] != fig.canvas.height) {\n",
       "        fig._resize_canvas(size[0], size[1]);\n",
       "        fig.send_message(\"refresh\", {});\n",
       "    };\n",
       "}\n",
       "\n",
       "mpl.figure.prototype.handle_rubberband = function(fig, msg) {\n",
       "    var x0 = msg['x0'] / mpl.ratio;\n",
       "    var y0 = (fig.canvas.height - msg['y0']) / mpl.ratio;\n",
       "    var x1 = msg['x1'] / mpl.ratio;\n",
       "    var y1 = (fig.canvas.height - msg['y1']) / mpl.ratio;\n",
       "    x0 = Math.floor(x0) + 0.5;\n",
       "    y0 = Math.floor(y0) + 0.5;\n",
       "    x1 = Math.floor(x1) + 0.5;\n",
       "    y1 = Math.floor(y1) + 0.5;\n",
       "    var min_x = Math.min(x0, x1);\n",
       "    var min_y = Math.min(y0, y1);\n",
       "    var width = Math.abs(x1 - x0);\n",
       "    var height = Math.abs(y1 - y0);\n",
       "\n",
       "    fig.rubberband_context.clearRect(\n",
       "        0, 0, fig.canvas.width, fig.canvas.height);\n",
       "\n",
       "    fig.rubberband_context.strokeRect(min_x, min_y, width, height);\n",
       "}\n",
       "\n",
       "mpl.figure.prototype.handle_figure_label = function(fig, msg) {\n",
       "    // Updates the figure title.\n",
       "    fig.header.textContent = msg['label'];\n",
       "}\n",
       "\n",
       "mpl.figure.prototype.handle_cursor = function(fig, msg) {\n",
       "    var cursor = msg['cursor'];\n",
       "    switch(cursor)\n",
       "    {\n",
       "    case 0:\n",
       "        cursor = 'pointer';\n",
       "        break;\n",
       "    case 1:\n",
       "        cursor = 'default';\n",
       "        break;\n",
       "    case 2:\n",
       "        cursor = 'crosshair';\n",
       "        break;\n",
       "    case 3:\n",
       "        cursor = 'move';\n",
       "        break;\n",
       "    }\n",
       "    fig.rubberband_canvas.style.cursor = cursor;\n",
       "}\n",
       "\n",
       "mpl.figure.prototype.handle_message = function(fig, msg) {\n",
       "    fig.message.textContent = msg['message'];\n",
       "}\n",
       "\n",
       "mpl.figure.prototype.handle_draw = function(fig, msg) {\n",
       "    // Request the server to send over a new figure.\n",
       "    fig.send_draw_message();\n",
       "}\n",
       "\n",
       "mpl.figure.prototype.handle_image_mode = function(fig, msg) {\n",
       "    fig.image_mode = msg['mode'];\n",
       "}\n",
       "\n",
       "mpl.figure.prototype.updated_canvas_event = function() {\n",
       "    // Called whenever the canvas gets updated.\n",
       "    this.send_message(\"ack\", {});\n",
       "}\n",
       "\n",
       "// A function to construct a web socket function for onmessage handling.\n",
       "// Called in the figure constructor.\n",
       "mpl.figure.prototype._make_on_message_function = function(fig) {\n",
       "    return function socket_on_message(evt) {\n",
       "        if (evt.data instanceof Blob) {\n",
       "            /* FIXME: We get \"Resource interpreted as Image but\n",
       "             * transferred with MIME type text/plain:\" errors on\n",
       "             * Chrome.  But how to set the MIME type?  It doesn't seem\n",
       "             * to be part of the websocket stream */\n",
       "            evt.data.type = \"image/png\";\n",
       "\n",
       "            /* Free the memory for the previous frames */\n",
       "            if (fig.imageObj.src) {\n",
       "                (window.URL || window.webkitURL).revokeObjectURL(\n",
       "                    fig.imageObj.src);\n",
       "            }\n",
       "\n",
       "            fig.imageObj.src = (window.URL || window.webkitURL).createObjectURL(\n",
       "                evt.data);\n",
       "            fig.updated_canvas_event();\n",
       "            fig.waiting = false;\n",
       "            return;\n",
       "        }\n",
       "        else if (typeof evt.data === 'string' && evt.data.slice(0, 21) == \"data:image/png;base64\") {\n",
       "            fig.imageObj.src = evt.data;\n",
       "            fig.updated_canvas_event();\n",
       "            fig.waiting = false;\n",
       "            return;\n",
       "        }\n",
       "\n",
       "        var msg = JSON.parse(evt.data);\n",
       "        var msg_type = msg['type'];\n",
       "\n",
       "        // Call the  \"handle_{type}\" callback, which takes\n",
       "        // the figure and JSON message as its only arguments.\n",
       "        try {\n",
       "            var callback = fig[\"handle_\" + msg_type];\n",
       "        } catch (e) {\n",
       "            console.log(\"No handler for the '\" + msg_type + \"' message type: \", msg);\n",
       "            return;\n",
       "        }\n",
       "\n",
       "        if (callback) {\n",
       "            try {\n",
       "                // console.log(\"Handling '\" + msg_type + \"' message: \", msg);\n",
       "                callback(fig, msg);\n",
       "            } catch (e) {\n",
       "                console.log(\"Exception inside the 'handler_\" + msg_type + \"' callback:\", e, e.stack, msg);\n",
       "            }\n",
       "        }\n",
       "    };\n",
       "}\n",
       "\n",
       "// from http://stackoverflow.com/questions/1114465/getting-mouse-location-in-canvas\n",
       "mpl.findpos = function(e) {\n",
       "    //this section is from http://www.quirksmode.org/js/events_properties.html\n",
       "    var targ;\n",
       "    if (!e)\n",
       "        e = window.event;\n",
       "    if (e.target)\n",
       "        targ = e.target;\n",
       "    else if (e.srcElement)\n",
       "        targ = e.srcElement;\n",
       "    if (targ.nodeType == 3) // defeat Safari bug\n",
       "        targ = targ.parentNode;\n",
       "\n",
       "    // jQuery normalizes the pageX and pageY\n",
       "    // pageX,Y are the mouse positions relative to the document\n",
       "    // offset() returns the position of the element relative to the document\n",
       "    var x = e.pageX - $(targ).offset().left;\n",
       "    var y = e.pageY - $(targ).offset().top;\n",
       "\n",
       "    return {\"x\": x, \"y\": y};\n",
       "};\n",
       "\n",
       "/*\n",
       " * return a copy of an object with only non-object keys\n",
       " * we need this to avoid circular references\n",
       " * http://stackoverflow.com/a/24161582/3208463\n",
       " */\n",
       "function simpleKeys (original) {\n",
       "  return Object.keys(original).reduce(function (obj, key) {\n",
       "    if (typeof original[key] !== 'object')\n",
       "        obj[key] = original[key]\n",
       "    return obj;\n",
       "  }, {});\n",
       "}\n",
       "\n",
       "mpl.figure.prototype.mouse_event = function(event, name) {\n",
       "    var canvas_pos = mpl.findpos(event)\n",
       "\n",
       "    if (name === 'button_press')\n",
       "    {\n",
       "        this.canvas.focus();\n",
       "        this.canvas_div.focus();\n",
       "    }\n",
       "\n",
       "    var x = canvas_pos.x * mpl.ratio;\n",
       "    var y = canvas_pos.y * mpl.ratio;\n",
       "\n",
       "    this.send_message(name, {x: x, y: y, button: event.button,\n",
       "                             step: event.step,\n",
       "                             guiEvent: simpleKeys(event)});\n",
       "\n",
       "    /* This prevents the web browser from automatically changing to\n",
       "     * the text insertion cursor when the button is pressed.  We want\n",
       "     * to control all of the cursor setting manually through the\n",
       "     * 'cursor' event from matplotlib */\n",
       "    event.preventDefault();\n",
       "    return false;\n",
       "}\n",
       "\n",
       "mpl.figure.prototype._key_event_extra = function(event, name) {\n",
       "    // Handle any extra behaviour associated with a key event\n",
       "}\n",
       "\n",
       "mpl.figure.prototype.key_event = function(event, name) {\n",
       "\n",
       "    // Prevent repeat events\n",
       "    if (name == 'key_press')\n",
       "    {\n",
       "        if (event.which === this._key)\n",
       "            return;\n",
       "        else\n",
       "            this._key = event.which;\n",
       "    }\n",
       "    if (name == 'key_release')\n",
       "        this._key = null;\n",
       "\n",
       "    var value = '';\n",
       "    if (event.ctrlKey && event.which != 17)\n",
       "        value += \"ctrl+\";\n",
       "    if (event.altKey && event.which != 18)\n",
       "        value += \"alt+\";\n",
       "    if (event.shiftKey && event.which != 16)\n",
       "        value += \"shift+\";\n",
       "\n",
       "    value += 'k';\n",
       "    value += event.which.toString();\n",
       "\n",
       "    this._key_event_extra(event, name);\n",
       "\n",
       "    this.send_message(name, {key: value,\n",
       "                             guiEvent: simpleKeys(event)});\n",
       "    return false;\n",
       "}\n",
       "\n",
       "mpl.figure.prototype.toolbar_button_onclick = function(name) {\n",
       "    if (name == 'download') {\n",
       "        this.handle_save(this, null);\n",
       "    } else {\n",
       "        this.send_message(\"toolbar_button\", {name: name});\n",
       "    }\n",
       "};\n",
       "\n",
       "mpl.figure.prototype.toolbar_button_onmouseover = function(tooltip) {\n",
       "    this.message.textContent = tooltip;\n",
       "};\n",
       "mpl.toolbar_items = [[\"Home\", \"Reset original view\", \"fa fa-home icon-home\", \"home\"], [\"Back\", \"Back to  previous view\", \"fa fa-arrow-left icon-arrow-left\", \"back\"], [\"Forward\", \"Forward to next view\", \"fa fa-arrow-right icon-arrow-right\", \"forward\"], [\"\", \"\", \"\", \"\"], [\"Pan\", \"Pan axes with left mouse, zoom with right\", \"fa fa-arrows icon-move\", \"pan\"], [\"Zoom\", \"Zoom to rectangle\", \"fa fa-square-o icon-check-empty\", \"zoom\"], [\"\", \"\", \"\", \"\"], [\"Download\", \"Download plot\", \"fa fa-floppy-o icon-save\", \"download\"]];\n",
       "\n",
       "mpl.extensions = [\"eps\", \"jpeg\", \"pdf\", \"png\", \"ps\", \"raw\", \"svg\", \"tif\"];\n",
       "\n",
       "mpl.default_extension = \"png\";var comm_websocket_adapter = function(comm) {\n",
       "    // Create a \"websocket\"-like object which calls the given IPython comm\n",
       "    // object with the appropriate methods. Currently this is a non binary\n",
       "    // socket, so there is still some room for performance tuning.\n",
       "    var ws = {};\n",
       "\n",
       "    ws.close = function() {\n",
       "        comm.close()\n",
       "    };\n",
       "    ws.send = function(m) {\n",
       "        //console.log('sending', m);\n",
       "        comm.send(m);\n",
       "    };\n",
       "    // Register the callback with on_msg.\n",
       "    comm.on_msg(function(msg) {\n",
       "        //console.log('receiving', msg['content']['data'], msg);\n",
       "        // Pass the mpl event to the overridden (by mpl) onmessage function.\n",
       "        ws.onmessage(msg['content']['data'])\n",
       "    });\n",
       "    return ws;\n",
       "}\n",
       "\n",
       "mpl.mpl_figure_comm = function(comm, msg) {\n",
       "    // This is the function which gets called when the mpl process\n",
       "    // starts-up an IPython Comm through the \"matplotlib\" channel.\n",
       "\n",
       "    var id = msg.content.data.id;\n",
       "    // Get hold of the div created by the display call when the Comm\n",
       "    // socket was opened in Python.\n",
       "    var element = $(\"#\" + id);\n",
       "    var ws_proxy = comm_websocket_adapter(comm)\n",
       "\n",
       "    function ondownload(figure, format) {\n",
       "        window.open(figure.imageObj.src);\n",
       "    }\n",
       "\n",
       "    var fig = new mpl.figure(id, ws_proxy,\n",
       "                           ondownload,\n",
       "                           element.get(0));\n",
       "\n",
       "    // Call onopen now - mpl needs it, as it is assuming we've passed it a real\n",
       "    // web socket which is closed, not our websocket->open comm proxy.\n",
       "    ws_proxy.onopen();\n",
       "\n",
       "    fig.parent_element = element.get(0);\n",
       "    fig.cell_info = mpl.find_output_cell(\"<div id='\" + id + \"'></div>\");\n",
       "    if (!fig.cell_info) {\n",
       "        console.error(\"Failed to find cell for figure\", id, fig);\n",
       "        return;\n",
       "    }\n",
       "\n",
       "    var output_index = fig.cell_info[2]\n",
       "    var cell = fig.cell_info[0];\n",
       "\n",
       "};\n",
       "\n",
       "mpl.figure.prototype.handle_close = function(fig, msg) {\n",
       "    var width = fig.canvas.width/mpl.ratio\n",
       "    fig.root.unbind('remove')\n",
       "\n",
       "    // Update the output cell to use the data from the current canvas.\n",
       "    fig.push_to_output();\n",
       "    var dataURL = fig.canvas.toDataURL();\n",
       "    // Re-enable the keyboard manager in IPython - without this line, in FF,\n",
       "    // the notebook keyboard shortcuts fail.\n",
       "    IPython.keyboard_manager.enable()\n",
       "    $(fig.parent_element).html('<img src=\"' + dataURL + '\" width=\"' + width + '\">');\n",
       "    fig.close_ws(fig, msg);\n",
       "}\n",
       "\n",
       "mpl.figure.prototype.close_ws = function(fig, msg){\n",
       "    fig.send_message('closing', msg);\n",
       "    // fig.ws.close()\n",
       "}\n",
       "\n",
       "mpl.figure.prototype.push_to_output = function(remove_interactive) {\n",
       "    // Turn the data on the canvas into data in the output cell.\n",
       "    var width = this.canvas.width/mpl.ratio\n",
       "    var dataURL = this.canvas.toDataURL();\n",
       "    this.cell_info[1]['text/html'] = '<img src=\"' + dataURL + '\" width=\"' + width + '\">';\n",
       "}\n",
       "\n",
       "mpl.figure.prototype.updated_canvas_event = function() {\n",
       "    // Tell IPython that the notebook contents must change.\n",
       "    IPython.notebook.set_dirty(true);\n",
       "    this.send_message(\"ack\", {});\n",
       "    var fig = this;\n",
       "    // Wait a second, then push the new image to the DOM so\n",
       "    // that it is saved nicely (might be nice to debounce this).\n",
       "    setTimeout(function () { fig.push_to_output() }, 1000);\n",
       "}\n",
       "\n",
       "mpl.figure.prototype._init_toolbar = function() {\n",
       "    var fig = this;\n",
       "\n",
       "    var nav_element = $('<div/>')\n",
       "    nav_element.attr('style', 'width: 100%');\n",
       "    this.root.append(nav_element);\n",
       "\n",
       "    // Define a callback function for later on.\n",
       "    function toolbar_event(event) {\n",
       "        return fig.toolbar_button_onclick(event['data']);\n",
       "    }\n",
       "    function toolbar_mouse_event(event) {\n",
       "        return fig.toolbar_button_onmouseover(event['data']);\n",
       "    }\n",
       "\n",
       "    for(var toolbar_ind in mpl.toolbar_items){\n",
       "        var name = mpl.toolbar_items[toolbar_ind][0];\n",
       "        var tooltip = mpl.toolbar_items[toolbar_ind][1];\n",
       "        var image = mpl.toolbar_items[toolbar_ind][2];\n",
       "        var method_name = mpl.toolbar_items[toolbar_ind][3];\n",
       "\n",
       "        if (!name) { continue; };\n",
       "\n",
       "        var button = $('<button class=\"btn btn-default\" href=\"#\" title=\"' + name + '\"><i class=\"fa ' + image + ' fa-lg\"></i></button>');\n",
       "        button.click(method_name, toolbar_event);\n",
       "        button.mouseover(tooltip, toolbar_mouse_event);\n",
       "        nav_element.append(button);\n",
       "    }\n",
       "\n",
       "    // Add the status bar.\n",
       "    var status_bar = $('<span class=\"mpl-message\" style=\"text-align:right; float: right;\"/>');\n",
       "    nav_element.append(status_bar);\n",
       "    this.message = status_bar[0];\n",
       "\n",
       "    // Add the close button to the window.\n",
       "    var buttongrp = $('<div class=\"btn-group inline pull-right\"></div>');\n",
       "    var button = $('<button class=\"btn btn-mini btn-primary\" href=\"#\" title=\"Stop Interaction\"><i class=\"fa fa-power-off icon-remove icon-large\"></i></button>');\n",
       "    button.click(function (evt) { fig.handle_close(fig, {}); } );\n",
       "    button.mouseover('Stop Interaction', toolbar_mouse_event);\n",
       "    buttongrp.append(button);\n",
       "    var titlebar = this.root.find($('.ui-dialog-titlebar'));\n",
       "    titlebar.prepend(buttongrp);\n",
       "}\n",
       "\n",
       "mpl.figure.prototype._root_extra_style = function(el){\n",
       "    var fig = this\n",
       "    el.on(\"remove\", function(){\n",
       "\tfig.close_ws(fig, {});\n",
       "    });\n",
       "}\n",
       "\n",
       "mpl.figure.prototype._canvas_extra_style = function(el){\n",
       "    // this is important to make the div 'focusable\n",
       "    el.attr('tabindex', 0)\n",
       "    // reach out to IPython and tell the keyboard manager to turn it's self\n",
       "    // off when our div gets focus\n",
       "\n",
       "    // location in version 3\n",
       "    if (IPython.notebook.keyboard_manager) {\n",
       "        IPython.notebook.keyboard_manager.register_events(el);\n",
       "    }\n",
       "    else {\n",
       "        // location in version 2\n",
       "        IPython.keyboard_manager.register_events(el);\n",
       "    }\n",
       "\n",
       "}\n",
       "\n",
       "mpl.figure.prototype._key_event_extra = function(event, name) {\n",
       "    var manager = IPython.notebook.keyboard_manager;\n",
       "    if (!manager)\n",
       "        manager = IPython.keyboard_manager;\n",
       "\n",
       "    // Check for shift+enter\n",
       "    if (event.shiftKey && event.which == 13) {\n",
       "        this.canvas_div.blur();\n",
       "        event.shiftKey = false;\n",
       "        // Send a \"J\" for go to next cell\n",
       "        event.which = 74;\n",
       "        event.keyCode = 74;\n",
       "        manager.command_mode();\n",
       "        manager.handle_keydown(event);\n",
       "    }\n",
       "}\n",
       "\n",
       "mpl.figure.prototype.handle_save = function(fig, msg) {\n",
       "    fig.ondownload(fig, null);\n",
       "}\n",
       "\n",
       "\n",
       "mpl.find_output_cell = function(html_output) {\n",
       "    // Return the cell and output element which can be found *uniquely* in the notebook.\n",
       "    // Note - this is a bit hacky, but it is done because the \"notebook_saving.Notebook\"\n",
       "    // IPython event is triggered only after the cells have been serialised, which for\n",
       "    // our purposes (turning an active figure into a static one), is too late.\n",
       "    var cells = IPython.notebook.get_cells();\n",
       "    var ncells = cells.length;\n",
       "    for (var i=0; i<ncells; i++) {\n",
       "        var cell = cells[i];\n",
       "        if (cell.cell_type === 'code'){\n",
       "            for (var j=0; j<cell.output_area.outputs.length; j++) {\n",
       "                var data = cell.output_area.outputs[j];\n",
       "                if (data.data) {\n",
       "                    // IPython >= 3 moved mimebundle to data attribute of output\n",
       "                    data = data.data;\n",
       "                }\n",
       "                if (data['text/html'] == html_output) {\n",
       "                    return [cell, data, j];\n",
       "                }\n",
       "            }\n",
       "        }\n",
       "    }\n",
       "}\n",
       "\n",
       "// Register the function which deals with the matplotlib target/channel.\n",
       "// The kernel may be null if the page has been refreshed.\n",
       "if (IPython.notebook.kernel != null) {\n",
       "    IPython.notebook.kernel.comm_manager.register_target('matplotlib', mpl.mpl_figure_comm);\n",
       "}\n"
      ],
      "text/plain": [
       "<IPython.core.display.Javascript object>"
      ]
     },
     "metadata": {},
     "output_type": "display_data"
    },
    {
     "data": {
      "text/html": [
       "<img src=\"data:image/png;base64,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\" width=\"1000\">"
      ],
      "text/plain": [
       "<IPython.core.display.HTML object>"
      ]
     },
     "metadata": {},
     "output_type": "display_data"
    }
   ],
   "source": [
    "def fig_8():\n",
    "    \n",
    "    def deps_dt(phi_i, eps_i, e_i, Sigma_i, phi_i_plus_1):\n",
    "        return phi_i - g(phi_i_plus_1) - e_i\n",
    "\n",
    "    def de_dt(phi_i, eps_i, e_i, Sigma_i):\n",
    "        return Sigma_i * eps_i - e_i\n",
    "\n",
    "    def Delta_Sigma(phi_i, eps_i, e_i, Sigma_i):\n",
    "        return alpha * (eps_i * e_i - 1)\n",
    "\n",
    "    mu_phi       = 5\n",
    "    Sigma_phi    = 2\n",
    "    phi_i_plus_1 = np.sqrt(mu_phi)\n",
    "    Sigma_i      = 1\n",
    "    dt           = 0.01\n",
    "    dur          = 20\n",
    "    steps        = int(dur/dt)\n",
    "    trials       = 3000\n",
    "    alpha        = 0.01\n",
    "    trace        = np.zeros((trials, 4))\n",
    "    \n",
    "    for trial in range(trials):\n",
    "        phi_i    = np.sqrt(Sigma_phi) * np.random.randn(1)[0] + mu_phi\n",
    "        eps_i    = 0\n",
    "        e_i      = 0\n",
    "        state_i  = (phi_i, eps_i, e_i, Sigma_i)\n",
    "        \n",
    "        for t in range(steps):\n",
    "            eps_i  += dt * deps_dt(*state_i, phi_i_plus_1 = phi_i_plus_1)\n",
    "            e_i    += dt * de_dt(*state_i)\n",
    "            state_i = (phi_i, eps_i, e_i, Sigma_i)\n",
    "\n",
    "        Sigma_i += Delta_Sigma(*state_i)\n",
    "        state_i  = (phi_i, eps_i, e_i, Sigma_i)\n",
    "        trace[trial] = state_i\n",
    "        \n",
    "    fig = plt.figure(figsize=(10, 5), num='Fig 8')\n",
    "    ax  = fig.add_subplot(1, 1, 1)\n",
    "\n",
    "    ax.plot(np.arange(trials), trace[:, 3])\n",
    "    plt.xlabel('Trial')\n",
    "    plt.ylabel(r'$\\Sigma$')\n",
    "    plt.axis([0, 3000, 0.5, 2.5])\n",
    "\n",
    "fig_8()"
   ]
  },
  {
   "cell_type": "markdown",
   "metadata": {},
   "source": [
    "The results of simulations are shown in Fig. 8, and they illustrate that the synaptic weight $\\varSigma_i$ approaches the vicinity of the variance of $\\phi_i$. \n",
    "\n",
    "It is also worth adding that $\\varepsilon_i$ in the model described by Eqs. (59)–(60) converges to the prediction error (Eq. (61)),  when one assumes that $\\phi$ are constant or change on much slower time-scale than $\\varepsilon_i$ and $e_i$. This convergence takes place because the fixed point of the model is stable, which can be shown using the standard dynamical systems theory (Strogatz, 1994). In particular, since Eqs. (59)–(60) only contain linear functions of variables $\\varepsilon_i$ and $e_i$, their solution has a form of exponential functions of time $t$, e.g. $\\varepsilon_i(t) = c \\exp(\\lambda t) + \\varepsilon_i^*$, where $c$ and $\\lambda$ are constants, and $\\varepsilon_i^*$ is the value at the fixed point. The sign of $\\lambda$ determines the stability of the fixed point: when $\\lambda < 0$, the exponential term decreases with time, and $\\varepsilon_i$ converges to the fixed point, while if $\\lambda > 0$, the fixed point is unstable. \n",
    "\n",
    "The values of $\\lambda$ are equal to the eigenvalues of the matrix in the equation below (Strogatz, 1994), which rewrites Eqs. (59)–(60) in a vector form: \n",
    "\n",
    "\\begin{equation*}\n",
    "\\begin{bmatrix}\n",
    "\\dot{\\varepsilon}_i \\\\ \\dot{e}_i\n",
    "\\end{bmatrix} \n",
    "=\n",
    "\\begin{bmatrix}\n",
    "0 & -1 \\\\\n",
    "\\varSigma_i & -1\n",
    "\\end{bmatrix}\n",
    "\\begin{bmatrix}\n",
    "\\varepsilon_i \\\\ e_i\n",
    "\\end{bmatrix}\n",
    "+\n",
    "\\begin{bmatrix}\n",
    "\\phi_i - g_i(\\phi_{i+1}) \\\\ 0\n",
    "\\end{bmatrix}.\n",
    "\\tag{66}\n",
    "\\end{equation*}\n",
    "\n",
    "To show that the eigenvalues of the matrix in the above equation are negative we use the property that sum of eigenvalues is equal to the trace and the product to the determinant. The trace and determinant of this matrix are .1 and .i, respectively. Since the sum of eigenvalues is negative and their product positive, both eigenvalues are negative, so the system is stable. "
   ]
  },
  {
   "cell_type": "markdown",
   "metadata": {},
   "source": [
    "### 5.2. Learning the covariance matrix ###\n",
    "\n",
    "The model described in the previous subsection scales up to larger dimension of features and sensory inputs. The architecture of the scaled up network is shown in Fig. 7(b), and its dynamics is described by the following equations:\n",
    "\n",
    "\\begin{align*}\n",
    "\\dot{\\bar{\\varepsilon}}_i &= \\bar{\\phi}_i - g_i(\\bar{\\phi}_{i+1}) - \\bar{e}_i \\tag{67} \\\\\n",
    "\\dot{\\bar{e}}_i &= \\mathbf{\\Sigma_i} \\bar{\\varepsilon}_i - \\bar{e}_i \\tag{68}\n",
    "\\end{align*}\n",
    "\n",
    "Analogously as before, we can find the fixed point by setting the left hand side of the equation to 0: \n",
    "\n",
    "\\begin{align*}\n",
    "\\bar{\\varepsilon}_i &= \\mathbf{\\Sigma_i}^{-1} \\bar{\\phi}_i - g_i(\\bar{\\phi}_{i+1}) \\tag{69} \\\\\n",
    "\\bar{e}_i &= \\bar{\\phi}_i - g_i(\\bar{\\phi}_{i+1}) \\tag{70}\n",
    "\\end{align*}\n",
    "\n",
    "Thus we can see that nodes $\\varepsilon$ have fixed points at the values equal to the prediction errors. We can now consider a learning rule analogous to that in the previous subsection: \n",
    "\n",
    "\\begin{equation*}\n",
    "\\Delta \\mathbf{\\Sigma}_i = \\alpha(\\bar{\\varepsilon}_i \\bar{e}_i^T - 1). \n",
    "\\tag{71}\n",
    "\\end{equation*}\n",
    "\n",
    "To find the values to vicinity of which the above rule may converge, we can find the value of $\\mathbf{\\Sigma}_i$ for which the expected value of the right hand side of the above equation is equal to $0$: \n",
    "\n",
    "\\begin{equation*}\n",
    "\\left<\\bar{\\varepsilon}_i \\bar{e}_i^T - 1 \\right> = 0.\n",
    "\\tag{72}\n",
    "\\end{equation*}\n",
    "\n",
    "Substituting Eqs. (69)–(70) into the above equation, and solving for i we obtain (TRY IT YOURSELF): \n",
    "\n",
    "\\begin{equation*}\n",
    "\\mathbf{\\Sigma_i} = \\left< (\\bar{\\phi}_i - g_i(\\bar{\\phi}_{i+1})) (\\bar{\\phi}_i - g_i(\\bar{\\phi}_{i+1}))^T \\right>.\n",
    "\\tag{73}\n",
    "\\end{equation*}\n",
    "\n",
    "We can see that the learning rule has a stochastic fixed point at the values corresponding to the covariance matrix. In summary, the nodes in network described in this section have fixed points at prediction errors and can learn the covariance of the corresponding features, thus the proposed network may substitute the prediction error nodes in the model shown in Fig. 6, and the computation will remain the same. But importantly in the proposed network the covariance is learnt with local plasticity involving simple Hebbian learning. "
   ]
  },
  {
   "cell_type": "markdown",
   "metadata": {},
   "source": [
    "<html>\n",
    "    <div class=\"image\">\n",
    "        <img src=\"Bogacz_fig9.png\", width=400>\n",
    "        <div style=\"margin: 20px 100px 20px 100px\">\n",
    "            Fig. 9. An example of a texture. \n",
    "        </div>\n",
    "    </div>\n",
    "</html>"
   ]
  },
  {
   "cell_type": "markdown",
   "metadata": {},
   "source": [
    "## 6. Discussion ##\n",
    "\n",
    "In this paper we presented the model of perception and learning in neural circuits based on the free-energy framework. This model extends the predictive coding model (Rao & Ballard, 1999) in that it represents and learns not only mean values of stimuli or features, but also their variances, which gives the model several new computational capabilities, as we now discuss. \n",
    "\n",
    "First, the model can weight incoming sensory information by their reliability. This property arises in the model, because the prediction errors are normalized by dividing them by the variance of noise. Thus the more noisy is a particular dimension of the stimulus, the smaller the corresponding prediction error, and thus lower its influence on activity on other neurons in the network. \n",
    "\n",
    "Second, the model can learn properties of features encoded in covariance of sensory input. An example of such feature is texture, which can be efficiently recognized on the basis of covariance, irrespectively of translation (Harwood, Ojala, Pietikäinen, Kelman, & Davis, 1995). To get an intuition for this property, let us consider an example of checker-board texture (Fig. 9). Please note that adjacent nodes have always opposite colour – corresponding to negative covariance, while the diagonal nodes have the same colour – corresponding to positive covariance. \n",
    "\n",
    "Third, the attentional modulation can be easily implemented in the model by changing the variance associated with the attended features (Feldman & Friston, 2010). Thus for example, attending to feature $i$ at level $j$ of the hierarchy can be implemented by decreasing synaptic weight $\\varSigma_{j,i,i}$, or inhibiting node $e_{j,i}$ in case of the model described in Section 5, which will result in a larger effect of the node encoding this feature on the activity in the rest of the network. \n",
    "\n",
    "In this paper we included description of the modified or extended version of the model with local computation and plasticity to better illustrate how computation proposed by the free-energy framework can be implemented in neural circuits. However, it will be necessary in the future to numerically evaluate the efficiency of learning in the proposed model and the free-energy framework in general. Existing models of feature extraction (Bell & Sejnowski, 1997; Bogacz, Brown, & Giraud-Carrier, 2001; Olshausen & Field, 1995) and predictive coding (Rao & Ballard, 1999) have been shown to be able to find features efficiently and reproduce the receptive fields of neurons in the primary visual cortex when trained with natural images. It would be interesting to explicitly test in simulations if the model based on the free-energy framework can equally efficiently extract features from natural stimuli and additionally learn the variance and covariance of features. \n",
    "\n",
    "We have also demonstrated that if the dynamics within the nodes computing prediction errors takes place on a time-scale much faster than in the whole network, these nodes converge to stable fixed points. It is also worth noting that under the assumption of separation of time scales, the nodes computing $\\phi$ also converge to a stable fixed point, because variables $\\phi$ converge to the values that maximize function $F$. It would be interesting to investigate how to ensure that the model converges to desired values (rather than engaging into oscillatory behaviour) also when one considers a more realistic case of time-scales not being fully separated. \n",
    "\n",
    "In summary, in this paper we presented the free-energy theory, which offers a powerful framework for describing computations performed by the brain during perception and learning. The appeal of the similarity in the organization of networks suggested by this theory and observed in the brain invites attempts to map the currently relatively abstract models on details of cortical micro-circuitry, i.e. to map different elements of the model on different neural populations within the cortex. For example, Bastos et al. (2012) compared a more recent version of the model (Friston, 2008) with the details of the cortical organization. Such comparisons of the models with biological circuits are likely to lead to iterative refinement of the models. \n",
    "\n",
    "Even if the free-energy framework does describe cortical computation, the mapping between the variables in the model and the elements of neural circuit may not be \"clean\" but rather \"messy\" i.e. each model variable or parameter may be represented by multiple neurons or synapses. The particular implementation of the framework in the cortical circuit may be influenced by other constraints the evolutionary pressure optimizes such as robustness to damage, energy efficiency, speed of processing, etc. In any case, the comparison of predictions of theoretical framework like the free-energy with experimental data offers hope for understanding the cortical micro-circuits. "
   ]
  },
  {
   "cell_type": "markdown",
   "metadata": {},
   "source": [
    "## Acknowledgments ##\n",
    "This work was supported by Medical Research Council grant MC UU 12024/5. The author thanks Karl Frison, John-Stuart Brittain, Daniela Massiceti, Linus Schumacher and Rui Costa for reading the previous version of the manuscript and very useful suggestions, and Chris Mathys, Peter Dayan and Diego Vidaurre for discussion. "
   ]
  },
  {
   "cell_type": "markdown",
   "metadata": {},
   "source": [
    "## Footnotes ##\n",
    "\n",
    "$^1$ In the original model (Friston, 2005) the prediction errors were normalized slightly differently as explained in Appendix A. \n",
    "\n",
    "$^2$ The original model does not provide details on the dynamics of the nodes computing prediction error, but we consider sample description of their dynamics to illustrate how these nodes can perform their computation. \n",
    "\n",
    "$^3$ In the original model, variables $\\lambda = \\sqrt{\\varSigma} - 1$ were defined, and these variables were encoded in the synaptic connections. Formally, this constraint is known as a hyperprior. This is because the variance or precision parameters are often referred to mathematically as hyperparameters. Whenever we place constraints on hyperparameters we necessarily invoke hyperpriors. \n",
    "\n",
    "$^4$ Although this case has not been discussed by Friston (2005), it was discussed by Rao and Ballard (1999). \n",
    "\n",
    "$^5$ In the model of Rao and Ballard (1999) the sparse coding was achieved through introduction of additional prior expectation that most $\\phi_i$ are close to $0$, but the sparse coding can also be achieved by choosing a shape of function $h$ such that $h(v_i)$ are mostly close to $0$, but only occasionally significantly different from zero (Friston, 2008). "
   ]
  },
  {
   "cell_type": "markdown",
   "metadata": {},
   "source": [
    "## Appendix A. The original neural implementation ##\n",
    "\n",
    "In the original model (Friston, 2005), the prediction errors were defined in a slightly different way: \n",
    "\n",
    "\\begin{align*}\n",
    "\\xi_p &= \\frac{\\phi - v_p}{\\sigma_p} \\tag{74} \\\\\n",
    "\\xi_u &= \\frac{u - g(\\phi)}{\\sigma_u}. \\tag{75} \\\\\n",
    "\\end{align*}\n",
    "\n",
    "In the above equations, $\\sigma_p = \\sqrt{}\\varSigma_p$, and $\\sigma_u = \\sqrt{}\\varSigma_u$, i.e. $\\sigma_p$ and $\\sigma_u$ denote the standard deviations of distributions $p(v)$ and $p(u|v$) respectively. With the prediction error terms defined in this way, the negative free energy computed in Eq. (7) can be written as: \n",
    "\n",
    "\\begin{equation*}\n",
    "F =  \\left( -\\ln \\sigma_p - \\frac{1}{2} \\xi_p^2 - \\ln \\sigma_u - \\frac{1}{2} \\xi_u^2 \\right) + C_2.\n",
    "\\tag{76}\n",
    "\\end{equation*}\n",
    "\n",
    "The dynamics of variable . is proportional to the derivative of the above equation over .: \n",
    "\n",
    "\\begin{equation*}\n",
    "\\dot{\\phi} = \\frac{\\xi_u g'(\\phi)}{\\sigma_u} - \\frac{\\xi_p}{\\sigma_p}.\n",
    "\\tag{77}\n",
    "\\end{equation*}\n",
    "\n",
    "Analogously as in Section 2.3, the prediction errors defined in Eqs. (74)–(75) could be computed in the nodes with the following dynamics: \n",
    "\n",
    "\\begin{align*}\n",
    "\\dot{\\xi_p} &= \\phi - v_p - \\sigma_p \\xi_p \\tag{78} \\\\\n",
    "\\dot{\\xi_u} &= u - g(\\phi) - \\sigma_u \\xi_u \\tag{79} \\\\\n",
    "\\end{align*}\n",
    "\n",
    "The architecture of the model described by Eqs. (77)–(79) is shown in Fig. 10. It is similar to that in Fig. \n",
    "3, but differs in the information received by node $\\phi$ (we will discuss this difference in more detail at the end of this Appendix). \n",
    "\n",
    "Analogously as before, we can find the rules describing synaptic plasticity in the model, by calculating the derivatives of $F$ (Eq. (76)) over $v_p$, $\\sigma_p$ and $\\sigma_u$ (TRY IT YOURSELF): \n",
    "\n",
    "\\begin{align*}\n",
    "\\frac{\\partial{F}}{\\partial{v_p}} &= \\xi_p \\sigma_p^{-1} \\tag{80} \\\\\n",
    "\\frac{\\partial{F}}{\\partial{\\sigma_p}} &= \\left( \\xi_p^2 - 1 \\right) \\sigma_p^{-1} \\tag{81} \\\\\n",
    "\\frac{\\partial{F}}{\\partial{\\sigma_u}} &= \\left( \\xi_u^2 - 1 \\right) \\sigma_u^{-1}. \\tag{82} \n",
    "\\end{align*}\n",
    "\n",
    "The original model does not satisfy the constraint of local computation stated in the Introduction, because the node computing $\\phi$ receives the input from prediction error nodes scaled by parameters $\\sigma$ (see Fig. 10), but the parameters $\\sigma$ are not encoded in the connections between node $\\phi$ and the prediction error nodes, but instead in the connections among the prediction error neurons. Nevertheless, we have shown in Section 2.3 that by just changing the way in which prediction errors are normalized the computation in the model becomes local. "
   ]
  },
  {
   "cell_type": "markdown",
   "metadata": {},
   "source": [
    "## Appendix B. Derivation of plasticity rule for connections between layers ##\n",
    "\n",
    "This Appendix derives the rule for update of $\\mathbf{\\Theta}$ given in Eq. (50). In order to use the two top formulas in Table 1 we have to reshape the matrix $\\mathbf{\\Theta}$ into a vector. To avoid death by notation, without loss of generality, let us consider the case of 2 dimensional stimuli and features. So let us define the vector of parameters: $\\bar{\\theta} = \\left[ \\theta_{1,1}, \\theta_{1,2}, \\theta_{2,1}, \\theta_{2,2} \\right]$. Now, using two top formulas in Table 1 one can find that: \n",
    "\n",
    "\\begin{equation*}\n",
    "\\frac{\\partial{F}}{\\partial{\\bar{\\theta}}} = \\frac{\\partial{g(\\bar{\\phi}, \\mathbf{\\Theta})^T}}{\\partial{\\bar{\\theta}}} \\bar{\\epsilon}_u.\n",
    "\\tag{83}\n",
    "\\end{equation*}\n",
    "\n",
    "From Eq. (42) we find: \n",
    "\n",
    "\\begin{equation*}\n",
    "\\frac{\\partial{g(\\bar{\\phi}, \\mathbf{\\Theta})}}{\\partial{\\bar{\\theta}}} = \n",
    "\\begin{bmatrix}\n",
    "h(\\phi_1) & h(\\phi_2) & 0 & 0 \\\\\n",
    "0 & 0 & h(\\phi_1) & h(\\phi_2)\n",
    "\\end{bmatrix}.\n",
    "\\tag{84}\n",
    "\\end{equation*}\n",
    "\n",
    "We can now evaluate the right hand side of Eq. (83): \n",
    "\\begin{equation*}\n",
    "\\frac{\\partial{g(\\bar{\\phi}, \\mathbf{\\Theta})^T}}{\\partial{\\bar{\\theta}}}\\bar{\\epsilon}_u = \n",
    "\\begin{bmatrix}\n",
    "h(\\phi_1) & 0 \\\\\n",
    "h(\\phi_2) & 0 \\\\\n",
    "0 & h(\\phi_1) \\\\\n",
    "0 & h(\\phi_2)\n",
    "\\end{bmatrix}\n",
    "\\begin{bmatrix}\n",
    "\\varepsilon_{u,1}\\\\\n",
    "\\varepsilon_{u,2}\n",
    "\\end{bmatrix} =\n",
    "\\begin{bmatrix}\n",
    "h(\\phi_1) \\varepsilon_{u,1} \\\\\n",
    "h(\\phi_2) \\varepsilon_{u,1} \\\\\n",
    "h(\\phi_1) \\varepsilon_{u,2} \\\\\n",
    "h(\\phi_2) \\varepsilon_{u,2} \n",
    "\\end{bmatrix}.\n",
    "\\tag{85}\n",
    "\\end{equation*}\n",
    "\n",
    "Reshaping the right hand side of the above equation into a matrix, we can see how it can be decomposed into the product of vectors in Eq. (50): \n",
    "\n",
    "\\begin{equation*}\n",
    "\\begin{bmatrix}\n",
    "h(\\phi_1) \\varepsilon_{u,1} & h(\\phi_2) \\varepsilon_{u,1} \\\\\n",
    "h(\\phi_1) \\varepsilon_{u,2} & h(\\phi_2) \\varepsilon_{u,2} \n",
    "\\end{bmatrix} =\n",
    "\\begin{bmatrix}\n",
    "\\varepsilon_{u,1} \\\\\n",
    "\\varepsilon_{u,2} \n",
    "\\end{bmatrix}\n",
    "\\begin{bmatrix}\n",
    "h(\\phi_1) & h(\\phi_2) \\\\\n",
    "\\end{bmatrix}.\n",
    "\\tag{86}\n",
    "\\end{equation*}"
   ]
  },
  {
   "cell_type": "markdown",
   "metadata": {},
   "source": [
    "## References ##\n",
    "\n",
    "Bastos, Andre M., Usrey, W. Martin, Adams, Rick A., Mangun, George R., Fries, Pascal, & Friston, Karl J. (2012). Canonical microcircuits for predictive coding. Neuron, 4, e1000211. 76, 695–711.\n",
    "\n",
    "Bell, Anthony J., & Sejnowski, Terrence J. (1995). An information-maximization approach to blind separation and blind deconvolution. Neural Computation, 7, 1129–1159. \n",
    "\n",
    "Bell, Anthony J., & Sejnowski, Terrence J. (1997). The independent components of natural scenes are edge filters. Vision Research, 37, 3327–3338. \n",
    "\n",
    "Bogacz, Rafal, Brown, Malcolm W., & Giraud-Carrier, Christophe (2001). Emergence of movement sensitive neurons’ properties by learning a sparse code for natural moving images. Advances in Neural Information Processing Systems, 13, 838–844. \n",
    "\n",
    "Bogacz, Rafal, & Gurney, Kevin (2007). The basal ganglia and cortex implement optimal decision making between alternative actions. Neural Computation, 19, 442–477. \n",
    "\n",
    "Chen, J.-Y., Lonjers, P., Lee, C., Chistiakova, M., Volgushev, M., & Bazhenov, M. (2013). Heterosynaptic plasticity prevents runaway synaptic dynamics. Journal of Neuroscience, 33, 15915–15929. \n",
    "\n",
    "Feldman, Harriet, & Friston, Karl (2010). Attention, uncertainty, and free-energy. Frontiers in Human Neuroscience, 4, 215. \n",
    "\n",
    "FitzGerald, Thomas H. B., Schwartenbeck, Philipp, Moutoussis, Michael, Dolan, Raymond J., & Friston, Karl (2015). Active inference, evidence accumulation and the urn task. Neural Computation, 27, 306–328. \n",
    "\n",
    "Friston, Karl (2003). Learning and inference in the brain. Neural Networks, 16, 1325–1352.\n",
    "\n",
    "Friston, Karl (2005). A theory of cortical responses. Philosophical Transactions of the Royal Society B, 360, 815836.\n",
    "\n",
    "Friston, Karl (2008). Hierarchical models in the brain. PLoS Computational Biology, 4, e1000211.\n",
    "\n",
    "Friston, Karl (2010). The free-energy principle: a unified brain theory? Nature Reviews Neuroscience, 11, 127–138.\n",
    "\n",
    "Friston, Karl, Schwartenbeck, Philipp, FitzGerald, Thomas, Moutoussis, Michael, Behrens, Timothy, & Dolan, Raymond J. (2013). The anatomy of choice: active inference and agency. Frontiers in Human Neuroscience, 7, 598.\n",
    "\n",
    "Harwood, David, Ojala, Timo, Pietikäinen, Matti, Kelman, Shalom, & Davis, Larry (1995). Texture classification by center-symmetric auto-correlation, using Kullback discrimination of distributions. Pattern Recognition Letters, 16, 1–10. \n",
    "\n",
    "Olshausen, Bruno A., & Field, David J. (1995). Emergence of simple-cell receptive field properties by learning a sparse code for natural images. Nature, 381, 607–609. \n",
    "\n",
    "O’Reilly, Randall C., & Munakata, Yuko (2000). \n",
    "Computational explorations in cognitive neuroscience. MIT Press.\n",
    "\n",
    "Ostwald, Dirk, Kirilina, Evgeniya, Starke, Ludger, & Blankenburg, Felix (2014). A tutorial on variational Bayes for latent linear stochastic time-series models. Journal of Mathematical Psychology, 60, 1–19. \n",
    "\n",
    "Rao, Rajesh P. N., & Ballard, Dana H. (1999). Predictive coding in the visual cortex: a functional interpretation of some extra-classical receptive-field effects. Nature Neuroscience, 2, 79–87. \n",
    "\n",
    "Strogatz, Steven (1994). Nonlinear dynamics and chaos. Westview Press. \n",
    "\n",
    " "
   ]
  }
 ],
 "metadata": {
  "kernelspec": {
   "display_name": "Python 2",
   "language": "python",
   "name": "python2"
  },
  "language_info": {
   "codemirror_mode": {
    "name": "ipython",
    "version": 2
   },
   "file_extension": ".py",
   "mimetype": "text/x-python",
   "name": "python",
   "nbconvert_exporter": "python",
   "pygments_lexer": "ipython2",
   "version": "2.7.16"
  },
  "widgets": {
   "application/vnd.jupyter.widget-state+json": {
    "state": {
     "01364503c8b94670a4d90d0a3fd60728": {
      "model_module": "@jupyter-widgets/base",
      "model_module_version": "1.1.0",
      "model_name": "LayoutModel",
      "state": {}
     },
     "0138df79a75b47c293020d3abc57c207": {
      "model_module": "@jupyter-widgets/controls",
      "model_module_version": "1.4.0",
      "model_name": "SliderStyleModel",
      "state": {
       "description_width": ""
      }
     },
     "01af32ee83464552bfde20ce6fe13317": {
      "model_module": "@jupyter-widgets/base",
      "model_module_version": "1.1.0",
      "model_name": "LayoutModel",
      "state": {}
     },
     "0265ead35363493c847497a2095d2c88": {
      "model_module": "@jupyter-widgets/controls",
      "model_module_version": "1.4.0",
      "model_name": "SliderStyleModel",
      "state": {
       "description_width": ""
      }
     },
     "026f8c4525084292a22721a6dac9aa33": {
      "model_module": "@jupyter-widgets/controls",
      "model_module_version": "1.4.0",
      "model_name": "SliderStyleModel",
      "state": {
       "description_width": ""
      }
     },
     "02a6d807f3cd4966b1060e1fb4c919de": {
      "model_module": "@jupyter-widgets/output",
      "model_module_version": "1.0.0",
      "model_name": "OutputModel",
      "state": {
       "layout": "IPY_MODEL_41ca0c964bbf43b58eea25d3105955d8"
      }
     },
     "03ad8b6cb772435eba9ac1deedb53b6c": {
      "model_module": "@jupyter-widgets/controls",
      "model_module_version": "1.4.0",
      "model_name": "VBoxModel",
      "state": {
       "_dom_classes": [
        "widget-interact"
       ],
       "children": [
        "IPY_MODEL_40b94c6373474745bd9cb172a7f94b03",
        "IPY_MODEL_e51cc5f179d747b8b9fd142f54949fd5",
        "IPY_MODEL_e0ad0d0e71854b99a7c5380fb3739795",
        "IPY_MODEL_778c60e0d00d48728d8c690e1141367b",
        "IPY_MODEL_3412d1bb16ee463da0b268a911936310"
       ],
       "layout": "IPY_MODEL_7638bbc6c5d147feafa40a4bb3a8a649"
      }
     },
     "05809d98c90b4c56a4ad9b26f90a4560": {
      "model_module": "@jupyter-widgets/controls",
      "model_module_version": "1.4.0",
      "model_name": "VBoxModel",
      "state": {
       "_dom_classes": [
        "widget-interact"
       ],
       "children": [
        "IPY_MODEL_ef768dd139334881ad9a087b680cfa94",
        "IPY_MODEL_312ab06cf4d9404cabd0ece4258707db",
        "IPY_MODEL_d97260db53fe44ac90d9ca4a82a08a98",
        "IPY_MODEL_ecbb2360b6544714bfaf679b5f08572c",
        "IPY_MODEL_14b8f06179ab48cfa3960a261428c048"
       ],
       "layout": "IPY_MODEL_3db9e31ce8614856936759e89c738c9e"
      }
     },
     "058da90a900942049584d3c7b6826265": {
      "model_module": "@jupyter-widgets/output",
      "model_module_version": "1.0.0",
      "model_name": "OutputModel",
      "state": {
       "layout": "IPY_MODEL_2d1b8843d0134fd6a0d5b6b44c34909d"
      }
     },
     "05c588d2e3e748e280908ad651dba5f1": {
      "model_module": "@jupyter-widgets/base",
      "model_module_version": "1.1.0",
      "model_name": "LayoutModel",
      "state": {}
     },
     "06b3f360f584494cb5bb137c66599243": {
      "model_module": "@jupyter-widgets/base",
      "model_module_version": "1.1.0",
      "model_name": "LayoutModel",
      "state": {}
     },
     "074f20aed03a4fdda78df5955962863b": {
      "model_module": "@jupyter-widgets/base",
      "model_module_version": "1.1.0",
      "model_name": "LayoutModel",
      "state": {}
     },
     "0758836350084d4d8362f66535976b60": {
      "model_module": "@jupyter-widgets/controls",
      "model_module_version": "1.4.0",
      "model_name": "FloatSliderModel",
      "state": {
       "description": "sigma_u",
       "layout": "IPY_MODEL_0fb187d8079d4c98b5593861a382a754",
       "max": 10,
       "min": 0.1,
       "step": 0.1,
       "style": "IPY_MODEL_a27f4b80471b4635b3bde1d374219229",
       "value": 1
      }
     },
     "0775403cb41342bf9cdfe7807c29f616": {
      "model_module": "@jupyter-widgets/controls",
      "model_module_version": "1.4.0",
      "model_name": "FloatSliderModel",
      "state": {
       "continuous_update": false,
       "description": "sigma_u",
       "layout": "IPY_MODEL_5caddfdb3c5a42a1951e69fa58c9c218",
       "max": 10,
       "min": 0.1,
       "step": 0.1,
       "style": "IPY_MODEL_50a8945932d149d2b72eee8b0b2a1cfa",
       "value": 1.1
      }
     },
     "07e00e39518148f89a6480419da97475": {
      "model_module": "@jupyter-widgets/base",
      "model_module_version": "1.1.0",
      "model_name": "LayoutModel",
      "state": {}
     },
     "081ab947ae5c4b5d9ff81d2be28dc2e9": {
      "model_module": "@jupyter-widgets/controls",
      "model_module_version": "1.4.0",
      "model_name": "FloatSliderModel",
      "state": {
       "description": "v_p",
       "layout": "IPY_MODEL_5297aabb4f504203a86f7f3e0258c92a",
       "max": 5,
       "min": 0.1,
       "step": 0.1,
       "style": "IPY_MODEL_4ac06c4e0ca64b05b3bf4e749ffad586",
       "value": 3
      }
     },
     "084e7c1f8f0e459487a2324e85db7180": {
      "model_module": "@jupyter-widgets/base",
      "model_module_version": "1.1.0",
      "model_name": "LayoutModel",
      "state": {}
     },
     "08b719bfc6b04f0da52edcf142f6ec9d": {
      "model_module": "@jupyter-widgets/base",
      "model_module_version": "1.1.0",
      "model_name": "LayoutModel",
      "state": {}
     },
     "0938a7cc4f7842039ad9ff2c7b4ea3dd": {
      "model_module": "@jupyter-widgets/controls",
      "model_module_version": "1.4.0",
      "model_name": "FloatSliderModel",
      "state": {
       "description": "u",
       "layout": "IPY_MODEL_484a9905b83946f99ca7b075a86e03e9",
       "max": 20,
       "min": 0.1,
       "step": 0.1,
       "style": "IPY_MODEL_daca16e142e14fd59fcf539eecd1d348",
       "value": 3.3
      }
     },
     "0a94a78ebc4f4e1797208073b7e7f216": {
      "model_module": "@jupyter-widgets/controls",
      "model_module_version": "1.4.0",
      "model_name": "SliderStyleModel",
      "state": {
       "description_width": ""
      }
     },
     "0b3968390a2645aaa622074282cc13e2": {
      "model_module": "@jupyter-widgets/controls",
      "model_module_version": "1.4.0",
      "model_name": "VBoxModel",
      "state": {
       "_dom_classes": [
        "widget-interact"
       ],
       "children": [
        "IPY_MODEL_b92105a9ae4049c282e31fcb25f1e495",
        "IPY_MODEL_95a85b6ccf5343d5b11241911f78f8dd",
        "IPY_MODEL_af7f3f00f4da4a20892878a50e5595f8",
        "IPY_MODEL_52d7b63900d14554b83c089ad88dba39",
        "IPY_MODEL_3bb9407ee1534099a152c89bf7ba2ac1"
       ],
       "layout": "IPY_MODEL_82b5b7f9da664c54ab0dbf3503f73005"
      }
     },
     "0ce3d79c3e164c7c861107adabd7a0df": {
      "model_module": "@jupyter-widgets/controls",
      "model_module_version": "1.4.0",
      "model_name": "SliderStyleModel",
      "state": {
       "description_width": ""
      }
     },
     "0d99b5f8cea44808aa747a6fa3aabbbf": {
      "model_module": "@jupyter-widgets/controls",
      "model_module_version": "1.4.0",
      "model_name": "VBoxModel",
      "state": {
       "_dom_classes": [
        "widget-interact"
       ],
       "children": [
        "IPY_MODEL_22184f97582b487ea385d1b7dd77571c",
        "IPY_MODEL_b455cceeafce40b5a159324c173c1fa6",
        "IPY_MODEL_4357beaee0ce42a8a106f757855163bc",
        "IPY_MODEL_7b76489ea6dd4cfabf11dc67fb89616b",
        "IPY_MODEL_16046fdbf0814d979c9bd94957ce34ea"
       ],
       "layout": "IPY_MODEL_79d71aeeb8de412d808eafb4d30ae126"
      }
     },
     "0dfcb93477ef411fb98bb0cac57f7758": {
      "model_module": "@jupyter-widgets/controls",
      "model_module_version": "1.4.0",
      "model_name": "SliderStyleModel",
      "state": {
       "description_width": ""
      }
     },
     "0fb187d8079d4c98b5593861a382a754": {
      "model_module": "@jupyter-widgets/base",
      "model_module_version": "1.1.0",
      "model_name": "LayoutModel",
      "state": {}
     },
     "110988d5f1a84fb285591d49246a3e02": {
      "model_module": "@jupyter-widgets/controls",
      "model_module_version": "1.4.0",
      "model_name": "SliderStyleModel",
      "state": {
       "description_width": ""
      }
     },
     "11d159347a9d45ccade69e47ec34adce": {
      "model_module": "@jupyter-widgets/controls",
      "model_module_version": "1.4.0",
      "model_name": "SliderStyleModel",
      "state": {
       "description_width": ""
      }
     },
     "1251783f37244bdab3d2f6e6c5932068": {
      "model_module": "@jupyter-widgets/controls",
      "model_module_version": "1.4.0",
      "model_name": "FloatSliderModel",
      "state": {
       "description": "sigma_p",
       "layout": "IPY_MODEL_7ed33e4c03804f738d8ee996c1742270",
       "max": 10,
       "min": 0.1,
       "step": 0.1,
       "style": "IPY_MODEL_4b18b22702fa4fa4a9107af1da0d33d2",
       "value": 1
      }
     },
     "1251a1312803445b84b55ac7eef574e0": {
      "model_module": "@jupyter-widgets/controls",
      "model_module_version": "1.4.0",
      "model_name": "VBoxModel",
      "state": {
       "_dom_classes": [
        "widget-interact"
       ],
       "children": [
        "IPY_MODEL_9c0249a374ae4523b54a10cf61b57df7",
        "IPY_MODEL_cdfdd42f3bf44bd197b7d7a74a8b7699",
        "IPY_MODEL_3394b18bd9f54cdb94877b7283893a57",
        "IPY_MODEL_c767839ceccd465aaaa408863aaf4a51",
        "IPY_MODEL_c19adb24de1a4534ade5a0cd923154d1"
       ],
       "layout": "IPY_MODEL_1d571fc677aa402fb456425f6ebf4e80"
      }
     },
     "1281f318a17f451da17e17d074e588c6": {
      "model_module": "@jupyter-widgets/controls",
      "model_module_version": "1.4.0",
      "model_name": "SliderStyleModel",
      "state": {
       "description_width": ""
      }
     },
     "1295d11c67c64105b6b4a8d6cd18abc5": {
      "model_module": "@jupyter-widgets/controls",
      "model_module_version": "1.4.0",
      "model_name": "SliderStyleModel",
      "state": {
       "description_width": ""
      }
     },
     "12a7fa741e674682b63b8558d6ae8ce2": {
      "model_module": "@jupyter-widgets/controls",
      "model_module_version": "1.4.0",
      "model_name": "FloatSliderModel",
      "state": {
       "continuous_update": false,
       "description": "sigma_p",
       "layout": "IPY_MODEL_e9bc07a478da44698716525ad1686c8a",
       "max": 10,
       "min": 0.1,
       "step": 0.1,
       "style": "IPY_MODEL_37b4040a3f7c4cf9ad642bd02e8e9554",
       "value": 1
      }
     },
     "12b59f26f26f4325aa975992f87ce42d": {
      "model_module": "@jupyter-widgets/base",
      "model_module_version": "1.1.0",
      "model_name": "LayoutModel",
      "state": {}
     },
     "12c15569e8244ba6a9dd9f30a8917f7d": {
      "model_module": "@jupyter-widgets/controls",
      "model_module_version": "1.4.0",
      "model_name": "FloatSliderModel",
      "state": {
       "continuous_update": false,
       "description": "v_p",
       "layout": "IPY_MODEL_26bc21e34f2146a0b67584b887ca40ff",
       "max": 5,
       "min": 0.1,
       "step": 0.1,
       "style": "IPY_MODEL_b1d2c061cd01494c9ab6d8c8b40c2f8b",
       "value": 3
      }
     },
     "1332a46517f0408dbc71bf2846d4c12b": {
      "model_module": "@jupyter-widgets/controls",
      "model_module_version": "1.4.0",
      "model_name": "SliderStyleModel",
      "state": {
       "description_width": ""
      }
     },
     "142ed91c5b8f43a89ec1cb67631e495f": {
      "model_module": "@jupyter-widgets/base",
      "model_module_version": "1.1.0",
      "model_name": "LayoutModel",
      "state": {}
     },
     "143b6f4da7bb43b8a20f5a274974cd88": {
      "model_module": "@jupyter-widgets/controls",
      "model_module_version": "1.4.0",
      "model_name": "SliderStyleModel",
      "state": {
       "description_width": ""
      }
     },
     "1478073313e64086a5fbc1847dfdffc1": {
      "model_module": "@jupyter-widgets/controls",
      "model_module_version": "1.4.0",
      "model_name": "FloatSliderModel",
      "state": {
       "continuous_update": false,
       "layout": "IPY_MODEL_9228ab052e8e44fcad85aa48afd23a15",
       "max": 20,
       "min": 0.1,
       "step": 0.1,
       "style": "IPY_MODEL_34259a5496914819b7d4d3cd69dc24a1",
       "value": 0.1
      }
     },
     "14954344361c452bae671de0f2e0a62c": {
      "model_module": "@jupyter-widgets/base",
      "model_module_version": "1.1.0",
      "model_name": "LayoutModel",
      "state": {}
     },
     "14b8f06179ab48cfa3960a261428c048": {
      "model_module": "@jupyter-widgets/output",
      "model_module_version": "1.0.0",
      "model_name": "OutputModel",
      "state": {
       "layout": "IPY_MODEL_df834390d009438e9cb8407c95ca1b20"
      }
     },
     "1520034e73f84729a4fdcb1b3c7d7d7b": {
      "model_module": "@jupyter-widgets/controls",
      "model_module_version": "1.4.0",
      "model_name": "FloatSliderModel",
      "state": {
       "description": "u",
       "layout": "IPY_MODEL_494028b5e92848c09d7a9362e22cd11d",
       "max": 20,
       "min": 0.1,
       "step": 0.1,
       "style": "IPY_MODEL_8da9e750162244e08ffaaddfd882c68b",
       "value": 6
      }
     },
     "1539eaa0e334432dbec6249512f8b187": {
      "model_module": "@jupyter-widgets/base",
      "model_module_version": "1.1.0",
      "model_name": "LayoutModel",
      "state": {}
     },
     "16046fdbf0814d979c9bd94957ce34ea": {
      "model_module": "@jupyter-widgets/output",
      "model_module_version": "1.0.0",
      "model_name": "OutputModel",
      "state": {
       "layout": "IPY_MODEL_1d58656843a243a68e0868a84088a4c7"
      }
     },
     "16196276005c4619a7201ccef5b1321b": {
      "model_module": "@jupyter-widgets/base",
      "model_module_version": "1.1.0",
      "model_name": "LayoutModel",
      "state": {}
     },
     "16e86c3ceea74f499c19de82a5b285f8": {
      "model_module": "@jupyter-widgets/controls",
      "model_module_version": "1.4.0",
      "model_name": "FloatSliderModel",
      "state": {
       "description": "sigma_p",
       "layout": "IPY_MODEL_86d18a17e1ba4a4a96d5db9b31d964bd",
       "max": 10,
       "min": 0.1,
       "step": 0.1,
       "style": "IPY_MODEL_ec9f4aafd67148aea598bb717a601e44",
       "value": 1
      }
     },
     "173600cb1d8b498283caa6b3eba025bf": {
      "model_module": "@jupyter-widgets/base",
      "model_module_version": "1.1.0",
      "model_name": "LayoutModel",
      "state": {}
     },
     "179d85d717ad484c9830968912506d26": {
      "model_module": "@jupyter-widgets/controls",
      "model_module_version": "1.4.0",
      "model_name": "SliderStyleModel",
      "state": {
       "description_width": ""
      }
     },
     "18557fc9ac1c4ae7a1e5b5832c43fa43": {
      "model_module": "@jupyter-widgets/base",
      "model_module_version": "1.1.0",
      "model_name": "LayoutModel",
      "state": {}
     },
     "188a9fff45b04ae3b5474eefbcf3759e": {
      "model_module": "@jupyter-widgets/base",
      "model_module_version": "1.1.0",
      "model_name": "LayoutModel",
      "state": {}
     },
     "19192af43fc94e069b50ed65c31d2e62": {
      "model_module": "@jupyter-widgets/base",
      "model_module_version": "1.1.0",
      "model_name": "LayoutModel",
      "state": {}
     },
     "19369bdf086d4111bde8caca03c55bc7": {
      "model_module": "@jupyter-widgets/base",
      "model_module_version": "1.1.0",
      "model_name": "LayoutModel",
      "state": {}
     },
     "1990e053f3154dfba44881c8b184589b": {
      "model_module": "@jupyter-widgets/controls",
      "model_module_version": "1.4.0",
      "model_name": "SliderStyleModel",
      "state": {
       "description_width": ""
      }
     },
     "199b402b6a1c413da6a80b9296646342": {
      "model_module": "@jupyter-widgets/base",
      "model_module_version": "1.1.0",
      "model_name": "LayoutModel",
      "state": {}
     },
     "19fea8ffeb1345aaad06e174f689fbfa": {
      "model_module": "@jupyter-widgets/base",
      "model_module_version": "1.1.0",
      "model_name": "LayoutModel",
      "state": {}
     },
     "1a14f5cd32b64d30833f1b2d1c49f8db": {
      "model_module": "@jupyter-widgets/controls",
      "model_module_version": "1.4.0",
      "model_name": "SliderStyleModel",
      "state": {
       "description_width": ""
      }
     },
     "1a2fe6d72bf642d4b18b0beb26710dcd": {
      "model_module": "@jupyter-widgets/controls",
      "model_module_version": "1.4.0",
      "model_name": "SliderStyleModel",
      "state": {
       "description_width": ""
      }
     },
     "1ab3f4de3d3346f2b1bb70a425bf4861": {
      "model_module": "@jupyter-widgets/controls",
      "model_module_version": "1.4.0",
      "model_name": "FloatSliderModel",
      "state": {
       "description": "u",
       "layout": "IPY_MODEL_8d64606adadc446e84c6bdc2111f4a11",
       "max": 20,
       "min": 0.1,
       "step": 0.1,
       "style": "IPY_MODEL_76b86f4e28824a3587f582f5440c8726",
       "value": 2
      }
     },
     "1b85d94e8c5c4f0db44f7c5ac7cabb60": {
      "model_module": "@jupyter-widgets/controls",
      "model_module_version": "1.4.0",
      "model_name": "FloatSliderModel",
      "state": {
       "continuous_update": false,
       "description": "u",
       "layout": "IPY_MODEL_78a800cde40b4913a94e5a0dc0186c73",
       "max": 20,
       "min": 0.1,
       "step": 0.1,
       "style": "IPY_MODEL_1990e053f3154dfba44881c8b184589b",
       "value": 2
      }
     },
     "1b8ad0dc1b99455ea9768db6da9829ed": {
      "model_module": "@jupyter-widgets/controls",
      "model_module_version": "1.4.0",
      "model_name": "SliderStyleModel",
      "state": {
       "description_width": ""
      }
     },
     "1bfcc13a68b247ecac4ea48709c16a5a": {
      "model_module": "@jupyter-widgets/controls",
      "model_module_version": "1.4.0",
      "model_name": "FloatSliderModel",
      "state": {
       "continuous_update": false,
       "description": "sigma_p",
       "layout": "IPY_MODEL_e6a83f16e9154eb28e21153677f14fae",
       "max": 10,
       "min": 0.1,
       "step": 0.1,
       "style": "IPY_MODEL_81a86059a6644ab482f356199a4a06cd",
       "value": 1
      }
     },
     "1c0d486284d54e9d88483418d19683d6": {
      "model_module": "@jupyter-widgets/controls",
      "model_module_version": "1.4.0",
      "model_name": "SliderStyleModel",
      "state": {
       "description_width": ""
      }
     },
     "1d571fc677aa402fb456425f6ebf4e80": {
      "model_module": "@jupyter-widgets/base",
      "model_module_version": "1.1.0",
      "model_name": "LayoutModel",
      "state": {}
     },
     "1d58656843a243a68e0868a84088a4c7": {
      "model_module": "@jupyter-widgets/base",
      "model_module_version": "1.1.0",
      "model_name": "LayoutModel",
      "state": {}
     },
     "1d7a6aac647a4dfd9a865f4b343a2a57": {
      "model_module": "@jupyter-widgets/base",
      "model_module_version": "1.1.0",
      "model_name": "LayoutModel",
      "state": {}
     },
     "1dfdef319d9b43d0a3cd513bfb5ce092": {
      "model_module": "@jupyter-widgets/controls",
      "model_module_version": "1.4.0",
      "model_name": "FloatSliderModel",
      "state": {
       "description": "v_p",
       "layout": "IPY_MODEL_a7c7e599252741f7934e977b71c8c737",
       "max": 5,
       "min": 0.1,
       "step": 0.1,
       "style": "IPY_MODEL_9b1feab88170419d8ab6cb29d53cea30",
       "value": 3
      }
     },
     "1e69789fb08c4a1eb10b149cfe2ebd18": {
      "model_module": "@jupyter-widgets/base",
      "model_module_version": "1.1.0",
      "model_name": "LayoutModel",
      "state": {}
     },
     "1ec58c15da9e44369e40a956daa5a105": {
      "model_module": "@jupyter-widgets/base",
      "model_module_version": "1.1.0",
      "model_name": "LayoutModel",
      "state": {}
     },
     "1ed878f190ff42d1aa28af9d09754f3d": {
      "model_module": "@jupyter-widgets/base",
      "model_module_version": "1.1.0",
      "model_name": "LayoutModel",
      "state": {}
     },
     "1efaa86ba2fb4a01a25498d5856e1382": {
      "model_module": "@jupyter-widgets/base",
      "model_module_version": "1.1.0",
      "model_name": "LayoutModel",
      "state": {}
     },
     "1f58326e892d4ddb8db1f6bc88efb2bf": {
      "model_module": "@jupyter-widgets/base",
      "model_module_version": "1.1.0",
      "model_name": "LayoutModel",
      "state": {}
     },
     "1fdd363b90ed4b54a4a9476727e1c860": {
      "model_module": "@jupyter-widgets/controls",
      "model_module_version": "1.4.0",
      "model_name": "SliderStyleModel",
      "state": {
       "description_width": ""
      }
     },
     "208ddc395be140af905f9df6331e6193": {
      "model_module": "@jupyter-widgets/base",
      "model_module_version": "1.1.0",
      "model_name": "LayoutModel",
      "state": {}
     },
     "22184f97582b487ea385d1b7dd77571c": {
      "model_module": "@jupyter-widgets/controls",
      "model_module_version": "1.4.0",
      "model_name": "FloatSliderModel",
      "state": {
       "description": "u",
       "layout": "IPY_MODEL_e89f489979fd4cd7a89bc0fdf54ce165",
       "max": 20,
       "min": 0.1,
       "step": 0.1,
       "style": "IPY_MODEL_8f4204057c2e41b9af3992c8a3447c30",
       "value": 2
      }
     },
     "23b29696e6c9442abd8e2cee3c11d43c": {
      "model_module": "@jupyter-widgets/base",
      "model_module_version": "1.1.0",
      "model_name": "LayoutModel",
      "state": {}
     },
     "23b7506c0b7b43cb88c8b2c6aca8ce16": {
      "model_module": "@jupyter-widgets/controls",
      "model_module_version": "1.4.0",
      "model_name": "FloatSliderModel",
      "state": {
       "continuous_update": false,
       "description": "sigma_u",
       "layout": "IPY_MODEL_199b402b6a1c413da6a80b9296646342",
       "max": 10,
       "min": 0.1,
       "step": 0.1,
       "style": "IPY_MODEL_5580e0d11624402580389b7ec6da704b",
       "value": 2.3
      }
     },
     "24f4092a0af546e49bdb96e56f890c23": {
      "model_module": "@jupyter-widgets/controls",
      "model_module_version": "1.4.0",
      "model_name": "VBoxModel",
      "state": {
       "_dom_classes": [
        "widget-interact"
       ],
       "children": [
        "IPY_MODEL_5e9043ee206b40aba25a3f7e8ee38603",
        "IPY_MODEL_f65cae9b11704bdc9594d4e61a976cf3",
        "IPY_MODEL_d50af1e55d8b4735b4ef7de66a3c686b",
        "IPY_MODEL_1bfcc13a68b247ecac4ea48709c16a5a",
        "IPY_MODEL_6bccc59ae6b641e4826d4ec45991b076"
       ],
       "layout": "IPY_MODEL_630825f55da5413a9e86856f6c725fa9"
      }
     },
     "24f73d31588248f89144352d816d2314": {
      "model_module": "@jupyter-widgets/controls",
      "model_module_version": "1.4.0",
      "model_name": "FloatSliderModel",
      "state": {
       "description": "sigma_p",
       "layout": "IPY_MODEL_1ec58c15da9e44369e40a956daa5a105",
       "max": 10,
       "min": 0.1,
       "step": 0.1,
       "style": "IPY_MODEL_389661f325ab4be183b301c390988079",
       "value": 1
      }
     },
     "25ff9a0f875f4073b0e599285a3b783a": {
      "model_module": "@jupyter-widgets/base",
      "model_module_version": "1.1.0",
      "model_name": "LayoutModel",
      "state": {}
     },
     "2631c91762384622b787e21c9e3188f0": {
      "model_module": "@jupyter-widgets/base",
      "model_module_version": "1.1.0",
      "model_name": "LayoutModel",
      "state": {}
     },
     "265b4713deee4e679c5d550b3f7bb910": {
      "model_module": "@jupyter-widgets/controls",
      "model_module_version": "1.4.0",
      "model_name": "SliderStyleModel",
      "state": {
       "description_width": ""
      }
     },
     "26877f4d5e814fc1b5b15f64b7e62ffb": {
      "model_module": "@jupyter-widgets/base",
      "model_module_version": "1.1.0",
      "model_name": "LayoutModel",
      "state": {}
     },
     "26ac6062ab984cb59fa41a6827084056": {
      "model_module": "@jupyter-widgets/output",
      "model_module_version": "1.0.0",
      "model_name": "OutputModel",
      "state": {
       "layout": "IPY_MODEL_ee911879bb5047f8b155e260f62d65f8",
       "outputs": [
        {
         "ename": "NameError",
         "evalue": "global name 'sleep' is not defined",
         "output_type": "error",
         "traceback": [
          "\u001b[0;31m---------------------------------------------------------------------------\u001b[0m",
          "\u001b[0;31mNameError\u001b[0m                                 Traceback (most recent call last)",
          "\u001b[0;32m/Users/andrevanschaik/anaconda2/lib/python2.7/site-packages/ipywidgets/widgets/interaction.pyc\u001b[0m in \u001b[0;36mupdate\u001b[0;34m(self, *args)\u001b[0m\n\u001b[1;32m    249\u001b[0m                     \u001b[0mvalue\u001b[0m \u001b[0;34m=\u001b[0m \u001b[0mwidget\u001b[0m\u001b[0;34m.\u001b[0m\u001b[0mget_interact_value\u001b[0m\u001b[0;34m(\u001b[0m\u001b[0;34m)\u001b[0m\u001b[0;34m\u001b[0m\u001b[0m\n\u001b[1;32m    250\u001b[0m                     \u001b[0mself\u001b[0m\u001b[0;34m.\u001b[0m\u001b[0mkwargs\u001b[0m\u001b[0;34m[\u001b[0m\u001b[0mwidget\u001b[0m\u001b[0;34m.\u001b[0m\u001b[0m_kwarg\u001b[0m\u001b[0;34m]\u001b[0m \u001b[0;34m=\u001b[0m \u001b[0mvalue\u001b[0m\u001b[0;34m\u001b[0m\u001b[0m\n\u001b[0;32m--> 251\u001b[0;31m                 \u001b[0mself\u001b[0m\u001b[0;34m.\u001b[0m\u001b[0mresult\u001b[0m \u001b[0;34m=\u001b[0m \u001b[0mself\u001b[0m\u001b[0;34m.\u001b[0m\u001b[0mf\u001b[0m\u001b[0;34m(\u001b[0m\u001b[0;34m**\u001b[0m\u001b[0mself\u001b[0m\u001b[0;34m.\u001b[0m\u001b[0mkwargs\u001b[0m\u001b[0;34m)\u001b[0m\u001b[0;34m\u001b[0m\u001b[0m\n\u001b[0m\u001b[1;32m    252\u001b[0m                 \u001b[0mshow_inline_matplotlib_plots\u001b[0m\u001b[0;34m(\u001b[0m\u001b[0;34m)\u001b[0m\u001b[0;34m\u001b[0m\u001b[0m\n\u001b[1;32m    253\u001b[0m                 \u001b[0;32mif\u001b[0m \u001b[0mself\u001b[0m\u001b[0;34m.\u001b[0m\u001b[0mauto_display\u001b[0m \u001b[0;32mand\u001b[0m \u001b[0mself\u001b[0m\u001b[0;34m.\u001b[0m\u001b[0mresult\u001b[0m \u001b[0;32mis\u001b[0m \u001b[0;32mnot\u001b[0m \u001b[0mNone\u001b[0m\u001b[0;34m:\u001b[0m\u001b[0;34m\u001b[0m\u001b[0m\n",
          "\u001b[0;32m<ipython-input-4-fb828a33c2b3>\u001b[0m in \u001b[0;36mdraw_fig1\u001b[0;34m(u, sigma_u, v_p, sigma_p)\u001b[0m\n\u001b[1;32m      8\u001b[0m         \u001b[0mposterior\u001b[0m \u001b[0;34m/=\u001b[0m \u001b[0mnp\u001b[0m\u001b[0;34m.\u001b[0m\u001b[0msum\u001b[0m\u001b[0;34m(\u001b[0m\u001b[0mposterior\u001b[0m \u001b[0;34m*\u001b[0m \u001b[0mdv\u001b[0m\u001b[0;34m)\u001b[0m\u001b[0;34m\u001b[0m\u001b[0m\n\u001b[1;32m      9\u001b[0m         \u001b[0;34m[\u001b[0m\u001b[0mh\u001b[0m\u001b[0;34m.\u001b[0m\u001b[0mremove\u001b[0m\u001b[0;34m(\u001b[0m\u001b[0;34m)\u001b[0m \u001b[0;32mfor\u001b[0m \u001b[0mh\u001b[0m \u001b[0;32min\u001b[0m \u001b[0max\u001b[0m\u001b[0;34m.\u001b[0m\u001b[0mget_children\u001b[0m\u001b[0;34m(\u001b[0m\u001b[0;34m)\u001b[0m \u001b[0;32mif\u001b[0m \u001b[0misinstance\u001b[0m\u001b[0;34m(\u001b[0m\u001b[0mh\u001b[0m\u001b[0;34m,\u001b[0m \u001b[0mmatplotlib\u001b[0m\u001b[0;34m.\u001b[0m\u001b[0mlines\u001b[0m\u001b[0;34m.\u001b[0m\u001b[0mLine2D\u001b[0m\u001b[0;34m)\u001b[0m\u001b[0;34m]\u001b[0m\u001b[0;34m\u001b[0m\u001b[0m\n\u001b[0;32m---> 10\u001b[0;31m         \u001b[0msleep\u001b[0m\u001b[0;34m(\u001b[0m\u001b[0;36m1\u001b[0m\u001b[0;34m)\u001b[0m\u001b[0;34m\u001b[0m\u001b[0m\n\u001b[0m\u001b[1;32m     11\u001b[0m         \u001b[0max\u001b[0m\u001b[0;34m.\u001b[0m\u001b[0mplot\u001b[0m\u001b[0;34m(\u001b[0m\u001b[0mv\u001b[0m\u001b[0;34m,\u001b[0m \u001b[0mposterior\u001b[0m\u001b[0;34m,\u001b[0m \u001b[0;34m'deepskyblue'\u001b[0m\u001b[0;34m,\u001b[0m \u001b[0mlabel\u001b[0m\u001b[0;34m=\u001b[0m\u001b[0;34m'posterior'\u001b[0m\u001b[0;34m)\u001b[0m\u001b[0;34m\u001b[0m\u001b[0m\n\u001b[1;32m     12\u001b[0m         \u001b[0max\u001b[0m\u001b[0;34m.\u001b[0m\u001b[0mplot\u001b[0m\u001b[0;34m(\u001b[0m\u001b[0mv\u001b[0m\u001b[0;34m,\u001b[0m \u001b[0mprior\u001b[0m\u001b[0;34m,\u001b[0m \u001b[0;34m'orange'\u001b[0m\u001b[0;34m,\u001b[0m \u001b[0mlabel\u001b[0m\u001b[0;34m=\u001b[0m\u001b[0;34m'prior'\u001b[0m\u001b[0;34m)\u001b[0m\u001b[0;34m\u001b[0m\u001b[0m\n",
          "\u001b[0;31mNameError\u001b[0m: global name 'sleep' is not defined"
         ]
        }
       ]
      }
     },
     "26bc21e34f2146a0b67584b887ca40ff": {
      "model_module": "@jupyter-widgets/base",
      "model_module_version": "1.1.0",
      "model_name": "LayoutModel",
      "state": {}
     },
     "271bb03a2e494d88b2fe2b42fbff4c20": {
      "model_module": "@jupyter-widgets/base",
      "model_module_version": "1.1.0",
      "model_name": "LayoutModel",
      "state": {}
     },
     "282f40815e7141258e294608f505bc8e": {
      "model_module": "@jupyter-widgets/controls",
      "model_module_version": "1.4.0",
      "model_name": "SliderStyleModel",
      "state": {
       "description_width": ""
      }
     },
     "290775d3a8e64ac3ade77f44dcd84b00": {
      "model_module": "@jupyter-widgets/base",
      "model_module_version": "1.1.0",
      "model_name": "LayoutModel",
      "state": {}
     },
     "2a3b24b1a3884fae820b6b638154cb7f": {
      "model_module": "@jupyter-widgets/base",
      "model_module_version": "1.1.0",
      "model_name": "LayoutModel",
      "state": {}
     },
     "2b5289eefc004adf939fccbcbd2f54f3": {
      "model_module": "@jupyter-widgets/controls",
      "model_module_version": "1.4.0",
      "model_name": "FloatSliderModel",
      "state": {
       "description": "sigma_p",
       "layout": "IPY_MODEL_06b3f360f584494cb5bb137c66599243",
       "max": 10,
       "min": 0.1,
       "step": 0.1,
       "style": "IPY_MODEL_8a82a824fadd4e388dc98fb2ac049da5",
       "value": 1
      }
     },
     "2b9275c74319431f9c8c97078a4344fb": {
      "model_module": "@jupyter-widgets/controls",
      "model_module_version": "1.4.0",
      "model_name": "SliderStyleModel",
      "state": {
       "description_width": ""
      }
     },
     "2bbbac31076f429e80888379219ebf0f": {
      "model_module": "@jupyter-widgets/base",
      "model_module_version": "1.1.0",
      "model_name": "LayoutModel",
      "state": {}
     },
     "2c7d19e55978496f9ec96775c295de3e": {
      "model_module": "@jupyter-widgets/controls",
      "model_module_version": "1.4.0",
      "model_name": "SliderStyleModel",
      "state": {
       "description_width": ""
      }
     },
     "2ca7bfda85b04a04b766af3a2b08d209": {
      "model_module": "@jupyter-widgets/base",
      "model_module_version": "1.1.0",
      "model_name": "LayoutModel",
      "state": {}
     },
     "2d1b8843d0134fd6a0d5b6b44c34909d": {
      "model_module": "@jupyter-widgets/base",
      "model_module_version": "1.1.0",
      "model_name": "LayoutModel",
      "state": {}
     },
     "2dae003e974244b5ba1e6857ed0a0c1f": {
      "model_module": "@jupyter-widgets/controls",
      "model_module_version": "1.4.0",
      "model_name": "FloatSliderModel",
      "state": {
       "continuous_update": false,
       "description": "sigma_u",
       "layout": "IPY_MODEL_b3889b55aa6e43f7870cd49fe75fcd7d",
       "max": 10,
       "min": 0.1,
       "step": 0.1,
       "style": "IPY_MODEL_abda9fa8150447b6b0fe6f2cba66cb16",
       "value": 4
      }
     },
     "2e4e6f2f0c7f4e2e90bfe1fd6bc40bfa": {
      "model_module": "@jupyter-widgets/base",
      "model_module_version": "1.1.0",
      "model_name": "LayoutModel",
      "state": {}
     },
     "2e7c724e32f649dc9b95034be54778ce": {
      "model_module": "@jupyter-widgets/output",
      "model_module_version": "1.0.0",
      "model_name": "OutputModel",
      "state": {
       "layout": "IPY_MODEL_98b93a85030846218c92c972ab2ac5d2",
       "outputs": [
        {
         "ename": "AttributeError",
         "evalue": "'function' object has no attribute 'clear_output'",
         "output_type": "error",
         "traceback": [
          "\u001b[0;31m---------------------------------------------------------------------------\u001b[0m",
          "\u001b[0;31mAttributeError\u001b[0m                            Traceback (most recent call last)",
          "\u001b[0;32m/Users/andrevanschaik/anaconda2/lib/python2.7/site-packages/ipywidgets/widgets/interaction.pyc\u001b[0m in \u001b[0;36mupdate\u001b[0;34m(self, *args)\u001b[0m\n\u001b[1;32m    249\u001b[0m                     \u001b[0mvalue\u001b[0m \u001b[0;34m=\u001b[0m \u001b[0mwidget\u001b[0m\u001b[0;34m.\u001b[0m\u001b[0mget_interact_value\u001b[0m\u001b[0;34m(\u001b[0m\u001b[0;34m)\u001b[0m\u001b[0;34m\u001b[0m\u001b[0m\n\u001b[1;32m    250\u001b[0m                     \u001b[0mself\u001b[0m\u001b[0;34m.\u001b[0m\u001b[0mkwargs\u001b[0m\u001b[0;34m[\u001b[0m\u001b[0mwidget\u001b[0m\u001b[0;34m.\u001b[0m\u001b[0m_kwarg\u001b[0m\u001b[0;34m]\u001b[0m \u001b[0;34m=\u001b[0m \u001b[0mvalue\u001b[0m\u001b[0;34m\u001b[0m\u001b[0m\n\u001b[0;32m--> 251\u001b[0;31m                 \u001b[0mself\u001b[0m\u001b[0;34m.\u001b[0m\u001b[0mresult\u001b[0m \u001b[0;34m=\u001b[0m \u001b[0mself\u001b[0m\u001b[0;34m.\u001b[0m\u001b[0mf\u001b[0m\u001b[0;34m(\u001b[0m\u001b[0;34m**\u001b[0m\u001b[0mself\u001b[0m\u001b[0;34m.\u001b[0m\u001b[0mkwargs\u001b[0m\u001b[0;34m)\u001b[0m\u001b[0;34m\u001b[0m\u001b[0m\n\u001b[0m\u001b[1;32m    252\u001b[0m                 \u001b[0mshow_inline_matplotlib_plots\u001b[0m\u001b[0;34m(\u001b[0m\u001b[0;34m)\u001b[0m\u001b[0;34m\u001b[0m\u001b[0m\n\u001b[1;32m    253\u001b[0m                 \u001b[0;32mif\u001b[0m \u001b[0mself\u001b[0m\u001b[0;34m.\u001b[0m\u001b[0mauto_display\u001b[0m \u001b[0;32mand\u001b[0m \u001b[0mself\u001b[0m\u001b[0;34m.\u001b[0m\u001b[0mresult\u001b[0m \u001b[0;32mis\u001b[0m \u001b[0;32mnot\u001b[0m \u001b[0mNone\u001b[0m\u001b[0;34m:\u001b[0m\u001b[0;34m\u001b[0m\u001b[0m\n",
          "\u001b[0;32m<ipython-input-8-ab01e8210383>\u001b[0m in \u001b[0;36mdraw_fig1\u001b[0;34m(u, sigma_u, v_p, sigma_p)\u001b[0m\n\u001b[1;32m      7\u001b[0m         \u001b[0mposterior\u001b[0m \u001b[0;34m=\u001b[0m \u001b[0mNormal\u001b[0m\u001b[0;34m(\u001b[0m\u001b[0mu\u001b[0m\u001b[0;34m,\u001b[0m \u001b[0mg\u001b[0m\u001b[0;34m(\u001b[0m\u001b[0mv\u001b[0m\u001b[0;34m)\u001b[0m\u001b[0;34m,\u001b[0m \u001b[0msigma_u\u001b[0m\u001b[0;34m)\u001b[0m \u001b[0;34m*\u001b[0m \u001b[0mprior\u001b[0m\u001b[0;34m\u001b[0m\u001b[0m\n\u001b[1;32m      8\u001b[0m         \u001b[0mposterior\u001b[0m \u001b[0;34m/=\u001b[0m \u001b[0mnp\u001b[0m\u001b[0;34m.\u001b[0m\u001b[0msum\u001b[0m\u001b[0;34m(\u001b[0m\u001b[0mposterior\u001b[0m \u001b[0;34m*\u001b[0m \u001b[0mdv\u001b[0m\u001b[0;34m)\u001b[0m\u001b[0;34m\u001b[0m\u001b[0m\n\u001b[0;32m----> 9\u001b[0;31m         \u001b[0mdisplay\u001b[0m\u001b[0;34m.\u001b[0m\u001b[0mclear_output\u001b[0m\u001b[0;34m(\u001b[0m\u001b[0mwait\u001b[0m\u001b[0;34m=\u001b[0m\u001b[0mTrue\u001b[0m\u001b[0;34m)\u001b[0m\u001b[0;34m\u001b[0m\u001b[0m\n\u001b[0m\u001b[1;32m     10\u001b[0m         \u001b[0max\u001b[0m\u001b[0;34m.\u001b[0m\u001b[0mplot\u001b[0m\u001b[0;34m(\u001b[0m\u001b[0mv\u001b[0m\u001b[0;34m,\u001b[0m \u001b[0mposterior\u001b[0m\u001b[0;34m,\u001b[0m \u001b[0;34m'deepskyblue'\u001b[0m\u001b[0;34m,\u001b[0m \u001b[0mlabel\u001b[0m\u001b[0;34m=\u001b[0m\u001b[0;34m'posterior'\u001b[0m\u001b[0;34m)\u001b[0m\u001b[0;34m\u001b[0m\u001b[0m\n\u001b[1;32m     11\u001b[0m         \u001b[0max\u001b[0m\u001b[0;34m.\u001b[0m\u001b[0mplot\u001b[0m\u001b[0;34m(\u001b[0m\u001b[0mv\u001b[0m\u001b[0;34m,\u001b[0m \u001b[0mprior\u001b[0m\u001b[0;34m,\u001b[0m \u001b[0;34m'orange'\u001b[0m\u001b[0;34m,\u001b[0m \u001b[0mlabel\u001b[0m\u001b[0;34m=\u001b[0m\u001b[0;34m'prior'\u001b[0m\u001b[0;34m)\u001b[0m\u001b[0;34m\u001b[0m\u001b[0m\n",
          "\u001b[0;31mAttributeError\u001b[0m: 'function' object has no attribute 'clear_output'"
         ]
        }
       ]
      }
     },
     "2f915ae73494492f9b326448df6de622": {
      "model_module": "@jupyter-widgets/base",
      "model_module_version": "1.1.0",
      "model_name": "LayoutModel",
      "state": {}
     },
     "3008526ddb7045f79baf56f2dfec8db9": {
      "model_module": "@jupyter-widgets/controls",
      "model_module_version": "1.4.0",
      "model_name": "FloatSliderModel",
      "state": {
       "description": "sigma_u",
       "layout": "IPY_MODEL_774bef4c64d64b02b494b855619c2e6d",
       "max": 10,
       "min": 0.1,
       "step": 0.1,
       "style": "IPY_MODEL_cd0bc905b579406d939327da4d6d0b1a",
       "value": 1
      }
     },
     "3084ad3e323a4d9dba0f7b5e1c758e43": {
      "model_module": "@jupyter-widgets/controls",
      "model_module_version": "1.4.0",
      "model_name": "FloatSliderModel",
      "state": {
       "continuous_update": false,
       "description": "sigma_u",
       "layout": "IPY_MODEL_23b29696e6c9442abd8e2cee3c11d43c",
       "max": 10,
       "min": 0.1,
       "step": 0.1,
       "style": "IPY_MODEL_11d159347a9d45ccade69e47ec34adce",
       "value": 1
      }
     },
     "312ab06cf4d9404cabd0ece4258707db": {
      "model_module": "@jupyter-widgets/controls",
      "model_module_version": "1.4.0",
      "model_name": "FloatSliderModel",
      "state": {
       "description": "sigma_u",
       "layout": "IPY_MODEL_9f7bb41ed3cd4031847edf3fa4cd6a41",
       "max": 10,
       "min": 0.1,
       "step": 0.1,
       "style": "IPY_MODEL_396aa4bacb7d4308a20e94b567ffbb12",
       "value": 1
      }
     },
     "314e5654f344418dbdef6c36b3a4c0d6": {
      "model_module": "@jupyter-widgets/controls",
      "model_module_version": "1.4.0",
      "model_name": "VBoxModel",
      "state": {
       "_dom_classes": [
        "widget-interact"
       ],
       "children": [
        "IPY_MODEL_f9a7aa697b0348edac42f4af0524b8d5",
        "IPY_MODEL_9a65e72d24d04cc29a4caf9a5aecdfe2",
        "IPY_MODEL_1dfdef319d9b43d0a3cd513bfb5ce092",
        "IPY_MODEL_81373f11505d48aba75374da848ccee8",
        "IPY_MODEL_ad749b8511c64e279f52c3eda6396710"
       ],
       "layout": "IPY_MODEL_a06cdc9de1f543a89c5bc47e4c1fa9d2"
      }
     },
     "31c743bb48c84f599986ae4accdc2b2e": {
      "model_module": "@jupyter-widgets/output",
      "model_module_version": "1.0.0",
      "model_name": "OutputModel",
      "state": {
       "layout": "IPY_MODEL_a8c2ee6b861241be81b028d2fc97c20c",
       "outputs": [
        {
         "data": {
          "image/png": "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\n",
          "text/plain": "<Figure size 432x288 with 1 Axes>"
         },
         "metadata": {
          "needs_background": "light"
         },
         "output_type": "display_data"
        }
       ]
      }
     },
     "31e688e8aaf341858e7990ab09f295d1": {
      "model_module": "@jupyter-widgets/base",
      "model_module_version": "1.1.0",
      "model_name": "LayoutModel",
      "state": {}
     },
     "321eaa77ecb4420a9e2dc658138212d1": {
      "model_module": "@jupyter-widgets/base",
      "model_module_version": "1.1.0",
      "model_name": "LayoutModel",
      "state": {}
     },
     "327ab324344d4615a3e52fabc151eb6a": {
      "model_module": "@jupyter-widgets/controls",
      "model_module_version": "1.4.0",
      "model_name": "SliderStyleModel",
      "state": {
       "description_width": ""
      }
     },
     "32e5793569f5408892257d4a204df288": {
      "model_module": "@jupyter-widgets/controls",
      "model_module_version": "1.4.0",
      "model_name": "FloatSliderModel",
      "state": {
       "description": "u",
       "layout": "IPY_MODEL_b4e5be6041554579afa6fcfc3fde671e",
       "max": 20,
       "min": 0.1,
       "step": 0.1,
       "style": "IPY_MODEL_c4f97d3b716d45749749e7acfe13026b",
       "value": 4.4
      }
     },
     "3394b18bd9f54cdb94877b7283893a57": {
      "model_module": "@jupyter-widgets/controls",
      "model_module_version": "1.4.0",
      "model_name": "FloatSliderModel",
      "state": {
       "description": "v_p",
       "layout": "IPY_MODEL_6a4ddfb790b64a0993561aadc394595a",
       "max": 5,
       "min": 0.1,
       "step": 0.1,
       "style": "IPY_MODEL_95f12b94bafa440b81d0d201eb48a884",
       "value": 3
      }
     },
     "3412d1bb16ee463da0b268a911936310": {
      "model_module": "@jupyter-widgets/output",
      "model_module_version": "1.0.0",
      "model_name": "OutputModel",
      "state": {
       "layout": "IPY_MODEL_85e4d2c7c04041b78fa8f92ff8b08c21"
      }
     },
     "34259a5496914819b7d4d3cd69dc24a1": {
      "model_module": "@jupyter-widgets/controls",
      "model_module_version": "1.4.0",
      "model_name": "SliderStyleModel",
      "state": {
       "description_width": ""
      }
     },
     "342de3adc603446c99bb03097fc8ddf0": {
      "model_module": "@jupyter-widgets/base",
      "model_module_version": "1.1.0",
      "model_name": "LayoutModel",
      "state": {}
     },
     "3618205f33584c8bb4b85c13c6b1d2e9": {
      "model_module": "@jupyter-widgets/output",
      "model_module_version": "1.0.0",
      "model_name": "OutputModel",
      "state": {
       "layout": "IPY_MODEL_7a258cbf52d3431b840c57693d729368"
      }
     },
     "37b4040a3f7c4cf9ad642bd02e8e9554": {
      "model_module": "@jupyter-widgets/controls",
      "model_module_version": "1.4.0",
      "model_name": "SliderStyleModel",
      "state": {
       "description_width": ""
      }
     },
     "389661f325ab4be183b301c390988079": {
      "model_module": "@jupyter-widgets/controls",
      "model_module_version": "1.4.0",
      "model_name": "SliderStyleModel",
      "state": {
       "description_width": ""
      }
     },
     "396aa4bacb7d4308a20e94b567ffbb12": {
      "model_module": "@jupyter-widgets/controls",
      "model_module_version": "1.4.0",
      "model_name": "SliderStyleModel",
      "state": {
       "description_width": ""
      }
     },
     "39c9ae004721488980b75a27cfc201f5": {
      "model_module": "@jupyter-widgets/controls",
      "model_module_version": "1.4.0",
      "model_name": "FloatSliderModel",
      "state": {
       "continuous_update": false,
       "description": "sigma_u",
       "layout": "IPY_MODEL_1ed878f190ff42d1aa28af9d09754f3d",
       "max": 10,
       "min": 0.1,
       "step": 0.1,
       "style": "IPY_MODEL_748bc5b45ee04e3a825e1c30e0982733",
       "value": 1
      }
     },
     "39f160a512134651aa0a514175f628cb": {
      "model_module": "@jupyter-widgets/controls",
      "model_module_version": "1.4.0",
      "model_name": "SliderStyleModel",
      "state": {
       "description_width": ""
      }
     },
     "3a87a1a2e89b4617baab660b78a6563f": {
      "model_module": "@jupyter-widgets/controls",
      "model_module_version": "1.4.0",
      "model_name": "SliderStyleModel",
      "state": {
       "description_width": ""
      }
     },
     "3b6f884bacfb41b1b4869c1a59287400": {
      "model_module": "@jupyter-widgets/controls",
      "model_module_version": "1.4.0",
      "model_name": "FloatSliderModel",
      "state": {
       "continuous_update": false,
       "description": "v_p",
       "layout": "IPY_MODEL_62e1385e9a20439295ea94615ba14254",
       "max": 5,
       "min": 0.1,
       "step": 0.1,
       "style": "IPY_MODEL_94ddb01514344d22a995c26ea22ca76e",
       "value": 3
      }
     },
     "3bb9407ee1534099a152c89bf7ba2ac1": {
      "model_module": "@jupyter-widgets/output",
      "model_module_version": "1.0.0",
      "model_name": "OutputModel",
      "state": {
       "layout": "IPY_MODEL_bf6258dc1d714da4827f55d7b6669a79"
      }
     },
     "3bc9c055732e4ebbb5daa32bf2d31361": {
      "model_module": "@jupyter-widgets/base",
      "model_module_version": "1.1.0",
      "model_name": "LayoutModel",
      "state": {}
     },
     "3cb0f460034e425fbe04449eae5c63bb": {
      "model_module": "@jupyter-widgets/controls",
      "model_module_version": "1.4.0",
      "model_name": "SliderStyleModel",
      "state": {
       "description_width": ""
      }
     },
     "3d3f9b6129934d619f2963a16bbc68dc": {
      "model_module": "@jupyter-widgets/controls",
      "model_module_version": "1.4.0",
      "model_name": "SliderStyleModel",
      "state": {
       "description_width": ""
      }
     },
     "3d90bce3480b46bba6eeae52c7a9301f": {
      "model_module": "@jupyter-widgets/base",
      "model_module_version": "1.1.0",
      "model_name": "LayoutModel",
      "state": {}
     },
     "3db9e31ce8614856936759e89c738c9e": {
      "model_module": "@jupyter-widgets/base",
      "model_module_version": "1.1.0",
      "model_name": "LayoutModel",
      "state": {}
     },
     "3dda7f38029e4fa69a8119ae5b0e6eee": {
      "model_module": "@jupyter-widgets/controls",
      "model_module_version": "1.4.0",
      "model_name": "FloatSliderModel",
      "state": {
       "description": "v_p",
       "layout": "IPY_MODEL_a4ae871f7aa94ca6b5d3921f10f9ec56",
       "max": 5,
       "min": 0.1,
       "step": 0.1,
       "style": "IPY_MODEL_0dfcb93477ef411fb98bb0cac57f7758",
       "value": 3
      }
     },
     "3e0f90e9790a4ed7ae7310346f656c32": {
      "model_module": "@jupyter-widgets/controls",
      "model_module_version": "1.4.0",
      "model_name": "FloatSliderModel",
      "state": {
       "description": "sigma_p",
       "layout": "IPY_MODEL_a0f01f0e6b534169937b994950dedd32",
       "max": 10,
       "min": 0.1,
       "step": 0.1,
       "style": "IPY_MODEL_39f160a512134651aa0a514175f628cb",
       "value": 1
      }
     },
     "3e4afcbafb864a6097307fe37f8e3a69": {
      "model_module": "@jupyter-widgets/base",
      "model_module_version": "1.1.0",
      "model_name": "LayoutModel",
      "state": {}
     },
     "3e515bc47f2641638523bf7fbe3575a5": {
      "model_module": "@jupyter-widgets/controls",
      "model_module_version": "1.4.0",
      "model_name": "FloatSliderModel",
      "state": {
       "description": "u",
       "layout": "IPY_MODEL_65a838b2773940aba403dd24814f7052",
       "max": 20,
       "min": 0.1,
       "step": 0.1,
       "style": "IPY_MODEL_7157f43bbf23492d919ebdc08e2e4725",
       "value": 2
      }
     },
     "40368cb32ccb42918d031f1d43da38fa": {
      "model_module": "@jupyter-widgets/base",
      "model_module_version": "1.1.0",
      "model_name": "LayoutModel",
      "state": {}
     },
     "403a98bcd0a14dab9c3dee5a95087e72": {
      "model_module": "@jupyter-widgets/controls",
      "model_module_version": "1.4.0",
      "model_name": "SliderStyleModel",
      "state": {
       "description_width": ""
      }
     },
     "4086d671322b452fa9d97b9783b6494f": {
      "model_module": "@jupyter-widgets/base",
      "model_module_version": "1.1.0",
      "model_name": "LayoutModel",
      "state": {}
     },
     "40a6d5e3b49448aaa50e390736d13de2": {
      "model_module": "@jupyter-widgets/controls",
      "model_module_version": "1.4.0",
      "model_name": "SliderStyleModel",
      "state": {
       "description_width": ""
      }
     },
     "40b94c6373474745bd9cb172a7f94b03": {
      "model_module": "@jupyter-widgets/controls",
      "model_module_version": "1.4.0",
      "model_name": "FloatSliderModel",
      "state": {
       "description": "u",
       "layout": "IPY_MODEL_1f58326e892d4ddb8db1f6bc88efb2bf",
       "max": 20,
       "min": 0.1,
       "step": 0.1,
       "style": "IPY_MODEL_d86a1869960d41d7b6f6766afdc83823",
       "value": 2
      }
     },
     "40fa8931f4bd497197c5d1cc29072ac9": {
      "model_module": "@jupyter-widgets/controls",
      "model_module_version": "1.4.0",
      "model_name": "FloatSliderModel",
      "state": {
       "continuous_update": false,
       "description": "v_p",
       "layout": "IPY_MODEL_3bc9c055732e4ebbb5daa32bf2d31361",
       "max": 5,
       "min": 0.1,
       "step": 0.1,
       "style": "IPY_MODEL_e185f37fb1254047bf6fe60ca4b900a5",
       "value": 3
      }
     },
     "41ca0c964bbf43b58eea25d3105955d8": {
      "model_module": "@jupyter-widgets/base",
      "model_module_version": "1.1.0",
      "model_name": "LayoutModel",
      "state": {}
     },
     "41d5de4cb49d42eda5dce2e01722bb1a": {
      "model_module": "@jupyter-widgets/controls",
      "model_module_version": "1.4.0",
      "model_name": "SliderStyleModel",
      "state": {
       "description_width": ""
      }
     },
     "427913289d8347eab4c9574de0a33fcf": {
      "model_module": "@jupyter-widgets/base",
      "model_module_version": "1.1.0",
      "model_name": "LayoutModel",
      "state": {}
     },
     "427999b443204f36857577180d0d263c": {
      "model_module": "@jupyter-widgets/controls",
      "model_module_version": "1.4.0",
      "model_name": "FloatSliderModel",
      "state": {
       "continuous_update": false,
       "description": "sigma_p",
       "layout": "IPY_MODEL_4bb2fefba45147d48c11c7c1993bd14d",
       "max": 10,
       "min": 0.1,
       "step": 0.1,
       "style": "IPY_MODEL_1c0d486284d54e9d88483418d19683d6",
       "value": 1
      }
     },
     "42b6efc47e90442d8dff916ba7dfc48a": {
      "model_module": "@jupyter-widgets/base",
      "model_module_version": "1.1.0",
      "model_name": "LayoutModel",
      "state": {}
     },
     "42c2a3e293ab437da8b0c0a62e1aa083": {
      "model_module": "@jupyter-widgets/controls",
      "model_module_version": "1.4.0",
      "model_name": "SliderStyleModel",
      "state": {
       "description_width": ""
      }
     },
     "4357beaee0ce42a8a106f757855163bc": {
      "model_module": "@jupyter-widgets/controls",
      "model_module_version": "1.4.0",
      "model_name": "FloatSliderModel",
      "state": {
       "description": "v_p",
       "layout": "IPY_MODEL_eb0629b98c9c4d2a9e36243475a5e695",
       "max": 5,
       "min": 0.1,
       "step": 0.1,
       "style": "IPY_MODEL_bde2e3bbb05946b5b2640edecc7f96a2",
       "value": 3
      }
     },
     "43ff39b184d14f2da97dca9a8c56f28b": {
      "model_module": "@jupyter-widgets/base",
      "model_module_version": "1.1.0",
      "model_name": "LayoutModel",
      "state": {}
     },
     "441ea66398534aa4af600dba922e1d3a": {
      "model_module": "@jupyter-widgets/controls",
      "model_module_version": "1.4.0",
      "model_name": "VBoxModel",
      "state": {
       "_dom_classes": [
        "widget-interact"
       ],
       "children": [
        "IPY_MODEL_a410f12998c1496d877753ee177c041c",
        "IPY_MODEL_dc8ebe5c2ca9490bb3bbbcf60ba8827b",
        "IPY_MODEL_df82cd69c65f411aa7f666e5b7302568",
        "IPY_MODEL_a76c0cc108eb4c1588ce0a81516aa860",
        "IPY_MODEL_4833fe8c74f4451482b6f6db584fd269"
       ],
       "layout": "IPY_MODEL_8076fb38c00744ffba64741d96a2e881"
      }
     },
     "4490aabc3952465b951f10becd6b869b": {
      "model_module": "@jupyter-widgets/base",
      "model_module_version": "1.1.0",
      "model_name": "LayoutModel",
      "state": {}
     },
     "44dddbdd956c488daef550ab64659bf7": {
      "model_module": "@jupyter-widgets/base",
      "model_module_version": "1.1.0",
      "model_name": "LayoutModel",
      "state": {}
     },
     "4597591dcf924f09b93c22da600f28da": {
      "model_module": "@jupyter-widgets/controls",
      "model_module_version": "1.4.0",
      "model_name": "SliderStyleModel",
      "state": {
       "description_width": ""
      }
     },
     "4603098350d34155beb4675abb002947": {
      "model_module": "@jupyter-widgets/controls",
      "model_module_version": "1.4.0",
      "model_name": "VBoxModel",
      "state": {
       "_dom_classes": [
        "widget-interact"
       ],
       "children": [
        "IPY_MODEL_1ab3f4de3d3346f2b1bb70a425bf4861",
        "IPY_MODEL_0758836350084d4d8362f66535976b60",
        "IPY_MODEL_d04ad9ece02c4c9d9bb6bdedb3a9bb7f",
        "IPY_MODEL_f8e4bdf900c044e09ceb8f42737fb312",
        "IPY_MODEL_e087774ff66045819a11a4caf97fc9f6"
       ],
       "layout": "IPY_MODEL_de4d39ba7191426789a9c6ca63c8e67a"
      }
     },
     "462520d1b159445ba7ed59a026b9ca96": {
      "model_module": "@jupyter-widgets/controls",
      "model_module_version": "1.4.0",
      "model_name": "FloatSliderModel",
      "state": {
       "description": "v_p",
       "layout": "IPY_MODEL_fedaac58b372477eb1b361b036f1f283",
       "max": 5,
       "min": 0.1,
       "step": 0.1,
       "style": "IPY_MODEL_0ce3d79c3e164c7c861107adabd7a0df",
       "value": 3
      }
     },
     "46c2c8d774dd41ed856b1347138615ad": {
      "model_module": "@jupyter-widgets/base",
      "model_module_version": "1.1.0",
      "model_name": "LayoutModel",
      "state": {}
     },
     "46ceadbf17bc4549b067fbc861e5fbd4": {
      "model_module": "@jupyter-widgets/controls",
      "model_module_version": "1.4.0",
      "model_name": "FloatSliderModel",
      "state": {
       "description": "sigma_u",
       "layout": "IPY_MODEL_d5faf6ebf4084fe2a3cd61d609993c83",
       "max": 10,
       "min": 0.1,
       "step": 0.1,
       "style": "IPY_MODEL_7cf06008cfc74061a0e281035fb6f47f",
       "value": 1
      }
     },
     "46d561269cff4750a019fc19064b1621": {
      "model_module": "@jupyter-widgets/controls",
      "model_module_version": "1.4.0",
      "model_name": "FloatSliderModel",
      "state": {
       "continuous_update": false,
       "description": "v_p",
       "layout": "IPY_MODEL_9156e572bfdb48509f7b68b028a46b18",
       "max": 5,
       "min": 0.1,
       "step": 0.1,
       "style": "IPY_MODEL_5b35fbcf38c44ef2840614b99e846c8d",
       "value": 3.1
      }
     },
     "46d658f0aeb34dca82c16194e6675a70": {
      "model_module": "@jupyter-widgets/controls",
      "model_module_version": "1.4.0",
      "model_name": "SliderStyleModel",
      "state": {
       "description_width": ""
      }
     },
     "4778bc2656dd4ef099991fb5ed27a1a5": {
      "model_module": "@jupyter-widgets/base",
      "model_module_version": "1.1.0",
      "model_name": "LayoutModel",
      "state": {}
     },
     "4833fe8c74f4451482b6f6db584fd269": {
      "model_module": "@jupyter-widgets/output",
      "model_module_version": "1.0.0",
      "model_name": "OutputModel",
      "state": {
       "layout": "IPY_MODEL_b3b5f328b83d443c88caced9aae170c7"
      }
     },
     "484a9905b83946f99ca7b075a86e03e9": {
      "model_module": "@jupyter-widgets/base",
      "model_module_version": "1.1.0",
      "model_name": "LayoutModel",
      "state": {}
     },
     "494028b5e92848c09d7a9362e22cd11d": {
      "model_module": "@jupyter-widgets/base",
      "model_module_version": "1.1.0",
      "model_name": "LayoutModel",
      "state": {}
     },
     "4999b922c31140529a4dcb2bf12cd4e8": {
      "model_module": "@jupyter-widgets/base",
      "model_module_version": "1.1.0",
      "model_name": "LayoutModel",
      "state": {}
     },
     "4ac06c4e0ca64b05b3bf4e749ffad586": {
      "model_module": "@jupyter-widgets/controls",
      "model_module_version": "1.4.0",
      "model_name": "SliderStyleModel",
      "state": {
       "description_width": ""
      }
     },
     "4b18b22702fa4fa4a9107af1da0d33d2": {
      "model_module": "@jupyter-widgets/controls",
      "model_module_version": "1.4.0",
      "model_name": "SliderStyleModel",
      "state": {
       "description_width": ""
      }
     },
     "4bb2fefba45147d48c11c7c1993bd14d": {
      "model_module": "@jupyter-widgets/base",
      "model_module_version": "1.1.0",
      "model_name": "LayoutModel",
      "state": {}
     },
     "4bc31c6aceeb429e881b30716e301261": {
      "model_module": "@jupyter-widgets/controls",
      "model_module_version": "1.4.0",
      "model_name": "SliderStyleModel",
      "state": {
       "description_width": ""
      }
     },
     "4c615432eaf8467cba46d53d3f69ad62": {
      "model_module": "@jupyter-widgets/controls",
      "model_module_version": "1.4.0",
      "model_name": "FloatSliderModel",
      "state": {
       "description": "u",
       "layout": "IPY_MODEL_88345aec5d584a699ec00e31da490727",
       "max": 20,
       "min": 0.1,
       "step": 0.1,
       "style": "IPY_MODEL_81fe3250a91c4db8a9ce469f11f462be",
       "value": 6.3
      }
     },
     "4c9a0f5d438c4bd39e826a62477cb37d": {
      "model_module": "@jupyter-widgets/controls",
      "model_module_version": "1.4.0",
      "model_name": "FloatSliderModel",
      "state": {
       "description": "v_p",
       "layout": "IPY_MODEL_19192af43fc94e069b50ed65c31d2e62",
       "max": 5,
       "min": 0.1,
       "step": 0.1,
       "style": "IPY_MODEL_3cb0f460034e425fbe04449eae5c63bb",
       "value": 3
      }
     },
     "4d376e6e2a6f47d98b031048ab329bd1": {
      "model_module": "@jupyter-widgets/controls",
      "model_module_version": "1.4.0",
      "model_name": "SliderStyleModel",
      "state": {
       "description_width": ""
      }
     },
     "4d867ebc1f9147a98ed243e436bba621": {
      "model_module": "@jupyter-widgets/output",
      "model_module_version": "1.0.0",
      "model_name": "OutputModel",
      "state": {
       "layout": "IPY_MODEL_61faa09ec4e248e88e302a327c81ed26"
      }
     },
     "4e599cebc2b749b6b216a6bb72941801": {
      "model_module": "@jupyter-widgets/base",
      "model_module_version": "1.1.0",
      "model_name": "LayoutModel",
      "state": {}
     },
     "4eab6a181925455982b2559bd29ba421": {
      "model_module": "@jupyter-widgets/controls",
      "model_module_version": "1.4.0",
      "model_name": "FloatSliderModel",
      "state": {
       "continuous_update": false,
       "description": "sigma_p",
       "layout": "IPY_MODEL_321eaa77ecb4420a9e2dc658138212d1",
       "max": 10,
       "min": 0.1,
       "step": 0.1,
       "style": "IPY_MODEL_732fc3ecb2dc4050a7166d3154163cf9",
       "value": 1
      }
     },
     "50a8945932d149d2b72eee8b0b2a1cfa": {
      "model_module": "@jupyter-widgets/controls",
      "model_module_version": "1.4.0",
      "model_name": "SliderStyleModel",
      "state": {
       "description_width": ""
      }
     },
     "511fe6a86e8d43458bdc778e319226ad": {
      "model_module": "@jupyter-widgets/controls",
      "model_module_version": "1.4.0",
      "model_name": "FloatSliderModel",
      "state": {
       "description": "sigma_p",
       "layout": "IPY_MODEL_8a846bacb4c04378b0af8a44e684ab04",
       "max": 10,
       "min": 0.1,
       "step": 0.1,
       "style": "IPY_MODEL_1fdd363b90ed4b54a4a9476727e1c860",
       "value": 1
      }
     },
     "522af85df8a048538cabbe0bdc94a2e8": {
      "model_module": "@jupyter-widgets/controls",
      "model_module_version": "1.4.0",
      "model_name": "VBoxModel",
      "state": {
       "_dom_classes": [
        "widget-interact"
       ],
       "children": [
        "IPY_MODEL_b1bb760326d043ea9a101f9661857666",
        "IPY_MODEL_2dae003e974244b5ba1e6857ed0a0c1f",
        "IPY_MODEL_9277fafa8d5c43749f73227d017951da",
        "IPY_MODEL_99c6e54bf7e449e882c98fc0ff0d7266",
        "IPY_MODEL_5ffa2cea5d4d49429a3fe2da35e317bb"
       ],
       "layout": "IPY_MODEL_91838fdfffbf4bcdbefa813063e2fac1"
      }
     },
     "5297aabb4f504203a86f7f3e0258c92a": {
      "model_module": "@jupyter-widgets/base",
      "model_module_version": "1.1.0",
      "model_name": "LayoutModel",
      "state": {}
     },
     "52d7b63900d14554b83c089ad88dba39": {
      "model_module": "@jupyter-widgets/controls",
      "model_module_version": "1.4.0",
      "model_name": "FloatSliderModel",
      "state": {
       "description": "sigma_p",
       "layout": "IPY_MODEL_290775d3a8e64ac3ade77f44dcd84b00",
       "max": 10,
       "min": 0.1,
       "step": 0.1,
       "style": "IPY_MODEL_643d2539744c4234b8b256a932bf8ebd",
       "value": 1
      }
     },
     "542ed4d8fe144c9bb991c718c58e2ff4": {
      "model_module": "@jupyter-widgets/base",
      "model_module_version": "1.1.0",
      "model_name": "LayoutModel",
      "state": {}
     },
     "54787f704f77477d9bea2b51154dc414": {
      "model_module": "@jupyter-widgets/base",
      "model_module_version": "1.1.0",
      "model_name": "LayoutModel",
      "state": {}
     },
     "54ca5c71829445cfa0d2d661ab0cff8f": {
      "model_module": "@jupyter-widgets/controls",
      "model_module_version": "1.4.0",
      "model_name": "FloatSliderModel",
      "state": {
       "continuous_update": false,
       "layout": "IPY_MODEL_2bbbac31076f429e80888379219ebf0f",
       "max": 10,
       "min": 0.1,
       "step": 0.1,
       "style": "IPY_MODEL_1a2fe6d72bf642d4b18b0beb26710dcd",
       "value": 0.1
      }
     },
     "553fc1e04d124fc69c9ba41140989b22": {
      "model_module": "@jupyter-widgets/base",
      "model_module_version": "1.1.0",
      "model_name": "LayoutModel",
      "state": {}
     },
     "5562b97f5b47471d956dc72435a2465a": {
      "model_module": "@jupyter-widgets/base",
      "model_module_version": "1.1.0",
      "model_name": "LayoutModel",
      "state": {}
     },
     "5580e0d11624402580389b7ec6da704b": {
      "model_module": "@jupyter-widgets/controls",
      "model_module_version": "1.4.0",
      "model_name": "SliderStyleModel",
      "state": {
       "description_width": ""
      }
     },
     "55fa496c3d304b45ad16aeaedbbdfabe": {
      "model_module": "@jupyter-widgets/controls",
      "model_module_version": "1.4.0",
      "model_name": "FloatSliderModel",
      "state": {
       "description": "sigma_p",
       "layout": "IPY_MODEL_5562b97f5b47471d956dc72435a2465a",
       "max": 10,
       "min": 0.1,
       "step": 0.1,
       "style": "IPY_MODEL_57c2e5d1f91644f8a0c460221ac98c24",
       "value": 1
      }
     },
     "56877b82a6e84b5e941535219953ab99": {
      "model_module": "@jupyter-widgets/controls",
      "model_module_version": "1.4.0",
      "model_name": "SliderStyleModel",
      "state": {
       "description_width": ""
      }
     },
     "568e33b625b34aa18e6cb9fc00230e19": {
      "model_module": "@jupyter-widgets/base",
      "model_module_version": "1.1.0",
      "model_name": "LayoutModel",
      "state": {}
     },
     "56c920a3912c43e6a2d3e11cebdbcf62": {
      "model_module": "@jupyter-widgets/base",
      "model_module_version": "1.1.0",
      "model_name": "LayoutModel",
      "state": {}
     },
     "572c48fdd1d249c78150ce8cce0520ad": {
      "model_module": "@jupyter-widgets/controls",
      "model_module_version": "1.4.0",
      "model_name": "SliderStyleModel",
      "state": {
       "description_width": ""
      }
     },
     "57c2e5d1f91644f8a0c460221ac98c24": {
      "model_module": "@jupyter-widgets/controls",
      "model_module_version": "1.4.0",
      "model_name": "SliderStyleModel",
      "state": {
       "description_width": ""
      }
     },
     "5b35fbcf38c44ef2840614b99e846c8d": {
      "model_module": "@jupyter-widgets/controls",
      "model_module_version": "1.4.0",
      "model_name": "SliderStyleModel",
      "state": {
       "description_width": ""
      }
     },
     "5be52b23e3994600bfae2f25fd039178": {
      "model_module": "@jupyter-widgets/controls",
      "model_module_version": "1.4.0",
      "model_name": "FloatSliderModel",
      "state": {
       "description": "sigma_u",
       "layout": "IPY_MODEL_3e4afcbafb864a6097307fe37f8e3a69",
       "max": 10,
       "min": 0.1,
       "step": 0.1,
       "style": "IPY_MODEL_7b0e849470f34ac6ac857d8743a3fb95",
       "value": 1.2
      }
     },
     "5c55f628b8d443b4981bf3c844696c35": {
      "model_module": "@jupyter-widgets/base",
      "model_module_version": "1.1.0",
      "model_name": "LayoutModel",
      "state": {}
     },
     "5caddfdb3c5a42a1951e69fa58c9c218": {
      "model_module": "@jupyter-widgets/base",
      "model_module_version": "1.1.0",
      "model_name": "LayoutModel",
      "state": {}
     },
     "5da2fd09b8f64760998962a7bc633863": {
      "model_module": "@jupyter-widgets/controls",
      "model_module_version": "1.4.0",
      "model_name": "FloatSliderModel",
      "state": {
       "continuous_update": false,
       "description": "sigma_p",
       "layout": "IPY_MODEL_90d622643b2441b9ad9634932f0e11cd",
       "max": 10,
       "min": 0.1,
       "step": 0.1,
       "style": "IPY_MODEL_731912558a7f4543b24f7258719e9241",
       "value": 1
      }
     },
     "5de0e452e5c646b6b8efc9e247eaeb1d": {
      "model_module": "@jupyter-widgets/base",
      "model_module_version": "1.1.0",
      "model_name": "LayoutModel",
      "state": {}
     },
     "5df9398006f64d72a6edc8d060acd52e": {
      "model_module": "@jupyter-widgets/controls",
      "model_module_version": "1.4.0",
      "model_name": "FloatSliderModel",
      "state": {
       "continuous_update": false,
       "description": "u",
       "layout": "IPY_MODEL_1539eaa0e334432dbec6249512f8b187",
       "max": 20,
       "min": 0.1,
       "step": 0.1,
       "style": "IPY_MODEL_4d376e6e2a6f47d98b031048ab329bd1",
       "value": 5.1
      }
     },
     "5e9043ee206b40aba25a3f7e8ee38603": {
      "model_module": "@jupyter-widgets/controls",
      "model_module_version": "1.4.0",
      "model_name": "FloatSliderModel",
      "state": {
       "description": "u",
       "layout": "IPY_MODEL_7708d90698eb45138774ad77cd0992af",
       "max": 20,
       "min": 0.1,
       "step": 0.1,
       "style": "IPY_MODEL_3a87a1a2e89b4617baab660b78a6563f",
       "value": 9.9
      }
     },
     "5efdd802161b43a59f8d90a80bf6b086": {
      "model_module": "@jupyter-widgets/controls",
      "model_module_version": "1.4.0",
      "model_name": "VBoxModel",
      "state": {
       "_dom_classes": [
        "widget-interact"
       ],
       "children": [
        "IPY_MODEL_4c615432eaf8467cba46d53d3f69ad62",
        "IPY_MODEL_62b0efb8a0834f6489c61d3fce74ae58",
        "IPY_MODEL_eab0cf76c96b48c99e8801c2ef9b23b8",
        "IPY_MODEL_d6f7cb12f7824375bde97b9e9d690509",
        "IPY_MODEL_66e6a008e36049c8ac8f2100f7b686f4"
       ],
       "layout": "IPY_MODEL_44dddbdd956c488daef550ab64659bf7"
      }
     },
     "5ffa2cea5d4d49429a3fe2da35e317bb": {
      "model_module": "@jupyter-widgets/output",
      "model_module_version": "1.0.0",
      "model_name": "OutputModel",
      "state": {
       "layout": "IPY_MODEL_c64d5e68e75242dba9df2664b0f4d82b"
      }
     },
     "604e8bbd65a44584b8197eb4ee4dd759": {
      "model_module": "@jupyter-widgets/controls",
      "model_module_version": "1.4.0",
      "model_name": "VBoxModel",
      "state": {
       "_dom_classes": [
        "widget-interact"
       ],
       "children": [
        "IPY_MODEL_c1ad3b6d197640f495e0aea86b2d2a62",
        "IPY_MODEL_670b0bbc3d6543449cbd902a2c4c6172",
        "IPY_MODEL_88755ad24b8746a6b8f384724b9ec3cb",
        "IPY_MODEL_b08d4efb34be48d5b83f7f0614a2fcdc",
        "IPY_MODEL_dd3b0c25dde94507928e29693c3db9de"
       ],
       "layout": "IPY_MODEL_4086d671322b452fa9d97b9783b6494f"
      }
     },
     "608da67fdd1747f69f12ee19de9e546d": {
      "model_module": "@jupyter-widgets/base",
      "model_module_version": "1.1.0",
      "model_name": "LayoutModel",
      "state": {}
     },
     "61faa09ec4e248e88e302a327c81ed26": {
      "model_module": "@jupyter-widgets/base",
      "model_module_version": "1.1.0",
      "model_name": "LayoutModel",
      "state": {}
     },
     "62acda699c9a4e82a5d22a23932e380f": {
      "model_module": "@jupyter-widgets/controls",
      "model_module_version": "1.4.0",
      "model_name": "FloatSliderModel",
      "state": {
       "description": "v_p",
       "layout": "IPY_MODEL_c14ed9de62744b79a205b819ffe20371",
       "max": 5,
       "min": 0.1,
       "step": 0.1,
       "style": "IPY_MODEL_179d85d717ad484c9830968912506d26",
       "value": 3
      }
     },
     "62b0efb8a0834f6489c61d3fce74ae58": {
      "model_module": "@jupyter-widgets/controls",
      "model_module_version": "1.4.0",
      "model_name": "FloatSliderModel",
      "state": {
       "description": "sigma_u",
       "layout": "IPY_MODEL_31e688e8aaf341858e7990ab09f295d1",
       "max": 10,
       "min": 0.1,
       "step": 0.1,
       "style": "IPY_MODEL_46d658f0aeb34dca82c16194e6675a70",
       "value": 1.7
      }
     },
     "62e1385e9a20439295ea94615ba14254": {
      "model_module": "@jupyter-widgets/base",
      "model_module_version": "1.1.0",
      "model_name": "LayoutModel",
      "state": {}
     },
     "63025cd1f0f349b8a3fdc0f12b105b08": {
      "model_module": "@jupyter-widgets/base",
      "model_module_version": "1.1.0",
      "model_name": "LayoutModel",
      "state": {}
     },
     "630825f55da5413a9e86856f6c725fa9": {
      "model_module": "@jupyter-widgets/base",
      "model_module_version": "1.1.0",
      "model_name": "LayoutModel",
      "state": {}
     },
     "6318cbdcf012496d8fc295bf4a934bcf": {
      "model_module": "@jupyter-widgets/output",
      "model_module_version": "1.0.0",
      "model_name": "OutputModel",
      "state": {
       "layout": "IPY_MODEL_25ff9a0f875f4073b0e599285a3b783a"
      }
     },
     "63428911dd3b42dab1f816f31cab1f45": {
      "model_module": "@jupyter-widgets/controls",
      "model_module_version": "1.4.0",
      "model_name": "FloatSliderModel",
      "state": {
       "description": "sigma_p",
       "layout": "IPY_MODEL_05c588d2e3e748e280908ad651dba5f1",
       "max": 10,
       "min": 0.1,
       "step": 0.1,
       "style": "IPY_MODEL_98b3bf6348f54aa5a8fa150010ef711a",
       "value": 1
      }
     },
     "6401e4e649de4e969a0ace1cbcff9f6b": {
      "model_module": "@jupyter-widgets/controls",
      "model_module_version": "1.4.0",
      "model_name": "FloatSliderModel",
      "state": {
       "description": "u",
       "layout": "IPY_MODEL_342de3adc603446c99bb03097fc8ddf0",
       "max": 20,
       "min": 0.1,
       "step": 0.1,
       "style": "IPY_MODEL_b5dfaa4cef974e29b21bda94d3e193a7",
       "value": 3.2
      }
     },
     "643d2539744c4234b8b256a932bf8ebd": {
      "model_module": "@jupyter-widgets/controls",
      "model_module_version": "1.4.0",
      "model_name": "SliderStyleModel",
      "state": {
       "description_width": ""
      }
     },
     "64f2259fd6d94b47b2987f38c3a0665d": {
      "model_module": "@jupyter-widgets/controls",
      "model_module_version": "1.4.0",
      "model_name": "FloatSliderModel",
      "state": {
       "description": "u",
       "layout": "IPY_MODEL_7383f4b9a7a64f7e82fe985a4944df8c",
       "max": 20,
       "min": 0.1,
       "step": 0.1,
       "style": "IPY_MODEL_ffebe614984149a7a78fb65fc1f5b4ad",
       "value": 11.1
      }
     },
     "6517579fd8d749e58ce22098910a5eb4": {
      "model_module": "@jupyter-widgets/base",
      "model_module_version": "1.1.0",
      "model_name": "LayoutModel",
      "state": {}
     },
     "6528bbe162c54f74bd73d1f885df9abc": {
      "model_module": "@jupyter-widgets/controls",
      "model_module_version": "1.4.0",
      "model_name": "SliderStyleModel",
      "state": {
       "description_width": ""
      }
     },
     "65a838b2773940aba403dd24814f7052": {
      "model_module": "@jupyter-widgets/base",
      "model_module_version": "1.1.0",
      "model_name": "LayoutModel",
      "state": {}
     },
     "65bc3d5e0dbc4c13a9be1fd5fd52c874": {
      "model_module": "@jupyter-widgets/controls",
      "model_module_version": "1.4.0",
      "model_name": "FloatSliderModel",
      "state": {
       "description": "v_p",
       "layout": "IPY_MODEL_427913289d8347eab4c9574de0a33fcf",
       "max": 5,
       "min": 0.1,
       "step": 0.1,
       "style": "IPY_MODEL_d70dc9b86f5544338f027372333a0294",
       "value": 3
      }
     },
     "65cd96ffd20049f79b242e478c111e06": {
      "model_module": "@jupyter-widgets/controls",
      "model_module_version": "1.4.0",
      "model_name": "SliderStyleModel",
      "state": {
       "description_width": ""
      }
     },
     "65f6e599fd0241a8b219b4b301aa3059": {
      "model_module": "@jupyter-widgets/controls",
      "model_module_version": "1.4.0",
      "model_name": "SliderStyleModel",
      "state": {
       "description_width": ""
      }
     },
     "66049ce486e3420eb26290c1d20f01a3": {
      "model_module": "@jupyter-widgets/base",
      "model_module_version": "1.1.0",
      "model_name": "LayoutModel",
      "state": {}
     },
     "6611e86b32ee4b0ba393081840361ffd": {
      "model_module": "@jupyter-widgets/base",
      "model_module_version": "1.1.0",
      "model_name": "LayoutModel",
      "state": {}
     },
     "66a090d47ae44a9faea282c154b89c2d": {
      "model_module": "@jupyter-widgets/base",
      "model_module_version": "1.1.0",
      "model_name": "LayoutModel",
      "state": {}
     },
     "66d36a8fef284a8d91c7484bf9f546aa": {
      "model_module": "@jupyter-widgets/base",
      "model_module_version": "1.1.0",
      "model_name": "LayoutModel",
      "state": {}
     },
     "66e6a008e36049c8ac8f2100f7b686f4": {
      "model_module": "@jupyter-widgets/output",
      "model_module_version": "1.0.0",
      "model_name": "OutputModel",
      "state": {
       "layout": "IPY_MODEL_43ff39b184d14f2da97dca9a8c56f28b"
      }
     },
     "670b0bbc3d6543449cbd902a2c4c6172": {
      "model_module": "@jupyter-widgets/controls",
      "model_module_version": "1.4.0",
      "model_name": "FloatSliderModel",
      "state": {
       "description": "sigma_u",
       "layout": "IPY_MODEL_c6d9a995c9bd43b39fee5f419b0c518c",
       "max": 10,
       "min": 0.1,
       "step": 0.1,
       "style": "IPY_MODEL_f91ab95d2c6e4dbaa9c2360a914ad103",
       "value": 1
      }
     },
     "697ac59afd874fc3b9eaed0837bf68ce": {
      "model_module": "@jupyter-widgets/base",
      "model_module_version": "1.1.0",
      "model_name": "LayoutModel",
      "state": {}
     },
     "6a17280b2e1945839874fc91a769d5aa": {
      "model_module": "@jupyter-widgets/base",
      "model_module_version": "1.1.0",
      "model_name": "LayoutModel",
      "state": {}
     },
     "6a4ddfb790b64a0993561aadc394595a": {
      "model_module": "@jupyter-widgets/base",
      "model_module_version": "1.1.0",
      "model_name": "LayoutModel",
      "state": {}
     },
     "6ab3c0c0fd92450f9574b8e051c9895f": {
      "model_module": "@jupyter-widgets/controls",
      "model_module_version": "1.4.0",
      "model_name": "SliderStyleModel",
      "state": {
       "description_width": ""
      }
     },
     "6bccc59ae6b641e4826d4ec45991b076": {
      "model_module": "@jupyter-widgets/output",
      "model_module_version": "1.0.0",
      "model_name": "OutputModel",
      "state": {
       "layout": "IPY_MODEL_074f20aed03a4fdda78df5955962863b"
      }
     },
     "6bd9c58b33cc470eb5cb3bdf599ff9d8": {
      "model_module": "@jupyter-widgets/controls",
      "model_module_version": "1.4.0",
      "model_name": "SliderStyleModel",
      "state": {
       "description_width": ""
      }
     },
     "6c26d0ce8b1143618e79c4788944993e": {
      "model_module": "@jupyter-widgets/base",
      "model_module_version": "1.1.0",
      "model_name": "LayoutModel",
      "state": {}
     },
     "6cb066ab0392485e8911f0c30dee28ba": {
      "model_module": "@jupyter-widgets/base",
      "model_module_version": "1.1.0",
      "model_name": "LayoutModel",
      "state": {}
     },
     "6f21fae6460a4bf8ae0022d089949535": {
      "model_module": "@jupyter-widgets/controls",
      "model_module_version": "1.4.0",
      "model_name": "FloatSliderModel",
      "state": {
       "continuous_update": false,
       "layout": "IPY_MODEL_bc0b92fbef654d689a09f5bdf94755ae",
       "max": 5,
       "min": 0.1,
       "step": 0.1,
       "style": "IPY_MODEL_b9fe341cb43f412a84ab1ea3e2dc8aab",
       "value": 0.1
      }
     },
     "70eb3efdf9f14d2ab4180f88f0b2ca05": {
      "model_module": "@jupyter-widgets/base",
      "model_module_version": "1.1.0",
      "model_name": "LayoutModel",
      "state": {}
     },
     "70f40f42aa534d4d9cb5e98c9295194c": {
      "model_module": "@jupyter-widgets/controls",
      "model_module_version": "1.4.0",
      "model_name": "VBoxModel",
      "state": {
       "_dom_classes": [
        "widget-interact"
       ],
       "children": [
        "IPY_MODEL_949a308eb0604b65a53ad9ef85ea9e4d",
        "IPY_MODEL_f26a6156a96445d08a35fb8524fa092d",
        "IPY_MODEL_b8bad476a6854009a6d7677eb518ce47",
        "IPY_MODEL_2b5289eefc004adf939fccbcbd2f54f3",
        "IPY_MODEL_f6187c4219144412bb86df6430dfbe86"
       ],
       "layout": "IPY_MODEL_6611e86b32ee4b0ba393081840361ffd"
      }
     },
     "7133ba7531e94693b784563f6aad1c39": {
      "model_module": "@jupyter-widgets/controls",
      "model_module_version": "1.4.0",
      "model_name": "FloatSliderModel",
      "state": {
       "description": "sigma_u",
       "layout": "IPY_MODEL_697ac59afd874fc3b9eaed0837bf68ce",
       "max": 10,
       "min": 0.1,
       "step": 0.1,
       "style": "IPY_MODEL_e2fcb853cba044f2b84bf29c44f9bb6b",
       "value": 1
      }
     },
     "713638a7185e4ab98caf35bcb85769de": {
      "model_module": "@jupyter-widgets/controls",
      "model_module_version": "1.4.0",
      "model_name": "SliderStyleModel",
      "state": {
       "description_width": ""
      }
     },
     "7157f43bbf23492d919ebdc08e2e4725": {
      "model_module": "@jupyter-widgets/controls",
      "model_module_version": "1.4.0",
      "model_name": "SliderStyleModel",
      "state": {
       "description_width": ""
      }
     },
     "71f184deba4d48c59995e627c857e67b": {
      "model_module": "@jupyter-widgets/base",
      "model_module_version": "1.1.0",
      "model_name": "LayoutModel",
      "state": {}
     },
     "72751e6fb45145888bf35f21d048dec3": {
      "model_module": "@jupyter-widgets/controls",
      "model_module_version": "1.4.0",
      "model_name": "VBoxModel",
      "state": {
       "_dom_classes": [
        "widget-interact"
       ],
       "children": [
        "IPY_MODEL_8cb8fb4f69c34f75b955fbd1e9bb2759",
        "IPY_MODEL_3084ad3e323a4d9dba0f7b5e1c758e43",
        "IPY_MODEL_a6d1a04ec0c1430a8d28b0f093aa3e65",
        "IPY_MODEL_12a7fa741e674682b63b8558d6ae8ce2",
        "IPY_MODEL_c8cd4dba06ac457282e07fc564d762f3"
       ],
       "layout": "IPY_MODEL_8eab70f6b07c42fc93b0da4443e852d5"
      }
     },
     "731912558a7f4543b24f7258719e9241": {
      "model_module": "@jupyter-widgets/controls",
      "model_module_version": "1.4.0",
      "model_name": "SliderStyleModel",
      "state": {
       "description_width": ""
      }
     },
     "732fc3ecb2dc4050a7166d3154163cf9": {
      "model_module": "@jupyter-widgets/controls",
      "model_module_version": "1.4.0",
      "model_name": "SliderStyleModel",
      "state": {
       "description_width": ""
      }
     },
     "7383f4b9a7a64f7e82fe985a4944df8c": {
      "model_module": "@jupyter-widgets/base",
      "model_module_version": "1.1.0",
      "model_name": "LayoutModel",
      "state": {}
     },
     "73d54154bdd8481ea63d884616353998": {
      "model_module": "@jupyter-widgets/controls",
      "model_module_version": "1.4.0",
      "model_name": "FloatSliderModel",
      "state": {
       "description": "sigma_u",
       "layout": "IPY_MODEL_f1b44f3900be48d69ce4316ac33cdc74",
       "max": 10,
       "min": 0.1,
       "step": 0.1,
       "style": "IPY_MODEL_842469ae919a4e4ea4f90ce16bbb3f7c",
       "value": 1
      }
     },
     "748bc5b45ee04e3a825e1c30e0982733": {
      "model_module": "@jupyter-widgets/controls",
      "model_module_version": "1.4.0",
      "model_name": "SliderStyleModel",
      "state": {
       "description_width": ""
      }
     },
     "75b7f2c79ae142c3afc95ec4a07c2dba": {
      "model_module": "@jupyter-widgets/base",
      "model_module_version": "1.1.0",
      "model_name": "LayoutModel",
      "state": {}
     },
     "75f0d01dc0674c88aec76d8bf4ee0308": {
      "model_module": "@jupyter-widgets/base",
      "model_module_version": "1.1.0",
      "model_name": "LayoutModel",
      "state": {}
     },
     "761d2859deb94de2b873c9ab730f8af1": {
      "model_module": "@jupyter-widgets/controls",
      "model_module_version": "1.4.0",
      "model_name": "SliderStyleModel",
      "state": {
       "description_width": ""
      }
     },
     "7638bbc6c5d147feafa40a4bb3a8a649": {
      "model_module": "@jupyter-widgets/base",
      "model_module_version": "1.1.0",
      "model_name": "LayoutModel",
      "state": {}
     },
     "76b86f4e28824a3587f582f5440c8726": {
      "model_module": "@jupyter-widgets/controls",
      "model_module_version": "1.4.0",
      "model_name": "SliderStyleModel",
      "state": {
       "description_width": ""
      }
     },
     "76f3d9269cf84e51ad5fdc91c98e5bc5": {
      "model_module": "@jupyter-widgets/controls",
      "model_module_version": "1.4.0",
      "model_name": "FloatSliderModel",
      "state": {
       "description": "sigma_u",
       "layout": "IPY_MODEL_18557fc9ac1c4ae7a1e5b5832c43fa43",
       "max": 10,
       "min": 0.1,
       "step": 0.1,
       "style": "IPY_MODEL_1295d11c67c64105b6b4a8d6cd18abc5",
       "value": 1
      }
     },
     "7708d90698eb45138774ad77cd0992af": {
      "model_module": "@jupyter-widgets/base",
      "model_module_version": "1.1.0",
      "model_name": "LayoutModel",
      "state": {}
     },
     "774bef4c64d64b02b494b855619c2e6d": {
      "model_module": "@jupyter-widgets/base",
      "model_module_version": "1.1.0",
      "model_name": "LayoutModel",
      "state": {}
     },
     "778c60e0d00d48728d8c690e1141367b": {
      "model_module": "@jupyter-widgets/controls",
      "model_module_version": "1.4.0",
      "model_name": "FloatSliderModel",
      "state": {
       "description": "sigma_p",
       "layout": "IPY_MODEL_208ddc395be140af905f9df6331e6193",
       "max": 10,
       "min": 0.1,
       "step": 0.1,
       "style": "IPY_MODEL_bd03cc90f0f34881ad6c00dc06971a9d",
       "value": 1
      }
     },
     "78a800cde40b4913a94e5a0dc0186c73": {
      "model_module": "@jupyter-widgets/base",
      "model_module_version": "1.1.0",
      "model_name": "LayoutModel",
      "state": {}
     },
     "79c3533bbcad4b2b97c89c173d6d0035": {
      "model_module": "@jupyter-widgets/controls",
      "model_module_version": "1.4.0",
      "model_name": "VBoxModel",
      "state": {
       "_dom_classes": [
        "widget-interact"
       ],
       "children": [
        "IPY_MODEL_e4945249b42a4faeb45b35a95a610837",
        "IPY_MODEL_0775403cb41342bf9cdfe7807c29f616",
        "IPY_MODEL_3b6f884bacfb41b1b4869c1a59287400",
        "IPY_MODEL_5da2fd09b8f64760998962a7bc633863",
        "IPY_MODEL_c6ae6ea4735f4766a058c1f6034f099e"
       ],
       "layout": "IPY_MODEL_d8a7b0bb6f6a43d1bc61a350372cfa26"
      }
     },
     "79d71aeeb8de412d808eafb4d30ae126": {
      "model_module": "@jupyter-widgets/base",
      "model_module_version": "1.1.0",
      "model_name": "LayoutModel",
      "state": {}
     },
     "7a223e5ce729401ab0e723da70aa9c60": {
      "model_module": "@jupyter-widgets/base",
      "model_module_version": "1.1.0",
      "model_name": "LayoutModel",
      "state": {}
     },
     "7a258cbf52d3431b840c57693d729368": {
      "model_module": "@jupyter-widgets/base",
      "model_module_version": "1.1.0",
      "model_name": "LayoutModel",
      "state": {}
     },
     "7a93dd298e9543219bf774dcd91f0115": {
      "model_module": "@jupyter-widgets/controls",
      "model_module_version": "1.4.0",
      "model_name": "SliderStyleModel",
      "state": {
       "description_width": ""
      }
     },
     "7ae061e7b6484a178fbf90d4287662b2": {
      "model_module": "@jupyter-widgets/controls",
      "model_module_version": "1.4.0",
      "model_name": "FloatSliderModel",
      "state": {
       "description": "v_p",
       "layout": "IPY_MODEL_16196276005c4619a7201ccef5b1321b",
       "max": 5,
       "min": 0.1,
       "step": 0.1,
       "style": "IPY_MODEL_40a6d5e3b49448aaa50e390736d13de2",
       "value": 3
      }
     },
     "7b078875afe34c48891077465714df91": {
      "model_module": "@jupyter-widgets/controls",
      "model_module_version": "1.4.0",
      "model_name": "SliderStyleModel",
      "state": {
       "description_width": ""
      }
     },
     "7b0e849470f34ac6ac857d8743a3fb95": {
      "model_module": "@jupyter-widgets/controls",
      "model_module_version": "1.4.0",
      "model_name": "SliderStyleModel",
      "state": {
       "description_width": ""
      }
     },
     "7b24b5ec94284f03a18f05f2f6b98d05": {
      "model_module": "@jupyter-widgets/controls",
      "model_module_version": "1.4.0",
      "model_name": "FloatSliderModel",
      "state": {
       "description": "sigma_u",
       "layout": "IPY_MODEL_9a79166a29e3434a9791a9b31ef746c7",
       "max": 10,
       "min": 0.1,
       "step": 0.1,
       "style": "IPY_MODEL_4597591dcf924f09b93c22da600f28da",
       "value": 1
      }
     },
     "7b4ca74ac759478cb59216ba08d7a76a": {
      "model_module": "@jupyter-widgets/controls",
      "model_module_version": "1.4.0",
      "model_name": "VBoxModel",
      "state": {
       "_dom_classes": [
        "widget-interact"
       ],
       "children": [
        "IPY_MODEL_8df2456e4f664e52a1ce7bfbcfe6a23b",
        "IPY_MODEL_fc6f1cd8218e4bf7bf9c29355bb2fd60",
        "IPY_MODEL_462520d1b159445ba7ed59a026b9ca96",
        "IPY_MODEL_511fe6a86e8d43458bdc778e319226ad",
        "IPY_MODEL_02a6d807f3cd4966b1060e1fb4c919de"
       ],
       "layout": "IPY_MODEL_88f175a99e0f43d1829e33efa0435aef"
      }
     },
     "7b76489ea6dd4cfabf11dc67fb89616b": {
      "model_module": "@jupyter-widgets/controls",
      "model_module_version": "1.4.0",
      "model_name": "FloatSliderModel",
      "state": {
       "description": "sigma_p",
       "layout": "IPY_MODEL_a714f521e5444d3c867512b1a667f533",
       "max": 10,
       "min": 0.1,
       "step": 0.1,
       "style": "IPY_MODEL_e302876cf867417182a17b8a28d4a8fc",
       "value": 1
      }
     },
     "7ceb0e4bd6c042f18d56153740d99df9": {
      "model_module": "@jupyter-widgets/base",
      "model_module_version": "1.1.0",
      "model_name": "LayoutModel",
      "state": {}
     },
     "7cf06008cfc74061a0e281035fb6f47f": {
      "model_module": "@jupyter-widgets/controls",
      "model_module_version": "1.4.0",
      "model_name": "SliderStyleModel",
      "state": {
       "description_width": ""
      }
     },
     "7e9bd381e0a4404f864d0222e22358d2": {
      "model_module": "@jupyter-widgets/controls",
      "model_module_version": "1.4.0",
      "model_name": "SliderStyleModel",
      "state": {
       "description_width": ""
      }
     },
     "7ed33e4c03804f738d8ee996c1742270": {
      "model_module": "@jupyter-widgets/base",
      "model_module_version": "1.1.0",
      "model_name": "LayoutModel",
      "state": {}
     },
     "8076fb38c00744ffba64741d96a2e881": {
      "model_module": "@jupyter-widgets/base",
      "model_module_version": "1.1.0",
      "model_name": "LayoutModel",
      "state": {}
     },
     "809322a19b88449f8e7e0fe4cc6a3c0e": {
      "model_module": "@jupyter-widgets/controls",
      "model_module_version": "1.4.0",
      "model_name": "FloatSliderModel",
      "state": {
       "description": "u",
       "layout": "IPY_MODEL_a84d325e37e44908bc3f40bd4369d817",
       "max": 20,
       "min": 0.1,
       "step": 0.1,
       "style": "IPY_MODEL_8d35bb15471e4f1287dacf47e70b4281",
       "value": 2
      }
     },
     "81373f11505d48aba75374da848ccee8": {
      "model_module": "@jupyter-widgets/controls",
      "model_module_version": "1.4.0",
      "model_name": "FloatSliderModel",
      "state": {
       "description": "sigma_p",
       "layout": "IPY_MODEL_75f0d01dc0674c88aec76d8bf4ee0308",
       "max": 10,
       "min": 0.1,
       "step": 0.1,
       "style": "IPY_MODEL_97e1de8d062c4883b4da2da1bdf4168b",
       "value": 1
      }
     },
     "81a86059a6644ab482f356199a4a06cd": {
      "model_module": "@jupyter-widgets/controls",
      "model_module_version": "1.4.0",
      "model_name": "SliderStyleModel",
      "state": {
       "description_width": ""
      }
     },
     "81fe3250a91c4db8a9ce469f11f462be": {
      "model_module": "@jupyter-widgets/controls",
      "model_module_version": "1.4.0",
      "model_name": "SliderStyleModel",
      "state": {
       "description_width": ""
      }
     },
     "82b5b7f9da664c54ab0dbf3503f73005": {
      "model_module": "@jupyter-widgets/base",
      "model_module_version": "1.1.0",
      "model_name": "LayoutModel",
      "state": {}
     },
     "842469ae919a4e4ea4f90ce16bbb3f7c": {
      "model_module": "@jupyter-widgets/controls",
      "model_module_version": "1.4.0",
      "model_name": "SliderStyleModel",
      "state": {
       "description_width": ""
      }
     },
     "84c9521d0a0b45f2beb928b98e9b485a": {
      "model_module": "@jupyter-widgets/base",
      "model_module_version": "1.1.0",
      "model_name": "LayoutModel",
      "state": {}
     },
     "85e4d2c7c04041b78fa8f92ff8b08c21": {
      "model_module": "@jupyter-widgets/base",
      "model_module_version": "1.1.0",
      "model_name": "LayoutModel",
      "state": {}
     },
     "86b1aeafd5e64f9a855436b247be8628": {
      "model_module": "@jupyter-widgets/controls",
      "model_module_version": "1.4.0",
      "model_name": "SliderStyleModel",
      "state": {
       "description_width": ""
      }
     },
     "86d18a17e1ba4a4a96d5db9b31d964bd": {
      "model_module": "@jupyter-widgets/base",
      "model_module_version": "1.1.0",
      "model_name": "LayoutModel",
      "state": {}
     },
     "870ff18d47344f3dae1a1150ad446713": {
      "model_module": "@jupyter-widgets/output",
      "model_module_version": "1.0.0",
      "model_name": "OutputModel",
      "state": {
       "layout": "IPY_MODEL_a5971438e9d14049b19051a93095ab43",
       "outputs": [
        {
         "ename": "AttributeError",
         "evalue": "'AxesSubplot' object has no attribute 'show'",
         "output_type": "error",
         "traceback": [
          "\u001b[0;31m---------------------------------------------------------------------------\u001b[0m",
          "\u001b[0;31mAttributeError\u001b[0m                            Traceback (most recent call last)",
          "\u001b[0;32m/Users/andrevanschaik/anaconda2/lib/python2.7/site-packages/ipywidgets/widgets/interaction.pyc\u001b[0m in \u001b[0;36mupdate\u001b[0;34m(self, *args)\u001b[0m\n\u001b[1;32m    249\u001b[0m                     \u001b[0mvalue\u001b[0m \u001b[0;34m=\u001b[0m \u001b[0mwidget\u001b[0m\u001b[0;34m.\u001b[0m\u001b[0mget_interact_value\u001b[0m\u001b[0;34m(\u001b[0m\u001b[0;34m)\u001b[0m\u001b[0;34m\u001b[0m\u001b[0m\n\u001b[1;32m    250\u001b[0m                     \u001b[0mself\u001b[0m\u001b[0;34m.\u001b[0m\u001b[0mkwargs\u001b[0m\u001b[0;34m[\u001b[0m\u001b[0mwidget\u001b[0m\u001b[0;34m.\u001b[0m\u001b[0m_kwarg\u001b[0m\u001b[0;34m]\u001b[0m \u001b[0;34m=\u001b[0m \u001b[0mvalue\u001b[0m\u001b[0;34m\u001b[0m\u001b[0m\n\u001b[0;32m--> 251\u001b[0;31m                 \u001b[0mself\u001b[0m\u001b[0;34m.\u001b[0m\u001b[0mresult\u001b[0m \u001b[0;34m=\u001b[0m \u001b[0mself\u001b[0m\u001b[0;34m.\u001b[0m\u001b[0mf\u001b[0m\u001b[0;34m(\u001b[0m\u001b[0;34m**\u001b[0m\u001b[0mself\u001b[0m\u001b[0;34m.\u001b[0m\u001b[0mkwargs\u001b[0m\u001b[0;34m)\u001b[0m\u001b[0;34m\u001b[0m\u001b[0m\n\u001b[0m\u001b[1;32m    252\u001b[0m                 \u001b[0mshow_inline_matplotlib_plots\u001b[0m\u001b[0;34m(\u001b[0m\u001b[0;34m)\u001b[0m\u001b[0;34m\u001b[0m\u001b[0m\n\u001b[1;32m    253\u001b[0m                 \u001b[0;32mif\u001b[0m \u001b[0mself\u001b[0m\u001b[0;34m.\u001b[0m\u001b[0mauto_display\u001b[0m \u001b[0;32mand\u001b[0m \u001b[0mself\u001b[0m\u001b[0;34m.\u001b[0m\u001b[0mresult\u001b[0m \u001b[0;32mis\u001b[0m \u001b[0;32mnot\u001b[0m \u001b[0mNone\u001b[0m\u001b[0;34m:\u001b[0m\u001b[0;34m\u001b[0m\u001b[0m\n",
          "\u001b[0;32m<ipython-input-25-462e9e9cab02>\u001b[0m in \u001b[0;36mdraw_fig1\u001b[0;34m(u, sigma_u, v_p, sigma_p)\u001b[0m\n\u001b[1;32m     10\u001b[0m         \u001b[0max\u001b[0m\u001b[0;34m.\u001b[0m\u001b[0mplot\u001b[0m\u001b[0;34m(\u001b[0m\u001b[0mv\u001b[0m\u001b[0;34m,\u001b[0m \u001b[0mposterior\u001b[0m\u001b[0;34m,\u001b[0m \u001b[0;34m'deepskyblue'\u001b[0m\u001b[0;34m,\u001b[0m \u001b[0mlabel\u001b[0m\u001b[0;34m=\u001b[0m\u001b[0;34m'posterior'\u001b[0m\u001b[0;34m)\u001b[0m\u001b[0;34m\u001b[0m\u001b[0m\n\u001b[1;32m     11\u001b[0m         \u001b[0max\u001b[0m\u001b[0;34m.\u001b[0m\u001b[0mplot\u001b[0m\u001b[0;34m(\u001b[0m\u001b[0mv\u001b[0m\u001b[0;34m,\u001b[0m \u001b[0mprior\u001b[0m\u001b[0;34m,\u001b[0m \u001b[0;34m'orange'\u001b[0m\u001b[0;34m,\u001b[0m \u001b[0mlabel\u001b[0m\u001b[0;34m=\u001b[0m\u001b[0;34m'prior'\u001b[0m\u001b[0;34m)\u001b[0m\u001b[0;34m\u001b[0m\u001b[0m\n\u001b[0;32m---> 12\u001b[0;31m         \u001b[0max\u001b[0m\u001b[0;34m.\u001b[0m\u001b[0mshow\u001b[0m\u001b[0;34m(\u001b[0m\u001b[0;34m)\u001b[0m\u001b[0;34m\u001b[0m\u001b[0m\n\u001b[0m\u001b[1;32m     13\u001b[0m         \u001b[0mplt\u001b[0m\u001b[0;34m.\u001b[0m\u001b[0maxis\u001b[0m\u001b[0;34m(\u001b[0m\u001b[0;34m[\u001b[0m\u001b[0;36m0\u001b[0m\u001b[0;34m,\u001b[0m \u001b[0;36m5\u001b[0m\u001b[0;34m,\u001b[0m \u001b[0;36m0\u001b[0m\u001b[0;34m,\u001b[0m \u001b[0;36m3\u001b[0m\u001b[0;34m]\u001b[0m\u001b[0;34m)\u001b[0m\u001b[0;34m\u001b[0m\u001b[0m\n\u001b[1;32m     14\u001b[0m \u001b[0;34m\u001b[0m\u001b[0m\n",
          "\u001b[0;31mAttributeError\u001b[0m: 'AxesSubplot' object has no attribute 'show'"
         ]
        }
       ]
      }
     },
     "880e3b02318142aebcc8072c5f6c7760": {
      "model_module": "@jupyter-widgets/controls",
      "model_module_version": "1.4.0",
      "model_name": "VBoxModel",
      "state": {
       "_dom_classes": [
        "widget-interact"
       ],
       "children": [
        "IPY_MODEL_32e5793569f5408892257d4a204df288",
        "IPY_MODEL_76f3d9269cf84e51ad5fdc91c98e5bc5",
        "IPY_MODEL_7ae061e7b6484a178fbf90d4287662b2",
        "IPY_MODEL_3e0f90e9790a4ed7ae7310346f656c32",
        "IPY_MODEL_8b6bffcad4364b3a8fa60ef03853bf77"
       ],
       "layout": "IPY_MODEL_75b7f2c79ae142c3afc95ec4a07c2dba"
      }
     },
     "88345aec5d584a699ec00e31da490727": {
      "model_module": "@jupyter-widgets/base",
      "model_module_version": "1.1.0",
      "model_name": "LayoutModel",
      "state": {}
     },
     "88378752e3444d61a32de1aa71a2555a": {
      "model_module": "@jupyter-widgets/output",
      "model_module_version": "1.0.0",
      "model_name": "OutputModel",
      "state": {
       "layout": "IPY_MODEL_8bec762f95134d178da1b9f1e2b65c32"
      }
     },
     "8842911957b544d2aa19fe66b25a4da6": {
      "model_module": "@jupyter-widgets/controls",
      "model_module_version": "1.4.0",
      "model_name": "FloatSliderModel",
      "state": {
       "description": "v_p",
       "layout": "IPY_MODEL_6cb066ab0392485e8911f0c30dee28ba",
       "max": 5,
       "min": 0.1,
       "step": 0.1,
       "style": "IPY_MODEL_e7eade7d492744858f2ed641b38265d5",
       "value": 3
      }
     },
     "88755ad24b8746a6b8f384724b9ec3cb": {
      "model_module": "@jupyter-widgets/controls",
      "model_module_version": "1.4.0",
      "model_name": "FloatSliderModel",
      "state": {
       "description": "v_p",
       "layout": "IPY_MODEL_608da67fdd1747f69f12ee19de9e546d",
       "max": 5,
       "min": 0.1,
       "step": 0.1,
       "style": "IPY_MODEL_56877b82a6e84b5e941535219953ab99",
       "value": 3
      }
     },
     "88f175a99e0f43d1829e33efa0435aef": {
      "model_module": "@jupyter-widgets/base",
      "model_module_version": "1.1.0",
      "model_name": "LayoutModel",
      "state": {}
     },
     "8a3b53ca1a44453da873cfda2fad4a36": {
      "model_module": "@jupyter-widgets/base",
      "model_module_version": "1.1.0",
      "model_name": "LayoutModel",
      "state": {}
     },
     "8a5e4d11f8ce4562a41b4cea3563ccc9": {
      "model_module": "@jupyter-widgets/base",
      "model_module_version": "1.1.0",
      "model_name": "LayoutModel",
      "state": {}
     },
     "8a82a824fadd4e388dc98fb2ac049da5": {
      "model_module": "@jupyter-widgets/controls",
      "model_module_version": "1.4.0",
      "model_name": "SliderStyleModel",
      "state": {
       "description_width": ""
      }
     },
     "8a846bacb4c04378b0af8a44e684ab04": {
      "model_module": "@jupyter-widgets/base",
      "model_module_version": "1.1.0",
      "model_name": "LayoutModel",
      "state": {}
     },
     "8b6bffcad4364b3a8fa60ef03853bf77": {
      "model_module": "@jupyter-widgets/output",
      "model_module_version": "1.0.0",
      "model_name": "OutputModel",
      "state": {
       "layout": "IPY_MODEL_d53bd3beec4d45c2a80ef3017f480277"
      }
     },
     "8b768076fe194922afa81d5f3dff29c4": {
      "model_module": "@jupyter-widgets/controls",
      "model_module_version": "1.4.0",
      "model_name": "SliderStyleModel",
      "state": {
       "description_width": ""
      }
     },
     "8bd5c0d6c56e4968af9ee70d494569b4": {
      "model_module": "@jupyter-widgets/controls",
      "model_module_version": "1.4.0",
      "model_name": "FloatSliderModel",
      "state": {
       "continuous_update": false,
       "description": "sigma_u",
       "layout": "IPY_MODEL_2a3b24b1a3884fae820b6b638154cb7f",
       "max": 10,
       "min": 0.1,
       "step": 0.1,
       "style": "IPY_MODEL_d42bc0268b4f4d7e87f98295a6e7c267",
       "value": 1
      }
     },
     "8bec762f95134d178da1b9f1e2b65c32": {
      "model_module": "@jupyter-widgets/base",
      "model_module_version": "1.1.0",
      "model_name": "LayoutModel",
      "state": {}
     },
     "8cb324b99f8c43a7ae5344c9ae280b27": {
      "model_module": "@jupyter-widgets/controls",
      "model_module_version": "1.4.0",
      "model_name": "FloatSliderModel",
      "state": {
       "continuous_update": false,
       "description": "sigma_p",
       "layout": "IPY_MODEL_6a17280b2e1945839874fc91a769d5aa",
       "max": 10,
       "min": 0.1,
       "step": 0.1,
       "style": "IPY_MODEL_93c4e0986fc44cf7b492758f8c062dcb",
       "value": 1
      }
     },
     "8cb8fb4f69c34f75b955fbd1e9bb2759": {
      "model_module": "@jupyter-widgets/controls",
      "model_module_version": "1.4.0",
      "model_name": "FloatSliderModel",
      "state": {
       "continuous_update": false,
       "description": "u",
       "layout": "IPY_MODEL_42b6efc47e90442d8dff916ba7dfc48a",
       "max": 20,
       "min": 0.1,
       "step": 0.1,
       "style": "IPY_MODEL_deda74adf9904b8697f28ffbbf40a21c",
       "value": 2
      }
     },
     "8d2f6263e5b946648c53ea3329381d59": {
      "model_module": "@jupyter-widgets/base",
      "model_module_version": "1.1.0",
      "model_name": "LayoutModel",
      "state": {}
     },
     "8d35bb15471e4f1287dacf47e70b4281": {
      "model_module": "@jupyter-widgets/controls",
      "model_module_version": "1.4.0",
      "model_name": "SliderStyleModel",
      "state": {
       "description_width": ""
      }
     },
     "8d64606adadc446e84c6bdc2111f4a11": {
      "model_module": "@jupyter-widgets/base",
      "model_module_version": "1.1.0",
      "model_name": "LayoutModel",
      "state": {}
     },
     "8da9e750162244e08ffaaddfd882c68b": {
      "model_module": "@jupyter-widgets/controls",
      "model_module_version": "1.4.0",
      "model_name": "SliderStyleModel",
      "state": {
       "description_width": ""
      }
     },
     "8df2456e4f664e52a1ce7bfbcfe6a23b": {
      "model_module": "@jupyter-widgets/controls",
      "model_module_version": "1.4.0",
      "model_name": "FloatSliderModel",
      "state": {
       "description": "u",
       "layout": "IPY_MODEL_c696da301b54453295ef77fd4d145cb1",
       "max": 20,
       "min": 0.1,
       "step": 0.1,
       "style": "IPY_MODEL_7a93dd298e9543219bf774dcd91f0115",
       "value": 3.8
      }
     },
     "8eab70f6b07c42fc93b0da4443e852d5": {
      "model_module": "@jupyter-widgets/base",
      "model_module_version": "1.1.0",
      "model_name": "LayoutModel",
      "state": {}
     },
     "8f4204057c2e41b9af3992c8a3447c30": {
      "model_module": "@jupyter-widgets/controls",
      "model_module_version": "1.4.0",
      "model_name": "SliderStyleModel",
      "state": {
       "description_width": ""
      }
     },
     "905f9979551a45d1a6d6867d33c62001": {
      "model_module": "@jupyter-widgets/controls",
      "model_module_version": "1.4.0",
      "model_name": "VBoxModel",
      "state": {
       "_dom_classes": [
        "widget-interact"
       ],
       "children": [
        "IPY_MODEL_addd15f32eda4f3f97e2eb4d0b2e6d3d",
        "IPY_MODEL_8bd5c0d6c56e4968af9ee70d494569b4",
        "IPY_MODEL_40fa8931f4bd497197c5d1cc29072ac9",
        "IPY_MODEL_4eab6a181925455982b2559bd29ba421",
        "IPY_MODEL_88378752e3444d61a32de1aa71a2555a"
       ],
       "layout": "IPY_MODEL_e79658f90ea94253b3566a465a9c7d15"
      }
     },
     "90d622643b2441b9ad9634932f0e11cd": {
      "model_module": "@jupyter-widgets/base",
      "model_module_version": "1.1.0",
      "model_name": "LayoutModel",
      "state": {}
     },
     "910bfe9359c94d168c5aeddab4ff1d82": {
      "model_module": "@jupyter-widgets/controls",
      "model_module_version": "1.4.0",
      "model_name": "VBoxModel",
      "state": {
       "_dom_classes": [
        "widget-interact"
       ],
       "children": [
        "IPY_MODEL_809322a19b88449f8e7e0fe4cc6a3c0e",
        "IPY_MODEL_3008526ddb7045f79baf56f2dfec8db9",
        "IPY_MODEL_4c9a0f5d438c4bd39e826a62477cb37d",
        "IPY_MODEL_55fa496c3d304b45ad16aeaedbbdfabe",
        "IPY_MODEL_fd94b23960594ccc8de18a07c9fd52de"
       ],
       "layout": "IPY_MODEL_9282447cfbae41e2b9f6de9426b50663"
      }
     },
     "9156e572bfdb48509f7b68b028a46b18": {
      "model_module": "@jupyter-widgets/base",
      "model_module_version": "1.1.0",
      "model_name": "LayoutModel",
      "state": {}
     },
     "9167ccffa40e445dbc2ede016d125f9f": {
      "model_module": "@jupyter-widgets/output",
      "model_module_version": "1.0.0",
      "model_name": "OutputModel",
      "state": {
       "layout": "IPY_MODEL_1efaa86ba2fb4a01a25498d5856e1382"
      }
     },
     "91838fdfffbf4bcdbefa813063e2fac1": {
      "model_module": "@jupyter-widgets/base",
      "model_module_version": "1.1.0",
      "model_name": "LayoutModel",
      "state": {}
     },
     "9228ab052e8e44fcad85aa48afd23a15": {
      "model_module": "@jupyter-widgets/base",
      "model_module_version": "1.1.0",
      "model_name": "LayoutModel",
      "state": {}
     },
     "9277fafa8d5c43749f73227d017951da": {
      "model_module": "@jupyter-widgets/controls",
      "model_module_version": "1.4.0",
      "model_name": "FloatSliderModel",
      "state": {
       "continuous_update": false,
       "description": "v_p",
       "layout": "IPY_MODEL_e931f27c17344b1b9a606a3e55fe7e70",
       "max": 5,
       "min": 0.1,
       "step": 0.1,
       "style": "IPY_MODEL_572c48fdd1d249c78150ce8cce0520ad",
       "value": 3.2
      }
     },
     "9282447cfbae41e2b9f6de9426b50663": {
      "model_module": "@jupyter-widgets/base",
      "model_module_version": "1.1.0",
      "model_name": "LayoutModel",
      "state": {}
     },
     "92b2cbb5b84c437b8cdae411ea3edcea": {
      "model_module": "@jupyter-widgets/controls",
      "model_module_version": "1.4.0",
      "model_name": "VBoxModel",
      "state": {
       "_dom_classes": [
        "widget-interact"
       ],
       "children": [
        "IPY_MODEL_5df9398006f64d72a6edc8d060acd52e",
        "IPY_MODEL_23b7506c0b7b43cb88c8b2c6aca8ce16",
        "IPY_MODEL_46d561269cff4750a019fc19064b1621",
        "IPY_MODEL_427999b443204f36857577180d0d263c",
        "IPY_MODEL_a28654925834414eb6b2f2aa792afd3c"
       ],
       "layout": "IPY_MODEL_553fc1e04d124fc69c9ba41140989b22"
      }
     },
     "92fbc8c5f0d44f11a2ffc9c100fc95bb": {
      "model_module": "@jupyter-widgets/controls",
      "model_module_version": "1.4.0",
      "model_name": "FloatSliderModel",
      "state": {
       "continuous_update": false,
       "layout": "IPY_MODEL_01af32ee83464552bfde20ce6fe13317",
       "max": 20,
       "min": 0.1,
       "step": 0.1,
       "style": "IPY_MODEL_9d083f71a5764f6e81f893ab6c018293",
       "value": 0.1
      }
     },
     "930b5f8b3c7d498582a4b5363541a885": {
      "model_module": "@jupyter-widgets/controls",
      "model_module_version": "1.4.0",
      "model_name": "SliderStyleModel",
      "state": {
       "description_width": ""
      }
     },
     "9315bf4b63344235a0be18fc8339c47a": {
      "model_module": "@jupyter-widgets/base",
      "model_module_version": "1.1.0",
      "model_name": "LayoutModel",
      "state": {}
     },
     "93c4e0986fc44cf7b492758f8c062dcb": {
      "model_module": "@jupyter-widgets/controls",
      "model_module_version": "1.4.0",
      "model_name": "SliderStyleModel",
      "state": {
       "description_width": ""
      }
     },
     "949a308eb0604b65a53ad9ef85ea9e4d": {
      "model_module": "@jupyter-widgets/controls",
      "model_module_version": "1.4.0",
      "model_name": "FloatSliderModel",
      "state": {
       "description": "u",
       "layout": "IPY_MODEL_fb7e9697769948f0b4ef0238cfab5bde",
       "max": 20,
       "min": 0.1,
       "step": 0.1,
       "style": "IPY_MODEL_8b768076fe194922afa81d5f3dff29c4",
       "value": 8.1
      }
     },
     "94ba0120491249c5a485af25121e769b": {
      "model_module": "@jupyter-widgets/base",
      "model_module_version": "1.1.0",
      "model_name": "LayoutModel",
      "state": {}
     },
     "94ddb01514344d22a995c26ea22ca76e": {
      "model_module": "@jupyter-widgets/controls",
      "model_module_version": "1.4.0",
      "model_name": "SliderStyleModel",
      "state": {
       "description_width": ""
      }
     },
     "95a85b6ccf5343d5b11241911f78f8dd": {
      "model_module": "@jupyter-widgets/controls",
      "model_module_version": "1.4.0",
      "model_name": "FloatSliderModel",
      "state": {
       "description": "sigma_u",
       "layout": "IPY_MODEL_14954344361c452bae671de0f2e0a62c",
       "max": 10,
       "min": 0.1,
       "step": 0.1,
       "style": "IPY_MODEL_a5e814e73c1c41f28a97071f96fd860e",
       "value": 1
      }
     },
     "95d15ffd72e84147b94e597e9f1fb6c8": {
      "model_module": "@jupyter-widgets/controls",
      "model_module_version": "1.4.0",
      "model_name": "VBoxModel",
      "state": {
       "_dom_classes": [
        "widget-interact"
       ],
       "children": [
        "IPY_MODEL_cdc3a1639ff448bc8893dfe40266d65a",
        "IPY_MODEL_cfc204d9f7c74daa98dba4dd88bf047c",
        "IPY_MODEL_ea73b8302a8c4e32ae7934c34bdd511f",
        "IPY_MODEL_63428911dd3b42dab1f816f31cab1f45",
        "IPY_MODEL_058da90a900942049584d3c7b6826265"
       ],
       "layout": "IPY_MODEL_271bb03a2e494d88b2fe2b42fbff4c20"
      }
     },
     "95f12b94bafa440b81d0d201eb48a884": {
      "model_module": "@jupyter-widgets/controls",
      "model_module_version": "1.4.0",
      "model_name": "SliderStyleModel",
      "state": {
       "description_width": ""
      }
     },
     "96ecc3f018a545f8bbd906a95fbabe6f": {
      "model_module": "@jupyter-widgets/base",
      "model_module_version": "1.1.0",
      "model_name": "LayoutModel",
      "state": {}
     },
     "975b38539e2141dea78a62015c7417b8": {
      "model_module": "@jupyter-widgets/base",
      "model_module_version": "1.1.0",
      "model_name": "LayoutModel",
      "state": {}
     },
     "97e1de8d062c4883b4da2da1bdf4168b": {
      "model_module": "@jupyter-widgets/controls",
      "model_module_version": "1.4.0",
      "model_name": "SliderStyleModel",
      "state": {
       "description_width": ""
      }
     },
     "98b3bf6348f54aa5a8fa150010ef711a": {
      "model_module": "@jupyter-widgets/controls",
      "model_module_version": "1.4.0",
      "model_name": "SliderStyleModel",
      "state": {
       "description_width": ""
      }
     },
     "98b93a85030846218c92c972ab2ac5d2": {
      "model_module": "@jupyter-widgets/base",
      "model_module_version": "1.1.0",
      "model_name": "LayoutModel",
      "state": {}
     },
     "99701a43af6748a7b828bcf543c14e4e": {
      "model_module": "@jupyter-widgets/controls",
      "model_module_version": "1.4.0",
      "model_name": "FloatSliderModel",
      "state": {
       "description": "sigma_u",
       "layout": "IPY_MODEL_19fea8ffeb1345aaad06e174f689fbfa",
       "max": 10,
       "min": 0.1,
       "step": 0.1,
       "style": "IPY_MODEL_e65bc84ccf0b495d80eabb17f10c4ab1",
       "value": 1
      }
     },
     "99c6e54bf7e449e882c98fc0ff0d7266": {
      "model_module": "@jupyter-widgets/controls",
      "model_module_version": "1.4.0",
      "model_name": "FloatSliderModel",
      "state": {
       "continuous_update": false,
       "description": "sigma_p",
       "layout": "IPY_MODEL_f65d8373ec1a43018323ecb8862a59a2",
       "max": 10,
       "min": 0.1,
       "step": 0.1,
       "style": "IPY_MODEL_42c2a3e293ab437da8b0c0a62e1aa083",
       "value": 0.1
      }
     },
     "9a113dfb0cf14f47b498dac52d7fc90d": {
      "model_module": "@jupyter-widgets/controls",
      "model_module_version": "1.4.0",
      "model_name": "FloatSliderModel",
      "state": {
       "description": "u",
       "layout": "IPY_MODEL_07e00e39518148f89a6480419da97475",
       "max": 20,
       "min": 0.1,
       "step": 0.1,
       "style": "IPY_MODEL_a18ba22a4fd24a8ab8a311330c98eabd",
       "value": 10.7
      }
     },
     "9a65e72d24d04cc29a4caf9a5aecdfe2": {
      "model_module": "@jupyter-widgets/controls",
      "model_module_version": "1.4.0",
      "model_name": "FloatSliderModel",
      "state": {
       "description": "sigma_u",
       "layout": "IPY_MODEL_c6a155b6684c4f84b6ee5f9afd8742dc",
       "max": 10,
       "min": 0.1,
       "step": 0.1,
       "style": "IPY_MODEL_b2344131cb354906b6ac85dfd4c36e54",
       "value": 1
      }
     },
     "9a79166a29e3434a9791a9b31ef746c7": {
      "model_module": "@jupyter-widgets/base",
      "model_module_version": "1.1.0",
      "model_name": "LayoutModel",
      "state": {}
     },
     "9b1feab88170419d8ab6cb29d53cea30": {
      "model_module": "@jupyter-widgets/controls",
      "model_module_version": "1.4.0",
      "model_name": "SliderStyleModel",
      "state": {
       "description_width": ""
      }
     },
     "9ba1b685f7c24e329edfc6c6c5181365": {
      "model_module": "@jupyter-widgets/controls",
      "model_module_version": "1.4.0",
      "model_name": "SliderStyleModel",
      "state": {
       "description_width": ""
      }
     },
     "9c0249a374ae4523b54a10cf61b57df7": {
      "model_module": "@jupyter-widgets/controls",
      "model_module_version": "1.4.0",
      "model_name": "FloatSliderModel",
      "state": {
       "description": "u",
       "layout": "IPY_MODEL_dbd59288bfc549fcb03b031b112239d9",
       "max": 20,
       "min": 0.1,
       "step": 0.1,
       "style": "IPY_MODEL_b211ae22f14743b19d5a47fed274fc1d",
       "value": 2
      }
     },
     "9c1c3288bc984d6f945a7cdefa1e22a8": {
      "model_module": "@jupyter-widgets/controls",
      "model_module_version": "1.4.0",
      "model_name": "FloatSliderModel",
      "state": {
       "description": "v_p",
       "layout": "IPY_MODEL_19369bdf086d4111bde8caca03c55bc7",
       "max": 5,
       "min": 0.1,
       "step": 0.1,
       "style": "IPY_MODEL_1a14f5cd32b64d30833f1b2d1c49f8db",
       "value": 3
      }
     },
     "9c891b22e19f47b5b095a4b1884a4f01": {
      "model_module": "@jupyter-widgets/base",
      "model_module_version": "1.1.0",
      "model_name": "LayoutModel",
      "state": {}
     },
     "9d083f71a5764f6e81f893ab6c018293": {
      "model_module": "@jupyter-widgets/controls",
      "model_module_version": "1.4.0",
      "model_name": "SliderStyleModel",
      "state": {
       "description_width": ""
      }
     },
     "9da747318ce3496baef8c748adfd6a7b": {
      "model_module": "@jupyter-widgets/base",
      "model_module_version": "1.1.0",
      "model_name": "LayoutModel",
      "state": {}
     },
     "9eaa6bf9482647cb9339d1701305c4c3": {
      "model_module": "@jupyter-widgets/controls",
      "model_module_version": "1.4.0",
      "model_name": "VBoxModel",
      "state": {
       "_dom_classes": [
        "widget-interact"
       ],
       "children": [
        "IPY_MODEL_e465e73ce58046faa1d69ddd6b674ad6",
        "IPY_MODEL_dac29148534c4fef95a30e90468b2005",
        "IPY_MODEL_081ab947ae5c4b5d9ff81d2be28dc2e9",
        "IPY_MODEL_bfa0555dc30c482cb7d7598e8bed92a6",
        "IPY_MODEL_f59451e8f21148108369d31f3f367b56"
       ],
       "layout": "IPY_MODEL_4778bc2656dd4ef099991fb5ed27a1a5"
      }
     },
     "9f7bb41ed3cd4031847edf3fa4cd6a41": {
      "model_module": "@jupyter-widgets/base",
      "model_module_version": "1.1.0",
      "model_name": "LayoutModel",
      "state": {}
     },
     "a06cdc9de1f543a89c5bc47e4c1fa9d2": {
      "model_module": "@jupyter-widgets/base",
      "model_module_version": "1.1.0",
      "model_name": "LayoutModel",
      "state": {}
     },
     "a0f01f0e6b534169937b994950dedd32": {
      "model_module": "@jupyter-widgets/base",
      "model_module_version": "1.1.0",
      "model_name": "LayoutModel",
      "state": {}
     },
     "a14648b561604603be987dcb567f33df": {
      "model_module": "@jupyter-widgets/controls",
      "model_module_version": "1.4.0",
      "model_name": "SliderStyleModel",
      "state": {
       "description_width": ""
      }
     },
     "a18ba22a4fd24a8ab8a311330c98eabd": {
      "model_module": "@jupyter-widgets/controls",
      "model_module_version": "1.4.0",
      "model_name": "SliderStyleModel",
      "state": {
       "description_width": ""
      }
     },
     "a21f3657c4e84f5da9a8540e586f72d7": {
      "model_module": "@jupyter-widgets/base",
      "model_module_version": "1.1.0",
      "model_name": "LayoutModel",
      "state": {}
     },
     "a27f4b80471b4635b3bde1d374219229": {
      "model_module": "@jupyter-widgets/controls",
      "model_module_version": "1.4.0",
      "model_name": "SliderStyleModel",
      "state": {
       "description_width": ""
      }
     },
     "a28654925834414eb6b2f2aa792afd3c": {
      "model_module": "@jupyter-widgets/output",
      "model_module_version": "1.0.0",
      "model_name": "OutputModel",
      "state": {
       "layout": "IPY_MODEL_2631c91762384622b787e21c9e3188f0"
      }
     },
     "a3553b6e1b2345209873c80e9f6c42c5": {
      "model_module": "@jupyter-widgets/controls",
      "model_module_version": "1.4.0",
      "model_name": "SliderStyleModel",
      "state": {
       "description_width": ""
      }
     },
     "a410f12998c1496d877753ee177c041c": {
      "model_module": "@jupyter-widgets/controls",
      "model_module_version": "1.4.0",
      "model_name": "FloatSliderModel",
      "state": {
       "description": "u",
       "layout": "IPY_MODEL_96ecc3f018a545f8bbd906a95fbabe6f",
       "max": 20,
       "min": 0.1,
       "step": 0.1,
       "style": "IPY_MODEL_c34f3560205546939e7c7248453e88e6",
       "value": 3.5
      }
     },
     "a4ae871f7aa94ca6b5d3921f10f9ec56": {
      "model_module": "@jupyter-widgets/base",
      "model_module_version": "1.1.0",
      "model_name": "LayoutModel",
      "state": {}
     },
     "a5971438e9d14049b19051a93095ab43": {
      "model_module": "@jupyter-widgets/base",
      "model_module_version": "1.1.0",
      "model_name": "LayoutModel",
      "state": {}
     },
     "a5e814e73c1c41f28a97071f96fd860e": {
      "model_module": "@jupyter-widgets/controls",
      "model_module_version": "1.4.0",
      "model_name": "SliderStyleModel",
      "state": {
       "description_width": ""
      }
     },
     "a66a4d3ba18c4115932546f95bbbb0b1": {
      "model_module": "@jupyter-widgets/controls",
      "model_module_version": "1.4.0",
      "model_name": "FloatSliderModel",
      "state": {
       "description": "v_p",
       "layout": "IPY_MODEL_da3a18489bbe44e9bcfe35f180dab1af",
       "max": 5,
       "min": 0.1,
       "step": 0.1,
       "style": "IPY_MODEL_da4edeaf623e41ccaa4a50437aeb719f",
       "value": 3
      }
     },
     "a6d1a04ec0c1430a8d28b0f093aa3e65": {
      "model_module": "@jupyter-widgets/controls",
      "model_module_version": "1.4.0",
      "model_name": "FloatSliderModel",
      "state": {
       "continuous_update": false,
       "description": "v_p",
       "layout": "IPY_MODEL_1d7a6aac647a4dfd9a865f4b343a2a57",
       "max": 5,
       "min": 0.1,
       "step": 0.1,
       "style": "IPY_MODEL_4bc31c6aceeb429e881b30716e301261",
       "value": 3
      }
     },
     "a714f521e5444d3c867512b1a667f533": {
      "model_module": "@jupyter-widgets/base",
      "model_module_version": "1.1.0",
      "model_name": "LayoutModel",
      "state": {}
     },
     "a76c0cc108eb4c1588ce0a81516aa860": {
      "model_module": "@jupyter-widgets/controls",
      "model_module_version": "1.4.0",
      "model_name": "FloatSliderModel",
      "state": {
       "continuous_update": false,
       "description": "sigma_p",
       "layout": "IPY_MODEL_e97388ed272a4bb8a2030cc5b872a3fa",
       "max": 10,
       "min": 0.1,
       "step": 0.1,
       "style": "IPY_MODEL_143b6f4da7bb43b8a20f5a274974cd88",
       "value": 1
      }
     },
     "a7c7e599252741f7934e977b71c8c737": {
      "model_module": "@jupyter-widgets/base",
      "model_module_version": "1.1.0",
      "model_name": "LayoutModel",
      "state": {}
     },
     "a84d325e37e44908bc3f40bd4369d817": {
      "model_module": "@jupyter-widgets/base",
      "model_module_version": "1.1.0",
      "model_name": "LayoutModel",
      "state": {}
     },
     "a8c2ee6b861241be81b028d2fc97c20c": {
      "model_module": "@jupyter-widgets/base",
      "model_module_version": "1.1.0",
      "model_name": "LayoutModel",
      "state": {}
     },
     "ab91d5eaf1d5479895998901a630f567": {
      "model_module": "@jupyter-widgets/controls",
      "model_module_version": "1.4.0",
      "model_name": "FloatSliderModel",
      "state": {
       "description": "u",
       "layout": "IPY_MODEL_b8c9c919addd4761af6df129f7cf0e3f",
       "max": 20,
       "min": 0.1,
       "step": 0.1,
       "style": "IPY_MODEL_eb2fd427163e41b1a113caf54a694e46",
       "value": 2
      }
     },
     "abda9fa8150447b6b0fe6f2cba66cb16": {
      "model_module": "@jupyter-widgets/controls",
      "model_module_version": "1.4.0",
      "model_name": "SliderStyleModel",
      "state": {
       "description_width": ""
      }
     },
     "ac289119986547ccaf389fe1db2317ad": {
      "model_module": "@jupyter-widgets/base",
      "model_module_version": "1.1.0",
      "model_name": "LayoutModel",
      "state": {}
     },
     "ac6370969a274017bde8a0e8165bae83": {
      "model_module": "@jupyter-widgets/controls",
      "model_module_version": "1.4.0",
      "model_name": "FloatSliderModel",
      "state": {
       "description": "sigma_p",
       "layout": "IPY_MODEL_7ceb0e4bd6c042f18d56153740d99df9",
       "max": 10,
       "min": 0.1,
       "step": 0.1,
       "style": "IPY_MODEL_0265ead35363493c847497a2095d2c88",
       "value": 1
      }
     },
     "ac8b93ff64fa4af597e72e85056f8a79": {
      "model_module": "@jupyter-widgets/controls",
      "model_module_version": "1.4.0",
      "model_name": "VBoxModel",
      "state": {
       "_dom_classes": [
        "widget-interact"
       ],
       "children": [
        "IPY_MODEL_9a113dfb0cf14f47b498dac52d7fc90d",
        "IPY_MODEL_99701a43af6748a7b828bcf543c14e4e",
        "IPY_MODEL_fbbc497ddbe547a896e4538a1ea2a7cc",
        "IPY_MODEL_c50d9e40012c4d618fdbe289292417ac",
        "IPY_MODEL_870ff18d47344f3dae1a1150ad446713"
       ],
       "layout": "IPY_MODEL_3d90bce3480b46bba6eeae52c7a9301f"
      }
     },
     "ad749b8511c64e279f52c3eda6396710": {
      "model_module": "@jupyter-widgets/output",
      "model_module_version": "1.0.0",
      "model_name": "OutputModel",
      "state": {
       "layout": "IPY_MODEL_01364503c8b94670a4d90d0a3fd60728"
      }
     },
     "addd15f32eda4f3f97e2eb4d0b2e6d3d": {
      "model_module": "@jupyter-widgets/controls",
      "model_module_version": "1.4.0",
      "model_name": "FloatSliderModel",
      "state": {
       "continuous_update": false,
       "description": "u",
       "layout": "IPY_MODEL_8a5e4d11f8ce4562a41b4cea3563ccc9",
       "max": 20,
       "min": 0.1,
       "step": 0.1,
       "style": "IPY_MODEL_b6918b0ad01f4c60afe386c337f9b380",
       "value": 11.2
      }
     },
     "af7f3f00f4da4a20892878a50e5595f8": {
      "model_module": "@jupyter-widgets/controls",
      "model_module_version": "1.4.0",
      "model_name": "FloatSliderModel",
      "state": {
       "description": "v_p",
       "layout": "IPY_MODEL_b3d96310676341b1933736a37d32b420",
       "max": 5,
       "min": 0.1,
       "step": 0.1,
       "style": "IPY_MODEL_b60c157eab804775a6bc206addc40197",
       "value": 3
      }
     },
     "b005391d54204c369620c2f5e3fa3eda": {
      "model_module": "@jupyter-widgets/controls",
      "model_module_version": "1.4.0",
      "model_name": "VBoxModel",
      "state": {
       "_dom_classes": [
        "widget-interact"
       ],
       "children": [
        "IPY_MODEL_1520034e73f84729a4fdcb1b3c7d7d7b",
        "IPY_MODEL_bcf47799534d4a579649ddcd7df6a809",
        "IPY_MODEL_3dda7f38029e4fa69a8119ae5b0e6eee",
        "IPY_MODEL_24f73d31588248f89144352d816d2314",
        "IPY_MODEL_31c743bb48c84f599986ae4accdc2b2e"
       ],
       "layout": "IPY_MODEL_f3e88c31b1da4546aae24ec6cd427130"
      }
     },
     "b08d4efb34be48d5b83f7f0614a2fcdc": {
      "model_module": "@jupyter-widgets/controls",
      "model_module_version": "1.4.0",
      "model_name": "FloatSliderModel",
      "state": {
       "description": "sigma_p",
       "layout": "IPY_MODEL_8d2f6263e5b946648c53ea3329381d59",
       "max": 10,
       "min": 0.1,
       "step": 0.1,
       "style": "IPY_MODEL_a14648b561604603be987dcb567f33df",
       "value": 1
      }
     },
     "b1bb760326d043ea9a101f9661857666": {
      "model_module": "@jupyter-widgets/controls",
      "model_module_version": "1.4.0",
      "model_name": "FloatSliderModel",
      "state": {
       "continuous_update": false,
       "description": "u",
       "layout": "IPY_MODEL_ac289119986547ccaf389fe1db2317ad",
       "max": 20,
       "min": 0.1,
       "step": 0.1,
       "style": "IPY_MODEL_930b5f8b3c7d498582a4b5363541a885",
       "value": 1.8
      }
     },
     "b1d2c061cd01494c9ab6d8c8b40c2f8b": {
      "model_module": "@jupyter-widgets/controls",
      "model_module_version": "1.4.0",
      "model_name": "SliderStyleModel",
      "state": {
       "description_width": ""
      }
     },
     "b20cc22b35ed4acd9c0b087af0ee0285": {
      "model_module": "@jupyter-widgets/controls",
      "model_module_version": "1.4.0",
      "model_name": "FloatSliderModel",
      "state": {
       "description": "sigma_u",
       "layout": "IPY_MODEL_66d36a8fef284a8d91c7484bf9f546aa",
       "max": 10,
       "min": 0.1,
       "step": 0.1,
       "style": "IPY_MODEL_e3feb1db184e4d7490f727be0919d959",
       "value": 1
      }
     },
     "b211ae22f14743b19d5a47fed274fc1d": {
      "model_module": "@jupyter-widgets/controls",
      "model_module_version": "1.4.0",
      "model_name": "SliderStyleModel",
      "state": {
       "description_width": ""
      }
     },
     "b2344131cb354906b6ac85dfd4c36e54": {
      "model_module": "@jupyter-widgets/controls",
      "model_module_version": "1.4.0",
      "model_name": "SliderStyleModel",
      "state": {
       "description_width": ""
      }
     },
     "b26e9ec51b8c472f8f51ea8fd65332d5": {
      "model_module": "@jupyter-widgets/base",
      "model_module_version": "1.1.0",
      "model_name": "LayoutModel",
      "state": {}
     },
     "b3889b55aa6e43f7870cd49fe75fcd7d": {
      "model_module": "@jupyter-widgets/base",
      "model_module_version": "1.1.0",
      "model_name": "LayoutModel",
      "state": {}
     },
     "b3b5f328b83d443c88caced9aae170c7": {
      "model_module": "@jupyter-widgets/base",
      "model_module_version": "1.1.0",
      "model_name": "LayoutModel",
      "state": {}
     },
     "b3d96310676341b1933736a37d32b420": {
      "model_module": "@jupyter-widgets/base",
      "model_module_version": "1.1.0",
      "model_name": "LayoutModel",
      "state": {}
     },
     "b455cceeafce40b5a159324c173c1fa6": {
      "model_module": "@jupyter-widgets/controls",
      "model_module_version": "1.4.0",
      "model_name": "FloatSliderModel",
      "state": {
       "description": "sigma_u",
       "layout": "IPY_MODEL_63025cd1f0f349b8a3fdc0f12b105b08",
       "max": 10,
       "min": 0.1,
       "step": 0.1,
       "style": "IPY_MODEL_6ab3c0c0fd92450f9574b8e051c9895f",
       "value": 1
      }
     },
     "b4e5be6041554579afa6fcfc3fde671e": {
      "model_module": "@jupyter-widgets/base",
      "model_module_version": "1.1.0",
      "model_name": "LayoutModel",
      "state": {}
     },
     "b560a39eca344290846e245450383b4e": {
      "model_module": "@jupyter-widgets/controls",
      "model_module_version": "1.4.0",
      "model_name": "FloatSliderModel",
      "state": {
       "description": "v_p",
       "layout": "IPY_MODEL_a21f3657c4e84f5da9a8540e586f72d7",
       "max": 5,
       "min": 0.1,
       "step": 0.1,
       "style": "IPY_MODEL_713638a7185e4ab98caf35bcb85769de",
       "value": 3
      }
     },
     "b5dfaa4cef974e29b21bda94d3e193a7": {
      "model_module": "@jupyter-widgets/controls",
      "model_module_version": "1.4.0",
      "model_name": "SliderStyleModel",
      "state": {
       "description_width": ""
      }
     },
     "b60c157eab804775a6bc206addc40197": {
      "model_module": "@jupyter-widgets/controls",
      "model_module_version": "1.4.0",
      "model_name": "SliderStyleModel",
      "state": {
       "description_width": ""
      }
     },
     "b654ccdb22134fd9aafb796673332452": {
      "model_module": "@jupyter-widgets/controls",
      "model_module_version": "1.4.0",
      "model_name": "FloatSliderModel",
      "state": {
       "description": "u",
       "layout": "IPY_MODEL_12b59f26f26f4325aa975992f87ce42d",
       "max": 20,
       "min": 0.1,
       "step": 0.1,
       "style": "IPY_MODEL_2c7d19e55978496f9ec96775c295de3e",
       "value": 2
      }
     },
     "b6918b0ad01f4c60afe386c337f9b380": {
      "model_module": "@jupyter-widgets/controls",
      "model_module_version": "1.4.0",
      "model_name": "SliderStyleModel",
      "state": {
       "description_width": ""
      }
     },
     "b8bad476a6854009a6d7677eb518ce47": {
      "model_module": "@jupyter-widgets/controls",
      "model_module_version": "1.4.0",
      "model_name": "FloatSliderModel",
      "state": {
       "description": "v_p",
       "layout": "IPY_MODEL_084e7c1f8f0e459487a2324e85db7180",
       "max": 5,
       "min": 0.1,
       "step": 0.1,
       "style": "IPY_MODEL_282f40815e7141258e294608f505bc8e",
       "value": 3
      }
     },
     "b8c9c919addd4761af6df129f7cf0e3f": {
      "model_module": "@jupyter-widgets/base",
      "model_module_version": "1.1.0",
      "model_name": "LayoutModel",
      "state": {}
     },
     "b92105a9ae4049c282e31fcb25f1e495": {
      "model_module": "@jupyter-widgets/controls",
      "model_module_version": "1.4.0",
      "model_name": "FloatSliderModel",
      "state": {
       "description": "u",
       "layout": "IPY_MODEL_df3bff9266c34218bbb60e6e71eda0d3",
       "max": 20,
       "min": 0.1,
       "step": 0.1,
       "style": "IPY_MODEL_265b4713deee4e679c5d550b3f7bb910",
       "value": 2
      }
     },
     "b94f96e6dee248c3b43e376af45b4a96": {
      "model_module": "@jupyter-widgets/base",
      "model_module_version": "1.1.0",
      "model_name": "LayoutModel",
      "state": {}
     },
     "b9dd4b2e5a5043dd906aa39576ca5511": {
      "model_module": "@jupyter-widgets/controls",
      "model_module_version": "1.4.0",
      "model_name": "FloatSliderModel",
      "state": {
       "continuous_update": false,
       "layout": "IPY_MODEL_df9437bd6cb546729632df24cf861531",
       "max": 5,
       "min": 0.1,
       "step": 0.1,
       "style": "IPY_MODEL_403a98bcd0a14dab9c3dee5a95087e72",
       "value": 0.1
      }
     },
     "b9fe341cb43f412a84ab1ea3e2dc8aab": {
      "model_module": "@jupyter-widgets/controls",
      "model_module_version": "1.4.0",
      "model_name": "SliderStyleModel",
      "state": {
       "description_width": ""
      }
     },
     "ba12f864cddf4d7fac0cbef6f585cf5a": {
      "model_module": "@jupyter-widgets/controls",
      "model_module_version": "1.4.0",
      "model_name": "FloatSliderModel",
      "state": {
       "description": "v_p",
       "layout": "IPY_MODEL_e8efe3164b904e0a96023ea77ef5c73e",
       "max": 5,
       "min": 0.1,
       "step": 0.1,
       "style": "IPY_MODEL_c949274ddfc54302a096ae0deb1f53db",
       "value": 3
      }
     },
     "bbfa6fa5eb17455cb886f2553fe59042": {
      "model_module": "@jupyter-widgets/base",
      "model_module_version": "1.1.0",
      "model_name": "LayoutModel",
      "state": {}
     },
     "bc05def870674c2981f4a24f8ab1cb7b": {
      "model_module": "@jupyter-widgets/controls",
      "model_module_version": "1.4.0",
      "model_name": "SliderStyleModel",
      "state": {
       "description_width": ""
      }
     },
     "bc0b92fbef654d689a09f5bdf94755ae": {
      "model_module": "@jupyter-widgets/base",
      "model_module_version": "1.1.0",
      "model_name": "LayoutModel",
      "state": {}
     },
     "bcf47799534d4a579649ddcd7df6a809": {
      "model_module": "@jupyter-widgets/controls",
      "model_module_version": "1.4.0",
      "model_name": "FloatSliderModel",
      "state": {
       "description": "sigma_u",
       "layout": "IPY_MODEL_c3b79066ae3e4b52bc177b7501ee670e",
       "max": 10,
       "min": 0.1,
       "step": 0.1,
       "style": "IPY_MODEL_f4af74e903204edfb524949ffe87d8b5",
       "value": 1
      }
     },
     "bd03cc90f0f34881ad6c00dc06971a9d": {
      "model_module": "@jupyter-widgets/controls",
      "model_module_version": "1.4.0",
      "model_name": "SliderStyleModel",
      "state": {
       "description_width": ""
      }
     },
     "bd8ed0ff494345d2a433750ed58e79ad": {
      "model_module": "@jupyter-widgets/base",
      "model_module_version": "1.1.0",
      "model_name": "LayoutModel",
      "state": {}
     },
     "bde2e3bbb05946b5b2640edecc7f96a2": {
      "model_module": "@jupyter-widgets/controls",
      "model_module_version": "1.4.0",
      "model_name": "SliderStyleModel",
      "state": {
       "description_width": ""
      }
     },
     "be97b22bbf624c35a29f0736d17aafa2": {
      "model_module": "@jupyter-widgets/controls",
      "model_module_version": "1.4.0",
      "model_name": "SliderStyleModel",
      "state": {
       "description_width": ""
      }
     },
     "bf6258dc1d714da4827f55d7b6669a79": {
      "model_module": "@jupyter-widgets/base",
      "model_module_version": "1.1.0",
      "model_name": "LayoutModel",
      "state": {}
     },
     "bfa0555dc30c482cb7d7598e8bed92a6": {
      "model_module": "@jupyter-widgets/controls",
      "model_module_version": "1.4.0",
      "model_name": "FloatSliderModel",
      "state": {
       "description": "sigma_p",
       "layout": "IPY_MODEL_e4c71fcd53d146dda2baadb4f5845f00",
       "max": 10,
       "min": 0.1,
       "step": 0.1,
       "style": "IPY_MODEL_dc20c73c8e6f4288ba8f24c8b4dd31ad",
       "value": 1
      }
     },
     "c1348e99360949d499b93feaf929960c": {
      "model_module": "@jupyter-widgets/base",
      "model_module_version": "1.1.0",
      "model_name": "LayoutModel",
      "state": {}
     },
     "c14ed9de62744b79a205b819ffe20371": {
      "model_module": "@jupyter-widgets/base",
      "model_module_version": "1.1.0",
      "model_name": "LayoutModel",
      "state": {}
     },
     "c19adb24de1a4534ade5a0cd923154d1": {
      "model_module": "@jupyter-widgets/output",
      "model_module_version": "1.0.0",
      "model_name": "OutputModel",
      "state": {
       "layout": "IPY_MODEL_188a9fff45b04ae3b5474eefbcf3759e"
      }
     },
     "c1ad3b6d197640f495e0aea86b2d2a62": {
      "model_module": "@jupyter-widgets/controls",
      "model_module_version": "1.4.0",
      "model_name": "FloatSliderModel",
      "state": {
       "description": "u",
       "layout": "IPY_MODEL_9da747318ce3496baef8c748adfd6a7b",
       "max": 20,
       "min": 0.1,
       "step": 0.1,
       "style": "IPY_MODEL_6528bbe162c54f74bd73d1f885df9abc",
       "value": 8.6
      }
     },
     "c34f3560205546939e7c7248453e88e6": {
      "model_module": "@jupyter-widgets/controls",
      "model_module_version": "1.4.0",
      "model_name": "SliderStyleModel",
      "state": {
       "description_width": ""
      }
     },
     "c3b79066ae3e4b52bc177b7501ee670e": {
      "model_module": "@jupyter-widgets/base",
      "model_module_version": "1.1.0",
      "model_name": "LayoutModel",
      "state": {}
     },
     "c3d1a2d0fa344f87addf6ed0aa46e5f9": {
      "model_module": "@jupyter-widgets/base",
      "model_module_version": "1.1.0",
      "model_name": "LayoutModel",
      "state": {}
     },
     "c48979f22c5d4ace85d357127c338e6d": {
      "model_module": "@jupyter-widgets/controls",
      "model_module_version": "1.4.0",
      "model_name": "VBoxModel",
      "state": {
       "_dom_classes": [
        "widget-interact"
       ],
       "children": [
        "IPY_MODEL_6401e4e649de4e969a0ace1cbcff9f6b",
        "IPY_MODEL_73d54154bdd8481ea63d884616353998",
        "IPY_MODEL_62acda699c9a4e82a5d22a23932e380f",
        "IPY_MODEL_d5846744c6d94ab9a9ff65204dd14a9d",
        "IPY_MODEL_3618205f33584c8bb4b85c13c6b1d2e9"
       ],
       "layout": "IPY_MODEL_26877f4d5e814fc1b5b15f64b7e62ffb"
      }
     },
     "c4cca5e43f484d9a982375e987bca51b": {
      "model_module": "@jupyter-widgets/controls",
      "model_module_version": "1.4.0",
      "model_name": "SliderStyleModel",
      "state": {
       "description_width": ""
      }
     },
     "c4f97d3b716d45749749e7acfe13026b": {
      "model_module": "@jupyter-widgets/controls",
      "model_module_version": "1.4.0",
      "model_name": "SliderStyleModel",
      "state": {
       "description_width": ""
      }
     },
     "c50d9e40012c4d618fdbe289292417ac": {
      "model_module": "@jupyter-widgets/controls",
      "model_module_version": "1.4.0",
      "model_name": "FloatSliderModel",
      "state": {
       "description": "sigma_p",
       "layout": "IPY_MODEL_d4bcc1a9a6074787b106403076d9145f",
       "max": 10,
       "min": 0.1,
       "step": 0.1,
       "style": "IPY_MODEL_86b1aeafd5e64f9a855436b247be8628",
       "value": 1
      }
     },
     "c52be726f4ca4f1f9dce0efe1cc7ce0f": {
      "model_module": "@jupyter-widgets/controls",
      "model_module_version": "1.4.0",
      "model_name": "SliderStyleModel",
      "state": {
       "description_width": ""
      }
     },
     "c64d5e68e75242dba9df2664b0f4d82b": {
      "model_module": "@jupyter-widgets/base",
      "model_module_version": "1.1.0",
      "model_name": "LayoutModel",
      "state": {}
     },
     "c696da301b54453295ef77fd4d145cb1": {
      "model_module": "@jupyter-widgets/base",
      "model_module_version": "1.1.0",
      "model_name": "LayoutModel",
      "state": {}
     },
     "c6a155b6684c4f84b6ee5f9afd8742dc": {
      "model_module": "@jupyter-widgets/base",
      "model_module_version": "1.1.0",
      "model_name": "LayoutModel",
      "state": {}
     },
     "c6ae6ea4735f4766a058c1f6034f099e": {
      "model_module": "@jupyter-widgets/output",
      "model_module_version": "1.0.0",
      "model_name": "OutputModel",
      "state": {
       "layout": "IPY_MODEL_71f184deba4d48c59995e627c857e67b"
      }
     },
     "c6d9a995c9bd43b39fee5f419b0c518c": {
      "model_module": "@jupyter-widgets/base",
      "model_module_version": "1.1.0",
      "model_name": "LayoutModel",
      "state": {}
     },
     "c767839ceccd465aaaa408863aaf4a51": {
      "model_module": "@jupyter-widgets/controls",
      "model_module_version": "1.4.0",
      "model_name": "FloatSliderModel",
      "state": {
       "description": "sigma_p",
       "layout": "IPY_MODEL_2f915ae73494492f9b326448df6de622",
       "max": 10,
       "min": 0.1,
       "step": 0.1,
       "style": "IPY_MODEL_dcdcc7d3a18746548092d7ac63758635",
       "value": 1
      }
     },
     "c7b90a19e99541a2829dc10a08e03367": {
      "model_module": "@jupyter-widgets/controls",
      "model_module_version": "1.4.0",
      "model_name": "SliderStyleModel",
      "state": {
       "description_width": ""
      }
     },
     "c8cd4dba06ac457282e07fc564d762f3": {
      "model_module": "@jupyter-widgets/output",
      "model_module_version": "1.0.0",
      "model_name": "OutputModel",
      "state": {
       "layout": "IPY_MODEL_84c9521d0a0b45f2beb928b98e9b485a"
      }
     },
     "c949274ddfc54302a096ae0deb1f53db": {
      "model_module": "@jupyter-widgets/controls",
      "model_module_version": "1.4.0",
      "model_name": "SliderStyleModel",
      "state": {
       "description_width": ""
      }
     },
     "c975d5ab5b2e4e6aa7dd3e25dea88d1c": {
      "model_module": "@jupyter-widgets/controls",
      "model_module_version": "1.4.0",
      "model_name": "SliderStyleModel",
      "state": {
       "description_width": ""
      }
     },
     "ca285607825945d581b9863cb9296aad": {
      "model_module": "@jupyter-widgets/controls",
      "model_module_version": "1.4.0",
      "model_name": "VBoxModel",
      "state": {
       "_dom_classes": [
        "widget-interact"
       ],
       "children": [
        "IPY_MODEL_64f2259fd6d94b47b2987f38c3a0665d",
        "IPY_MODEL_7b24b5ec94284f03a18f05f2f6b98d05",
        "IPY_MODEL_ba12f864cddf4d7fac0cbef6f585cf5a",
        "IPY_MODEL_eea40cf97c8d4e6b8d1d20e1abe5492d",
        "IPY_MODEL_9167ccffa40e445dbc2ede016d125f9f"
       ],
       "layout": "IPY_MODEL_b94f96e6dee248c3b43e376af45b4a96"
      }
     },
     "ca3efbf4a5f34ec68e2b38f292ae451e": {
      "model_module": "@jupyter-widgets/controls",
      "model_module_version": "1.4.0",
      "model_name": "SliderStyleModel",
      "state": {
       "description_width": ""
      }
     },
     "ca43dafc454442c1a07e62c33b09dedf": {
      "model_module": "@jupyter-widgets/controls",
      "model_module_version": "1.4.0",
      "model_name": "VBoxModel",
      "state": {
       "_dom_classes": [
        "widget-interact"
       ],
       "children": [
        "IPY_MODEL_e12023b1669844f7b0f68515ee7c1efd",
        "IPY_MODEL_46ceadbf17bc4549b067fbc861e5fbd4",
        "IPY_MODEL_9c1c3288bc984d6f945a7cdefa1e22a8",
        "IPY_MODEL_1251783f37244bdab3d2f6e6c5932068",
        "IPY_MODEL_6318cbdcf012496d8fc295bf4a934bcf"
       ],
       "layout": "IPY_MODEL_fc7007e43821409c905b539d4640ca52"
      }
     },
     "ca4edf6d2e3448e8ac4865f2aca60b2b": {
      "model_module": "@jupyter-widgets/controls",
      "model_module_version": "1.4.0",
      "model_name": "SliderStyleModel",
      "state": {
       "description_width": ""
      }
     },
     "cc2d73c8b24c4d069ec794bae0b1c600": {
      "model_module": "@jupyter-widgets/base",
      "model_module_version": "1.1.0",
      "model_name": "LayoutModel",
      "state": {}
     },
     "cd0bc905b579406d939327da4d6d0b1a": {
      "model_module": "@jupyter-widgets/controls",
      "model_module_version": "1.4.0",
      "model_name": "SliderStyleModel",
      "state": {
       "description_width": ""
      }
     },
     "cdb961e623834d8ea915e55d4088c6b1": {
      "model_module": "@jupyter-widgets/controls",
      "model_module_version": "1.4.0",
      "model_name": "VBoxModel",
      "state": {
       "_dom_classes": [
        "widget-interact"
       ],
       "children": [
        "IPY_MODEL_1b85d94e8c5c4f0db44f7c5ac7cabb60",
        "IPY_MODEL_39c9ae004721488980b75a27cfc201f5",
        "IPY_MODEL_12c15569e8244ba6a9dd9f30a8917f7d",
        "IPY_MODEL_8cb324b99f8c43a7ae5344c9ae280b27",
        "IPY_MODEL_d3e750a28e724dbc927b1db550d43aee"
       ],
       "layout": "IPY_MODEL_7a223e5ce729401ab0e723da70aa9c60"
      }
     },
     "cdc3a1639ff448bc8893dfe40266d65a": {
      "model_module": "@jupyter-widgets/controls",
      "model_module_version": "1.4.0",
      "model_name": "FloatSliderModel",
      "state": {
       "description": "u",
       "layout": "IPY_MODEL_5de0e452e5c646b6b8efc9e247eaeb1d",
       "max": 20,
       "min": 0.1,
       "step": 0.1,
       "style": "IPY_MODEL_327ab324344d4615a3e52fabc151eb6a",
       "value": 2
      }
     },
     "cdfdd42f3bf44bd197b7d7a74a8b7699": {
      "model_module": "@jupyter-widgets/controls",
      "model_module_version": "1.4.0",
      "model_name": "FloatSliderModel",
      "state": {
       "description": "sigma_u",
       "layout": "IPY_MODEL_6517579fd8d749e58ce22098910a5eb4",
       "max": 10,
       "min": 0.1,
       "step": 0.1,
       "style": "IPY_MODEL_1b8ad0dc1b99455ea9768db6da9829ed",
       "value": 8
      }
     },
     "cf4f5ddd52764380a0451343b709f356": {
      "model_module": "@jupyter-widgets/output",
      "model_module_version": "1.0.0",
      "model_name": "OutputModel",
      "state": {
       "layout": "IPY_MODEL_bbfa6fa5eb17455cb886f2553fe59042",
       "outputs": [
        {
         "ename": "AttributeError",
         "evalue": "'module' object has no attribute 'get_children'",
         "output_type": "error",
         "traceback": [
          "\u001b[0;31m---------------------------------------------------------------------------\u001b[0m",
          "\u001b[0;31mAttributeError\u001b[0m                            Traceback (most recent call last)",
          "\u001b[0;32m/Users/andrevanschaik/anaconda2/lib/python2.7/site-packages/ipywidgets/widgets/interaction.pyc\u001b[0m in \u001b[0;36mupdate\u001b[0;34m(self, *args)\u001b[0m\n\u001b[1;32m    249\u001b[0m                     \u001b[0mvalue\u001b[0m \u001b[0;34m=\u001b[0m \u001b[0mwidget\u001b[0m\u001b[0;34m.\u001b[0m\u001b[0mget_interact_value\u001b[0m\u001b[0;34m(\u001b[0m\u001b[0;34m)\u001b[0m\u001b[0;34m\u001b[0m\u001b[0m\n\u001b[1;32m    250\u001b[0m                     \u001b[0mself\u001b[0m\u001b[0;34m.\u001b[0m\u001b[0mkwargs\u001b[0m\u001b[0;34m[\u001b[0m\u001b[0mwidget\u001b[0m\u001b[0;34m.\u001b[0m\u001b[0m_kwarg\u001b[0m\u001b[0;34m]\u001b[0m \u001b[0;34m=\u001b[0m \u001b[0mvalue\u001b[0m\u001b[0;34m\u001b[0m\u001b[0m\n\u001b[0;32m--> 251\u001b[0;31m                 \u001b[0mself\u001b[0m\u001b[0;34m.\u001b[0m\u001b[0mresult\u001b[0m \u001b[0;34m=\u001b[0m \u001b[0mself\u001b[0m\u001b[0;34m.\u001b[0m\u001b[0mf\u001b[0m\u001b[0;34m(\u001b[0m\u001b[0;34m**\u001b[0m\u001b[0mself\u001b[0m\u001b[0;34m.\u001b[0m\u001b[0mkwargs\u001b[0m\u001b[0;34m)\u001b[0m\u001b[0;34m\u001b[0m\u001b[0m\n\u001b[0m\u001b[1;32m    252\u001b[0m                 \u001b[0mshow_inline_matplotlib_plots\u001b[0m\u001b[0;34m(\u001b[0m\u001b[0;34m)\u001b[0m\u001b[0;34m\u001b[0m\u001b[0m\n\u001b[1;32m    253\u001b[0m                 \u001b[0;32mif\u001b[0m \u001b[0mself\u001b[0m\u001b[0;34m.\u001b[0m\u001b[0mauto_display\u001b[0m \u001b[0;32mand\u001b[0m \u001b[0mself\u001b[0m\u001b[0;34m.\u001b[0m\u001b[0mresult\u001b[0m \u001b[0;32mis\u001b[0m \u001b[0;32mnot\u001b[0m \u001b[0mNone\u001b[0m\u001b[0;34m:\u001b[0m\u001b[0;34m\u001b[0m\u001b[0m\n",
          "\u001b[0;32m<ipython-input-24-0ed9c26c01f7>\u001b[0m in \u001b[0;36mdraw_fig1\u001b[0;34m(u, sigma_u, v_p, sigma_p)\u001b[0m\n\u001b[1;32m      3\u001b[0m \u001b[0;34m\u001b[0m\u001b[0m\n\u001b[1;32m      4\u001b[0m     \u001b[0;32mdef\u001b[0m \u001b[0mdraw_fig1\u001b[0m\u001b[0;34m(\u001b[0m\u001b[0mu\u001b[0m\u001b[0;34m=\u001b[0m\u001b[0;36m2.0\u001b[0m\u001b[0;34m,\u001b[0m \u001b[0msigma_u\u001b[0m\u001b[0;34m=\u001b[0m\u001b[0;36m1.0\u001b[0m\u001b[0;34m,\u001b[0m \u001b[0mv_p\u001b[0m\u001b[0;34m=\u001b[0m\u001b[0;36m3.0\u001b[0m\u001b[0;34m,\u001b[0m \u001b[0msigma_p\u001b[0m\u001b[0;34m=\u001b[0m\u001b[0;36m1.0\u001b[0m\u001b[0;34m)\u001b[0m\u001b[0;34m:\u001b[0m\u001b[0;34m\u001b[0m\u001b[0m\n\u001b[0;32m----> 5\u001b[0;31m         \u001b[0;34m[\u001b[0m\u001b[0mh\u001b[0m\u001b[0;34m.\u001b[0m\u001b[0mremove\u001b[0m\u001b[0;34m(\u001b[0m\u001b[0;34m)\u001b[0m \u001b[0;32mfor\u001b[0m \u001b[0mh\u001b[0m \u001b[0;32min\u001b[0m \u001b[0mplt\u001b[0m\u001b[0;34m.\u001b[0m\u001b[0mget_children\u001b[0m\u001b[0;34m(\u001b[0m\u001b[0;34m)\u001b[0m \u001b[0;32mif\u001b[0m \u001b[0misinstance\u001b[0m\u001b[0;34m(\u001b[0m\u001b[0mh\u001b[0m\u001b[0;34m,\u001b[0m \u001b[0mmatplotlib\u001b[0m\u001b[0;34m.\u001b[0m\u001b[0mlines\u001b[0m\u001b[0;34m.\u001b[0m\u001b[0mLine2D\u001b[0m\u001b[0;34m)\u001b[0m\u001b[0;34m]\u001b[0m\u001b[0;34m\u001b[0m\u001b[0m\n\u001b[0m\u001b[1;32m      6\u001b[0m         \u001b[0mv\u001b[0m \u001b[0;34m=\u001b[0m \u001b[0mnp\u001b[0m\u001b[0;34m.\u001b[0m\u001b[0marange\u001b[0m\u001b[0;34m(\u001b[0m\u001b[0;36m0.01\u001b[0m\u001b[0;34m,\u001b[0m \u001b[0;36m5\u001b[0m\u001b[0;34m,\u001b[0m \u001b[0mdv\u001b[0m\u001b[0;34m)\u001b[0m\u001b[0;34m\u001b[0m\u001b[0m\n\u001b[1;32m      7\u001b[0m         \u001b[0mprior\u001b[0m \u001b[0;34m=\u001b[0m \u001b[0mNormal\u001b[0m\u001b[0;34m(\u001b[0m\u001b[0mv\u001b[0m\u001b[0;34m,\u001b[0m \u001b[0mv_p\u001b[0m\u001b[0;34m,\u001b[0m \u001b[0msigma_p\u001b[0m\u001b[0;34m)\u001b[0m\u001b[0;34m\u001b[0m\u001b[0m\n",
          "\u001b[0;31mAttributeError\u001b[0m: 'module' object has no attribute 'get_children'"
         ]
        }
       ]
      }
     },
     "cfc204d9f7c74daa98dba4dd88bf047c": {
      "model_module": "@jupyter-widgets/controls",
      "model_module_version": "1.4.0",
      "model_name": "FloatSliderModel",
      "state": {
       "description": "sigma_u",
       "layout": "IPY_MODEL_40368cb32ccb42918d031f1d43da38fa",
       "max": 10,
       "min": 0.1,
       "step": 0.1,
       "style": "IPY_MODEL_c52be726f4ca4f1f9dce0efe1cc7ce0f",
       "value": 1
      }
     },
     "d04ad9ece02c4c9d9bb6bdedb3a9bb7f": {
      "model_module": "@jupyter-widgets/controls",
      "model_module_version": "1.4.0",
      "model_name": "FloatSliderModel",
      "state": {
       "description": "v_p",
       "layout": "IPY_MODEL_9315bf4b63344235a0be18fc8339c47a",
       "max": 5,
       "min": 0.1,
       "step": 0.1,
       "style": "IPY_MODEL_6bd9c58b33cc470eb5cb3bdf599ff9d8",
       "value": 3
      }
     },
     "d2f71233855349efaf20465123ba6f56": {
      "model_module": "@jupyter-widgets/controls",
      "model_module_version": "1.4.0",
      "model_name": "VBoxModel",
      "state": {
       "_dom_classes": [
        "widget-interact"
       ],
       "children": [
        "IPY_MODEL_0938a7cc4f7842039ad9ff2c7b4ea3dd",
        "IPY_MODEL_5be52b23e3994600bfae2f25fd039178",
        "IPY_MODEL_a66a4d3ba18c4115932546f95bbbb0b1",
        "IPY_MODEL_ac6370969a274017bde8a0e8165bae83",
        "IPY_MODEL_4d867ebc1f9147a98ed243e436bba621"
       ],
       "layout": "IPY_MODEL_46c2c8d774dd41ed856b1347138615ad"
      }
     },
     "d3e750a28e724dbc927b1db550d43aee": {
      "model_module": "@jupyter-widgets/output",
      "model_module_version": "1.0.0",
      "model_name": "OutputModel",
      "state": {
       "layout": "IPY_MODEL_1e69789fb08c4a1eb10b149cfe2ebd18"
      }
     },
     "d42bc0268b4f4d7e87f98295a6e7c267": {
      "model_module": "@jupyter-widgets/controls",
      "model_module_version": "1.4.0",
      "model_name": "SliderStyleModel",
      "state": {
       "description_width": ""
      }
     },
     "d46296d0023049019541a81a67e6bc59": {
      "model_module": "@jupyter-widgets/controls",
      "model_module_version": "1.4.0",
      "model_name": "FloatSliderModel",
      "state": {
       "description": "sigma_p",
       "layout": "IPY_MODEL_568e33b625b34aa18e6cb9fc00230e19",
       "max": 10,
       "min": 0.1,
       "step": 0.1,
       "style": "IPY_MODEL_0a94a78ebc4f4e1797208073b7e7f216",
       "value": 1
      }
     },
     "d4bcc1a9a6074787b106403076d9145f": {
      "model_module": "@jupyter-widgets/base",
      "model_module_version": "1.1.0",
      "model_name": "LayoutModel",
      "state": {}
     },
     "d50af1e55d8b4735b4ef7de66a3c686b": {
      "model_module": "@jupyter-widgets/controls",
      "model_module_version": "1.4.0",
      "model_name": "FloatSliderModel",
      "state": {
       "continuous_update": false,
       "description": "v_p",
       "layout": "IPY_MODEL_f665088920804c60a932a0ede77c4b8c",
       "max": 5,
       "min": 0.1,
       "step": 0.1,
       "style": "IPY_MODEL_7e9bd381e0a4404f864d0222e22358d2",
       "value": 3
      }
     },
     "d53bd3beec4d45c2a80ef3017f480277": {
      "model_module": "@jupyter-widgets/base",
      "model_module_version": "1.1.0",
      "model_name": "LayoutModel",
      "state": {}
     },
     "d5846744c6d94ab9a9ff65204dd14a9d": {
      "model_module": "@jupyter-widgets/controls",
      "model_module_version": "1.4.0",
      "model_name": "FloatSliderModel",
      "state": {
       "description": "sigma_p",
       "layout": "IPY_MODEL_66049ce486e3420eb26290c1d20f01a3",
       "max": 10,
       "min": 0.1,
       "step": 0.1,
       "style": "IPY_MODEL_c975d5ab5b2e4e6aa7dd3e25dea88d1c",
       "value": 1
      }
     },
     "d5faf6ebf4084fe2a3cd61d609993c83": {
      "model_module": "@jupyter-widgets/base",
      "model_module_version": "1.1.0",
      "model_name": "LayoutModel",
      "state": {}
     },
     "d60b36aef01546eabbceb7a9115e2ecc": {
      "model_module": "@jupyter-widgets/controls",
      "model_module_version": "1.4.0",
      "model_name": "VBoxModel",
      "state": {
       "_dom_classes": [
        "widget-interact"
       ],
       "children": [
        "IPY_MODEL_3e515bc47f2641638523bf7fbe3575a5",
        "IPY_MODEL_e9def89748f84c6f86922736bb3f15e8",
        "IPY_MODEL_8842911957b544d2aa19fe66b25a4da6",
        "IPY_MODEL_f35aaeb812a94212bd8736c7518b1428",
        "IPY_MODEL_26ac6062ab984cb59fa41a6827084056"
       ],
       "layout": "IPY_MODEL_5c55f628b8d443b4981bf3c844696c35"
      }
     },
     "d6a82e8a490b4344ab4fc61c2cdb2948": {
      "model_module": "@jupyter-widgets/controls",
      "model_module_version": "1.4.0",
      "model_name": "VBoxModel",
      "state": {
       "_dom_classes": [
        "widget-interact"
       ],
       "children": [
        "IPY_MODEL_ab91d5eaf1d5479895998901a630f567",
        "IPY_MODEL_b20cc22b35ed4acd9c0b087af0ee0285",
        "IPY_MODEL_65bc3d5e0dbc4c13a9be1fd5fd52c874",
        "IPY_MODEL_16e86c3ceea74f499c19de82a5b285f8",
        "IPY_MODEL_cf4f5ddd52764380a0451343b709f356"
       ],
       "layout": "IPY_MODEL_e8f2066136a64387be614074ef9be366"
      }
     },
     "d6f7cb12f7824375bde97b9e9d690509": {
      "model_module": "@jupyter-widgets/controls",
      "model_module_version": "1.4.0",
      "model_name": "FloatSliderModel",
      "state": {
       "description": "sigma_p",
       "layout": "IPY_MODEL_dfa03418bd1749aea1b04f5c5356237f",
       "max": 10,
       "min": 0.1,
       "step": 0.1,
       "style": "IPY_MODEL_ff31e902f37c4b59909c32f4d34fbc5c",
       "value": 1
      }
     },
     "d70dc9b86f5544338f027372333a0294": {
      "model_module": "@jupyter-widgets/controls",
      "model_module_version": "1.4.0",
      "model_name": "SliderStyleModel",
      "state": {
       "description_width": ""
      }
     },
     "d86a1869960d41d7b6f6766afdc83823": {
      "model_module": "@jupyter-widgets/controls",
      "model_module_version": "1.4.0",
      "model_name": "SliderStyleModel",
      "state": {
       "description_width": ""
      }
     },
     "d8a7b0bb6f6a43d1bc61a350372cfa26": {
      "model_module": "@jupyter-widgets/base",
      "model_module_version": "1.1.0",
      "model_name": "LayoutModel",
      "state": {}
     },
     "d97260db53fe44ac90d9ca4a82a08a98": {
      "model_module": "@jupyter-widgets/controls",
      "model_module_version": "1.4.0",
      "model_name": "FloatSliderModel",
      "state": {
       "description": "v_p",
       "layout": "IPY_MODEL_173600cb1d8b498283caa6b3eba025bf",
       "max": 5,
       "min": 0.1,
       "step": 0.1,
       "style": "IPY_MODEL_f792fb29833c49548b43603c5b31d554",
       "value": 3
      }
     },
     "da3a18489bbe44e9bcfe35f180dab1af": {
      "model_module": "@jupyter-widgets/base",
      "model_module_version": "1.1.0",
      "model_name": "LayoutModel",
      "state": {}
     },
     "da4edeaf623e41ccaa4a50437aeb719f": {
      "model_module": "@jupyter-widgets/controls",
      "model_module_version": "1.4.0",
      "model_name": "SliderStyleModel",
      "state": {
       "description_width": ""
      }
     },
     "dac29148534c4fef95a30e90468b2005": {
      "model_module": "@jupyter-widgets/controls",
      "model_module_version": "1.4.0",
      "model_name": "FloatSliderModel",
      "state": {
       "description": "sigma_u",
       "layout": "IPY_MODEL_ea2a52fb576a457b83ef143484b029ee",
       "max": 10,
       "min": 0.1,
       "step": 0.1,
       "style": "IPY_MODEL_41d5de4cb49d42eda5dce2e01722bb1a",
       "value": 1
      }
     },
     "daca16e142e14fd59fcf539eecd1d348": {
      "model_module": "@jupyter-widgets/controls",
      "model_module_version": "1.4.0",
      "model_name": "SliderStyleModel",
      "state": {
       "description_width": ""
      }
     },
     "dbd59288bfc549fcb03b031b112239d9": {
      "model_module": "@jupyter-widgets/base",
      "model_module_version": "1.1.0",
      "model_name": "LayoutModel",
      "state": {}
     },
     "dc02554055b34c48a293a65deb056c84": {
      "model_module": "@jupyter-widgets/controls",
      "model_module_version": "1.4.0",
      "model_name": "SliderStyleModel",
      "state": {
       "description_width": ""
      }
     },
     "dc20c73c8e6f4288ba8f24c8b4dd31ad": {
      "model_module": "@jupyter-widgets/controls",
      "model_module_version": "1.4.0",
      "model_name": "SliderStyleModel",
      "state": {
       "description_width": ""
      }
     },
     "dc7d5d3472fd40c48ba3e05b40e7dc4c": {
      "model_module": "@jupyter-widgets/controls",
      "model_module_version": "1.4.0",
      "model_name": "VBoxModel",
      "state": {
       "_dom_classes": [
        "widget-interact"
       ],
       "children": [
        "IPY_MODEL_b654ccdb22134fd9aafb796673332452",
        "IPY_MODEL_7133ba7531e94693b784563f6aad1c39",
        "IPY_MODEL_b560a39eca344290846e245450383b4e",
        "IPY_MODEL_d46296d0023049019541a81a67e6bc59",
        "IPY_MODEL_2e7c724e32f649dc9b95034be54778ce"
       ],
       "layout": "IPY_MODEL_ff2e2e28afb9422d8e4b5895217d3d42"
      }
     },
     "dc8ebe5c2ca9490bb3bbbcf60ba8827b": {
      "model_module": "@jupyter-widgets/controls",
      "model_module_version": "1.4.0",
      "model_name": "FloatSliderModel",
      "state": {
       "continuous_update": false,
       "description": "sigma_u",
       "layout": "IPY_MODEL_54787f704f77477d9bea2b51154dc414",
       "max": 10,
       "min": 0.1,
       "step": 0.1,
       "style": "IPY_MODEL_c7b90a19e99541a2829dc10a08e03367",
       "value": 1
      }
     },
     "dcdcc7d3a18746548092d7ac63758635": {
      "model_module": "@jupyter-widgets/controls",
      "model_module_version": "1.4.0",
      "model_name": "SliderStyleModel",
      "state": {
       "description_width": ""
      }
     },
     "dd3b0c25dde94507928e29693c3db9de": {
      "model_module": "@jupyter-widgets/output",
      "model_module_version": "1.0.0",
      "model_name": "OutputModel",
      "state": {
       "layout": "IPY_MODEL_4490aabc3952465b951f10becd6b869b",
       "outputs": [
        {
         "data": {
          "application/javascript": "/* Put everything inside the global mpl namespace */\nwindow.mpl = {};\n\n\nmpl.get_websocket_type = function() {\n    if (typeof(WebSocket) !== 'undefined') {\n        return WebSocket;\n    } else if (typeof(MozWebSocket) !== 'undefined') {\n        return MozWebSocket;\n    } else {\n        alert('Your browser does not have WebSocket support.' +\n              'Please try Chrome, Safari or Firefox ≥ 6. ' +\n              'Firefox 4 and 5 are also supported but you ' +\n              'have to enable WebSockets in about:config.');\n    };\n}\n\nmpl.figure = function(figure_id, websocket, ondownload, parent_element) {\n    this.id = figure_id;\n\n    this.ws = websocket;\n\n    this.supports_binary = (this.ws.binaryType != undefined);\n\n    if (!this.supports_binary) {\n        var warnings = document.getElementById(\"mpl-warnings\");\n        if (warnings) {\n            warnings.style.display = 'block';\n            warnings.textContent = (\n                \"This browser does not support binary websocket messages. \" +\n                    \"Performance may be slow.\");\n        }\n    }\n\n    this.imageObj = new Image();\n\n    this.context = undefined;\n    this.message = undefined;\n    this.canvas = undefined;\n    this.rubberband_canvas = undefined;\n    this.rubberband_context = undefined;\n    this.format_dropdown = undefined;\n\n    this.image_mode = 'full';\n\n    this.root = $('<div/>');\n    this._root_extra_style(this.root)\n    this.root.attr('style', 'display: inline-block');\n\n    $(parent_element).append(this.root);\n\n    this._init_header(this);\n    this._init_canvas(this);\n    this._init_toolbar(this);\n\n    var fig = this;\n\n    this.waiting = false;\n\n    this.ws.onopen =  function () {\n            fig.send_message(\"supports_binary\", {value: fig.supports_binary});\n            fig.send_message(\"send_image_mode\", {});\n            if (mpl.ratio != 1) {\n                fig.send_message(\"set_dpi_ratio\", {'dpi_ratio': mpl.ratio});\n            }\n            fig.send_message(\"refresh\", {});\n        }\n\n    this.imageObj.onload = function() {\n            if (fig.image_mode == 'full') {\n                // Full images could contain transparency (where diff images\n                // almost always do), so we need to clear the canvas so that\n                // there is no ghosting.\n                fig.context.clearRect(0, 0, fig.canvas.width, fig.canvas.height);\n            }\n            fig.context.drawImage(fig.imageObj, 0, 0);\n        };\n\n    this.imageObj.onunload = function() {\n        fig.ws.close();\n    }\n\n    this.ws.onmessage = this._make_on_message_function(this);\n\n    this.ondownload = ondownload;\n}\n\nmpl.figure.prototype._init_header = function() {\n    var titlebar = $(\n        '<div class=\"ui-dialog-titlebar ui-widget-header ui-corner-all ' +\n        'ui-helper-clearfix\"/>');\n    var titletext = $(\n        '<div class=\"ui-dialog-title\" style=\"width: 100%; ' +\n        'text-align: center; padding: 3px;\"/>');\n    titlebar.append(titletext)\n    this.root.append(titlebar);\n    this.header = titletext[0];\n}\n\n\n\nmpl.figure.prototype._canvas_extra_style = function(canvas_div) {\n\n}\n\n\nmpl.figure.prototype._root_extra_style = function(canvas_div) {\n\n}\n\nmpl.figure.prototype._init_canvas = function() {\n    var fig = this;\n\n    var canvas_div = $('<div/>');\n\n    canvas_div.attr('style', 'position: relative; clear: both; outline: 0');\n\n    function canvas_keyboard_event(event) {\n        return fig.key_event(event, event['data']);\n    }\n\n    canvas_div.keydown('key_press', canvas_keyboard_event);\n    canvas_div.keyup('key_release', canvas_keyboard_event);\n    this.canvas_div = canvas_div\n    this._canvas_extra_style(canvas_div)\n    this.root.append(canvas_div);\n\n    var canvas = $('<canvas/>');\n    canvas.addClass('mpl-canvas');\n    canvas.attr('style', \"left: 0; top: 0; z-index: 0; outline: 0\")\n\n    this.canvas = canvas[0];\n    this.context = canvas[0].getContext(\"2d\");\n\n    var backingStore = this.context.backingStorePixelRatio ||\n\tthis.context.webkitBackingStorePixelRatio ||\n\tthis.context.mozBackingStorePixelRatio ||\n\tthis.context.msBackingStorePixelRatio ||\n\tthis.context.oBackingStorePixelRatio ||\n\tthis.context.backingStorePixelRatio || 1;\n\n    mpl.ratio = (window.devicePixelRatio || 1) / backingStore;\n\n    var rubberband = $('<canvas/>');\n    rubberband.attr('style', \"position: absolute; left: 0; top: 0; z-index: 1;\")\n\n    var pass_mouse_events = true;\n\n    canvas_div.resizable({\n        start: function(event, ui) {\n            pass_mouse_events = false;\n        },\n        resize: function(event, ui) {\n            fig.request_resize(ui.size.width, ui.size.height);\n        },\n        stop: function(event, ui) {\n            pass_mouse_events = true;\n            fig.request_resize(ui.size.width, ui.size.height);\n        },\n    });\n\n    function mouse_event_fn(event) {\n        if (pass_mouse_events)\n            return fig.mouse_event(event, event['data']);\n    }\n\n    rubberband.mousedown('button_press', mouse_event_fn);\n    rubberband.mouseup('button_release', mouse_event_fn);\n    // Throttle sequential mouse events to 1 every 20ms.\n    rubberband.mousemove('motion_notify', mouse_event_fn);\n\n    rubberband.mouseenter('figure_enter', mouse_event_fn);\n    rubberband.mouseleave('figure_leave', mouse_event_fn);\n\n    canvas_div.on(\"wheel\", function (event) {\n        event = event.originalEvent;\n        event['data'] = 'scroll'\n        if (event.deltaY < 0) {\n            event.step = 1;\n        } else {\n            event.step = -1;\n        }\n        mouse_event_fn(event);\n    });\n\n    canvas_div.append(canvas);\n    canvas_div.append(rubberband);\n\n    this.rubberband = rubberband;\n    this.rubberband_canvas = rubberband[0];\n    this.rubberband_context = rubberband[0].getContext(\"2d\");\n    this.rubberband_context.strokeStyle = \"#000000\";\n\n    this._resize_canvas = function(width, height) {\n        // Keep the size of the canvas, canvas container, and rubber band\n        // canvas in synch.\n        canvas_div.css('width', width)\n        canvas_div.css('height', height)\n\n        canvas.attr('width', width * mpl.ratio);\n        canvas.attr('height', height * mpl.ratio);\n        canvas.attr('style', 'width: ' + width + 'px; height: ' + height + 'px;');\n\n        rubberband.attr('width', width);\n        rubberband.attr('height', height);\n    }\n\n    // Set the figure to an initial 600x600px, this will subsequently be updated\n    // upon first draw.\n    this._resize_canvas(600, 600);\n\n    // Disable right mouse context menu.\n    $(this.rubberband_canvas).bind(\"contextmenu\",function(e){\n        return false;\n    });\n\n    function set_focus () {\n        canvas.focus();\n        canvas_div.focus();\n    }\n\n    window.setTimeout(set_focus, 100);\n}\n\nmpl.figure.prototype._init_toolbar = function() {\n    var fig = this;\n\n    var nav_element = $('<div/>')\n    nav_element.attr('style', 'width: 100%');\n    this.root.append(nav_element);\n\n    // Define a callback function for later on.\n    function toolbar_event(event) {\n        return fig.toolbar_button_onclick(event['data']);\n    }\n    function toolbar_mouse_event(event) {\n        return fig.toolbar_button_onmouseover(event['data']);\n    }\n\n    for(var toolbar_ind in mpl.toolbar_items) {\n        var name = mpl.toolbar_items[toolbar_ind][0];\n        var tooltip = mpl.toolbar_items[toolbar_ind][1];\n        var image = mpl.toolbar_items[toolbar_ind][2];\n        var method_name = mpl.toolbar_items[toolbar_ind][3];\n\n        if (!name) {\n            // put a spacer in here.\n            continue;\n        }\n        var button = $('<button/>');\n        button.addClass('ui-button ui-widget ui-state-default ui-corner-all ' +\n                        'ui-button-icon-only');\n        button.attr('role', 'button');\n        button.attr('aria-disabled', 'false');\n        button.click(method_name, toolbar_event);\n        button.mouseover(tooltip, toolbar_mouse_event);\n\n        var icon_img = $('<span/>');\n        icon_img.addClass('ui-button-icon-primary ui-icon');\n        icon_img.addClass(image);\n        icon_img.addClass('ui-corner-all');\n\n        var tooltip_span = $('<span/>');\n        tooltip_span.addClass('ui-button-text');\n        tooltip_span.html(tooltip);\n\n        button.append(icon_img);\n        button.append(tooltip_span);\n\n        nav_element.append(button);\n    }\n\n    var fmt_picker_span = $('<span/>');\n\n    var fmt_picker = $('<select/>');\n    fmt_picker.addClass('mpl-toolbar-option ui-widget ui-widget-content');\n    fmt_picker_span.append(fmt_picker);\n    nav_element.append(fmt_picker_span);\n    this.format_dropdown = fmt_picker[0];\n\n    for (var ind in mpl.extensions) {\n        var fmt = mpl.extensions[ind];\n        var option = $(\n            '<option/>', {selected: fmt === mpl.default_extension}).html(fmt);\n        fmt_picker.append(option)\n    }\n\n    // Add hover states to the ui-buttons\n    $( \".ui-button\" ).hover(\n        function() { $(this).addClass(\"ui-state-hover\");},\n        function() { $(this).removeClass(\"ui-state-hover\");}\n    );\n\n    var status_bar = $('<span class=\"mpl-message\"/>');\n    nav_element.append(status_bar);\n    this.message = status_bar[0];\n}\n\nmpl.figure.prototype.request_resize = function(x_pixels, y_pixels) {\n    // Request matplotlib to resize the figure. Matplotlib will then trigger a resize in the client,\n    // which will in turn request a refresh of the image.\n    this.send_message('resize', {'width': x_pixels, 'height': y_pixels});\n}\n\nmpl.figure.prototype.send_message = function(type, properties) {\n    properties['type'] = type;\n    properties['figure_id'] = this.id;\n    this.ws.send(JSON.stringify(properties));\n}\n\nmpl.figure.prototype.send_draw_message = function() {\n    if (!this.waiting) {\n        this.waiting = true;\n        this.ws.send(JSON.stringify({type: \"draw\", figure_id: this.id}));\n    }\n}\n\n\nmpl.figure.prototype.handle_save = function(fig, msg) {\n    var format_dropdown = fig.format_dropdown;\n    var format = format_dropdown.options[format_dropdown.selectedIndex].value;\n    fig.ondownload(fig, format);\n}\n\n\nmpl.figure.prototype.handle_resize = function(fig, msg) {\n    var size = msg['size'];\n    if (size[0] != fig.canvas.width || size[1] != fig.canvas.height) {\n        fig._resize_canvas(size[0], size[1]);\n        fig.send_message(\"refresh\", {});\n    };\n}\n\nmpl.figure.prototype.handle_rubberband = function(fig, msg) {\n    var x0 = msg['x0'] / mpl.ratio;\n    var y0 = (fig.canvas.height - msg['y0']) / mpl.ratio;\n    var x1 = msg['x1'] / mpl.ratio;\n    var y1 = (fig.canvas.height - msg['y1']) / mpl.ratio;\n    x0 = Math.floor(x0) + 0.5;\n    y0 = Math.floor(y0) + 0.5;\n    x1 = Math.floor(x1) + 0.5;\n    y1 = Math.floor(y1) + 0.5;\n    var min_x = Math.min(x0, x1);\n    var min_y = Math.min(y0, y1);\n    var width = Math.abs(x1 - x0);\n    var height = Math.abs(y1 - y0);\n\n    fig.rubberband_context.clearRect(\n        0, 0, fig.canvas.width, fig.canvas.height);\n\n    fig.rubberband_context.strokeRect(min_x, min_y, width, height);\n}\n\nmpl.figure.prototype.handle_figure_label = function(fig, msg) {\n    // Updates the figure title.\n    fig.header.textContent = msg['label'];\n}\n\nmpl.figure.prototype.handle_cursor = function(fig, msg) {\n    var cursor = msg['cursor'];\n    switch(cursor)\n    {\n    case 0:\n        cursor = 'pointer';\n        break;\n    case 1:\n        cursor = 'default';\n        break;\n    case 2:\n        cursor = 'crosshair';\n        break;\n    case 3:\n        cursor = 'move';\n        break;\n    }\n    fig.rubberband_canvas.style.cursor = cursor;\n}\n\nmpl.figure.prototype.handle_message = function(fig, msg) {\n    fig.message.textContent = msg['message'];\n}\n\nmpl.figure.prototype.handle_draw = function(fig, msg) {\n    // Request the server to send over a new figure.\n    fig.send_draw_message();\n}\n\nmpl.figure.prototype.handle_image_mode = function(fig, msg) {\n    fig.image_mode = msg['mode'];\n}\n\nmpl.figure.prototype.updated_canvas_event = function() {\n    // Called whenever the canvas gets updated.\n    this.send_message(\"ack\", {});\n}\n\n// A function to construct a web socket function for onmessage handling.\n// Called in the figure constructor.\nmpl.figure.prototype._make_on_message_function = function(fig) {\n    return function socket_on_message(evt) {\n        if (evt.data instanceof Blob) {\n            /* FIXME: We get \"Resource interpreted as Image but\n             * transferred with MIME type text/plain:\" errors on\n             * Chrome.  But how to set the MIME type?  It doesn't seem\n             * to be part of the websocket stream */\n            evt.data.type = \"image/png\";\n\n            /* Free the memory for the previous frames */\n            if (fig.imageObj.src) {\n                (window.URL || window.webkitURL).revokeObjectURL(\n                    fig.imageObj.src);\n            }\n\n            fig.imageObj.src = (window.URL || window.webkitURL).createObjectURL(\n                evt.data);\n            fig.updated_canvas_event();\n            fig.waiting = false;\n            return;\n        }\n        else if (typeof evt.data === 'string' && evt.data.slice(0, 21) == \"data:image/png;base64\") {\n            fig.imageObj.src = evt.data;\n            fig.updated_canvas_event();\n            fig.waiting = false;\n            return;\n        }\n\n        var msg = JSON.parse(evt.data);\n        var msg_type = msg['type'];\n\n        // Call the  \"handle_{type}\" callback, which takes\n        // the figure and JSON message as its only arguments.\n        try {\n            var callback = fig[\"handle_\" + msg_type];\n        } catch (e) {\n            console.log(\"No handler for the '\" + msg_type + \"' message type: \", msg);\n            return;\n        }\n\n        if (callback) {\n            try {\n                // console.log(\"Handling '\" + msg_type + \"' message: \", msg);\n                callback(fig, msg);\n            } catch (e) {\n                console.log(\"Exception inside the 'handler_\" + msg_type + \"' callback:\", e, e.stack, msg);\n            }\n        }\n    };\n}\n\n// from http://stackoverflow.com/questions/1114465/getting-mouse-location-in-canvas\nmpl.findpos = function(e) {\n    //this section is from http://www.quirksmode.org/js/events_properties.html\n    var targ;\n    if (!e)\n        e = window.event;\n    if (e.target)\n        targ = e.target;\n    else if (e.srcElement)\n        targ = e.srcElement;\n    if (targ.nodeType == 3) // defeat Safari bug\n        targ = targ.parentNode;\n\n    // jQuery normalizes the pageX and pageY\n    // pageX,Y are the mouse positions relative to the document\n    // offset() returns the position of the element relative to the document\n    var x = e.pageX - $(targ).offset().left;\n    var y = e.pageY - $(targ).offset().top;\n\n    return {\"x\": x, \"y\": y};\n};\n\n/*\n * return a copy of an object with only non-object keys\n * we need this to avoid circular references\n * http://stackoverflow.com/a/24161582/3208463\n */\nfunction simpleKeys (original) {\n  return Object.keys(original).reduce(function (obj, key) {\n    if (typeof original[key] !== 'object')\n        obj[key] = original[key]\n    return obj;\n  }, {});\n}\n\nmpl.figure.prototype.mouse_event = function(event, name) {\n    var canvas_pos = mpl.findpos(event)\n\n    if (name === 'button_press')\n    {\n        this.canvas.focus();\n        this.canvas_div.focus();\n    }\n\n    var x = canvas_pos.x * mpl.ratio;\n    var y = canvas_pos.y * mpl.ratio;\n\n    this.send_message(name, {x: x, y: y, button: event.button,\n                             step: event.step,\n                             guiEvent: simpleKeys(event)});\n\n    /* This prevents the web browser from automatically changing to\n     * the text insertion cursor when the button is pressed.  We want\n     * to control all of the cursor setting manually through the\n     * 'cursor' event from matplotlib */\n    event.preventDefault();\n    return false;\n}\n\nmpl.figure.prototype._key_event_extra = function(event, name) {\n    // Handle any extra behaviour associated with a key event\n}\n\nmpl.figure.prototype.key_event = function(event, name) {\n\n    // Prevent repeat events\n    if (name == 'key_press')\n    {\n        if (event.which === this._key)\n            return;\n        else\n            this._key = event.which;\n    }\n    if (name == 'key_release')\n        this._key = null;\n\n    var value = '';\n    if (event.ctrlKey && event.which != 17)\n        value += \"ctrl+\";\n    if (event.altKey && event.which != 18)\n        value += \"alt+\";\n    if (event.shiftKey && event.which != 16)\n        value += \"shift+\";\n\n    value += 'k';\n    value += event.which.toString();\n\n    this._key_event_extra(event, name);\n\n    this.send_message(name, {key: value,\n                             guiEvent: simpleKeys(event)});\n    return false;\n}\n\nmpl.figure.prototype.toolbar_button_onclick = function(name) {\n    if (name == 'download') {\n        this.handle_save(this, null);\n    } else {\n        this.send_message(\"toolbar_button\", {name: name});\n    }\n};\n\nmpl.figure.prototype.toolbar_button_onmouseover = function(tooltip) {\n    this.message.textContent = tooltip;\n};\nmpl.toolbar_items = [[\"Home\", \"Reset original view\", \"fa fa-home icon-home\", \"home\"], [\"Back\", \"Back to  previous view\", \"fa fa-arrow-left icon-arrow-left\", \"back\"], [\"Forward\", \"Forward to next view\", \"fa fa-arrow-right icon-arrow-right\", \"forward\"], [\"\", \"\", \"\", \"\"], [\"Pan\", \"Pan axes with left mouse, zoom with right\", \"fa fa-arrows icon-move\", \"pan\"], [\"Zoom\", \"Zoom to rectangle\", \"fa fa-square-o icon-check-empty\", \"zoom\"], [\"\", \"\", \"\", \"\"], [\"Download\", \"Download plot\", \"fa fa-floppy-o icon-save\", \"download\"]];\n\nmpl.extensions = [\"eps\", \"jpeg\", \"pdf\", \"png\", \"ps\", \"raw\", \"svg\", \"tif\"];\n\nmpl.default_extension = \"png\";var comm_websocket_adapter = function(comm) {\n    // Create a \"websocket\"-like object which calls the given IPython comm\n    // object with the appropriate methods. Currently this is a non binary\n    // socket, so there is still some room for performance tuning.\n    var ws = {};\n\n    ws.close = function() {\n        comm.close()\n    };\n    ws.send = function(m) {\n        //console.log('sending', m);\n        comm.send(m);\n    };\n    // Register the callback with on_msg.\n    comm.on_msg(function(msg) {\n        //console.log('receiving', msg['content']['data'], msg);\n        // Pass the mpl event to the overridden (by mpl) onmessage function.\n        ws.onmessage(msg['content']['data'])\n    });\n    return ws;\n}\n\nmpl.mpl_figure_comm = function(comm, msg) {\n    // This is the function which gets called when the mpl process\n    // starts-up an IPython Comm through the \"matplotlib\" channel.\n\n    var id = msg.content.data.id;\n    // Get hold of the div created by the display call when the Comm\n    // socket was opened in Python.\n    var element = $(\"#\" + id);\n    var ws_proxy = comm_websocket_adapter(comm)\n\n    function ondownload(figure, format) {\n        window.open(figure.imageObj.src);\n    }\n\n    var fig = new mpl.figure(id, ws_proxy,\n                           ondownload,\n                           element.get(0));\n\n    // Call onopen now - mpl needs it, as it is assuming we've passed it a real\n    // web socket which is closed, not our websocket->open comm proxy.\n    ws_proxy.onopen();\n\n    fig.parent_element = element.get(0);\n    fig.cell_info = mpl.find_output_cell(\"<div id='\" + id + \"'></div>\");\n    if (!fig.cell_info) {\n        console.error(\"Failed to find cell for figure\", id, fig);\n        return;\n    }\n\n    var output_index = fig.cell_info[2]\n    var cell = fig.cell_info[0];\n\n};\n\nmpl.figure.prototype.handle_close = function(fig, msg) {\n    var width = fig.canvas.width/mpl.ratio\n    fig.root.unbind('remove')\n\n    // Update the output cell to use the data from the current canvas.\n    fig.push_to_output();\n    var dataURL = fig.canvas.toDataURL();\n    // Re-enable the keyboard manager in IPython - without this line, in FF,\n    // the notebook keyboard shortcuts fail.\n    IPython.keyboard_manager.enable()\n    $(fig.parent_element).html('<img src=\"' + dataURL + '\" width=\"' + width + '\">');\n    fig.close_ws(fig, msg);\n}\n\nmpl.figure.prototype.close_ws = function(fig, msg){\n    fig.send_message('closing', msg);\n    // fig.ws.close()\n}\n\nmpl.figure.prototype.push_to_output = function(remove_interactive) {\n    // Turn the data on the canvas into data in the output cell.\n    var width = this.canvas.width/mpl.ratio\n    var dataURL = this.canvas.toDataURL();\n    this.cell_info[1]['text/html'] = '<img src=\"' + dataURL + '\" width=\"' + width + '\">';\n}\n\nmpl.figure.prototype.updated_canvas_event = function() {\n    // Tell IPython that the notebook contents must change.\n    IPython.notebook.set_dirty(true);\n    this.send_message(\"ack\", {});\n    var fig = this;\n    // Wait a second, then push the new image to the DOM so\n    // that it is saved nicely (might be nice to debounce this).\n    setTimeout(function () { fig.push_to_output() }, 1000);\n}\n\nmpl.figure.prototype._init_toolbar = function() {\n    var fig = this;\n\n    var nav_element = $('<div/>')\n    nav_element.attr('style', 'width: 100%');\n    this.root.append(nav_element);\n\n    // Define a callback function for later on.\n    function toolbar_event(event) {\n        return fig.toolbar_button_onclick(event['data']);\n    }\n    function toolbar_mouse_event(event) {\n        return fig.toolbar_button_onmouseover(event['data']);\n    }\n\n    for(var toolbar_ind in mpl.toolbar_items){\n        var name = mpl.toolbar_items[toolbar_ind][0];\n        var tooltip = mpl.toolbar_items[toolbar_ind][1];\n        var image = mpl.toolbar_items[toolbar_ind][2];\n        var method_name = mpl.toolbar_items[toolbar_ind][3];\n\n        if (!name) { continue; };\n\n        var button = $('<button class=\"btn btn-default\" href=\"#\" title=\"' + name + '\"><i class=\"fa ' + image + ' fa-lg\"></i></button>');\n        button.click(method_name, toolbar_event);\n        button.mouseover(tooltip, toolbar_mouse_event);\n        nav_element.append(button);\n    }\n\n    // Add the status bar.\n    var status_bar = $('<span class=\"mpl-message\" style=\"text-align:right; float: right;\"/>');\n    nav_element.append(status_bar);\n    this.message = status_bar[0];\n\n    // Add the close button to the window.\n    var buttongrp = $('<div class=\"btn-group inline pull-right\"></div>');\n    var button = $('<button class=\"btn btn-mini btn-primary\" href=\"#\" title=\"Stop Interaction\"><i class=\"fa fa-power-off icon-remove icon-large\"></i></button>');\n    button.click(function (evt) { fig.handle_close(fig, {}); } );\n    button.mouseover('Stop Interaction', toolbar_mouse_event);\n    buttongrp.append(button);\n    var titlebar = this.root.find($('.ui-dialog-titlebar'));\n    titlebar.prepend(buttongrp);\n}\n\nmpl.figure.prototype._root_extra_style = function(el){\n    var fig = this\n    el.on(\"remove\", function(){\n\tfig.close_ws(fig, {});\n    });\n}\n\nmpl.figure.prototype._canvas_extra_style = function(el){\n    // this is important to make the div 'focusable\n    el.attr('tabindex', 0)\n    // reach out to IPython and tell the keyboard manager to turn it's self\n    // off when our div gets focus\n\n    // location in version 3\n    if (IPython.notebook.keyboard_manager) {\n        IPython.notebook.keyboard_manager.register_events(el);\n    }\n    else {\n        // location in version 2\n        IPython.keyboard_manager.register_events(el);\n    }\n\n}\n\nmpl.figure.prototype._key_event_extra = function(event, name) {\n    var manager = IPython.notebook.keyboard_manager;\n    if (!manager)\n        manager = IPython.keyboard_manager;\n\n    // Check for shift+enter\n    if (event.shiftKey && event.which == 13) {\n        this.canvas_div.blur();\n        event.shiftKey = false;\n        // Send a \"J\" for go to next cell\n        event.which = 74;\n        event.keyCode = 74;\n        manager.command_mode();\n        manager.handle_keydown(event);\n    }\n}\n\nmpl.figure.prototype.handle_save = function(fig, msg) {\n    fig.ondownload(fig, null);\n}\n\n\nmpl.find_output_cell = function(html_output) {\n    // Return the cell and output element which can be found *uniquely* in the notebook.\n    // Note - this is a bit hacky, but it is done because the \"notebook_saving.Notebook\"\n    // IPython event is triggered only after the cells have been serialised, which for\n    // our purposes (turning an active figure into a static one), is too late.\n    var cells = IPython.notebook.get_cells();\n    var ncells = cells.length;\n    for (var i=0; i<ncells; i++) {\n        var cell = cells[i];\n        if (cell.cell_type === 'code'){\n            for (var j=0; j<cell.output_area.outputs.length; j++) {\n                var data = cell.output_area.outputs[j];\n                if (data.data) {\n                    // IPython >= 3 moved mimebundle to data attribute of output\n                    data = data.data;\n                }\n                if (data['text/html'] == html_output) {\n                    return [cell, data, j];\n                }\n            }\n        }\n    }\n}\n\n// Register the function which deals with the matplotlib target/channel.\n// The kernel may be null if the page has been refreshed.\nif (IPython.notebook.kernel != null) {\n    IPython.notebook.kernel.comm_manager.register_target('matplotlib', mpl.mpl_figure_comm);\n}\n",
          "text/plain": "<IPython.core.display.Javascript object>"
         },
         "metadata": {},
         "output_type": "display_data"
        },
        {
         "data": {
          "text/html": "<div id='fee1958f-1ee3-497c-82b7-213b66e6e6b6'></div>",
          "text/plain": "<IPython.core.display.HTML object>"
         },
         "metadata": {},
         "output_type": "display_data"
        }
       ]
      }
     },
     "de4d39ba7191426789a9c6ca63c8e67a": {
      "model_module": "@jupyter-widgets/base",
      "model_module_version": "1.1.0",
      "model_name": "LayoutModel",
      "state": {}
     },
     "deda74adf9904b8697f28ffbbf40a21c": {
      "model_module": "@jupyter-widgets/controls",
      "model_module_version": "1.4.0",
      "model_name": "SliderStyleModel",
      "state": {
       "description_width": ""
      }
     },
     "df3bff9266c34218bbb60e6e71eda0d3": {
      "model_module": "@jupyter-widgets/base",
      "model_module_version": "1.1.0",
      "model_name": "LayoutModel",
      "state": {}
     },
     "df82cd69c65f411aa7f666e5b7302568": {
      "model_module": "@jupyter-widgets/controls",
      "model_module_version": "1.4.0",
      "model_name": "FloatSliderModel",
      "state": {
       "continuous_update": false,
       "description": "v_p",
       "layout": "IPY_MODEL_f6c9074f6cff4da1a4edc427242c710f",
       "max": 5,
       "min": 0.1,
       "step": 0.1,
       "style": "IPY_MODEL_e709a931cba64f82b3e6571b1f800744",
       "value": 3
      }
     },
     "df834390d009438e9cb8407c95ca1b20": {
      "model_module": "@jupyter-widgets/base",
      "model_module_version": "1.1.0",
      "model_name": "LayoutModel",
      "state": {}
     },
     "df9437bd6cb546729632df24cf861531": {
      "model_module": "@jupyter-widgets/base",
      "model_module_version": "1.1.0",
      "model_name": "LayoutModel",
      "state": {}
     },
     "dfa03418bd1749aea1b04f5c5356237f": {
      "model_module": "@jupyter-widgets/base",
      "model_module_version": "1.1.0",
      "model_name": "LayoutModel",
      "state": {}
     },
     "e0329888560f4a02a78a4adc4931169f": {
      "model_module": "@jupyter-widgets/base",
      "model_module_version": "1.1.0",
      "model_name": "LayoutModel",
      "state": {}
     },
     "e087774ff66045819a11a4caf97fc9f6": {
      "model_module": "@jupyter-widgets/output",
      "model_module_version": "1.0.0",
      "model_name": "OutputModel",
      "state": {
       "layout": "IPY_MODEL_bd8ed0ff494345d2a433750ed58e79ad"
      }
     },
     "e0ad0d0e71854b99a7c5380fb3739795": {
      "model_module": "@jupyter-widgets/controls",
      "model_module_version": "1.4.0",
      "model_name": "FloatSliderModel",
      "state": {
       "description": "v_p",
       "layout": "IPY_MODEL_8a3b53ca1a44453da873cfda2fad4a36",
       "max": 5,
       "min": 0.1,
       "step": 0.1,
       "style": "IPY_MODEL_f6656eb98672469db57c6d4f6f45e6de",
       "value": 3
      }
     },
     "e0f2ee48aaf149a4b07c7352219bcfc7": {
      "model_module": "@jupyter-widgets/base",
      "model_module_version": "1.1.0",
      "model_name": "LayoutModel",
      "state": {}
     },
     "e12023b1669844f7b0f68515ee7c1efd": {
      "model_module": "@jupyter-widgets/controls",
      "model_module_version": "1.4.0",
      "model_name": "FloatSliderModel",
      "state": {
       "description": "u",
       "layout": "IPY_MODEL_94ba0120491249c5a485af25121e769b",
       "max": 20,
       "min": 0.1,
       "step": 0.1,
       "style": "IPY_MODEL_ca3efbf4a5f34ec68e2b38f292ae451e",
       "value": 4.5
      }
     },
     "e185f37fb1254047bf6fe60ca4b900a5": {
      "model_module": "@jupyter-widgets/controls",
      "model_module_version": "1.4.0",
      "model_name": "SliderStyleModel",
      "state": {
       "description_width": ""
      }
     },
     "e2fcb853cba044f2b84bf29c44f9bb6b": {
      "model_module": "@jupyter-widgets/controls",
      "model_module_version": "1.4.0",
      "model_name": "SliderStyleModel",
      "state": {
       "description_width": ""
      }
     },
     "e302876cf867417182a17b8a28d4a8fc": {
      "model_module": "@jupyter-widgets/controls",
      "model_module_version": "1.4.0",
      "model_name": "SliderStyleModel",
      "state": {
       "description_width": ""
      }
     },
     "e3feb1db184e4d7490f727be0919d959": {
      "model_module": "@jupyter-widgets/controls",
      "model_module_version": "1.4.0",
      "model_name": "SliderStyleModel",
      "state": {
       "description_width": ""
      }
     },
     "e465e73ce58046faa1d69ddd6b674ad6": {
      "model_module": "@jupyter-widgets/controls",
      "model_module_version": "1.4.0",
      "model_name": "FloatSliderModel",
      "state": {
       "description": "u",
       "layout": "IPY_MODEL_e0329888560f4a02a78a4adc4931169f",
       "max": 20,
       "min": 0.1,
       "step": 0.1,
       "style": "IPY_MODEL_1281f318a17f451da17e17d074e588c6",
       "value": 2
      }
     },
     "e4945249b42a4faeb45b35a95a610837": {
      "model_module": "@jupyter-widgets/controls",
      "model_module_version": "1.4.0",
      "model_name": "FloatSliderModel",
      "state": {
       "continuous_update": false,
       "description": "u",
       "layout": "IPY_MODEL_f131eb6ef86e4b9591af58eea1fe9941",
       "max": 20,
       "min": 0.1,
       "step": 0.1,
       "style": "IPY_MODEL_f015a762406a421c9a0d1269e39f14a6",
       "value": 3.5
      }
     },
     "e4c71fcd53d146dda2baadb4f5845f00": {
      "model_module": "@jupyter-widgets/base",
      "model_module_version": "1.1.0",
      "model_name": "LayoutModel",
      "state": {}
     },
     "e51cc5f179d747b8b9fd142f54949fd5": {
      "model_module": "@jupyter-widgets/controls",
      "model_module_version": "1.4.0",
      "model_name": "FloatSliderModel",
      "state": {
       "description": "sigma_u",
       "layout": "IPY_MODEL_c1348e99360949d499b93feaf929960c",
       "max": 10,
       "min": 0.1,
       "step": 0.1,
       "style": "IPY_MODEL_0138df79a75b47c293020d3abc57c207",
       "value": 1
      }
     },
     "e65bc84ccf0b495d80eabb17f10c4ab1": {
      "model_module": "@jupyter-widgets/controls",
      "model_module_version": "1.4.0",
      "model_name": "SliderStyleModel",
      "state": {
       "description_width": ""
      }
     },
     "e6a83f16e9154eb28e21153677f14fae": {
      "model_module": "@jupyter-widgets/base",
      "model_module_version": "1.1.0",
      "model_name": "LayoutModel",
      "state": {}
     },
     "e709a931cba64f82b3e6571b1f800744": {
      "model_module": "@jupyter-widgets/controls",
      "model_module_version": "1.4.0",
      "model_name": "SliderStyleModel",
      "state": {
       "description_width": ""
      }
     },
     "e787470df0744bc387c0a2c646efade7": {
      "model_module": "@jupyter-widgets/controls",
      "model_module_version": "1.4.0",
      "model_name": "FloatSliderModel",
      "state": {
       "continuous_update": false,
       "layout": "IPY_MODEL_66a090d47ae44a9faea282c154b89c2d",
       "max": 10,
       "min": 0.1,
       "step": 0.1,
       "style": "IPY_MODEL_2b9275c74319431f9c8c97078a4344fb",
       "value": 0.1
      }
     },
     "e79658f90ea94253b3566a465a9c7d15": {
      "model_module": "@jupyter-widgets/base",
      "model_module_version": "1.1.0",
      "model_name": "LayoutModel",
      "state": {}
     },
     "e7eade7d492744858f2ed641b38265d5": {
      "model_module": "@jupyter-widgets/controls",
      "model_module_version": "1.4.0",
      "model_name": "SliderStyleModel",
      "state": {
       "description_width": ""
      }
     },
     "e89f489979fd4cd7a89bc0fdf54ce165": {
      "model_module": "@jupyter-widgets/base",
      "model_module_version": "1.1.0",
      "model_name": "LayoutModel",
      "state": {}
     },
     "e8efe3164b904e0a96023ea77ef5c73e": {
      "model_module": "@jupyter-widgets/base",
      "model_module_version": "1.1.0",
      "model_name": "LayoutModel",
      "state": {}
     },
     "e8f2066136a64387be614074ef9be366": {
      "model_module": "@jupyter-widgets/base",
      "model_module_version": "1.1.0",
      "model_name": "LayoutModel",
      "state": {}
     },
     "e931f27c17344b1b9a606a3e55fe7e70": {
      "model_module": "@jupyter-widgets/base",
      "model_module_version": "1.1.0",
      "model_name": "LayoutModel",
      "state": {}
     },
     "e97388ed272a4bb8a2030cc5b872a3fa": {
      "model_module": "@jupyter-widgets/base",
      "model_module_version": "1.1.0",
      "model_name": "LayoutModel",
      "state": {}
     },
     "e9bc07a478da44698716525ad1686c8a": {
      "model_module": "@jupyter-widgets/base",
      "model_module_version": "1.1.0",
      "model_name": "LayoutModel",
      "state": {}
     },
     "e9def89748f84c6f86922736bb3f15e8": {
      "model_module": "@jupyter-widgets/controls",
      "model_module_version": "1.4.0",
      "model_name": "FloatSliderModel",
      "state": {
       "description": "sigma_u",
       "layout": "IPY_MODEL_9c891b22e19f47b5b095a4b1884a4f01",
       "max": 10,
       "min": 0.1,
       "step": 0.1,
       "style": "IPY_MODEL_9ba1b685f7c24e329edfc6c6c5181365",
       "value": 1
      }
     },
     "ea2a52fb576a457b83ef143484b029ee": {
      "model_module": "@jupyter-widgets/base",
      "model_module_version": "1.1.0",
      "model_name": "LayoutModel",
      "state": {}
     },
     "ea73b8302a8c4e32ae7934c34bdd511f": {
      "model_module": "@jupyter-widgets/controls",
      "model_module_version": "1.4.0",
      "model_name": "FloatSliderModel",
      "state": {
       "description": "v_p",
       "layout": "IPY_MODEL_4e599cebc2b749b6b216a6bb72941801",
       "max": 5,
       "min": 0.1,
       "step": 0.1,
       "style": "IPY_MODEL_3d3f9b6129934d619f2963a16bbc68dc",
       "value": 3
      }
     },
     "eab0cf76c96b48c99e8801c2ef9b23b8": {
      "model_module": "@jupyter-widgets/controls",
      "model_module_version": "1.4.0",
      "model_name": "FloatSliderModel",
      "state": {
       "description": "v_p",
       "layout": "IPY_MODEL_542ed4d8fe144c9bb991c718c58e2ff4",
       "max": 5,
       "min": 0.1,
       "step": 0.1,
       "style": "IPY_MODEL_be97b22bbf624c35a29f0736d17aafa2",
       "value": 3
      }
     },
     "eb0629b98c9c4d2a9e36243475a5e695": {
      "model_module": "@jupyter-widgets/base",
      "model_module_version": "1.1.0",
      "model_name": "LayoutModel",
      "state": {}
     },
     "eb2fd427163e41b1a113caf54a694e46": {
      "model_module": "@jupyter-widgets/controls",
      "model_module_version": "1.4.0",
      "model_name": "SliderStyleModel",
      "state": {
       "description_width": ""
      }
     },
     "ec9f4aafd67148aea598bb717a601e44": {
      "model_module": "@jupyter-widgets/controls",
      "model_module_version": "1.4.0",
      "model_name": "SliderStyleModel",
      "state": {
       "description_width": ""
      }
     },
     "ecbb2360b6544714bfaf679b5f08572c": {
      "model_module": "@jupyter-widgets/controls",
      "model_module_version": "1.4.0",
      "model_name": "FloatSliderModel",
      "state": {
       "description": "sigma_p",
       "layout": "IPY_MODEL_f3e094c9f69d43a48063cd060f4a9604",
       "max": 10,
       "min": 0.1,
       "step": 0.1,
       "style": "IPY_MODEL_bc05def870674c2981f4a24f8ab1cb7b",
       "value": 1
      }
     },
     "ee911879bb5047f8b155e260f62d65f8": {
      "model_module": "@jupyter-widgets/base",
      "model_module_version": "1.1.0",
      "model_name": "LayoutModel",
      "state": {}
     },
     "eea40cf97c8d4e6b8d1d20e1abe5492d": {
      "model_module": "@jupyter-widgets/controls",
      "model_module_version": "1.4.0",
      "model_name": "FloatSliderModel",
      "state": {
       "description": "sigma_p",
       "layout": "IPY_MODEL_b26e9ec51b8c472f8f51ea8fd65332d5",
       "max": 10,
       "min": 0.1,
       "step": 0.1,
       "style": "IPY_MODEL_026f8c4525084292a22721a6dac9aa33",
       "value": 1
      }
     },
     "ef768dd139334881ad9a087b680cfa94": {
      "model_module": "@jupyter-widgets/controls",
      "model_module_version": "1.4.0",
      "model_name": "FloatSliderModel",
      "state": {
       "description": "u",
       "layout": "IPY_MODEL_08b719bfc6b04f0da52edcf142f6ec9d",
       "max": 20,
       "min": 0.1,
       "step": 0.1,
       "style": "IPY_MODEL_7b078875afe34c48891077465714df91",
       "value": 2
      }
     },
     "f015a762406a421c9a0d1269e39f14a6": {
      "model_module": "@jupyter-widgets/controls",
      "model_module_version": "1.4.0",
      "model_name": "SliderStyleModel",
      "state": {
       "description_width": ""
      }
     },
     "f131eb6ef86e4b9591af58eea1fe9941": {
      "model_module": "@jupyter-widgets/base",
      "model_module_version": "1.1.0",
      "model_name": "LayoutModel",
      "state": {}
     },
     "f1b44f3900be48d69ce4316ac33cdc74": {
      "model_module": "@jupyter-widgets/base",
      "model_module_version": "1.1.0",
      "model_name": "LayoutModel",
      "state": {}
     },
     "f22438979c3749f9bac0cefc038ba438": {
      "model_module": "@jupyter-widgets/controls",
      "model_module_version": "1.4.0",
      "model_name": "FloatSliderModel",
      "state": {
       "continuous_update": false,
       "layout": "IPY_MODEL_c3d1a2d0fa344f87addf6ed0aa46e5f9",
       "max": 10,
       "min": 0.1,
       "step": 0.1,
       "style": "IPY_MODEL_761d2859deb94de2b873c9ab730f8af1",
       "value": 0.1
      }
     },
     "f26a6156a96445d08a35fb8524fa092d": {
      "model_module": "@jupyter-widgets/controls",
      "model_module_version": "1.4.0",
      "model_name": "FloatSliderModel",
      "state": {
       "description": "sigma_u",
       "layout": "IPY_MODEL_2e4e6f2f0c7f4e2e90bfe1fd6bc40bfa",
       "max": 10,
       "min": 0.1,
       "step": 0.1,
       "style": "IPY_MODEL_65cd96ffd20049f79b242e478c111e06",
       "value": 1
      }
     },
     "f35aaeb812a94212bd8736c7518b1428": {
      "model_module": "@jupyter-widgets/controls",
      "model_module_version": "1.4.0",
      "model_name": "FloatSliderModel",
      "state": {
       "description": "sigma_p",
       "layout": "IPY_MODEL_cc2d73c8b24c4d069ec794bae0b1c600",
       "max": 10,
       "min": 0.1,
       "step": 0.1,
       "style": "IPY_MODEL_dc02554055b34c48a293a65deb056c84",
       "value": 1
      }
     },
     "f3e094c9f69d43a48063cd060f4a9604": {
      "model_module": "@jupyter-widgets/base",
      "model_module_version": "1.1.0",
      "model_name": "LayoutModel",
      "state": {}
     },
     "f3e88c31b1da4546aae24ec6cd427130": {
      "model_module": "@jupyter-widgets/base",
      "model_module_version": "1.1.0",
      "model_name": "LayoutModel",
      "state": {}
     },
     "f4af74e903204edfb524949ffe87d8b5": {
      "model_module": "@jupyter-widgets/controls",
      "model_module_version": "1.4.0",
      "model_name": "SliderStyleModel",
      "state": {
       "description_width": ""
      }
     },
     "f55840dd5b4846f3835e7004b9cf3678": {
      "model_module": "@jupyter-widgets/base",
      "model_module_version": "1.1.0",
      "model_name": "LayoutModel",
      "state": {}
     },
     "f59451e8f21148108369d31f3f367b56": {
      "model_module": "@jupyter-widgets/output",
      "model_module_version": "1.0.0",
      "model_name": "OutputModel",
      "state": {
       "layout": "IPY_MODEL_56c920a3912c43e6a2d3e11cebdbcf62",
       "outputs": [
        {
         "ename": "NameError",
         "evalue": "global name 'gcf' is not defined",
         "output_type": "error",
         "traceback": [
          "\u001b[0;31m---------------------------------------------------------------------------\u001b[0m",
          "\u001b[0;31mNameError\u001b[0m                                 Traceback (most recent call last)",
          "\u001b[0;32m/Users/andrevanschaik/anaconda2/lib/python2.7/site-packages/ipywidgets/widgets/interaction.pyc\u001b[0m in \u001b[0;36mupdate\u001b[0;34m(self, *args)\u001b[0m\n\u001b[1;32m    249\u001b[0m                     \u001b[0mvalue\u001b[0m \u001b[0;34m=\u001b[0m \u001b[0mwidget\u001b[0m\u001b[0;34m.\u001b[0m\u001b[0mget_interact_value\u001b[0m\u001b[0;34m(\u001b[0m\u001b[0;34m)\u001b[0m\u001b[0;34m\u001b[0m\u001b[0m\n\u001b[1;32m    250\u001b[0m                     \u001b[0mself\u001b[0m\u001b[0;34m.\u001b[0m\u001b[0mkwargs\u001b[0m\u001b[0;34m[\u001b[0m\u001b[0mwidget\u001b[0m\u001b[0;34m.\u001b[0m\u001b[0m_kwarg\u001b[0m\u001b[0;34m]\u001b[0m \u001b[0;34m=\u001b[0m \u001b[0mvalue\u001b[0m\u001b[0;34m\u001b[0m\u001b[0m\n\u001b[0;32m--> 251\u001b[0;31m                 \u001b[0mself\u001b[0m\u001b[0;34m.\u001b[0m\u001b[0mresult\u001b[0m \u001b[0;34m=\u001b[0m \u001b[0mself\u001b[0m\u001b[0;34m.\u001b[0m\u001b[0mf\u001b[0m\u001b[0;34m(\u001b[0m\u001b[0;34m**\u001b[0m\u001b[0mself\u001b[0m\u001b[0;34m.\u001b[0m\u001b[0mkwargs\u001b[0m\u001b[0;34m)\u001b[0m\u001b[0;34m\u001b[0m\u001b[0m\n\u001b[0m\u001b[1;32m    252\u001b[0m                 \u001b[0mshow_inline_matplotlib_plots\u001b[0m\u001b[0;34m(\u001b[0m\u001b[0;34m)\u001b[0m\u001b[0;34m\u001b[0m\u001b[0m\n\u001b[1;32m    253\u001b[0m                 \u001b[0;32mif\u001b[0m \u001b[0mself\u001b[0m\u001b[0;34m.\u001b[0m\u001b[0mauto_display\u001b[0m \u001b[0;32mand\u001b[0m \u001b[0mself\u001b[0m\u001b[0;34m.\u001b[0m\u001b[0mresult\u001b[0m \u001b[0;32mis\u001b[0m \u001b[0;32mnot\u001b[0m \u001b[0mNone\u001b[0m\u001b[0;34m:\u001b[0m\u001b[0;34m\u001b[0m\u001b[0m\n",
          "\u001b[0;32m<ipython-input-12-07a082c69245>\u001b[0m in \u001b[0;36mdraw_fig1\u001b[0;34m(u, sigma_u, v_p, sigma_p)\u001b[0m\n\u001b[1;32m     12\u001b[0m \u001b[0;31m#         print(ax.get_children())\u001b[0m\u001b[0;34m\u001b[0m\u001b[0;34m\u001b[0m\u001b[0m\n\u001b[1;32m     13\u001b[0m         \u001b[0mplt\u001b[0m\u001b[0;34m.\u001b[0m\u001b[0maxis\u001b[0m\u001b[0;34m(\u001b[0m\u001b[0;34m[\u001b[0m\u001b[0;36m0\u001b[0m\u001b[0;34m,\u001b[0m \u001b[0;36m5\u001b[0m\u001b[0;34m,\u001b[0m \u001b[0;36m0\u001b[0m\u001b[0;34m,\u001b[0m \u001b[0;36m3\u001b[0m\u001b[0;34m]\u001b[0m\u001b[0;34m)\u001b[0m\u001b[0;34m\u001b[0m\u001b[0m\n\u001b[0;32m---> 14\u001b[0;31m         \u001b[0mdisplay\u001b[0m\u001b[0;34m.\u001b[0m\u001b[0mdisplay\u001b[0m\u001b[0;34m(\u001b[0m\u001b[0mgcf\u001b[0m\u001b[0;34m(\u001b[0m\u001b[0;34m)\u001b[0m\u001b[0;34m)\u001b[0m\u001b[0;34m\u001b[0m\u001b[0m\n\u001b[0m\u001b[1;32m     15\u001b[0m \u001b[0;31m#         plt.show()\u001b[0m\u001b[0;34m\u001b[0m\u001b[0;34m\u001b[0m\u001b[0m\n\u001b[1;32m     16\u001b[0m \u001b[0;34m\u001b[0m\u001b[0m\n",
          "\u001b[0;31mNameError\u001b[0m: global name 'gcf' is not defined"
         ]
        }
       ]
      }
     },
     "f6187c4219144412bb86df6430dfbe86": {
      "model_module": "@jupyter-widgets/output",
      "model_module_version": "1.0.0",
      "model_name": "OutputModel",
      "state": {
       "layout": "IPY_MODEL_6c26d0ce8b1143618e79c4788944993e"
      }
     },
     "f65cae9b11704bdc9594d4e61a976cf3": {
      "model_module": "@jupyter-widgets/controls",
      "model_module_version": "1.4.0",
      "model_name": "FloatSliderModel",
      "state": {
       "continuous_update": false,
       "description": "sigma_u",
       "layout": "IPY_MODEL_975b38539e2141dea78a62015c7417b8",
       "max": 10,
       "min": 0.1,
       "step": 0.1,
       "style": "IPY_MODEL_c4cca5e43f484d9a982375e987bca51b",
       "value": 1
      }
     },
     "f65d8373ec1a43018323ecb8862a59a2": {
      "model_module": "@jupyter-widgets/base",
      "model_module_version": "1.1.0",
      "model_name": "LayoutModel",
      "state": {}
     },
     "f665088920804c60a932a0ede77c4b8c": {
      "model_module": "@jupyter-widgets/base",
      "model_module_version": "1.1.0",
      "model_name": "LayoutModel",
      "state": {}
     },
     "f6656eb98672469db57c6d4f6f45e6de": {
      "model_module": "@jupyter-widgets/controls",
      "model_module_version": "1.4.0",
      "model_name": "SliderStyleModel",
      "state": {
       "description_width": ""
      }
     },
     "f6c9074f6cff4da1a4edc427242c710f": {
      "model_module": "@jupyter-widgets/base",
      "model_module_version": "1.1.0",
      "model_name": "LayoutModel",
      "state": {}
     },
     "f792fb29833c49548b43603c5b31d554": {
      "model_module": "@jupyter-widgets/controls",
      "model_module_version": "1.4.0",
      "model_name": "SliderStyleModel",
      "state": {
       "description_width": ""
      }
     },
     "f8e4bdf900c044e09ceb8f42737fb312": {
      "model_module": "@jupyter-widgets/controls",
      "model_module_version": "1.4.0",
      "model_name": "FloatSliderModel",
      "state": {
       "description": "sigma_p",
       "layout": "IPY_MODEL_70eb3efdf9f14d2ab4180f88f0b2ca05",
       "max": 10,
       "min": 0.1,
       "step": 0.1,
       "style": "IPY_MODEL_ca4edf6d2e3448e8ac4865f2aca60b2b",
       "value": 1
      }
     },
     "f91ab95d2c6e4dbaa9c2360a914ad103": {
      "model_module": "@jupyter-widgets/controls",
      "model_module_version": "1.4.0",
      "model_name": "SliderStyleModel",
      "state": {
       "description_width": ""
      }
     },
     "f9a7aa697b0348edac42f4af0524b8d5": {
      "model_module": "@jupyter-widgets/controls",
      "model_module_version": "1.4.0",
      "model_name": "FloatSliderModel",
      "state": {
       "description": "u",
       "layout": "IPY_MODEL_4999b922c31140529a4dcb2bf12cd4e8",
       "max": 20,
       "min": 0.1,
       "step": 0.1,
       "style": "IPY_MODEL_65f6e599fd0241a8b219b4b301aa3059",
       "value": 12.7
      }
     },
     "fb7e9697769948f0b4ef0238cfab5bde": {
      "model_module": "@jupyter-widgets/base",
      "model_module_version": "1.1.0",
      "model_name": "LayoutModel",
      "state": {}
     },
     "fbbc497ddbe547a896e4538a1ea2a7cc": {
      "model_module": "@jupyter-widgets/controls",
      "model_module_version": "1.4.0",
      "model_name": "FloatSliderModel",
      "state": {
       "description": "v_p",
       "layout": "IPY_MODEL_e0f2ee48aaf149a4b07c7352219bcfc7",
       "max": 5,
       "min": 0.1,
       "step": 0.1,
       "style": "IPY_MODEL_1332a46517f0408dbc71bf2846d4c12b",
       "value": 3
      }
     },
     "fc6f1cd8218e4bf7bf9c29355bb2fd60": {
      "model_module": "@jupyter-widgets/controls",
      "model_module_version": "1.4.0",
      "model_name": "FloatSliderModel",
      "state": {
       "description": "sigma_u",
       "layout": "IPY_MODEL_142ed91c5b8f43a89ec1cb67631e495f",
       "max": 10,
       "min": 0.1,
       "step": 0.1,
       "style": "IPY_MODEL_110988d5f1a84fb285591d49246a3e02",
       "value": 1
      }
     },
     "fc7007e43821409c905b539d4640ca52": {
      "model_module": "@jupyter-widgets/base",
      "model_module_version": "1.1.0",
      "model_name": "LayoutModel",
      "state": {}
     },
     "fd94b23960594ccc8de18a07c9fd52de": {
      "model_module": "@jupyter-widgets/output",
      "model_module_version": "1.0.0",
      "model_name": "OutputModel",
      "state": {
       "layout": "IPY_MODEL_2ca7bfda85b04a04b766af3a2b08d209"
      }
     },
     "fedaac58b372477eb1b361b036f1f283": {
      "model_module": "@jupyter-widgets/base",
      "model_module_version": "1.1.0",
      "model_name": "LayoutModel",
      "state": {}
     },
     "ff2e2e28afb9422d8e4b5895217d3d42": {
      "model_module": "@jupyter-widgets/base",
      "model_module_version": "1.1.0",
      "model_name": "LayoutModel",
      "state": {}
     },
     "ff31e902f37c4b59909c32f4d34fbc5c": {
      "model_module": "@jupyter-widgets/controls",
      "model_module_version": "1.4.0",
      "model_name": "SliderStyleModel",
      "state": {
       "description_width": ""
      }
     },
     "ffe82ed7046c4039a28900b9d807b005": {
      "model_module": "@jupyter-widgets/controls",
      "model_module_version": "1.4.0",
      "model_name": "FloatSliderModel",
      "state": {
       "continuous_update": false,
       "layout": "IPY_MODEL_f55840dd5b4846f3835e7004b9cf3678",
       "max": 10,
       "min": 0.1,
       "step": 0.1,
       "style": "IPY_MODEL_a3553b6e1b2345209873c80e9f6c42c5",
       "value": 0.1
      }
     },
     "ffebe614984149a7a78fb65fc1f5b4ad": {
      "model_module": "@jupyter-widgets/controls",
      "model_module_version": "1.4.0",
      "model_name": "SliderStyleModel",
      "state": {
       "description_width": ""
      }
     }
    },
    "version_major": 2,
    "version_minor": 0
   }
  }
 },
 "nbformat": 4,
 "nbformat_minor": 2
}
